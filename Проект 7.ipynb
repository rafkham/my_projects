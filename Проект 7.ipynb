{
 "cells": [
  {
   "cell_type": "markdown",
   "id": "444a59a3",
   "metadata": {},
   "source": [
    "# Проект 7 Приоритизация гипотез и анализ результатов A/B-теста."
   ]
  },
  {
   "cell_type": "markdown",
   "id": "638974e0",
   "metadata": {},
   "source": [
    "Вместе с отделом маркетинга мы подготовили список гипотез для увеличения выручки.\n",
    "Приоритизируем гипотезы, запустим A/B-тест и проанализируем результаты.\n",
    "\n",
    "**Приоритизация гипотез включает в себя:**\n",
    "* Применим ICE для приоритизации гипотез. Отсортируем их по убыванию приоритета.\n",
    "* Применим RICE для приоритизации гипотез. Отсортируем их по убыванию приоритета.\n",
    "* Укажем, как изменилась приоритизация гипотез при применении RICE вместо ICE.\n",
    "\n",
    "**Анализ A/B-теста включает в себя:**\n",
    "* Постройте график кумулятивной выручки по группам. Сделайте выводы и предположения.\n",
    "* Постройте график кумулятивного среднего чека по группам. Сделайте выводы и предположения.\n",
    "* Постройте график относительного изменения кумулятивного среднего чека группы B к группе A. Сделайте выводы и предположения.\n",
    "* Постройте график кумулятивной конверсии по группам. Сделайте выводы и предположения.\n",
    "* Постройте график относительного изменения кумулятивной конверсии группы B к группе A. Сделайте выводы и предположения.\n",
    "* Постройте точечный график количества заказов по пользователям. Сделайте выводы и предположения.\n",
    "* Посчитайте 95-й и 99-й перцентили количества заказов на пользователя. Выберите границу для определения аномальных пользователей.\n",
    "* Постройте точечный график стоимостей заказов. Сделайте выводы и предположения.\n",
    "* Посчитайте 95-й и 99-й перцентили стоимости заказов. Выберите границу для определения аномальных заказов.\n",
    "* Посчитайте статистическую значимость различий в конверсии между группами по «сырым» данным. Сделайте выводы и предположения.\n",
    "* Посчитайте статистическую значимость различий в среднем чеке заказа между группами по «сырым» данным. Сделайте выводы и предположения.\n",
    "* Посчитайте статистическую значимость различий в конверсии между группами по «очищенным» данным. Сделайте выводы и предположения.\n",
    "* Посчитайте статистическую значимость различий в среднем чеке заказа между группами по «очищенным» данным. Сделайте выводы и предположения.\n",
    "* Примите решение по результатам теста и объясните его. Варианты решений: 1. Остановить тест, зафиксировать победу одной из групп. 2. Остановить тест, зафиксировать отсутствие различий между группами. 3. Продолжить тест."
   ]
  },
  {
   "cell_type": "markdown",
   "id": "1a5c76ca",
   "metadata": {},
   "source": [
    "Датафрейм для приоритизации гипотез находится в файле hypothesis.csv\n",
    "Датафреймы для анализа A/B-теста находятся в файлах orders.csv и visitors.csv."
   ]
  },
  {
   "cell_type": "markdown",
   "id": "ff93dd19",
   "metadata": {},
   "source": [
    "## Часть 1. Приоритизация гипотез"
   ]
  },
  {
   "cell_type": "markdown",
   "id": "107d0623",
   "metadata": {},
   "source": [
    "Изучим исходный датафрейм. Посмотрим информацию и выведем на экран."
   ]
  },
  {
   "cell_type": "code",
   "execution_count": 1,
   "id": "336c6d3d",
   "metadata": {},
   "outputs": [],
   "source": [
    "import pandas as pd\n",
    "import numpy as np\n",
    "import datetime as dt\n",
    "import matplotlib.pyplot as plt\n",
    "from pandas.plotting import register_matplotlib_converters\n",
    "import warnings\n",
    "import scipy.stats as stats\n",
    "\n",
    "# конвертеры, которые позволяют использовать типы pandas в matplotlib  \n",
    "register_matplotlib_converters()"
   ]
  },
  {
   "cell_type": "code",
   "execution_count": 2,
   "id": "c792e103",
   "metadata": {},
   "outputs": [],
   "source": [
    "try:\n",
    "    df = pd.read_csv('/datasets/hypothesis.csv')\n",
    "    orders = pd.read_csv('/datasets/orders.csv')\n",
    "    visitors = pd.read_csv('/datasets/visitors.csv')\n",
    "except:\n",
    "    df = pd.read_csv('Downloads/hypothesis.csv')\n",
    "    orders = pd.read_csv('Downloads/orders.csv')\n",
    "    visitors = pd.read_csv('Downloads/visitors.csv')"
   ]
  },
  {
   "cell_type": "code",
   "execution_count": 3,
   "id": "99cbc9ad",
   "metadata": {},
   "outputs": [
    {
     "data": {
      "text/html": [
       "<div>\n",
       "<style scoped>\n",
       "    .dataframe tbody tr th:only-of-type {\n",
       "        vertical-align: middle;\n",
       "    }\n",
       "\n",
       "    .dataframe tbody tr th {\n",
       "        vertical-align: top;\n",
       "    }\n",
       "\n",
       "    .dataframe thead th {\n",
       "        text-align: right;\n",
       "    }\n",
       "</style>\n",
       "<table border=\"1\" class=\"dataframe\">\n",
       "  <thead>\n",
       "    <tr style=\"text-align: right;\">\n",
       "      <th></th>\n",
       "      <th>Hypothesis</th>\n",
       "      <th>Reach</th>\n",
       "      <th>Impact</th>\n",
       "      <th>Confidence</th>\n",
       "      <th>Efforts</th>\n",
       "    </tr>\n",
       "  </thead>\n",
       "  <tbody>\n",
       "    <tr>\n",
       "      <th>0</th>\n",
       "      <td>Добавить два новых канала привлечения трафика,...</td>\n",
       "      <td>3</td>\n",
       "      <td>10</td>\n",
       "      <td>8</td>\n",
       "      <td>6</td>\n",
       "    </tr>\n",
       "    <tr>\n",
       "      <th>1</th>\n",
       "      <td>Запустить собственную службу доставки, что сок...</td>\n",
       "      <td>2</td>\n",
       "      <td>5</td>\n",
       "      <td>4</td>\n",
       "      <td>10</td>\n",
       "    </tr>\n",
       "    <tr>\n",
       "      <th>2</th>\n",
       "      <td>Добавить блоки рекомендаций товаров на сайт ин...</td>\n",
       "      <td>8</td>\n",
       "      <td>3</td>\n",
       "      <td>7</td>\n",
       "      <td>3</td>\n",
       "    </tr>\n",
       "    <tr>\n",
       "      <th>3</th>\n",
       "      <td>Изменить структура категорий, что увеличит кон...</td>\n",
       "      <td>8</td>\n",
       "      <td>3</td>\n",
       "      <td>3</td>\n",
       "      <td>8</td>\n",
       "    </tr>\n",
       "    <tr>\n",
       "      <th>4</th>\n",
       "      <td>Изменить цвет фона главной страницы, чтобы уве...</td>\n",
       "      <td>3</td>\n",
       "      <td>1</td>\n",
       "      <td>1</td>\n",
       "      <td>1</td>\n",
       "    </tr>\n",
       "    <tr>\n",
       "      <th>5</th>\n",
       "      <td>Добавить страницу отзывов клиентов о магазине,...</td>\n",
       "      <td>3</td>\n",
       "      <td>2</td>\n",
       "      <td>2</td>\n",
       "      <td>3</td>\n",
       "    </tr>\n",
       "    <tr>\n",
       "      <th>6</th>\n",
       "      <td>Показать на главной странице баннеры с актуаль...</td>\n",
       "      <td>5</td>\n",
       "      <td>3</td>\n",
       "      <td>8</td>\n",
       "      <td>3</td>\n",
       "    </tr>\n",
       "    <tr>\n",
       "      <th>7</th>\n",
       "      <td>Добавить форму подписки на все основные страни...</td>\n",
       "      <td>10</td>\n",
       "      <td>7</td>\n",
       "      <td>8</td>\n",
       "      <td>5</td>\n",
       "    </tr>\n",
       "    <tr>\n",
       "      <th>8</th>\n",
       "      <td>Запустить акцию, дающую скидку на товар в день...</td>\n",
       "      <td>1</td>\n",
       "      <td>9</td>\n",
       "      <td>9</td>\n",
       "      <td>5</td>\n",
       "    </tr>\n",
       "  </tbody>\n",
       "</table>\n",
       "</div>"
      ],
      "text/plain": [
       "                                          Hypothesis  Reach  Impact  \\\n",
       "0  Добавить два новых канала привлечения трафика,...      3      10   \n",
       "1  Запустить собственную службу доставки, что сок...      2       5   \n",
       "2  Добавить блоки рекомендаций товаров на сайт ин...      8       3   \n",
       "3  Изменить структура категорий, что увеличит кон...      8       3   \n",
       "4  Изменить цвет фона главной страницы, чтобы уве...      3       1   \n",
       "5  Добавить страницу отзывов клиентов о магазине,...      3       2   \n",
       "6  Показать на главной странице баннеры с актуаль...      5       3   \n",
       "7  Добавить форму подписки на все основные страни...     10       7   \n",
       "8  Запустить акцию, дающую скидку на товар в день...      1       9   \n",
       "\n",
       "   Confidence  Efforts  \n",
       "0           8        6  \n",
       "1           4       10  \n",
       "2           7        3  \n",
       "3           3        8  \n",
       "4           1        1  \n",
       "5           2        3  \n",
       "6           8        3  \n",
       "7           8        5  \n",
       "8           9        5  "
      ]
     },
     "metadata": {},
     "output_type": "display_data"
    }
   ],
   "source": [
    "display(df)\n",
    "pd.options.display.max_colwidth = 150"
   ]
  },
  {
   "cell_type": "markdown",
   "id": "b51489f1",
   "metadata": {},
   "source": [
    "Приведем названия столбцов к правильному регистру"
   ]
  },
  {
   "cell_type": "code",
   "execution_count": 4,
   "id": "31f5c1f3",
   "metadata": {},
   "outputs": [],
   "source": [
    "df.columns = df.columns.str.lower()"
   ]
  },
  {
   "cell_type": "code",
   "execution_count": 5,
   "id": "f4e527cc",
   "metadata": {},
   "outputs": [
    {
     "name": "stdout",
     "output_type": "stream",
     "text": [
      "<class 'pandas.core.frame.DataFrame'>\n",
      "RangeIndex: 9 entries, 0 to 8\n",
      "Data columns (total 5 columns):\n",
      " #   Column      Non-Null Count  Dtype \n",
      "---  ------      --------------  ----- \n",
      " 0   hypothesis  9 non-null      object\n",
      " 1   reach       9 non-null      int64 \n",
      " 2   impact      9 non-null      int64 \n",
      " 3   confidence  9 non-null      int64 \n",
      " 4   efforts     9 non-null      int64 \n",
      "dtypes: int64(4), object(1)\n",
      "memory usage: 488.0+ bytes\n"
     ]
    }
   ],
   "source": [
    "df.info()"
   ]
  },
  {
   "cell_type": "markdown",
   "id": "8d266749",
   "metadata": {},
   "source": [
    "Применим фреймворк ICE для приоритизации гипотез. Отсортируем их по убыванию приоритета."
   ]
  },
  {
   "cell_type": "code",
   "execution_count": 6,
   "id": "49189a0e",
   "metadata": {},
   "outputs": [
    {
     "data": {
      "text/html": [
       "<div>\n",
       "<style scoped>\n",
       "    .dataframe tbody tr th:only-of-type {\n",
       "        vertical-align: middle;\n",
       "    }\n",
       "\n",
       "    .dataframe tbody tr th {\n",
       "        vertical-align: top;\n",
       "    }\n",
       "\n",
       "    .dataframe thead th {\n",
       "        text-align: right;\n",
       "    }\n",
       "</style>\n",
       "<table border=\"1\" class=\"dataframe\">\n",
       "  <thead>\n",
       "    <tr style=\"text-align: right;\">\n",
       "      <th></th>\n",
       "      <th>hypothesis</th>\n",
       "      <th>ICE</th>\n",
       "    </tr>\n",
       "  </thead>\n",
       "  <tbody>\n",
       "    <tr>\n",
       "      <th>8</th>\n",
       "      <td>Запустить акцию, дающую скидку на товар в день рождения</td>\n",
       "      <td>16.20</td>\n",
       "    </tr>\n",
       "    <tr>\n",
       "      <th>0</th>\n",
       "      <td>Добавить два новых канала привлечения трафика, что позволит привлекать на 30% больше пользователей</td>\n",
       "      <td>13.33</td>\n",
       "    </tr>\n",
       "    <tr>\n",
       "      <th>7</th>\n",
       "      <td>Добавить форму подписки на все основные страницы, чтобы собрать базу клиентов для email-рассылок</td>\n",
       "      <td>11.20</td>\n",
       "    </tr>\n",
       "    <tr>\n",
       "      <th>6</th>\n",
       "      <td>Показать на главной странице баннеры с актуальными акциями и распродажами, чтобы увеличить конверсию</td>\n",
       "      <td>8.00</td>\n",
       "    </tr>\n",
       "    <tr>\n",
       "      <th>2</th>\n",
       "      <td>Добавить блоки рекомендаций товаров на сайт интернет магазина, чтобы повысить конверсию и средний чек заказа</td>\n",
       "      <td>7.00</td>\n",
       "    </tr>\n",
       "    <tr>\n",
       "      <th>1</th>\n",
       "      <td>Запустить собственную службу доставки, что сократит срок доставки заказов</td>\n",
       "      <td>2.00</td>\n",
       "    </tr>\n",
       "    <tr>\n",
       "      <th>5</th>\n",
       "      <td>Добавить страницу отзывов клиентов о магазине, что позволит увеличить количество заказов</td>\n",
       "      <td>1.33</td>\n",
       "    </tr>\n",
       "    <tr>\n",
       "      <th>3</th>\n",
       "      <td>Изменить структура категорий, что увеличит конверсию, т.к. пользователи быстрее найдут нужный товар</td>\n",
       "      <td>1.12</td>\n",
       "    </tr>\n",
       "    <tr>\n",
       "      <th>4</th>\n",
       "      <td>Изменить цвет фона главной страницы, чтобы увеличить вовлеченность пользователей</td>\n",
       "      <td>1.00</td>\n",
       "    </tr>\n",
       "  </tbody>\n",
       "</table>\n",
       "</div>"
      ],
      "text/plain": [
       "                                                                                                     hypothesis  \\\n",
       "8                                                       Запустить акцию, дающую скидку на товар в день рождения   \n",
       "0            Добавить два новых канала привлечения трафика, что позволит привлекать на 30% больше пользователей   \n",
       "7              Добавить форму подписки на все основные страницы, чтобы собрать базу клиентов для email-рассылок   \n",
       "6          Показать на главной странице баннеры с актуальными акциями и распродажами, чтобы увеличить конверсию   \n",
       "2  Добавить блоки рекомендаций товаров на сайт интернет магазина, чтобы повысить конверсию и средний чек заказа   \n",
       "1                                     Запустить собственную службу доставки, что сократит срок доставки заказов   \n",
       "5                      Добавить страницу отзывов клиентов о магазине, что позволит увеличить количество заказов   \n",
       "3           Изменить структура категорий, что увеличит конверсию, т.к. пользователи быстрее найдут нужный товар   \n",
       "4                              Изменить цвет фона главной страницы, чтобы увеличить вовлеченность пользователей   \n",
       "\n",
       "     ICE  \n",
       "8  16.20  \n",
       "0  13.33  \n",
       "7  11.20  \n",
       "6   8.00  \n",
       "2   7.00  \n",
       "1   2.00  \n",
       "5   1.33  \n",
       "3   1.12  \n",
       "4   1.00  "
      ]
     },
     "metadata": {},
     "output_type": "display_data"
    }
   ],
   "source": [
    "df['ICE'] = round(df['impact']*df['confidence'] / df['efforts'], 2)\n",
    "\n",
    "display(df[['hypothesis', 'ICE']].sort_values(by='ICE', ascending = False))"
   ]
  },
  {
   "cell_type": "markdown",
   "id": "c65d75e0",
   "metadata": {},
   "source": [
    "Самые приоритетные - 8,0,7,6,2"
   ]
  },
  {
   "cell_type": "markdown",
   "id": "a3a505bb",
   "metadata": {},
   "source": [
    "Применим фреймворк RICE для приоритизации гипотез. Отсортируем их по убыванию приоритета."
   ]
  },
  {
   "cell_type": "code",
   "execution_count": 7,
   "id": "7ec35530",
   "metadata": {},
   "outputs": [
    {
     "data": {
      "text/html": [
       "<div>\n",
       "<style scoped>\n",
       "    .dataframe tbody tr th:only-of-type {\n",
       "        vertical-align: middle;\n",
       "    }\n",
       "\n",
       "    .dataframe tbody tr th {\n",
       "        vertical-align: top;\n",
       "    }\n",
       "\n",
       "    .dataframe thead th {\n",
       "        text-align: right;\n",
       "    }\n",
       "</style>\n",
       "<table border=\"1\" class=\"dataframe\">\n",
       "  <thead>\n",
       "    <tr style=\"text-align: right;\">\n",
       "      <th></th>\n",
       "      <th>hypothesis</th>\n",
       "      <th>RICE</th>\n",
       "    </tr>\n",
       "  </thead>\n",
       "  <tbody>\n",
       "    <tr>\n",
       "      <th>7</th>\n",
       "      <td>Добавить форму подписки на все основные страницы, чтобы собрать базу клиентов для email-рассылок</td>\n",
       "      <td>112.0</td>\n",
       "    </tr>\n",
       "    <tr>\n",
       "      <th>2</th>\n",
       "      <td>Добавить блоки рекомендаций товаров на сайт интернет магазина, чтобы повысить конверсию и средний чек заказа</td>\n",
       "      <td>56.0</td>\n",
       "    </tr>\n",
       "    <tr>\n",
       "      <th>0</th>\n",
       "      <td>Добавить два новых канала привлечения трафика, что позволит привлекать на 30% больше пользователей</td>\n",
       "      <td>40.0</td>\n",
       "    </tr>\n",
       "    <tr>\n",
       "      <th>6</th>\n",
       "      <td>Показать на главной странице баннеры с актуальными акциями и распродажами, чтобы увеличить конверсию</td>\n",
       "      <td>40.0</td>\n",
       "    </tr>\n",
       "    <tr>\n",
       "      <th>8</th>\n",
       "      <td>Запустить акцию, дающую скидку на товар в день рождения</td>\n",
       "      <td>16.2</td>\n",
       "    </tr>\n",
       "    <tr>\n",
       "      <th>3</th>\n",
       "      <td>Изменить структура категорий, что увеличит конверсию, т.к. пользователи быстрее найдут нужный товар</td>\n",
       "      <td>9.0</td>\n",
       "    </tr>\n",
       "    <tr>\n",
       "      <th>1</th>\n",
       "      <td>Запустить собственную службу доставки, что сократит срок доставки заказов</td>\n",
       "      <td>4.0</td>\n",
       "    </tr>\n",
       "    <tr>\n",
       "      <th>5</th>\n",
       "      <td>Добавить страницу отзывов клиентов о магазине, что позволит увеличить количество заказов</td>\n",
       "      <td>4.0</td>\n",
       "    </tr>\n",
       "    <tr>\n",
       "      <th>4</th>\n",
       "      <td>Изменить цвет фона главной страницы, чтобы увеличить вовлеченность пользователей</td>\n",
       "      <td>3.0</td>\n",
       "    </tr>\n",
       "  </tbody>\n",
       "</table>\n",
       "</div>"
      ],
      "text/plain": [
       "                                                                                                     hypothesis  \\\n",
       "7              Добавить форму подписки на все основные страницы, чтобы собрать базу клиентов для email-рассылок   \n",
       "2  Добавить блоки рекомендаций товаров на сайт интернет магазина, чтобы повысить конверсию и средний чек заказа   \n",
       "0            Добавить два новых канала привлечения трафика, что позволит привлекать на 30% больше пользователей   \n",
       "6          Показать на главной странице баннеры с актуальными акциями и распродажами, чтобы увеличить конверсию   \n",
       "8                                                       Запустить акцию, дающую скидку на товар в день рождения   \n",
       "3           Изменить структура категорий, что увеличит конверсию, т.к. пользователи быстрее найдут нужный товар   \n",
       "1                                     Запустить собственную службу доставки, что сократит срок доставки заказов   \n",
       "5                      Добавить страницу отзывов клиентов о магазине, что позволит увеличить количество заказов   \n",
       "4                              Изменить цвет фона главной страницы, чтобы увеличить вовлеченность пользователей   \n",
       "\n",
       "    RICE  \n",
       "7  112.0  \n",
       "2   56.0  \n",
       "0   40.0  \n",
       "6   40.0  \n",
       "8   16.2  \n",
       "3    9.0  \n",
       "1    4.0  \n",
       "5    4.0  \n",
       "4    3.0  "
      ]
     },
     "metadata": {},
     "output_type": "display_data"
    }
   ],
   "source": [
    "df['RICE'] = df['reach']*df['impact']*df['confidence'] / df['efforts']\n",
    "\n",
    "display(df[['hypothesis', 'RICE']].sort_values(by='RICE', ascending = False))"
   ]
  },
  {
   "cell_type": "markdown",
   "id": "039968a0",
   "metadata": {},
   "source": [
    "Самые приоритетные - 7,2,0,6,8 "
   ]
  },
  {
   "cell_type": "markdown",
   "id": "3c64f17b",
   "metadata": {},
   "source": [
    "И в том и в другом случае топ-5 гипотез одинаковые, но порядок поменялся. Это произошло из-за параметра Reach. Reach — скольких пользователей затронет изменение, которое вы хотите внести (охват). \n",
    "Самый большой охват у гипотезы 7 - поэтому она выбилась в лидеры. Также благодаря большому охвату второй гипотезы, она поднялась с 5 места до второго. А вот 8 гипотеза, наоборот, упала с 1 на 5 место."
   ]
  },
  {
   "cell_type": "markdown",
   "id": "de666bb9",
   "metadata": {},
   "source": [
    "## Часть 2. Анализ A/B-теста"
   ]
  },
  {
   "cell_type": "markdown",
   "id": "c6b587fe",
   "metadata": {},
   "source": [
    "Изучим исходные датафреймы"
   ]
  },
  {
   "cell_type": "code",
   "execution_count": 8,
   "id": "f27803e4",
   "metadata": {},
   "outputs": [
    {
     "data": {
      "text/html": [
       "<div>\n",
       "<style scoped>\n",
       "    .dataframe tbody tr th:only-of-type {\n",
       "        vertical-align: middle;\n",
       "    }\n",
       "\n",
       "    .dataframe tbody tr th {\n",
       "        vertical-align: top;\n",
       "    }\n",
       "\n",
       "    .dataframe thead th {\n",
       "        text-align: right;\n",
       "    }\n",
       "</style>\n",
       "<table border=\"1\" class=\"dataframe\">\n",
       "  <thead>\n",
       "    <tr style=\"text-align: right;\">\n",
       "      <th></th>\n",
       "      <th>transactionId</th>\n",
       "      <th>visitorId</th>\n",
       "      <th>date</th>\n",
       "      <th>revenue</th>\n",
       "      <th>group</th>\n",
       "    </tr>\n",
       "  </thead>\n",
       "  <tbody>\n",
       "    <tr>\n",
       "      <th>0</th>\n",
       "      <td>3667963787</td>\n",
       "      <td>3312258926</td>\n",
       "      <td>2019-08-15</td>\n",
       "      <td>1650</td>\n",
       "      <td>B</td>\n",
       "    </tr>\n",
       "    <tr>\n",
       "      <th>1</th>\n",
       "      <td>2804400009</td>\n",
       "      <td>3642806036</td>\n",
       "      <td>2019-08-15</td>\n",
       "      <td>730</td>\n",
       "      <td>B</td>\n",
       "    </tr>\n",
       "    <tr>\n",
       "      <th>2</th>\n",
       "      <td>2961555356</td>\n",
       "      <td>4069496402</td>\n",
       "      <td>2019-08-15</td>\n",
       "      <td>400</td>\n",
       "      <td>A</td>\n",
       "    </tr>\n",
       "    <tr>\n",
       "      <th>3</th>\n",
       "      <td>3797467345</td>\n",
       "      <td>1196621759</td>\n",
       "      <td>2019-08-15</td>\n",
       "      <td>9759</td>\n",
       "      <td>B</td>\n",
       "    </tr>\n",
       "    <tr>\n",
       "      <th>4</th>\n",
       "      <td>2282983706</td>\n",
       "      <td>2322279887</td>\n",
       "      <td>2019-08-15</td>\n",
       "      <td>2308</td>\n",
       "      <td>B</td>\n",
       "    </tr>\n",
       "  </tbody>\n",
       "</table>\n",
       "</div>"
      ],
      "text/plain": [
       "   transactionId   visitorId        date  revenue group\n",
       "0     3667963787  3312258926  2019-08-15     1650     B\n",
       "1     2804400009  3642806036  2019-08-15      730     B\n",
       "2     2961555356  4069496402  2019-08-15      400     A\n",
       "3     3797467345  1196621759  2019-08-15     9759     B\n",
       "4     2282983706  2322279887  2019-08-15     2308     B"
      ]
     },
     "execution_count": 8,
     "metadata": {},
     "output_type": "execute_result"
    }
   ],
   "source": [
    "orders.head(5)"
   ]
  },
  {
   "cell_type": "code",
   "execution_count": 9,
   "id": "49a459b0",
   "metadata": {},
   "outputs": [
    {
     "data": {
      "text/html": [
       "<div>\n",
       "<style scoped>\n",
       "    .dataframe tbody tr th:only-of-type {\n",
       "        vertical-align: middle;\n",
       "    }\n",
       "\n",
       "    .dataframe tbody tr th {\n",
       "        vertical-align: top;\n",
       "    }\n",
       "\n",
       "    .dataframe thead th {\n",
       "        text-align: right;\n",
       "    }\n",
       "</style>\n",
       "<table border=\"1\" class=\"dataframe\">\n",
       "  <thead>\n",
       "    <tr style=\"text-align: right;\">\n",
       "      <th></th>\n",
       "      <th>date</th>\n",
       "      <th>group</th>\n",
       "      <th>visitors</th>\n",
       "    </tr>\n",
       "  </thead>\n",
       "  <tbody>\n",
       "    <tr>\n",
       "      <th>0</th>\n",
       "      <td>2019-08-01</td>\n",
       "      <td>A</td>\n",
       "      <td>719</td>\n",
       "    </tr>\n",
       "    <tr>\n",
       "      <th>1</th>\n",
       "      <td>2019-08-02</td>\n",
       "      <td>A</td>\n",
       "      <td>619</td>\n",
       "    </tr>\n",
       "    <tr>\n",
       "      <th>2</th>\n",
       "      <td>2019-08-03</td>\n",
       "      <td>A</td>\n",
       "      <td>507</td>\n",
       "    </tr>\n",
       "    <tr>\n",
       "      <th>3</th>\n",
       "      <td>2019-08-04</td>\n",
       "      <td>A</td>\n",
       "      <td>717</td>\n",
       "    </tr>\n",
       "    <tr>\n",
       "      <th>4</th>\n",
       "      <td>2019-08-05</td>\n",
       "      <td>A</td>\n",
       "      <td>756</td>\n",
       "    </tr>\n",
       "  </tbody>\n",
       "</table>\n",
       "</div>"
      ],
      "text/plain": [
       "         date group  visitors\n",
       "0  2019-08-01     A       719\n",
       "1  2019-08-02     A       619\n",
       "2  2019-08-03     A       507\n",
       "3  2019-08-04     A       717\n",
       "4  2019-08-05     A       756"
      ]
     },
     "execution_count": 9,
     "metadata": {},
     "output_type": "execute_result"
    }
   ],
   "source": [
    "visitors.head(5)"
   ]
  },
  {
   "cell_type": "markdown",
   "id": "be93c81b",
   "metadata": {},
   "source": [
    "1. Построим график кумулятивной выручки по группам. Сделаем выводы и предположения."
   ]
  },
  {
   "cell_type": "code",
   "execution_count": 10,
   "id": "afc4cb25",
   "metadata": {},
   "outputs": [
    {
     "data": {
      "image/png": "[encoded data removed]",
      "text/plain": [
       "<Figure size 1440x720 with 1 Axes>"
      ]
     },
     "metadata": {
      "needs_background": "light"
     },
     "output_type": "display_data"
    }
   ],
   "source": [
    "orders['date'] = orders['date'].map(\n",
    "    lambda x: dt.datetime.strptime(x, '%Y-%m-%d')\n",
    ")\n",
    "\n",
    "visitors['date'] = visitors['date'].map(\n",
    "    lambda x: dt.datetime.strptime(x, '%Y-%m-%d')\n",
    ")\n",
    "\n",
    "\n",
    "datesGroups = orders[['date', 'group']].drop_duplicates()\n",
    "\n",
    "ordersAggregated = datesGroups.apply(\n",
    "    lambda x: orders[\n",
    "        np.logical_and(\n",
    "            orders['date'] <= x['date'], orders['group'] == x['group']\n",
    "        )\n",
    "    ].agg(\n",
    "        {\n",
    "            'date': 'max',\n",
    "            'group': 'max',\n",
    "            'transactionId': 'nunique',\n",
    "            'visitorId': 'nunique',\n",
    "            'revenue': 'sum',\n",
    "        }\n",
    "    ),\n",
    "    axis=1,\n",
    ").sort_values(by=['date', 'group'])\n",
    "\n",
    "visitorsAggregated = datesGroups.apply(\n",
    "    lambda x: visitors[\n",
    "        np.logical_and(\n",
    "            visitors['date'] <= x['date'], visitors['group'] == x['group']\n",
    "        )\n",
    "    ].agg({'date': 'max', 'group': 'max', 'visitors': 'sum'}),\n",
    "    axis=1,\n",
    ").sort_values(by=['date', 'group'])\n",
    "\n",
    "cumulativeData = ordersAggregated.merge(\n",
    "    visitorsAggregated, left_on=['date', 'group'], right_on=['date', 'group']\n",
    ")\n",
    "cumulativeData.columns = [\n",
    "    'date',\n",
    "    'group',\n",
    "    'orders',\n",
    "    'buyers',\n",
    "    'revenue',\n",
    "    'visitors',\n",
    "]\n",
    "\n",
    "cumulativeRevenueA = cumulativeData[cumulativeData['group']=='A'][['date','revenue', 'orders']]\n",
    "\n",
    "# датафрейм с кумулятивным количеством заказов и кумулятивной выручкой по дням в группе B\n",
    "cumulativeRevenueB = cumulativeData[cumulativeData['group']=='B'][['date','revenue', 'orders']]\n",
    "\n",
    "plt.figure(figsize=(20, 10))\n",
    "\n",
    "# Строим график выручки группы А\n",
    "plt.plot(cumulativeRevenueA['date'], cumulativeRevenueA['revenue'], label='A')\n",
    "\n",
    "# Строим график выручки группы B\n",
    "plt.plot(cumulativeRevenueB['date'], cumulativeRevenueB['revenue'], label='B')\n",
    "plt.legend()\n",
    "plt.xlabel('Дата')\n",
    "plt.ylabel('Кумулятивная выручка по группам')\n",
    "plt.title('График кумулятивной выручки по группам')\n",
    "plt.show()"
   ]
  },
  {
   "cell_type": "markdown",
   "id": "0e3a9023",
   "metadata": {},
   "source": [
    "В середине теста сегмент B вырвался вперед и продолжал лидировать весь остаток теста. Похоже, аномально большие результаты влияют на результаты. При заключительном анализе их нужно удалить."
   ]
  },
  {
   "cell_type": "markdown",
   "id": "344d9f5e",
   "metadata": {},
   "source": [
    "2. Построим график кумулятивного среднего чека по группам. Сделаем выводы и предположения."
   ]
  },
  {
   "cell_type": "code",
   "execution_count": 11,
   "id": "60436aaf",
   "metadata": {},
   "outputs": [
    {
     "data": {
      "image/png": "[encoded data removed]",
      "text/plain": [
       "<Figure size 1440x720 with 1 Axes>"
      ]
     },
     "metadata": {
      "needs_background": "light"
     },
     "output_type": "display_data"
    }
   ],
   "source": [
    "plt.figure(figsize=(20, 10))\n",
    "plt.plot(cumulativeRevenueA['date'], cumulativeRevenueA['revenue']/cumulativeRevenueA['orders'], label='A')\n",
    "plt.plot(cumulativeRevenueB['date'], cumulativeRevenueB['revenue']/cumulativeRevenueB['orders'], label='B')\n",
    "plt.legend() \n",
    "plt.xlabel('Дата')\n",
    "plt.ylabel('Кумулятивный средний чек по группам')\n",
    "plt.title('График кумулятивного среднего чека по группам')\n",
    "plt.show()"
   ]
  },
  {
   "cell_type": "markdown",
   "id": "d7b06c43",
   "metadata": {},
   "source": [
    "Куммулятивное значение среднего чека по сегментам колеблется, принимать решение по этой метрике рано. Или требуется дополнительный анализ выбросов, которые так сильно искажают результаты."
   ]
  },
  {
   "cell_type": "markdown",
   "id": "031c758e",
   "metadata": {},
   "source": [
    "3. Построим график относительного изменения кумулятивного среднего чека группы B к группе A. Сделаем выводы и предположения."
   ]
  },
  {
   "cell_type": "code",
   "execution_count": 12,
   "id": "46df2f1d",
   "metadata": {},
   "outputs": [
    {
     "data": {
      "image/png": "[encoded data removed]",
      "text/plain": [
       "<Figure size 1440x720 with 1 Axes>"
      ]
     },
     "metadata": {
      "needs_background": "light"
     },
     "output_type": "display_data"
    }
   ],
   "source": [
    "# собираем данные в одном датафрейме\n",
    "mergedCumulativeRevenue = cumulativeRevenueA.merge(cumulativeRevenueB, left_on='date', right_on='date', how='left', suffixes=['A', 'B'])\n",
    "\n",
    "plt.figure(figsize=(20, 10))\n",
    "\n",
    "# cтроим отношение средних чеков\n",
    "plt.plot(mergedCumulativeRevenue['date'], (mergedCumulativeRevenue['revenueB']/mergedCumulativeRevenue['ordersB'])/(mergedCumulativeRevenue['revenueA']/mergedCumulativeRevenue['ordersA'])-1)\n",
    "\n",
    "# добавляем ось X\n",
    "plt.axhline(y=0, color='black', linestyle='--') \n",
    "\n",
    "plt.xlabel('Дата')\n",
    "plt.ylabel('Относительное изменение кумулятивного среднего чека группы B к группе A')\n",
    "plt.title('График относительного изменения кумулятивного среднего чека группы B к группе A')\n",
    "plt.show()"
   ]
  },
  {
   "cell_type": "markdown",
   "id": "5d768e5c",
   "metadata": {},
   "source": [
    "Мы построили график относительно различия в среднем чеке между группами. Результаты теста значитаельно и резко менялись в несколько дат. Видимо, именно тогда были совершены аномальные заказы."
   ]
  },
  {
   "cell_type": "markdown",
   "id": "e30c47af",
   "metadata": {},
   "source": [
    "4. Построим график кумулятивной конверсии по группам. Сделаем выводы и предположения."
   ]
  },
  {
   "cell_type": "code",
   "execution_count": 13,
   "id": "17b9b2c5",
   "metadata": {},
   "outputs": [
    {
     "data": {
      "image/png": "[encoded data removed]",
      "text/plain": [
       "<Figure size 1440x720 with 1 Axes>"
      ]
     },
     "metadata": {
      "needs_background": "light"
     },
     "output_type": "display_data"
    }
   ],
   "source": [
    "# считаем кумулятивную конверсию\n",
    "cumulativeData['conversion'] = cumulativeData['orders']/cumulativeData['visitors']\n",
    "\n",
    "# отделяем данные по группе A\n",
    "cumulativeDataA = cumulativeData[cumulativeData['group']=='A']\n",
    "\n",
    "# отделяем данные по группе B\n",
    "cumulativeDataB = cumulativeData[cumulativeData['group']=='B']\n",
    "\n",
    "# строим графики\n",
    "plt.figure(figsize=(20, 10))\n",
    "plt.plot(cumulativeDataA['date'], cumulativeDataA['conversion'], label='A')\n",
    "plt.plot(cumulativeDataB['date'], cumulativeDataB['conversion'], label='B')\n",
    "plt.legend()\n",
    "\n",
    "plt.axis([dt.datetime(2019, 7, 31), dt.datetime(2019, 9, 1), 0, 0.05])\n",
    "plt.xlabel('Дата')\n",
    "plt.ylabel('Относительное изменение кумулятивной конверсии по группам')\n",
    "plt.title('График относительного изменения кумулятивной конверсии по группам')\n",
    "plt.show()"
   ]
  },
  {
   "cell_type": "markdown",
   "id": "af1421fe",
   "metadata": {},
   "source": [
    "В начале теста сегмент A имел большую конверсию, но постепенно сегмент B выровнялся и зафиксировался примерно около одного значения, больше сегмента A."
   ]
  },
  {
   "cell_type": "markdown",
   "id": "2ce9531b",
   "metadata": {},
   "source": [
    "5. Построим график относительного изменения кумулятивной конверсии группы B к группе A. Сделаем выводы и предположения."
   ]
  },
  {
   "cell_type": "code",
   "execution_count": 14,
   "id": "6f65846c",
   "metadata": {},
   "outputs": [
    {
     "data": {
      "image/png": "[encoded data removed]",
      "text/plain": [
       "<Figure size 1440x720 with 1 Axes>"
      ]
     },
     "metadata": {
      "needs_background": "light"
     },
     "output_type": "display_data"
    }
   ],
   "source": [
    "cumulativeData['conversion'] = (\n",
    "    cumulativeData['orders'] / cumulativeData['visitors']\n",
    ")\n",
    "\n",
    "cumulativeDataA = cumulativeData[cumulativeData['group'] == 'A']\n",
    "cumulativeDataB = cumulativeData[cumulativeData['group'] == 'B']\n",
    "\n",
    "mergedCumulativeConversions = cumulativeDataA[['date','conversion']].merge(cumulativeDataB[['date','conversion']], left_on='date', right_on='date', how='left', suffixes=['A', 'B'])\n",
    "plt.figure(figsize=(20, 10))\n",
    "plt.plot(mergedCumulativeConversions['date'], mergedCumulativeConversions['conversionB']/mergedCumulativeConversions['conversionA']-1, label=\"Относительный прирост конверсии группы B относительно группы A\")\n",
    "plt.legend()\n",
    "\n",
    "plt.axhline(y=0, color='black', linestyle='--')\n",
    "plt.axhline(y=0.2, color='grey', linestyle='--')\n",
    "plt.axis([\"2019, 7, 31\", '2019, 9, 1', -0.5, 0.5])\n",
    "plt.xlabel('Дата')\n",
    "plt.ylabel('Относительное изменение кумулятивной конверсии группы B к группе A')\n",
    "plt.title('График относительного изменения кумулятивной конверсии группы B к группе A')\n",
    "plt.show()"
   ]
  },
  {
   "cell_type": "markdown",
   "id": "fe12a100",
   "metadata": {},
   "source": [
    "Мы построили график относительного различия конверсий между группами. К концу теста конверсия зафиксировалась около прироста примерно в 12 процентов относительно группы A."
   ]
  },
  {
   "cell_type": "markdown",
   "id": "bb6faa37",
   "metadata": {},
   "source": [
    "6. Построим точечный график количества заказов по пользователям. Сделаем выводы и предположения."
   ]
  },
  {
   "cell_type": "code",
   "execution_count": 15,
   "id": "7bc4611e",
   "metadata": {},
   "outputs": [
    {
     "data": {
      "text/html": [
       "<div>\n",
       "<style scoped>\n",
       "    .dataframe tbody tr th:only-of-type {\n",
       "        vertical-align: middle;\n",
       "    }\n",
       "\n",
       "    .dataframe tbody tr th {\n",
       "        vertical-align: top;\n",
       "    }\n",
       "\n",
       "    .dataframe thead th {\n",
       "        text-align: right;\n",
       "    }\n",
       "</style>\n",
       "<table border=\"1\" class=\"dataframe\">\n",
       "  <thead>\n",
       "    <tr style=\"text-align: right;\">\n",
       "      <th></th>\n",
       "      <th>visitorId</th>\n",
       "      <th>orders</th>\n",
       "    </tr>\n",
       "  </thead>\n",
       "  <tbody>\n",
       "    <tr>\n",
       "      <th>1023</th>\n",
       "      <td>4256040402</td>\n",
       "      <td>11</td>\n",
       "    </tr>\n",
       "    <tr>\n",
       "      <th>591</th>\n",
       "      <td>2458001652</td>\n",
       "      <td>11</td>\n",
       "    </tr>\n",
       "    <tr>\n",
       "      <th>569</th>\n",
       "      <td>2378935119</td>\n",
       "      <td>9</td>\n",
       "    </tr>\n",
       "    <tr>\n",
       "      <th>487</th>\n",
       "      <td>2038680547</td>\n",
       "      <td>8</td>\n",
       "    </tr>\n",
       "    <tr>\n",
       "      <th>44</th>\n",
       "      <td>199603092</td>\n",
       "      <td>5</td>\n",
       "    </tr>\n",
       "    <tr>\n",
       "      <th>744</th>\n",
       "      <td>3062433592</td>\n",
       "      <td>5</td>\n",
       "    </tr>\n",
       "    <tr>\n",
       "      <th>55</th>\n",
       "      <td>237748145</td>\n",
       "      <td>5</td>\n",
       "    </tr>\n",
       "    <tr>\n",
       "      <th>917</th>\n",
       "      <td>3803269165</td>\n",
       "      <td>5</td>\n",
       "    </tr>\n",
       "    <tr>\n",
       "      <th>299</th>\n",
       "      <td>1230306981</td>\n",
       "      <td>5</td>\n",
       "    </tr>\n",
       "    <tr>\n",
       "      <th>897</th>\n",
       "      <td>3717692402</td>\n",
       "      <td>5</td>\n",
       "    </tr>\n",
       "  </tbody>\n",
       "</table>\n",
       "</div>"
      ],
      "text/plain": [
       "       visitorId  orders\n",
       "1023  4256040402      11\n",
       "591   2458001652      11\n",
       "569   2378935119       9\n",
       "487   2038680547       8\n",
       "44     199603092       5\n",
       "744   3062433592       5\n",
       "55     237748145       5\n",
       "917   3803269165       5\n",
       "299   1230306981       5\n",
       "897   3717692402       5"
      ]
     },
     "metadata": {},
     "output_type": "display_data"
    },
    {
     "data": {
      "image/png": "[encoded data removed]",
      "text/plain": [
       "<Figure size 1440x720 with 1 Axes>"
      ]
     },
     "metadata": {
      "needs_background": "light"
     },
     "output_type": "display_data"
    }
   ],
   "source": [
    "ordersByUsers = (\n",
    "    orders.groupby('visitorId', as_index=False)\n",
    "    .agg({'transactionId': 'nunique'})\n",
    ")\n",
    "ordersByUsers.columns = ['visitorId', 'orders']\n",
    "display(ordersByUsers.sort_values(by='orders', ascending=False).head(10)) \n",
    "\n",
    "x_values = pd.Series(range(0, len(ordersByUsers)))\n",
    "plt.figure(figsize=(20, 10))\n",
    "plt.scatter(x_values, ordersByUsers['orders']) \n",
    "plt.xlabel('Пользователи')\n",
    "plt.ylabel('Количество заказов по пользователям')\n",
    "plt.title('Точечный график количества заказов по пользователям')\n",
    "plt.show()"
   ]
  },
  {
   "cell_type": "markdown",
   "id": "db209611",
   "metadata": {},
   "source": [
    "Пользователей, заказавших больше двух раз мало. Они вполне могут быть аномальными. Для более детального анализа посчитаем выборочные процентили."
   ]
  },
  {
   "cell_type": "markdown",
   "id": "2c34c3c8",
   "metadata": {},
   "source": [
    "7. Посчитаем 95-й и 99-й перцентили количества заказов на пользователя. Выберем границу для определения аномальных пользователей."
   ]
  },
  {
   "cell_type": "code",
   "execution_count": 16,
   "id": "2f0319d9",
   "metadata": {},
   "outputs": [
    {
     "data": {
      "text/plain": [
       "array([2., 4.])"
      ]
     },
     "metadata": {},
     "output_type": "display_data"
    }
   ],
   "source": [
    "display(np.percentile(ordersByUsers['orders'], [95, 99])) "
   ]
  },
  {
   "cell_type": "markdown",
   "id": "f57a7f7d",
   "metadata": {},
   "source": [
    "Не более 5% пользователей совершали больше двух заказов. И не больше 1% - больше 4 заказов. Выберем границу в 3 заказа."
   ]
  },
  {
   "cell_type": "markdown",
   "id": "d4dbf64a",
   "metadata": {},
   "source": [
    "8. Построим точечный график стоимостей заказов. Сделаем выводы и предположения."
   ]
  },
  {
   "cell_type": "code",
   "execution_count": 17,
   "id": "380f94bb",
   "metadata": {},
   "outputs": [
    {
     "data": {
      "image/png": "[encoded data removed]",
      "text/plain": [
       "<Figure size 1440x720 with 1 Axes>"
      ]
     },
     "metadata": {
      "needs_background": "light"
     },
     "output_type": "display_data"
    }
   ],
   "source": [
    "x_values = pd.Series(range(0, len(orders['revenue'])))\n",
    "plt.figure(figsize=(20, 10))\n",
    "plt.scatter(x_values, orders['revenue'])\n",
    "plt.xlabel('Пользователи')\n",
    "plt.ylabel('Стоимость заказов.')\n",
    "plt.title('Точечный график стоимостей заказов по пользователям')\n",
    "plt.show()"
   ]
  },
  {
   "cell_type": "code",
   "execution_count": 18,
   "id": "d1a076b6",
   "metadata": {},
   "outputs": [
    {
     "data": {
      "text/plain": [
       "(0.0, 120000.0)"
      ]
     },
     "execution_count": 18,
     "metadata": {},
     "output_type": "execute_result"
    },
    {
     "data": {
      "image/png": "[encoded data removed]",
      "text/plain": [
       "<Figure size 1440x720 with 1 Axes>"
      ]
     },
     "metadata": {
      "needs_background": "light"
     },
     "output_type": "display_data"
    }
   ],
   "source": [
    "x_values = pd.Series(range(0, len(orders['revenue'])))\n",
    "plt.figure(figsize=(20, 10))\n",
    "plt.scatter(x_values, orders['revenue'])\n",
    "plt.xlabel('Пользователи')\n",
    "plt.ylabel('Стоимость заказов.')\n",
    "plt.title('Точечный график стоимостей заказов по пользователям')\n",
    "plt.ylim([0, 120000])"
   ]
  },
  {
   "cell_type": "markdown",
   "id": "ee652d81",
   "metadata": {},
   "source": [
    "По графику мы видим один вброс в районе 1 200 000 рублей, также один заказ в райне 200 000 рублей."
   ]
  },
  {
   "cell_type": "markdown",
   "id": "acd2e3c8",
   "metadata": {},
   "source": [
    "9. Посчитаем 95-й и 99-й перцентили стоимости заказов. Выберем границу для определения аномальных заказов."
   ]
  },
  {
   "cell_type": "code",
   "execution_count": 19,
   "id": "39696461",
   "metadata": {},
   "outputs": [
    {
     "data": {
      "text/plain": [
       "array([28000. , 58233.2])"
      ]
     },
     "metadata": {},
     "output_type": "display_data"
    }
   ],
   "source": [
    "display(np.percentile(orders['revenue'], [95, 99])) "
   ]
  },
  {
   "cell_type": "markdown",
   "id": "8c7b70e7",
   "metadata": {},
   "source": [
    "Не больше, чем у 5% заказов чек больше 28 000 рублей. И не больше 1% заказов чек больше 58 233 рублей. Выберем границу в 50 000 руб."
   ]
  },
  {
   "cell_type": "markdown",
   "id": "da74c2d5",
   "metadata": {},
   "source": [
    "10. Посчитаем статистическую значимость различий в конверсии между группами по «сырым» данным. Сделаем выводы и предположения."
   ]
  },
  {
   "cell_type": "code",
   "execution_count": 20,
   "id": "ec9db8e6",
   "metadata": {},
   "outputs": [
    {
     "data": {
      "text/html": [
       "<div>\n",
       "<style scoped>\n",
       "    .dataframe tbody tr th:only-of-type {\n",
       "        vertical-align: middle;\n",
       "    }\n",
       "\n",
       "    .dataframe tbody tr th {\n",
       "        vertical-align: top;\n",
       "    }\n",
       "\n",
       "    .dataframe thead th {\n",
       "        text-align: right;\n",
       "    }\n",
       "</style>\n",
       "<table border=\"1\" class=\"dataframe\">\n",
       "  <thead>\n",
       "    <tr style=\"text-align: right;\">\n",
       "      <th></th>\n",
       "      <th>date</th>\n",
       "      <th>ordersPerDateA</th>\n",
       "      <th>revenuePerDateA</th>\n",
       "      <th>ordersPerDateB</th>\n",
       "      <th>revenuePerDateB</th>\n",
       "      <th>ordersCummulativeA</th>\n",
       "      <th>revenueCummulativeA</th>\n",
       "      <th>ordersCummulativeB</th>\n",
       "      <th>revenueCummulativeB</th>\n",
       "      <th>visitorsPerDateA</th>\n",
       "      <th>visitorsPerDateB</th>\n",
       "      <th>visitorsCummulativeA</th>\n",
       "      <th>visitorsCummulativeB</th>\n",
       "    </tr>\n",
       "  </thead>\n",
       "  <tbody>\n",
       "    <tr>\n",
       "      <th>0</th>\n",
       "      <td>2019-08-01</td>\n",
       "      <td>24</td>\n",
       "      <td>148579</td>\n",
       "      <td>21</td>\n",
       "      <td>101217</td>\n",
       "      <td>24</td>\n",
       "      <td>148579</td>\n",
       "      <td>21</td>\n",
       "      <td>101217</td>\n",
       "      <td>719</td>\n",
       "      <td>713</td>\n",
       "      <td>719</td>\n",
       "      <td>713</td>\n",
       "    </tr>\n",
       "    <tr>\n",
       "      <th>1</th>\n",
       "      <td>2019-08-02</td>\n",
       "      <td>20</td>\n",
       "      <td>93822</td>\n",
       "      <td>24</td>\n",
       "      <td>165531</td>\n",
       "      <td>44</td>\n",
       "      <td>242401</td>\n",
       "      <td>45</td>\n",
       "      <td>266748</td>\n",
       "      <td>619</td>\n",
       "      <td>581</td>\n",
       "      <td>1338</td>\n",
       "      <td>1294</td>\n",
       "    </tr>\n",
       "    <tr>\n",
       "      <th>2</th>\n",
       "      <td>2019-08-03</td>\n",
       "      <td>24</td>\n",
       "      <td>112473</td>\n",
       "      <td>16</td>\n",
       "      <td>114248</td>\n",
       "      <td>68</td>\n",
       "      <td>354874</td>\n",
       "      <td>61</td>\n",
       "      <td>380996</td>\n",
       "      <td>507</td>\n",
       "      <td>509</td>\n",
       "      <td>1845</td>\n",
       "      <td>1803</td>\n",
       "    </tr>\n",
       "    <tr>\n",
       "      <th>3</th>\n",
       "      <td>2019-08-04</td>\n",
       "      <td>16</td>\n",
       "      <td>70825</td>\n",
       "      <td>17</td>\n",
       "      <td>108571</td>\n",
       "      <td>84</td>\n",
       "      <td>425699</td>\n",
       "      <td>78</td>\n",
       "      <td>489567</td>\n",
       "      <td>717</td>\n",
       "      <td>770</td>\n",
       "      <td>2562</td>\n",
       "      <td>2573</td>\n",
       "    </tr>\n",
       "    <tr>\n",
       "      <th>4</th>\n",
       "      <td>2019-08-05</td>\n",
       "      <td>25</td>\n",
       "      <td>124218</td>\n",
       "      <td>23</td>\n",
       "      <td>92428</td>\n",
       "      <td>109</td>\n",
       "      <td>549917</td>\n",
       "      <td>101</td>\n",
       "      <td>581995</td>\n",
       "      <td>756</td>\n",
       "      <td>707</td>\n",
       "      <td>3318</td>\n",
       "      <td>3280</td>\n",
       "    </tr>\n",
       "  </tbody>\n",
       "</table>\n",
       "</div>"
      ],
      "text/plain": [
       "        date  ordersPerDateA  revenuePerDateA  ordersPerDateB  \\\n",
       "0 2019-08-01              24           148579              21   \n",
       "1 2019-08-02              20            93822              24   \n",
       "2 2019-08-03              24           112473              16   \n",
       "3 2019-08-04              16            70825              17   \n",
       "4 2019-08-05              25           124218              23   \n",
       "\n",
       "   revenuePerDateB  ordersCummulativeA  revenueCummulativeA  \\\n",
       "0           101217                  24               148579   \n",
       "1           165531                  44               242401   \n",
       "2           114248                  68               354874   \n",
       "3           108571                  84               425699   \n",
       "4            92428                 109               549917   \n",
       "\n",
       "   ordersCummulativeB  revenueCummulativeB  visitorsPerDateA  \\\n",
       "0                  21               101217               719   \n",
       "1                  45               266748               619   \n",
       "2                  61               380996               507   \n",
       "3                  78               489567               717   \n",
       "4                 101               581995               756   \n",
       "\n",
       "   visitorsPerDateB  visitorsCummulativeA  visitorsCummulativeB  \n",
       "0               713                   719                   713  \n",
       "1               581                  1338                  1294  \n",
       "2               509                  1845                  1803  \n",
       "3               770                  2562                  2573  \n",
       "4               707                  3318                  3280  "
      ]
     },
     "metadata": {},
     "output_type": "display_data"
    },
    {
     "data": {
      "text/plain": [
       "'p-value = 0.01679'"
      ]
     },
     "metadata": {},
     "output_type": "display_data"
    },
    {
     "data": {
      "text/plain": [
       "'Различие в средних 0.138'"
      ]
     },
     "metadata": {},
     "output_type": "display_data"
    }
   ],
   "source": [
    "visitorsADaily = visitors[visitors['group'] == 'A'][['date', 'visitors']]\n",
    "visitorsADaily.columns = ['date', 'visitorsPerDateA']\n",
    "\n",
    "visitorsACummulative = visitorsADaily.apply(\n",
    "    lambda x: visitorsADaily[visitorsADaily['date'] <= x['date']].agg(\n",
    "        {'date': 'max', 'visitorsPerDateA': 'sum'}\n",
    "    ),\n",
    "    axis=1,\n",
    ")\n",
    "visitorsACummulative.columns = ['date', 'visitorsCummulativeA']\n",
    "\n",
    "visitorsBDaily = visitors[visitors['group'] == 'B'][['date', 'visitors']]\n",
    "visitorsBDaily.columns = ['date', 'visitorsPerDateB']\n",
    "\n",
    "visitorsBCummulative = visitorsBDaily.apply(\n",
    "    lambda x: visitorsBDaily[visitorsBDaily['date'] <= x['date']].agg(\n",
    "        {'date': 'max', 'visitorsPerDateB': 'sum'}\n",
    "    ),\n",
    "    axis=1,\n",
    ")\n",
    "visitorsBCummulative.columns = ['date', 'visitorsCummulativeB']\n",
    "\n",
    "ordersADaily = (\n",
    "    orders[orders['group'] == 'A'][['date', 'transactionId', 'visitorId', 'revenue']]\n",
    "    .groupby('date', as_index=False)\n",
    "    .agg({'transactionId': pd.Series.nunique, 'revenue': 'sum'})\n",
    ")\n",
    "ordersADaily.columns = ['date', 'ordersPerDateA', 'revenuePerDateA']\n",
    "\n",
    "ordersACummulative = ordersADaily.apply(\n",
    "    lambda x: ordersADaily[ordersADaily['date'] <= x['date']].agg(\n",
    "        {'date': 'max', 'ordersPerDateA': 'sum', 'revenuePerDateA': 'sum'}\n",
    "    ),\n",
    "    axis=1,\n",
    ").sort_values(by=['date'])\n",
    "ordersACummulative.columns = [\n",
    "    'date',\n",
    "    'ordersCummulativeA',\n",
    "    'revenueCummulativeA',\n",
    "]\n",
    "\n",
    "ordersBDaily = (\n",
    "    orders[orders['group'] == 'B'][['date', 'transactionId', 'visitorId', 'revenue']]\n",
    "    .groupby('date', as_index=False)\n",
    "    .agg({'transactionId': pd.Series.nunique, 'revenue': 'sum'})\n",
    ")\n",
    "ordersBDaily.columns = ['date', 'ordersPerDateB', 'revenuePerDateB']\n",
    "\n",
    "ordersBCummulative = ordersBDaily.apply(\n",
    "    lambda x: ordersBDaily[ordersBDaily['date'] <= x['date']].agg(\n",
    "        {'date': 'max', 'ordersPerDateB': 'sum', 'revenuePerDateB': 'sum'}\n",
    "    ),\n",
    "    axis=1,\n",
    ").sort_values(by=['date'])\n",
    "ordersBCummulative.columns = [\n",
    "    'date',\n",
    "    'ordersCummulativeB',\n",
    "    'revenueCummulativeB',\n",
    "]\n",
    "\n",
    "data = (\n",
    "    ordersADaily.merge(\n",
    "        ordersBDaily, left_on='date', right_on='date', how='left'\n",
    "    )\n",
    "    .merge(ordersACummulative, left_on='date', right_on='date', how='left')\n",
    "    .merge(ordersBCummulative, left_on='date', right_on='date', how='left')\n",
    "    .merge(visitorsADaily, left_on='date', right_on='date', how='left')\n",
    "    .merge(visitorsBDaily, left_on='date', right_on='date', how='left')\n",
    "    .merge(visitorsACummulative, left_on='date', right_on='date', how='left')\n",
    "    .merge(visitorsBCummulative, left_on='date', right_on='date', how='left')\n",
    ")\n",
    "\n",
    "display(data.head(5))\n",
    "\n",
    "ordersByUsersA = (\n",
    "    orders[orders['group'] == 'A']\n",
    "    .groupby('visitorId', as_index=False)\n",
    "    .agg({'transactionId': pd.Series.nunique})\n",
    ")\n",
    "ordersByUsersA.columns = ['visitorId', 'orders']\n",
    "\n",
    "ordersByUsersB = (\n",
    "    orders[orders['group'] == 'B']\n",
    "    .groupby('visitorId', as_index=False)\n",
    "    .agg({'transactionId': pd.Series.nunique})\n",
    ")\n",
    "ordersByUsersB.columns = ['visitorId', 'orders']\n",
    "\n",
    "sampleA = pd.concat(\n",
    "    [\n",
    "        ordersByUsersA['orders'],\n",
    "        pd.Series(\n",
    "            0,\n",
    "            index=np.arange(\n",
    "                data['visitorsPerDateA'].sum() - len(ordersByUsersA['orders'])\n",
    "            ),\n",
    "            name='orders',\n",
    "        ),\n",
    "    ],\n",
    "    axis=0,\n",
    ")\n",
    "\n",
    "sampleB = pd.concat(\n",
    "    [\n",
    "        ordersByUsersB['orders'],\n",
    "        pd.Series(\n",
    "            0,\n",
    "            index=np.arange(\n",
    "                data['visitorsPerDateB'].sum() - len(ordersByUsersB['orders'])\n",
    "            ),\n",
    "            name='orders',\n",
    "        ),\n",
    "    ],\n",
    "    axis=0,\n",
    ")\n",
    "\n",
    "display(\"p-value = {0:.5f}\".format(stats.mannwhitneyu(sampleA, sampleB)[1]))\n",
    "\n",
    "display(\"Различие в средних {0:.3f}\".format((data['ordersPerDateB'].sum()/data['visitorsPerDateB'].sum())/(data['ordersPerDateA'].sum()/data['visitorsPerDateA'].sum())-1)) \n",
    " "
   ]
  },
  {
   "cell_type": "markdown",
   "id": "dcfa5e4c",
   "metadata": {},
   "source": [
    "Применили статистический критерий Манна-Уитни для проверки гипотез. Сформулируем гипотезы. Нулевая: различий в среднем количестве заказов между группами нет. Альтернативная: различия в среднем между группами есть.\n",
    "\n",
    "P-value меньше 0,05, поэтому нулевую гипотезу отвергаем, различия в среднем между группами есть. Анализ \"Сырых данных\" сообщает, что в среднем количестве заказов между группами есть статистически значимые различия. Относительный прирост среднего группы B к конверсии группы A равен 13.8%. "
   ]
  },
  {
   "cell_type": "markdown",
   "id": "efbd60db",
   "metadata": {},
   "source": [
    "11. Посчитаем статистическую значимость различий в среднем чеке заказа между группами по «сырым» данным. Сделаем выводы и предположения."
   ]
  },
  {
   "cell_type": "code",
   "execution_count": 21,
   "id": "266d7d84",
   "metadata": {},
   "outputs": [
    {
     "name": "stdout",
     "output_type": "stream",
     "text": [
      "p-value = 0.729\n",
      "Различие в средних 0.259\n"
     ]
    }
   ],
   "source": [
    "print('p-value = {0:.3f}'.format(stats.mannwhitneyu(orders[orders['group']=='A']['revenue'], orders[orders['group']=='B']['revenue'])[1]))\n",
    "print('Различие в средних {0:.3f}'.format(orders[orders['group']=='B']['revenue'].mean()/orders[orders['group']=='A']['revenue'].mean()-1)) "
   ]
  },
  {
   "cell_type": "markdown",
   "id": "5220f33a",
   "metadata": {},
   "source": [
    "Применили статистический критерий Манна-Уитни для проверки гипотез. Сформулируем гипотезы. Нулевая: различий в среднем количестве заказов между группами нет. Альтернативная: различия в среднем между группами есть.\n",
    "\n",
    "P-value больше 0.05 - статистически значимых отличий в среднем чеке между группами нет. А вот разница в средних чеках между сегментами ощутимая - 25.9%. Поскольку относительное различие среднего чека между сегментами составляет ~26%, наблюдаемые различия не являются значимыми при таком уровне значимости, а следовательно были получены случайно."
   ]
  },
  {
   "cell_type": "markdown",
   "id": "00a503c0",
   "metadata": {},
   "source": [
    "12. Посчитаем статистическую значимость различий в конверсии между группами по «очищенным» данным. Сделаем выводы и предположения."
   ]
  },
  {
   "cell_type": "code",
   "execution_count": 22,
   "id": "1faa2217",
   "metadata": {},
   "outputs": [
    {
     "name": "stdout",
     "output_type": "stream",
     "text": [
      "p-value = 0.01144\n",
      "Различие в средних 0.158\n"
     ]
    }
   ],
   "source": [
    "usersWithManyOrders = pd.concat(\n",
    "    [\n",
    "        ordersByUsersA[ordersByUsersA['orders'] > 3]['visitorId'],\n",
    "        ordersByUsersB[ordersByUsersB['orders'] > 3]['visitorId'],\n",
    "    ],\n",
    "    axis=0,\n",
    ")\n",
    "usersWithExpensiveOrders = orders[orders['revenue'] > 50000]['visitorId']\n",
    "abnormalUsers = (\n",
    "    pd.concat([usersWithManyOrders, usersWithExpensiveOrders], axis=0)\n",
    "    .drop_duplicates()\n",
    "    .sort_values()\n",
    ")\n",
    "\n",
    "\n",
    "sampleAFiltered = pd.concat(\n",
    "    [\n",
    "        ordersByUsersA[\n",
    "            np.logical_not(ordersByUsersA['visitorId'].isin(abnormalUsers))\n",
    "        ]['orders'],\n",
    "        pd.Series(\n",
    "            0,\n",
    "            index=np.arange(\n",
    "                data['visitorsPerDateA'].sum() - len(ordersByUsersA['orders'])\n",
    "            ),\n",
    "            name='orders',\n",
    "        ),\n",
    "    ],\n",
    "    axis=0,\n",
    ")\n",
    "\n",
    "sampleBFiltered = pd.concat(\n",
    "    [\n",
    "        ordersByUsersB[\n",
    "            np.logical_not(ordersByUsersB['visitorId'].isin(abnormalUsers))\n",
    "        ]['orders'],\n",
    "        pd.Series(\n",
    "            0,\n",
    "            index=np.arange(\n",
    "                data['visitorsPerDateB'].sum() - len(ordersByUsersB['orders'])\n",
    "            ),\n",
    "            name='orders',\n",
    "        ),\n",
    "    ],\n",
    "    axis=0,\n",
    ") \n",
    "\n",
    "print('p-value = {0:.5f}'.format(stats.mannwhitneyu(sampleAFiltered, sampleBFiltered)[1]))\n",
    "print('Различие в средних {0:.3f}'.format(sampleBFiltered.mean()/sampleAFiltered.mean()-1)) "
   ]
  },
  {
   "cell_type": "markdown",
   "id": "62ea084d",
   "metadata": {},
   "source": [
    "Применили статистический критерий Манна-Уитни для проверки гипотез. Сформулируем гипотезы. Нулевая: различий в среднем количестве заказов между группами нет. Альтернативная: различия в среднем между группами есть.\n",
    "\n",
    "Как и в случае с сырыми данными статистическая значимость получена. Сегмент B значительно лучше сегмента A."
   ]
  },
  {
   "cell_type": "markdown",
   "id": "fd2321f3",
   "metadata": {},
   "source": [
    "13. Посчитаем статистическую значимость различий в среднем чеке заказа между группами по «очищенным» данным. Сделаем выводы и предположения."
   ]
  },
  {
   "cell_type": "code",
   "execution_count": 23,
   "id": "a89932b8",
   "metadata": {},
   "outputs": [
    {
     "name": "stdout",
     "output_type": "stream",
     "text": [
      "p-value = 0.819\n",
      "Различие в средних 0.024\n"
     ]
    }
   ],
   "source": [
    "print(\n",
    "    'p-value = {0:.3f}'.format(\n",
    "        stats.mannwhitneyu(\n",
    "            orders[\n",
    "                np.logical_and(\n",
    "                    orders['group'] == 'A',\n",
    "                    np.logical_not(orders['visitorId'].isin(abnormalUsers)),\n",
    "                )\n",
    "            ]['revenue'],\n",
    "            orders[\n",
    "                np.logical_and(\n",
    "                    orders['group'] == 'B',\n",
    "                    np.logical_not(orders['visitorId'].isin(abnormalUsers)),\n",
    "                )\n",
    "            ]['revenue'],\n",
    "        )[1]\n",
    "    )\n",
    ")\n",
    "\n",
    "print(\n",
    "    \"Различие в средних {0:.3f}\".format(\n",
    "        orders[\n",
    "            np.logical_and(\n",
    "                orders['group'] == 'B',\n",
    "                np.logical_not(orders['visitorId'].isin(abnormalUsers)),\n",
    "            )\n",
    "        ]['revenue'].mean()\n",
    "        / orders[\n",
    "            np.logical_and(\n",
    "                orders['group'] == 'A',\n",
    "                np.logical_not(orders['visitorId'].isin(abnormalUsers)),\n",
    "            )\n",
    "        ]['revenue'].mean()\n",
    "        - 1\n",
    "    )\n",
    ") "
   ]
  },
  {
   "cell_type": "markdown",
   "id": "d742df92",
   "metadata": {},
   "source": [
    "Применили статистический критерий Манна-Уитни для проверки гипотез. Сформулируем гипотезы. Нулевая: различий в среднем количестве заказов между группами нет. Альтернативная: различия в среднем между группами есть.\n",
    "\n",
    "P-value больше 0.05 - статистически значимых отличий в среднем чеке между группами нет. А вот разница в средних чеках между сегментами снизилась до 2.4%. "
   ]
  },
  {
   "cell_type": "markdown",
   "id": "ae21cced",
   "metadata": {},
   "source": [
    "### Выводы\n",
    "\n",
    "1. Есть статистически значимое различие по конверсии между группами как по сырым данным, так и после фильтрации аномалий.\n",
    "2. По сырым и по отфильтрованным данным нет статистически значимого различия по среднему чеку между группами.\n",
    "3. График различия конверсии между группами сообщает, что результаты группы B лучше группы A: имеют тенденцию к росту, либо зафиксировались около среднего значения.\n",
    "4. График различия среднего чека колеблется: он-то и позволил нам найти аномалии. Сделать из этого графика определённые выводы нельзя.\n",
    "\n",
    "Принимаем следующее решение:\n",
    "**Остановить тест, зафиксировать победу группы B.**"
   ]
  },
  {
   "cell_type": "markdown",
   "id": "b93f25aa",
   "metadata": {},
   "source": [
    "График различия среднего чека "
   ]
  },
  {
   "cell_type": "code",
   "execution_count": 24,
   "id": "0810b58c",
   "metadata": {},
   "outputs": [
    {
     "data": {
      "text/plain": [
       "<matplotlib.lines.Line2D at 0x7f83457b5d60>"
      ]
     },
     "execution_count": 24,
     "metadata": {},
     "output_type": "execute_result"
    },
    {
     "data": {
      "image/png": "[encoded data removed]",
      "text/plain": [
       "<Figure size 432x288 with 1 Axes>"
      ]
     },
     "metadata": {
      "needs_background": "light"
     },
     "output_type": "display_data"
    }
   ],
   "source": [
    "plt.plot(mergedCumulativeRevenue['date'], (mergedCumulativeRevenue['revenueB']/mergedCumulativeRevenue['ordersB'])/(mergedCumulativeRevenue['revenueA']/mergedCumulativeRevenue['ordersA'])-1)\n",
    "plt.axhline(y=0, color='black', linestyle='--')"
   ]
  },
  {
   "cell_type": "markdown",
   "id": "d79e8a8a",
   "metadata": {},
   "source": [
    "График различия конверсии"
   ]
  },
  {
   "cell_type": "code",
   "execution_count": 25,
   "id": "4fddc4e2",
   "metadata": {},
   "outputs": [
    {
     "data": {
      "text/plain": [
       "(18108.0, 18140.0, -0.5, 0.5)"
      ]
     },
     "execution_count": 25,
     "metadata": {},
     "output_type": "execute_result"
    },
    {
     "data": {
      "image/png": "[encoded data removed]",
      "text/plain": [
       "<Figure size 432x288 with 1 Axes>"
      ]
     },
     "metadata": {
      "needs_background": "light"
     },
     "output_type": "display_data"
    }
   ],
   "source": [
    "plt.plot(mergedCumulativeConversions['date'], mergedCumulativeConversions['conversionB']/mergedCumulativeConversions['conversionA']-1, label=\"Относительный прирост конверсии группы B относительно группы A\")\n",
    "plt.legend()\n",
    "\n",
    "plt.axhline(y=0, color='black', linestyle='--')\n",
    "plt.axhline(y=0.2, color='grey', linestyle='--')\n",
    "plt.axis([\"2019, 7, 31\", '2019, 9, 1', -0.5, 0.5])"
   ]
  }
 ],
 "metadata": {
  "ExecuteTimeLog": [
   {
    "duration": 1414,
    "start_time": "2022-07-10T14:25:48.750Z"
   },
   {
    "duration": 13,
    "start_time": "2022-07-10T14:25:50.166Z"
   },
   {
    "duration": 5,
    "start_time": "2022-07-10T14:25:50.181Z"
   },
   {
    "duration": 14,
    "start_time": "2022-07-10T14:25:50.188Z"
   },
   {
    "duration": 14,
    "start_time": "2022-07-10T14:25:50.204Z"
   },
   {
    "duration": 13,
    "start_time": "2022-07-10T14:25:50.220Z"
   },
   {
    "duration": 31,
    "start_time": "2022-07-10T14:25:50.235Z"
   },
   {
    "duration": 10,
    "start_time": "2022-07-10T14:25:50.268Z"
   },
   {
    "duration": 625,
    "start_time": "2022-07-10T14:25:50.280Z"
   },
   {
    "duration": 230,
    "start_time": "2022-07-10T14:25:50.908Z"
   },
   {
    "duration": 290,
    "start_time": "2022-07-10T14:25:51.143Z"
   },
   {
    "duration": 230,
    "start_time": "2022-07-10T14:25:51.435Z"
   },
   {
    "duration": 304,
    "start_time": "2022-07-10T14:25:51.667Z"
   },
   {
    "duration": 157,
    "start_time": "2022-07-10T14:25:51.973Z"
   },
   {
    "duration": 14,
    "start_time": "2022-07-10T14:25:52.135Z"
   },
   {
    "duration": 144,
    "start_time": "2022-07-10T14:25:52.156Z"
   },
   {
    "duration": 6,
    "start_time": "2022-07-10T14:25:52.302Z"
   },
   {
    "duration": 454,
    "start_time": "2022-07-10T14:25:52.310Z"
   },
   {
    "duration": 11,
    "start_time": "2022-07-10T14:25:52.765Z"
   },
   {
    "duration": 49,
    "start_time": "2022-07-10T14:25:52.777Z"
   },
   {
    "duration": 28,
    "start_time": "2022-07-10T14:25:52.828Z"
   },
   {
    "duration": 353,
    "start_time": "2022-07-10T14:25:52.860Z"
   },
   {
    "duration": 325,
    "start_time": "2022-07-10T14:25:53.215Z"
   },
   {
    "duration": 122,
    "start_time": "2022-07-10T14:34:54.057Z"
   },
   {
    "duration": 0,
    "start_time": "2022-07-14T09:23:37.909Z"
   },
   {
    "duration": 0,
    "start_time": "2022-07-14T09:23:37.910Z"
   },
   {
    "duration": 0,
    "start_time": "2022-07-14T09:23:37.911Z"
   },
   {
    "duration": 0,
    "start_time": "2022-07-14T09:23:37.912Z"
   },
   {
    "duration": 0,
    "start_time": "2022-07-14T09:23:37.913Z"
   },
   {
    "duration": 0,
    "start_time": "2022-07-14T09:23:37.914Z"
   },
   {
    "duration": 0,
    "start_time": "2022-07-14T09:23:37.915Z"
   },
   {
    "duration": 0,
    "start_time": "2022-07-14T09:23:37.916Z"
   },
   {
    "duration": 0,
    "start_time": "2022-07-14T09:23:37.918Z"
   },
   {
    "duration": 0,
    "start_time": "2022-07-14T09:23:37.919Z"
   },
   {
    "duration": 0,
    "start_time": "2022-07-14T09:23:37.920Z"
   },
   {
    "duration": 0,
    "start_time": "2022-07-14T09:23:37.921Z"
   },
   {
    "duration": 0,
    "start_time": "2022-07-14T09:23:37.922Z"
   },
   {
    "duration": 0,
    "start_time": "2022-07-14T09:23:37.923Z"
   },
   {
    "duration": 0,
    "start_time": "2022-07-14T09:23:37.924Z"
   },
   {
    "duration": 0,
    "start_time": "2022-07-14T09:23:37.925Z"
   },
   {
    "duration": 0,
    "start_time": "2022-07-14T09:23:37.926Z"
   },
   {
    "duration": 0,
    "start_time": "2022-07-14T09:23:37.927Z"
   },
   {
    "duration": 1,
    "start_time": "2022-07-14T09:23:37.928Z"
   },
   {
    "duration": 0,
    "start_time": "2022-07-14T09:23:37.930Z"
   },
   {
    "duration": 0,
    "start_time": "2022-07-14T09:23:37.931Z"
   },
   {
    "duration": 0,
    "start_time": "2022-07-14T09:23:37.932Z"
   },
   {
    "duration": 0,
    "start_time": "2022-07-14T09:23:37.933Z"
   },
   {
    "duration": 0,
    "start_time": "2022-07-14T09:23:37.934Z"
   },
   {
    "duration": 9,
    "start_time": "2022-07-14T09:23:48.710Z"
   },
   {
    "duration": 119,
    "start_time": "2022-07-14T09:24:05.832Z"
   },
   {
    "duration": 3,
    "start_time": "2022-07-14T09:25:04.711Z"
   },
   {
    "duration": 5,
    "start_time": "2022-07-14T09:25:06.970Z"
   },
   {
    "duration": 13,
    "start_time": "2022-07-14T09:25:16.173Z"
   },
   {
    "duration": 3,
    "start_time": "2022-07-14T09:25:18.612Z"
   },
   {
    "duration": 8,
    "start_time": "2022-07-14T09:25:24.518Z"
   },
   {
    "duration": 9,
    "start_time": "2022-07-14T09:25:27.091Z"
   },
   {
    "duration": 8,
    "start_time": "2022-07-14T09:25:38.427Z"
   },
   {
    "duration": 9,
    "start_time": "2022-07-14T09:25:49.041Z"
   },
   {
    "duration": 1237,
    "start_time": "2022-07-14T09:26:12.931Z"
   },
   {
    "duration": 105,
    "start_time": "2022-07-14T09:26:14.170Z"
   },
   {
    "duration": 12,
    "start_time": "2022-07-14T09:26:14.277Z"
   },
   {
    "duration": 10,
    "start_time": "2022-07-14T09:26:14.291Z"
   },
   {
    "duration": 17,
    "start_time": "2022-07-14T09:26:14.304Z"
   },
   {
    "duration": 14,
    "start_time": "2022-07-14T09:26:14.323Z"
   },
   {
    "duration": 10,
    "start_time": "2022-07-14T09:26:14.339Z"
   },
   {
    "duration": 12,
    "start_time": "2022-07-14T09:26:14.351Z"
   },
   {
    "duration": 9,
    "start_time": "2022-07-14T09:26:14.364Z"
   },
   {
    "duration": 604,
    "start_time": "2022-07-14T09:26:14.405Z"
   },
   {
    "duration": 235,
    "start_time": "2022-07-14T09:26:15.011Z"
   },
   {
    "duration": 293,
    "start_time": "2022-07-14T09:26:15.249Z"
   },
   {
    "duration": 208,
    "start_time": "2022-07-14T09:26:15.544Z"
   },
   {
    "duration": 358,
    "start_time": "2022-07-14T09:26:15.756Z"
   },
   {
    "duration": 170,
    "start_time": "2022-07-14T09:26:16.116Z"
   },
   {
    "duration": 17,
    "start_time": "2022-07-14T09:26:16.288Z"
   },
   {
    "duration": 171,
    "start_time": "2022-07-14T09:26:16.307Z"
   },
   {
    "duration": 6,
    "start_time": "2022-07-14T09:26:16.480Z"
   },
   {
    "duration": 523,
    "start_time": "2022-07-14T09:26:16.488Z"
   },
   {
    "duration": 13,
    "start_time": "2022-07-14T09:26:17.013Z"
   },
   {
    "duration": 35,
    "start_time": "2022-07-14T09:26:17.029Z"
   },
   {
    "duration": 47,
    "start_time": "2022-07-14T09:26:17.065Z"
   },
   {
    "duration": 424,
    "start_time": "2022-07-14T09:26:17.114Z"
   },
   {
    "duration": 325,
    "start_time": "2022-07-14T09:26:17.540Z"
   },
   {
    "duration": 59,
    "start_time": "2022-07-16T11:09:01.766Z"
   },
   {
    "duration": 1461,
    "start_time": "2022-07-16T11:09:05.834Z"
   },
   {
    "duration": 215,
    "start_time": "2022-07-16T11:09:07.303Z"
   },
   {
    "duration": 20,
    "start_time": "2022-07-16T11:09:07.521Z"
   },
   {
    "duration": 4,
    "start_time": "2022-07-16T11:09:07.542Z"
   },
   {
    "duration": 15,
    "start_time": "2022-07-16T11:09:07.547Z"
   },
   {
    "duration": 13,
    "start_time": "2022-07-16T11:09:07.564Z"
   },
   {
    "duration": 28,
    "start_time": "2022-07-16T11:09:07.579Z"
   },
   {
    "duration": 20,
    "start_time": "2022-07-16T11:09:07.610Z"
   },
   {
    "duration": 10,
    "start_time": "2022-07-16T11:09:07.632Z"
   },
   {
    "duration": 585,
    "start_time": "2022-07-16T11:09:07.644Z"
   },
   {
    "duration": 214,
    "start_time": "2022-07-16T11:09:08.231Z"
   },
   {
    "duration": 382,
    "start_time": "2022-07-16T11:09:08.446Z"
   },
   {
    "duration": 229,
    "start_time": "2022-07-16T11:09:08.831Z"
   },
   {
    "duration": 328,
    "start_time": "2022-07-16T11:09:09.062Z"
   },
   {
    "duration": 151,
    "start_time": "2022-07-16T11:09:09.391Z"
   },
   {
    "duration": 4,
    "start_time": "2022-07-16T11:09:09.544Z"
   },
   {
    "duration": 156,
    "start_time": "2022-07-16T11:09:09.550Z"
   },
   {
    "duration": 7,
    "start_time": "2022-07-16T11:09:09.709Z"
   },
   {
    "duration": 460,
    "start_time": "2022-07-16T11:09:09.718Z"
   },
   {
    "duration": 11,
    "start_time": "2022-07-16T11:09:10.180Z"
   },
   {
    "duration": 42,
    "start_time": "2022-07-16T11:09:10.205Z"
   },
   {
    "duration": 15,
    "start_time": "2022-07-16T11:09:10.249Z"
   },
   {
    "duration": 425,
    "start_time": "2022-07-16T11:09:10.265Z"
   },
   {
    "duration": 330,
    "start_time": "2022-07-16T11:09:10.691Z"
   },
   {
    "duration": 11,
    "start_time": "2022-07-16T11:09:17.638Z"
   },
   {
    "duration": 10,
    "start_time": "2022-07-16T11:10:52.639Z"
   },
   {
    "duration": 6,
    "start_time": "2022-07-16T11:11:51.838Z"
   },
   {
    "duration": 111,
    "start_time": "2022-07-16T11:12:14.394Z"
   },
   {
    "duration": 5,
    "start_time": "2022-07-16T11:12:29.165Z"
   },
   {
    "duration": 9,
    "start_time": "2022-07-16T11:12:55.345Z"
   },
   {
    "duration": 7,
    "start_time": "2022-07-16T11:13:06.165Z"
   },
   {
    "duration": 6,
    "start_time": "2022-07-16T11:13:08.965Z"
   },
   {
    "duration": 5,
    "start_time": "2022-07-16T11:13:23.185Z"
   },
   {
    "duration": 6,
    "start_time": "2022-07-16T11:13:25.386Z"
   },
   {
    "duration": 345,
    "start_time": "2022-07-16T11:14:45.550Z"
   },
   {
    "duration": 341,
    "start_time": "2022-07-16T11:14:53.337Z"
   },
   {
    "duration": 1143,
    "start_time": "2022-07-16T11:14:58.054Z"
   },
   {
    "duration": 82,
    "start_time": "2022-07-16T11:14:59.199Z"
   },
   {
    "duration": 13,
    "start_time": "2022-07-16T11:14:59.282Z"
   },
   {
    "duration": 10,
    "start_time": "2022-07-16T11:14:59.296Z"
   },
   {
    "duration": 25,
    "start_time": "2022-07-16T11:14:59.310Z"
   },
   {
    "duration": 26,
    "start_time": "2022-07-16T11:14:59.337Z"
   },
   {
    "duration": 29,
    "start_time": "2022-07-16T11:14:59.365Z"
   },
   {
    "duration": 25,
    "start_time": "2022-07-16T11:14:59.396Z"
   },
   {
    "duration": 41,
    "start_time": "2022-07-16T11:14:59.424Z"
   },
   {
    "duration": 741,
    "start_time": "2022-07-16T11:14:59.467Z"
   },
   {
    "duration": 0,
    "start_time": "2022-07-16T11:15:00.212Z"
   },
   {
    "duration": 0,
    "start_time": "2022-07-16T11:15:00.217Z"
   },
   {
    "duration": 0,
    "start_time": "2022-07-16T11:15:00.221Z"
   },
   {
    "duration": 0,
    "start_time": "2022-07-16T11:15:00.223Z"
   },
   {
    "duration": 0,
    "start_time": "2022-07-16T11:15:00.225Z"
   },
   {
    "duration": 0,
    "start_time": "2022-07-16T11:15:00.227Z"
   },
   {
    "duration": 0,
    "start_time": "2022-07-16T11:15:00.229Z"
   },
   {
    "duration": 0,
    "start_time": "2022-07-16T11:15:00.230Z"
   },
   {
    "duration": 0,
    "start_time": "2022-07-16T11:15:00.232Z"
   },
   {
    "duration": 0,
    "start_time": "2022-07-16T11:15:00.233Z"
   },
   {
    "duration": 0,
    "start_time": "2022-07-16T11:15:00.234Z"
   },
   {
    "duration": 0,
    "start_time": "2022-07-16T11:15:00.236Z"
   },
   {
    "duration": 0,
    "start_time": "2022-07-16T11:15:00.238Z"
   },
   {
    "duration": 0,
    "start_time": "2022-07-16T11:15:00.239Z"
   },
   {
    "duration": 84,
    "start_time": "2022-07-16T11:18:16.174Z"
   },
   {
    "duration": 116,
    "start_time": "2022-07-16T11:18:22.274Z"
   },
   {
    "duration": 96,
    "start_time": "2022-07-16T11:18:35.894Z"
   },
   {
    "duration": 91,
    "start_time": "2022-07-16T11:18:43.714Z"
   },
   {
    "duration": 343,
    "start_time": "2022-07-16T11:18:51.799Z"
   },
   {
    "duration": 342,
    "start_time": "2022-07-16T11:18:59.074Z"
   },
   {
    "duration": 1126,
    "start_time": "2022-07-16T11:19:03.751Z"
   },
   {
    "duration": 83,
    "start_time": "2022-07-16T11:19:04.879Z"
   },
   {
    "duration": 11,
    "start_time": "2022-07-16T11:19:04.964Z"
   },
   {
    "duration": 3,
    "start_time": "2022-07-16T11:19:04.978Z"
   },
   {
    "duration": 14,
    "start_time": "2022-07-16T11:19:04.982Z"
   },
   {
    "duration": 14,
    "start_time": "2022-07-16T11:19:04.998Z"
   },
   {
    "duration": 17,
    "start_time": "2022-07-16T11:19:05.014Z"
   },
   {
    "duration": 8,
    "start_time": "2022-07-16T11:19:05.033Z"
   },
   {
    "duration": 10,
    "start_time": "2022-07-16T11:19:05.043Z"
   },
   {
    "duration": 654,
    "start_time": "2022-07-16T11:19:05.056Z"
   },
   {
    "duration": 206,
    "start_time": "2022-07-16T11:19:05.711Z"
   },
   {
    "duration": 286,
    "start_time": "2022-07-16T11:19:05.920Z"
   },
   {
    "duration": 196,
    "start_time": "2022-07-16T11:19:06.208Z"
   },
   {
    "duration": 352,
    "start_time": "2022-07-16T11:19:06.406Z"
   },
   {
    "duration": 160,
    "start_time": "2022-07-16T11:19:06.760Z"
   },
   {
    "duration": 6,
    "start_time": "2022-07-16T11:19:06.922Z"
   },
   {
    "duration": 166,
    "start_time": "2022-07-16T11:19:06.929Z"
   },
   {
    "duration": 9,
    "start_time": "2022-07-16T11:19:07.097Z"
   },
   {
    "duration": 420,
    "start_time": "2022-07-16T11:19:07.112Z"
   },
   {
    "duration": 12,
    "start_time": "2022-07-16T11:19:07.534Z"
   },
   {
    "duration": 34,
    "start_time": "2022-07-16T11:19:07.548Z"
   },
   {
    "duration": 48,
    "start_time": "2022-07-16T11:19:07.583Z"
   },
   {
    "duration": 403,
    "start_time": "2022-07-16T11:19:07.633Z"
   },
   {
    "duration": 321,
    "start_time": "2022-07-16T11:19:08.038Z"
   },
   {
    "duration": 540,
    "start_time": "2022-07-16T11:19:31.153Z"
   },
   {
    "duration": 361,
    "start_time": "2022-07-16T11:19:33.773Z"
   },
   {
    "duration": 1137,
    "start_time": "2022-07-16T11:19:49.267Z"
   },
   {
    "duration": 86,
    "start_time": "2022-07-16T11:19:50.407Z"
   },
   {
    "duration": 12,
    "start_time": "2022-07-16T11:19:50.494Z"
   },
   {
    "duration": 15,
    "start_time": "2022-07-16T11:19:50.508Z"
   },
   {
    "duration": 24,
    "start_time": "2022-07-16T11:19:50.526Z"
   },
   {
    "duration": 18,
    "start_time": "2022-07-16T11:19:50.551Z"
   },
   {
    "duration": 15,
    "start_time": "2022-07-16T11:19:50.570Z"
   },
   {
    "duration": 10,
    "start_time": "2022-07-16T11:19:50.587Z"
   },
   {
    "duration": 21,
    "start_time": "2022-07-16T11:19:50.599Z"
   },
   {
    "duration": 595,
    "start_time": "2022-07-16T11:19:50.622Z"
   },
   {
    "duration": 191,
    "start_time": "2022-07-16T11:19:51.220Z"
   },
   {
    "duration": 321,
    "start_time": "2022-07-16T11:19:51.413Z"
   },
   {
    "duration": 210,
    "start_time": "2022-07-16T11:19:51.736Z"
   },
   {
    "duration": 298,
    "start_time": "2022-07-16T11:19:51.949Z"
   },
   {
    "duration": 134,
    "start_time": "2022-07-16T11:19:52.249Z"
   },
   {
    "duration": 5,
    "start_time": "2022-07-16T11:19:52.384Z"
   },
   {
    "duration": 174,
    "start_time": "2022-07-16T11:19:52.390Z"
   },
   {
    "duration": 4,
    "start_time": "2022-07-16T11:19:52.566Z"
   },
   {
    "duration": 427,
    "start_time": "2022-07-16T11:19:52.572Z"
   },
   {
    "duration": 14,
    "start_time": "2022-07-16T11:19:53.003Z"
   },
   {
    "duration": 38,
    "start_time": "2022-07-16T11:19:53.019Z"
   },
   {
    "duration": 14,
    "start_time": "2022-07-16T11:19:53.058Z"
   },
   {
    "duration": 394,
    "start_time": "2022-07-16T11:19:53.073Z"
   },
   {
    "duration": 327,
    "start_time": "2022-07-16T11:19:53.470Z"
   },
   {
    "duration": 458,
    "start_time": "2022-07-16T11:22:37.470Z"
   },
   {
    "duration": 1244,
    "start_time": "2022-07-16T11:22:44.956Z"
   },
   {
    "duration": 94,
    "start_time": "2022-07-16T11:22:46.202Z"
   },
   {
    "duration": 24,
    "start_time": "2022-07-16T11:22:46.298Z"
   },
   {
    "duration": 18,
    "start_time": "2022-07-16T11:22:46.330Z"
   },
   {
    "duration": 21,
    "start_time": "2022-07-16T11:22:46.350Z"
   },
   {
    "duration": 22,
    "start_time": "2022-07-16T11:22:46.373Z"
   },
   {
    "duration": 35,
    "start_time": "2022-07-16T11:22:46.397Z"
   },
   {
    "duration": 17,
    "start_time": "2022-07-16T11:22:46.437Z"
   },
   {
    "duration": 21,
    "start_time": "2022-07-16T11:22:46.455Z"
   },
   {
    "duration": 917,
    "start_time": "2022-07-16T11:22:46.478Z"
   },
   {
    "duration": 233,
    "start_time": "2022-07-16T11:22:47.403Z"
   },
   {
    "duration": 304,
    "start_time": "2022-07-16T11:22:47.638Z"
   },
   {
    "duration": 225,
    "start_time": "2022-07-16T11:22:47.944Z"
   },
   {
    "duration": 363,
    "start_time": "2022-07-16T11:22:48.171Z"
   },
   {
    "duration": 159,
    "start_time": "2022-07-16T11:22:48.536Z"
   },
   {
    "duration": 5,
    "start_time": "2022-07-16T11:22:48.697Z"
   },
   {
    "duration": 226,
    "start_time": "2022-07-16T11:22:48.721Z"
   },
   {
    "duration": 5,
    "start_time": "2022-07-16T11:22:48.949Z"
   },
   {
    "duration": 478,
    "start_time": "2022-07-16T11:22:48.956Z"
   },
   {
    "duration": 10,
    "start_time": "2022-07-16T11:22:49.436Z"
   },
   {
    "duration": 31,
    "start_time": "2022-07-16T11:22:49.448Z"
   },
   {
    "duration": 39,
    "start_time": "2022-07-16T11:22:49.481Z"
   },
   {
    "duration": 366,
    "start_time": "2022-07-16T11:22:49.533Z"
   },
   {
    "duration": 358,
    "start_time": "2022-07-16T11:22:49.901Z"
   },
   {
    "duration": 1302,
    "start_time": "2022-07-16T11:23:19.550Z"
   },
   {
    "duration": 108,
    "start_time": "2022-07-16T11:23:20.854Z"
   },
   {
    "duration": 12,
    "start_time": "2022-07-16T11:23:20.964Z"
   },
   {
    "duration": 8,
    "start_time": "2022-07-16T11:23:20.978Z"
   },
   {
    "duration": 15,
    "start_time": "2022-07-16T11:23:20.988Z"
   },
   {
    "duration": 27,
    "start_time": "2022-07-16T11:23:21.021Z"
   },
   {
    "duration": 14,
    "start_time": "2022-07-16T11:23:21.050Z"
   },
   {
    "duration": 8,
    "start_time": "2022-07-16T11:23:21.066Z"
   },
   {
    "duration": 13,
    "start_time": "2022-07-16T11:23:21.076Z"
   },
   {
    "duration": 682,
    "start_time": "2022-07-16T11:23:21.090Z"
   },
   {
    "duration": 246,
    "start_time": "2022-07-16T11:23:21.774Z"
   },
   {
    "duration": 327,
    "start_time": "2022-07-16T11:23:22.022Z"
   },
   {
    "duration": 239,
    "start_time": "2022-07-16T11:23:22.351Z"
   },
   {
    "duration": 370,
    "start_time": "2022-07-16T11:23:22.594Z"
   },
   {
    "duration": 180,
    "start_time": "2022-07-16T11:23:22.966Z"
   },
   {
    "duration": 5,
    "start_time": "2022-07-16T11:23:23.148Z"
   },
   {
    "duration": 187,
    "start_time": "2022-07-16T11:23:23.154Z"
   },
   {
    "duration": 6,
    "start_time": "2022-07-16T11:23:23.343Z"
   },
   {
    "duration": 487,
    "start_time": "2022-07-16T11:23:23.350Z"
   },
   {
    "duration": 13,
    "start_time": "2022-07-16T11:23:23.839Z"
   },
   {
    "duration": 39,
    "start_time": "2022-07-16T11:23:23.853Z"
   },
   {
    "duration": 42,
    "start_time": "2022-07-16T11:23:23.894Z"
   },
   {
    "duration": 411,
    "start_time": "2022-07-16T11:23:23.938Z"
   },
   {
    "duration": 310,
    "start_time": "2022-07-16T11:23:24.351Z"
   },
   {
    "duration": 1311,
    "start_time": "2022-07-16T11:23:34.167Z"
   },
   {
    "duration": 105,
    "start_time": "2022-07-16T11:23:35.480Z"
   },
   {
    "duration": 12,
    "start_time": "2022-07-16T11:23:35.586Z"
   },
   {
    "duration": 9,
    "start_time": "2022-07-16T11:23:35.599Z"
   },
   {
    "duration": 41,
    "start_time": "2022-07-16T11:23:35.611Z"
   },
   {
    "duration": 16,
    "start_time": "2022-07-16T11:23:35.654Z"
   },
   {
    "duration": 11,
    "start_time": "2022-07-16T11:23:35.671Z"
   },
   {
    "duration": 10,
    "start_time": "2022-07-16T11:23:35.684Z"
   },
   {
    "duration": 16,
    "start_time": "2022-07-16T11:23:35.695Z"
   },
   {
    "duration": 694,
    "start_time": "2022-07-16T11:23:35.713Z"
   },
   {
    "duration": 267,
    "start_time": "2022-07-16T11:23:36.410Z"
   },
   {
    "duration": 386,
    "start_time": "2022-07-16T11:23:36.680Z"
   },
   {
    "duration": 230,
    "start_time": "2022-07-16T11:23:37.068Z"
   },
   {
    "duration": 353,
    "start_time": "2022-07-16T11:23:37.300Z"
   },
   {
    "duration": 177,
    "start_time": "2022-07-16T11:23:37.655Z"
   },
   {
    "duration": 6,
    "start_time": "2022-07-16T11:23:37.835Z"
   },
   {
    "duration": 153,
    "start_time": "2022-07-16T11:23:37.843Z"
   },
   {
    "duration": 39,
    "start_time": "2022-07-16T11:23:37.998Z"
   },
   {
    "duration": 432,
    "start_time": "2022-07-16T11:23:38.039Z"
   },
   {
    "duration": 11,
    "start_time": "2022-07-16T11:23:38.473Z"
   },
   {
    "duration": 64,
    "start_time": "2022-07-16T11:23:38.486Z"
   },
   {
    "duration": 14,
    "start_time": "2022-07-16T11:23:38.552Z"
   },
   {
    "duration": 456,
    "start_time": "2022-07-16T11:23:38.568Z"
   },
   {
    "duration": 319,
    "start_time": "2022-07-16T11:23:39.026Z"
   },
   {
    "duration": 1237,
    "start_time": "2022-07-16T11:24:12.685Z"
   },
   {
    "duration": 95,
    "start_time": "2022-07-16T11:24:13.930Z"
   },
   {
    "duration": 22,
    "start_time": "2022-07-16T11:24:14.028Z"
   },
   {
    "duration": 8,
    "start_time": "2022-07-16T11:24:14.054Z"
   },
   {
    "duration": 17,
    "start_time": "2022-07-16T11:24:14.064Z"
   },
   {
    "duration": 20,
    "start_time": "2022-07-16T11:24:14.083Z"
   },
   {
    "duration": 20,
    "start_time": "2022-07-16T11:24:14.106Z"
   },
   {
    "duration": 26,
    "start_time": "2022-07-16T11:24:14.127Z"
   },
   {
    "duration": 11,
    "start_time": "2022-07-16T11:24:14.155Z"
   },
   {
    "duration": 714,
    "start_time": "2022-07-16T11:24:14.170Z"
   },
   {
    "duration": 259,
    "start_time": "2022-07-16T11:24:14.886Z"
   },
   {
    "duration": 297,
    "start_time": "2022-07-16T11:24:15.147Z"
   },
   {
    "duration": 226,
    "start_time": "2022-07-16T11:24:15.446Z"
   },
   {
    "duration": 370,
    "start_time": "2022-07-16T11:24:15.674Z"
   },
   {
    "duration": 158,
    "start_time": "2022-07-16T11:24:16.046Z"
   },
   {
    "duration": 9,
    "start_time": "2022-07-16T11:24:16.206Z"
   },
   {
    "duration": 171,
    "start_time": "2022-07-16T11:24:16.217Z"
   },
   {
    "duration": 6,
    "start_time": "2022-07-16T11:24:16.390Z"
   },
   {
    "duration": 551,
    "start_time": "2022-07-16T11:24:16.398Z"
   },
   {
    "duration": 15,
    "start_time": "2022-07-16T11:24:16.951Z"
   },
   {
    "duration": 63,
    "start_time": "2022-07-16T11:24:16.967Z"
   },
   {
    "duration": 14,
    "start_time": "2022-07-16T11:24:17.031Z"
   },
   {
    "duration": 400,
    "start_time": "2022-07-16T11:24:17.047Z"
   },
   {
    "duration": 322,
    "start_time": "2022-07-16T11:24:17.449Z"
   },
   {
    "duration": 1236,
    "start_time": "2022-07-16T11:24:53.557Z"
   },
   {
    "duration": 104,
    "start_time": "2022-07-16T11:24:54.795Z"
   },
   {
    "duration": 37,
    "start_time": "2022-07-16T11:24:54.901Z"
   },
   {
    "duration": 4,
    "start_time": "2022-07-16T11:24:54.941Z"
   },
   {
    "duration": 26,
    "start_time": "2022-07-16T11:24:54.947Z"
   },
   {
    "duration": 25,
    "start_time": "2022-07-16T11:24:54.975Z"
   },
   {
    "duration": 27,
    "start_time": "2022-07-16T11:24:55.002Z"
   },
   {
    "duration": 22,
    "start_time": "2022-07-16T11:24:55.031Z"
   },
   {
    "duration": 23,
    "start_time": "2022-07-16T11:24:55.054Z"
   },
   {
    "duration": 691,
    "start_time": "2022-07-16T11:24:55.079Z"
   },
   {
    "duration": 226,
    "start_time": "2022-07-16T11:24:55.772Z"
   },
   {
    "duration": 344,
    "start_time": "2022-07-16T11:24:56.000Z"
   },
   {
    "duration": 244,
    "start_time": "2022-07-16T11:24:56.347Z"
   },
   {
    "duration": 395,
    "start_time": "2022-07-16T11:24:56.595Z"
   },
   {
    "duration": 149,
    "start_time": "2022-07-16T11:24:56.992Z"
   },
   {
    "duration": 7,
    "start_time": "2022-07-16T11:24:57.143Z"
   },
   {
    "duration": 166,
    "start_time": "2022-07-16T11:24:57.152Z"
   },
   {
    "duration": 12,
    "start_time": "2022-07-16T11:24:57.320Z"
   },
   {
    "duration": 468,
    "start_time": "2022-07-16T11:24:57.335Z"
   },
   {
    "duration": 20,
    "start_time": "2022-07-16T11:24:57.821Z"
   },
   {
    "duration": 36,
    "start_time": "2022-07-16T11:24:57.843Z"
   },
   {
    "duration": 13,
    "start_time": "2022-07-16T11:24:57.881Z"
   },
   {
    "duration": 355,
    "start_time": "2022-07-16T11:24:57.908Z"
   },
   {
    "duration": 402,
    "start_time": "2022-07-16T11:24:58.265Z"
   },
   {
    "duration": 604,
    "start_time": "2022-07-16T11:25:44.854Z"
   },
   {
    "duration": 1150,
    "start_time": "2022-07-16T11:25:50.069Z"
   },
   {
    "duration": 82,
    "start_time": "2022-07-16T11:25:51.221Z"
   },
   {
    "duration": 15,
    "start_time": "2022-07-16T11:25:51.305Z"
   },
   {
    "duration": 12,
    "start_time": "2022-07-16T11:25:51.322Z"
   },
   {
    "duration": 15,
    "start_time": "2022-07-16T11:25:51.337Z"
   },
   {
    "duration": 15,
    "start_time": "2022-07-16T11:25:51.354Z"
   },
   {
    "duration": 37,
    "start_time": "2022-07-16T11:25:51.371Z"
   },
   {
    "duration": 14,
    "start_time": "2022-07-16T11:25:51.411Z"
   },
   {
    "duration": 14,
    "start_time": "2022-07-16T11:25:51.428Z"
   },
   {
    "duration": 828,
    "start_time": "2022-07-16T11:25:51.443Z"
   },
   {
    "duration": 214,
    "start_time": "2022-07-16T11:25:52.273Z"
   },
   {
    "duration": 326,
    "start_time": "2022-07-16T11:25:52.489Z"
   },
   {
    "duration": 228,
    "start_time": "2022-07-16T11:25:52.817Z"
   },
   {
    "duration": 309,
    "start_time": "2022-07-16T11:25:53.049Z"
   },
   {
    "duration": 158,
    "start_time": "2022-07-16T11:25:53.361Z"
   },
   {
    "duration": 14,
    "start_time": "2022-07-16T11:25:53.521Z"
   },
   {
    "duration": 146,
    "start_time": "2022-07-16T11:25:53.537Z"
   },
   {
    "duration": 4,
    "start_time": "2022-07-16T11:25:53.685Z"
   },
   {
    "duration": 426,
    "start_time": "2022-07-16T11:25:53.691Z"
   },
   {
    "duration": 17,
    "start_time": "2022-07-16T11:25:54.120Z"
   },
   {
    "duration": 34,
    "start_time": "2022-07-16T11:25:54.139Z"
   },
   {
    "duration": 41,
    "start_time": "2022-07-16T11:25:54.175Z"
   },
   {
    "duration": 387,
    "start_time": "2022-07-16T11:25:54.219Z"
   },
   {
    "duration": 327,
    "start_time": "2022-07-16T11:25:54.607Z"
   },
   {
    "duration": 531,
    "start_time": "2022-07-16T11:26:43.344Z"
   },
   {
    "duration": 1191,
    "start_time": "2022-07-16T11:26:48.366Z"
   },
   {
    "duration": 81,
    "start_time": "2022-07-16T11:26:49.559Z"
   },
   {
    "duration": 18,
    "start_time": "2022-07-16T11:26:49.642Z"
   },
   {
    "duration": 4,
    "start_time": "2022-07-16T11:26:49.662Z"
   },
   {
    "duration": 21,
    "start_time": "2022-07-16T11:26:49.668Z"
   },
   {
    "duration": 16,
    "start_time": "2022-07-16T11:26:49.691Z"
   },
   {
    "duration": 27,
    "start_time": "2022-07-16T11:26:49.711Z"
   },
   {
    "duration": 11,
    "start_time": "2022-07-16T11:26:49.740Z"
   },
   {
    "duration": 11,
    "start_time": "2022-07-16T11:26:49.754Z"
   },
   {
    "duration": 773,
    "start_time": "2022-07-16T11:26:49.769Z"
   },
   {
    "duration": 226,
    "start_time": "2022-07-16T11:26:50.544Z"
   },
   {
    "duration": 366,
    "start_time": "2022-07-16T11:26:50.772Z"
   },
   {
    "duration": 235,
    "start_time": "2022-07-16T11:26:51.140Z"
   },
   {
    "duration": 358,
    "start_time": "2022-07-16T11:26:51.377Z"
   },
   {
    "duration": 153,
    "start_time": "2022-07-16T11:26:51.737Z"
   },
   {
    "duration": 18,
    "start_time": "2022-07-16T11:26:51.891Z"
   },
   {
    "duration": 180,
    "start_time": "2022-07-16T11:26:51.911Z"
   },
   {
    "duration": 15,
    "start_time": "2022-07-16T11:26:52.093Z"
   },
   {
    "duration": 468,
    "start_time": "2022-07-16T11:26:52.109Z"
   },
   {
    "duration": 10,
    "start_time": "2022-07-16T11:26:52.578Z"
   },
   {
    "duration": 54,
    "start_time": "2022-07-16T11:26:52.589Z"
   },
   {
    "duration": 13,
    "start_time": "2022-07-16T11:26:52.644Z"
   },
   {
    "duration": 382,
    "start_time": "2022-07-16T11:26:52.659Z"
   },
   {
    "duration": 309,
    "start_time": "2022-07-16T11:26:53.043Z"
   },
   {
    "duration": 1237,
    "start_time": "2022-07-16T11:27:26.614Z"
   },
   {
    "duration": 86,
    "start_time": "2022-07-16T11:27:27.853Z"
   },
   {
    "duration": 12,
    "start_time": "2022-07-16T11:27:27.941Z"
   },
   {
    "duration": 8,
    "start_time": "2022-07-16T11:27:27.955Z"
   },
   {
    "duration": 16,
    "start_time": "2022-07-16T11:27:27.966Z"
   },
   {
    "duration": 14,
    "start_time": "2022-07-16T11:27:27.984Z"
   },
   {
    "duration": 16,
    "start_time": "2022-07-16T11:27:28.000Z"
   },
   {
    "duration": 12,
    "start_time": "2022-07-16T11:27:28.019Z"
   },
   {
    "duration": 14,
    "start_time": "2022-07-16T11:27:28.033Z"
   },
   {
    "duration": 780,
    "start_time": "2022-07-16T11:27:28.049Z"
   },
   {
    "duration": 231,
    "start_time": "2022-07-16T11:27:28.831Z"
   },
   {
    "duration": 378,
    "start_time": "2022-07-16T11:27:29.064Z"
   },
   {
    "duration": 211,
    "start_time": "2022-07-16T11:27:29.444Z"
   },
   {
    "duration": 366,
    "start_time": "2022-07-16T11:27:29.658Z"
   },
   {
    "duration": 187,
    "start_time": "2022-07-16T11:27:30.027Z"
   },
   {
    "duration": 17,
    "start_time": "2022-07-16T11:27:30.218Z"
   },
   {
    "duration": 187,
    "start_time": "2022-07-16T11:27:30.238Z"
   },
   {
    "duration": 6,
    "start_time": "2022-07-16T11:27:30.427Z"
   },
   {
    "duration": 489,
    "start_time": "2022-07-16T11:27:30.435Z"
   },
   {
    "duration": 15,
    "start_time": "2022-07-16T11:27:30.926Z"
   },
   {
    "duration": 55,
    "start_time": "2022-07-16T11:27:30.943Z"
   },
   {
    "duration": 41,
    "start_time": "2022-07-16T11:27:30.999Z"
   },
   {
    "duration": 549,
    "start_time": "2022-07-16T11:27:31.043Z"
   },
   {
    "duration": 350,
    "start_time": "2022-07-16T11:27:31.594Z"
   },
   {
    "duration": 1211,
    "start_time": "2022-07-16T11:29:38.004Z"
   },
   {
    "duration": 83,
    "start_time": "2022-07-16T11:29:39.219Z"
   },
   {
    "duration": 21,
    "start_time": "2022-07-16T11:29:39.304Z"
   },
   {
    "duration": 4,
    "start_time": "2022-07-16T11:29:39.327Z"
   },
   {
    "duration": 15,
    "start_time": "2022-07-16T11:29:39.333Z"
   },
   {
    "duration": 20,
    "start_time": "2022-07-16T11:29:39.350Z"
   },
   {
    "duration": 39,
    "start_time": "2022-07-16T11:29:39.371Z"
   },
   {
    "duration": 13,
    "start_time": "2022-07-16T11:29:39.412Z"
   },
   {
    "duration": 20,
    "start_time": "2022-07-16T11:29:39.426Z"
   },
   {
    "duration": 819,
    "start_time": "2022-07-16T11:29:39.447Z"
   },
   {
    "duration": 322,
    "start_time": "2022-07-16T11:29:40.268Z"
   },
   {
    "duration": 346,
    "start_time": "2022-07-16T11:29:40.591Z"
   },
   {
    "duration": 225,
    "start_time": "2022-07-16T11:29:40.939Z"
   },
   {
    "duration": 373,
    "start_time": "2022-07-16T11:29:41.166Z"
   },
   {
    "duration": 141,
    "start_time": "2022-07-16T11:29:41.540Z"
   },
   {
    "duration": 5,
    "start_time": "2022-07-16T11:29:41.682Z"
   },
   {
    "duration": 169,
    "start_time": "2022-07-16T11:29:41.689Z"
   },
   {
    "duration": 5,
    "start_time": "2022-07-16T11:29:41.860Z"
   },
   {
    "duration": 430,
    "start_time": "2022-07-16T11:29:41.866Z"
   },
   {
    "duration": 16,
    "start_time": "2022-07-16T11:29:42.298Z"
   },
   {
    "duration": 36,
    "start_time": "2022-07-16T11:29:42.316Z"
   },
   {
    "duration": 15,
    "start_time": "2022-07-16T11:29:42.353Z"
   },
   {
    "duration": 440,
    "start_time": "2022-07-16T11:29:42.369Z"
   },
   {
    "duration": 343,
    "start_time": "2022-07-16T11:29:42.811Z"
   },
   {
    "duration": 377,
    "start_time": "2022-07-16T11:31:02.711Z"
   },
   {
    "duration": 1168,
    "start_time": "2022-07-16T11:36:30.214Z"
   },
   {
    "duration": 82,
    "start_time": "2022-07-16T11:36:31.385Z"
   },
   {
    "duration": 13,
    "start_time": "2022-07-16T11:36:31.468Z"
   },
   {
    "duration": 3,
    "start_time": "2022-07-16T11:36:31.483Z"
   },
   {
    "duration": 17,
    "start_time": "2022-07-16T11:36:31.488Z"
   },
   {
    "duration": 16,
    "start_time": "2022-07-16T11:36:31.506Z"
   },
   {
    "duration": 12,
    "start_time": "2022-07-16T11:36:31.524Z"
   },
   {
    "duration": 11,
    "start_time": "2022-07-16T11:36:31.537Z"
   },
   {
    "duration": 16,
    "start_time": "2022-07-16T11:36:31.549Z"
   },
   {
    "duration": 707,
    "start_time": "2022-07-16T11:36:31.567Z"
   },
   {
    "duration": 287,
    "start_time": "2022-07-16T11:36:32.276Z"
   },
   {
    "duration": 408,
    "start_time": "2022-07-16T11:36:32.565Z"
   },
   {
    "duration": 278,
    "start_time": "2022-07-16T11:36:32.975Z"
   },
   {
    "duration": 358,
    "start_time": "2022-07-16T11:36:33.256Z"
   },
   {
    "duration": 145,
    "start_time": "2022-07-16T11:36:33.616Z"
   },
   {
    "duration": 6,
    "start_time": "2022-07-16T11:36:33.763Z"
   },
   {
    "duration": 165,
    "start_time": "2022-07-16T11:36:33.770Z"
   },
   {
    "duration": 5,
    "start_time": "2022-07-16T11:36:33.937Z"
   },
   {
    "duration": 418,
    "start_time": "2022-07-16T11:36:33.944Z"
   },
   {
    "duration": 10,
    "start_time": "2022-07-16T11:36:34.364Z"
   },
   {
    "duration": 50,
    "start_time": "2022-07-16T11:36:34.376Z"
   },
   {
    "duration": 16,
    "start_time": "2022-07-16T11:36:34.428Z"
   },
   {
    "duration": 427,
    "start_time": "2022-07-16T11:36:34.446Z"
   },
   {
    "duration": 345,
    "start_time": "2022-07-16T11:36:34.875Z"
   },
   {
    "duration": 1187,
    "start_time": "2022-07-16T11:37:46.668Z"
   },
   {
    "duration": 80,
    "start_time": "2022-07-16T11:37:47.858Z"
   },
   {
    "duration": 12,
    "start_time": "2022-07-16T11:37:47.940Z"
   },
   {
    "duration": 3,
    "start_time": "2022-07-16T11:37:47.954Z"
   },
   {
    "duration": 21,
    "start_time": "2022-07-16T11:37:47.959Z"
   },
   {
    "duration": 16,
    "start_time": "2022-07-16T11:37:47.982Z"
   },
   {
    "duration": 11,
    "start_time": "2022-07-16T11:37:48.000Z"
   },
   {
    "duration": 10,
    "start_time": "2022-07-16T11:37:48.013Z"
   },
   {
    "duration": 9,
    "start_time": "2022-07-16T11:37:48.026Z"
   },
   {
    "duration": 676,
    "start_time": "2022-07-16T11:37:48.037Z"
   },
   {
    "duration": 300,
    "start_time": "2022-07-16T11:37:48.715Z"
   },
   {
    "duration": 398,
    "start_time": "2022-07-16T11:37:49.017Z"
   },
   {
    "duration": 287,
    "start_time": "2022-07-16T11:37:49.417Z"
   },
   {
    "duration": 398,
    "start_time": "2022-07-16T11:37:49.706Z"
   },
   {
    "duration": 170,
    "start_time": "2022-07-16T11:37:50.105Z"
   },
   {
    "duration": 6,
    "start_time": "2022-07-16T11:37:50.276Z"
   },
   {
    "duration": 159,
    "start_time": "2022-07-16T11:37:50.283Z"
   },
   {
    "duration": 5,
    "start_time": "2022-07-16T11:37:50.444Z"
   },
   {
    "duration": 400,
    "start_time": "2022-07-16T11:37:50.451Z"
   },
   {
    "duration": 12,
    "start_time": "2022-07-16T11:37:50.852Z"
   },
   {
    "duration": 58,
    "start_time": "2022-07-16T11:37:50.866Z"
   },
   {
    "duration": 15,
    "start_time": "2022-07-16T11:37:50.925Z"
   },
   {
    "duration": 362,
    "start_time": "2022-07-16T11:37:50.942Z"
   },
   {
    "duration": 348,
    "start_time": "2022-07-16T11:37:51.306Z"
   },
   {
    "duration": 200,
    "start_time": "2022-07-16T11:40:32.373Z"
   },
   {
    "duration": 220,
    "start_time": "2022-07-16T11:42:06.976Z"
   },
   {
    "duration": 223,
    "start_time": "2022-07-16T11:43:43.670Z"
   },
   {
    "duration": 228,
    "start_time": "2022-07-16T11:43:47.990Z"
   },
   {
    "duration": 204,
    "start_time": "2022-07-16T11:43:59.590Z"
   },
   {
    "duration": 102,
    "start_time": "2022-07-16T11:45:01.939Z"
   },
   {
    "duration": 14,
    "start_time": "2022-07-16T11:45:07.932Z"
   },
   {
    "duration": 276,
    "start_time": "2022-07-16T11:45:30.031Z"
   },
   {
    "duration": 217,
    "start_time": "2022-07-16T11:45:43.589Z"
   },
   {
    "duration": 222,
    "start_time": "2022-07-16T11:46:24.259Z"
   },
   {
    "duration": 205,
    "start_time": "2022-07-16T11:46:43.614Z"
   },
   {
    "duration": 221,
    "start_time": "2022-07-16T11:46:52.036Z"
   },
   {
    "duration": 81,
    "start_time": "2022-07-16T11:47:21.132Z"
   },
   {
    "duration": 83,
    "start_time": "2022-07-16T11:47:26.253Z"
   },
   {
    "duration": 76,
    "start_time": "2022-07-16T11:47:29.472Z"
   },
   {
    "duration": 80,
    "start_time": "2022-07-16T11:47:33.670Z"
   },
   {
    "duration": 1205,
    "start_time": "2022-07-16T11:47:40.487Z"
   },
   {
    "duration": 83,
    "start_time": "2022-07-16T11:47:41.694Z"
   },
   {
    "duration": 12,
    "start_time": "2022-07-16T11:47:41.779Z"
   },
   {
    "duration": 5,
    "start_time": "2022-07-16T11:47:41.792Z"
   },
   {
    "duration": 15,
    "start_time": "2022-07-16T11:47:41.800Z"
   },
   {
    "duration": 20,
    "start_time": "2022-07-16T11:47:41.817Z"
   },
   {
    "duration": 12,
    "start_time": "2022-07-16T11:47:41.839Z"
   },
   {
    "duration": 19,
    "start_time": "2022-07-16T11:47:41.852Z"
   },
   {
    "duration": 10,
    "start_time": "2022-07-16T11:47:41.873Z"
   },
   {
    "duration": 676,
    "start_time": "2022-07-16T11:47:41.885Z"
   },
   {
    "duration": 277,
    "start_time": "2022-07-16T11:47:42.562Z"
   },
   {
    "duration": 353,
    "start_time": "2022-07-16T11:47:42.841Z"
   },
   {
    "duration": 281,
    "start_time": "2022-07-16T11:47:43.196Z"
   },
   {
    "duration": 419,
    "start_time": "2022-07-16T11:47:43.480Z"
   },
   {
    "duration": 218,
    "start_time": "2022-07-16T11:47:43.904Z"
   },
   {
    "duration": 6,
    "start_time": "2022-07-16T11:47:44.124Z"
   },
   {
    "duration": 225,
    "start_time": "2022-07-16T11:47:44.132Z"
   },
   {
    "duration": 76,
    "start_time": "2022-07-16T11:47:44.359Z"
   },
   {
    "duration": 0,
    "start_time": "2022-07-16T11:47:44.437Z"
   },
   {
    "duration": 0,
    "start_time": "2022-07-16T11:47:44.438Z"
   },
   {
    "duration": 0,
    "start_time": "2022-07-16T11:47:44.439Z"
   },
   {
    "duration": 0,
    "start_time": "2022-07-16T11:47:44.440Z"
   },
   {
    "duration": 0,
    "start_time": "2022-07-16T11:47:44.441Z"
   },
   {
    "duration": 0,
    "start_time": "2022-07-16T11:47:44.443Z"
   },
   {
    "duration": 0,
    "start_time": "2022-07-16T11:47:44.444Z"
   },
   {
    "duration": 104,
    "start_time": "2022-07-16T11:47:54.047Z"
   },
   {
    "duration": 82,
    "start_time": "2022-07-16T11:47:56.882Z"
   },
   {
    "duration": 413,
    "start_time": "2022-07-16T11:48:55.029Z"
   },
   {
    "duration": 319,
    "start_time": "2022-07-16T11:49:02.219Z"
   },
   {
    "duration": 373,
    "start_time": "2022-07-16T11:49:16.552Z"
   },
   {
    "duration": 222,
    "start_time": "2022-07-16T11:49:25.368Z"
   },
   {
    "duration": 208,
    "start_time": "2022-07-16T11:49:39.429Z"
   },
   {
    "duration": 206,
    "start_time": "2022-07-16T11:49:47.031Z"
   },
   {
    "duration": 217,
    "start_time": "2022-07-16T11:49:52.772Z"
   },
   {
    "duration": 221,
    "start_time": "2022-07-16T11:50:02.952Z"
   },
   {
    "duration": 226,
    "start_time": "2022-07-16T11:50:09.012Z"
   },
   {
    "duration": 227,
    "start_time": "2022-07-16T11:50:21.377Z"
   },
   {
    "duration": 220,
    "start_time": "2022-07-16T11:50:40.815Z"
   },
   {
    "duration": 544,
    "start_time": "2022-07-16T11:51:39.843Z"
   },
   {
    "duration": 416,
    "start_time": "2022-07-16T11:52:24.420Z"
   },
   {
    "duration": 394,
    "start_time": "2022-07-16T11:52:32.325Z"
   },
   {
    "duration": 417,
    "start_time": "2022-07-16T11:52:41.000Z"
   },
   {
    "duration": 385,
    "start_time": "2022-07-16T11:52:48.655Z"
   },
   {
    "duration": 410,
    "start_time": "2022-07-16T11:53:07.790Z"
   },
   {
    "duration": 390,
    "start_time": "2022-07-16T11:53:13.157Z"
   },
   {
    "duration": 11,
    "start_time": "2022-07-16T11:59:08.751Z"
   },
   {
    "duration": 11,
    "start_time": "2022-07-16T11:59:32.290Z"
   },
   {
    "duration": 31,
    "start_time": "2022-07-16T12:01:22.098Z"
   },
   {
    "duration": 14,
    "start_time": "2022-07-16T12:02:50.696Z"
   },
   {
    "duration": 15,
    "start_time": "2022-07-16T12:03:27.489Z"
   },
   {
    "duration": 75,
    "start_time": "2022-07-16T12:05:44.093Z"
   },
   {
    "duration": 84,
    "start_time": "2022-07-16T12:07:38.478Z"
   },
   {
    "duration": 1115,
    "start_time": "2022-07-17T06:02:28.648Z"
   },
   {
    "duration": 175,
    "start_time": "2022-07-17T06:02:29.764Z"
   },
   {
    "duration": 14,
    "start_time": "2022-07-17T06:02:29.940Z"
   },
   {
    "duration": 5,
    "start_time": "2022-07-17T06:02:29.956Z"
   },
   {
    "duration": 20,
    "start_time": "2022-07-17T06:02:29.962Z"
   },
   {
    "duration": 18,
    "start_time": "2022-07-17T06:02:29.984Z"
   },
   {
    "duration": 10,
    "start_time": "2022-07-17T06:02:30.004Z"
   },
   {
    "duration": 15,
    "start_time": "2022-07-17T06:02:30.016Z"
   },
   {
    "duration": 14,
    "start_time": "2022-07-17T06:02:30.033Z"
   },
   {
    "duration": 585,
    "start_time": "2022-07-17T06:02:30.050Z"
   },
   {
    "duration": 250,
    "start_time": "2022-07-17T06:02:30.637Z"
   },
   {
    "duration": 382,
    "start_time": "2022-07-17T06:02:30.889Z"
   },
   {
    "duration": 247,
    "start_time": "2022-07-17T06:02:31.273Z"
   },
   {
    "duration": 381,
    "start_time": "2022-07-17T06:02:31.522Z"
   },
   {
    "duration": 189,
    "start_time": "2022-07-17T06:02:31.905Z"
   },
   {
    "duration": 6,
    "start_time": "2022-07-17T06:02:32.096Z"
   },
   {
    "duration": 194,
    "start_time": "2022-07-17T06:02:32.103Z"
   },
   {
    "duration": 219,
    "start_time": "2022-07-17T06:02:32.298Z"
   },
   {
    "duration": 7,
    "start_time": "2022-07-17T06:02:32.519Z"
   },
   {
    "duration": 427,
    "start_time": "2022-07-17T06:02:32.528Z"
   },
   {
    "duration": 9,
    "start_time": "2022-07-17T06:02:32.957Z"
   },
   {
    "duration": 30,
    "start_time": "2022-07-17T06:02:32.968Z"
   },
   {
    "duration": 32,
    "start_time": "2022-07-17T06:02:33.000Z"
   },
   {
    "duration": 266,
    "start_time": "2022-07-17T06:02:33.034Z"
   },
   {
    "duration": 295,
    "start_time": "2022-07-17T06:02:33.301Z"
   },
   {
    "duration": 75,
    "start_time": "2022-07-17T06:07:14.672Z"
   }
  ],
  "kernelspec": {
   "display_name": "Python 3 (ipykernel)",
   "language": "python",
   "name": "python3"
  },
  "language_info": {
   "codemirror_mode": {
    "name": "ipython",
    "version": 3
   },
   "file_extension": ".py",
   "mimetype": "text/x-python",
   "name": "python",
   "nbconvert_exporter": "python",
   "pygments_lexer": "ipython3",
   "version": "3.9.7"
  },
  "toc": {
   "base_numbering": 1,
   "nav_menu": {},
   "number_sections": true,
   "sideBar": true,
   "skip_h1_title": true,
   "title_cell": "Table of Contents",
   "title_sidebar": "Contents",
   "toc_cell": false,
   "toc_position": {},
   "toc_section_display": true,
   "toc_window_display": false
  }
 },
 "nbformat": 4,
 "nbformat_minor": 5
}
