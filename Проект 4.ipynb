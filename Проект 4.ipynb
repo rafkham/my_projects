{
 "cells": [
  {
   "cell_type": "markdown",
   "id": "6cbcf6d7",
   "metadata": {},
   "source": [
    "Рафик, привет! Меня зовут Ефимов Денис и сегодня я буду делать ревью твоего проекта!\\\n",
    "В Практикуме принято общаться на \"ты\", однако если это неудобно - дай знать, и можем перейти на более официальное общение.\n",
    "\n",
    "Ниже ты найдешь мои комментарии - пожалуйста, не перемещай, не изменяй и не удаляй их. Я буду использовать цветовую разметку: \n",
    "\n",
    "<div class=\"alert alert-block alert-success\">\n",
    "<b>✅Комментарий ревьюера:</b> Если все сделано хорошо. </div>\n",
    "\n",
    "<div class=\"alert alert-block alert-warning\">\n",
    "<b>🔁Комментарий ревьюера:</b> Некритичное замечание; если таких замечаний меньше трех — проект может быть принят без их отработки.</div>\n",
    "\n",
    "<div class=\"alert alert-block alert-danger\">\n",
    "<b>❌Комментарий ревьюера:</b> Грубая ошибка, необходимо исправить, иначе проект не будет принят.\n",
    "</div>\n",
    "\n",
    "Давай работать над проектом в диалоге: если ты что-то меняешь в проекте или отвечаешь на мои комментарии — пиши об этом. Мне будет легче отследить изменения, если ты выделишь свои комментарии:\n",
    "Например так:\n",
    "<div class=\"alert alert-block alert-info\">\n",
    "<b>🔄Комментарий студента:</b> \n",
    "Hello World! ✔\n",
    "</div>\n",
    "\n",
    "Или можешь использовать эту галочку ✔ в моих комментариях, если писать особо нечего.\n",
    "\n",
    "<div class=\"alert alert-block alert-warning\">\n",
    "<b>Общее впечатление:</b> \n",
    "    \n",
    "- Ты проделал огромную работу и проект получился достаточно хорошим:)\n",
    "- У меня есть несколько замечаний, которые нужно исправить.\n",
    "- Пробегись по моим комментариям, исправь недочёты и всё будет отлично :)\n",
    "    \n",
    "</div>\n",
    "\n"
   ]
  },
  {
   "cell_type": "markdown",
   "id": "d30c747f",
   "metadata": {},
   "source": [
    "<div class=\"alert alert-block alert-success\">\n",
    "<b>Рафик, спасибо за доработки, проект принят, молодец!</b>\n",
    "    \n",
    "Ты отлично справился с заданием в принципе с первого раза! Просто нужно быть немного внимательнее к деталям)) Успехов в дальнейшем обучении!🙂\n",
    "    "
   ]
  },
  {
   "cell_type": "markdown",
   "id": "7a35b3ab",
   "metadata": {},
   "source": [
    "# Определение перспективного тарифа для телеком-компании"
   ]
  },
  {
   "cell_type": "markdown",
   "id": "9c685c9c",
   "metadata": {},
   "source": [
    "В компании «Мегалайн» клиентам предлагают два тарифных плана: «Смарт» и «Ультра». Нам нужно понять, какой тариф приносит больше денег, чтобы скорректировать рекламный бюджет.\n",
    "\n",
    "Мы сделаем предварительный анализ тарифов на небольшой выборке клиентов. В нашем распоряжении данные 500 пользователей «Мегалайна». Мы проанализируем поведение клиентов и сделем вывод — какой тариф лучше."
   ]
  },
  {
   "cell_type": "markdown",
   "id": "2d53129d",
   "metadata": {},
   "source": [
    "**Цель исследования** - проверить две гипотезы:\n",
    "1. средняя выручка пользователей тарифов «Ультра» и «Смарт» различаются;\n",
    "2. средняя выручка пользователей из Москвы отличается от выручки пользователей из других регионов."
   ]
  },
  {
   "cell_type": "markdown",
   "id": "43440e37",
   "metadata": {},
   "source": [
    "**Ход исследования**\n",
    "\n",
    "Данные о поведении пользователей мы получим из файлов: calls.csv, internet.csv, messages.csv, tariffs.csv, users.csv.\n",
    "\n",
    "Наше исследование пройдёт в четыре этапа:\n",
    "1. Обзор данных\n",
    "2. Подготовка данных\n",
    "3. Анализ данных\n",
    "4. Проверка гипотиз\n",
    "5. Написание общего вывода"
   ]
  },
  {
   "cell_type": "markdown",
   "id": "a6bd65df",
   "metadata": {},
   "source": [
    "## 1 Обзор данных"
   ]
  },
  {
   "cell_type": "markdown",
   "id": "3a71e22b",
   "metadata": {},
   "source": [
    "Изучим исходные датафреймы. Посмотрим информацию и выведем датафреймы на экран."
   ]
  },
  {
   "cell_type": "code",
   "execution_count": 1,
   "id": "f0e7c415",
   "metadata": {},
   "outputs": [],
   "source": [
    "import pandas as pd\n",
    "import numpy as np\n",
    "try: \n",
    "    df_users = pd.read_csv('Downloads/users.csv')\n",
    "    df_calls = pd.read_csv('Downloads/calls.csv')\n",
    "    df_internet = pd.read_csv('Downloads/internet.csv')\n",
    "    df_messages = pd.read_csv('Downloads/messages.csv')\n",
    "    df_tariffs = pd.read_csv('Downloads/tariffs.csv')\n",
    "except:\n",
    "    df_users = pd.read_csv('/datasets/users.csv')\n",
    "    df_calls = pd.read_csv('/datasets/calls.csv')\n",
    "    df_internet = pd.read_csv('/datasets/internet.csv')\n",
    "    df_messages = pd.read_csv('/datasets/messages.csv')\n",
    "    df_tariffs = pd.read_csv('/datasets/tariffs.csv')"
   ]
  },
  {
   "cell_type": "markdown",
   "id": "b2a9f04d",
   "metadata": {},
   "source": [
    "<div class=\"alert alert-block alert-success\">\n",
    "<b>✅Комментарий ревьюера:</b> Здорово, что используешь конструкцию try-except!  </div>"
   ]
  },
  {
   "cell_type": "code",
   "execution_count": 2,
   "id": "fd8ae8ee",
   "metadata": {},
   "outputs": [
    {
     "data": {
      "text/html": [
       "<div>\n",
       "<style scoped>\n",
       "    .dataframe tbody tr th:only-of-type {\n",
       "        vertical-align: middle;\n",
       "    }\n",
       "\n",
       "    .dataframe tbody tr th {\n",
       "        vertical-align: top;\n",
       "    }\n",
       "\n",
       "    .dataframe thead th {\n",
       "        text-align: right;\n",
       "    }\n",
       "</style>\n",
       "<table border=\"1\" class=\"dataframe\">\n",
       "  <thead>\n",
       "    <tr style=\"text-align: right;\">\n",
       "      <th></th>\n",
       "      <th>user_id</th>\n",
       "      <th>age</th>\n",
       "      <th>churn_date</th>\n",
       "      <th>city</th>\n",
       "      <th>first_name</th>\n",
       "      <th>last_name</th>\n",
       "      <th>reg_date</th>\n",
       "      <th>tariff</th>\n",
       "    </tr>\n",
       "  </thead>\n",
       "  <tbody>\n",
       "    <tr>\n",
       "      <th>0</th>\n",
       "      <td>1000</td>\n",
       "      <td>52</td>\n",
       "      <td>NaN</td>\n",
       "      <td>Краснодар</td>\n",
       "      <td>Рафаил</td>\n",
       "      <td>Верещагин</td>\n",
       "      <td>2018-05-25</td>\n",
       "      <td>ultra</td>\n",
       "    </tr>\n",
       "    <tr>\n",
       "      <th>1</th>\n",
       "      <td>1001</td>\n",
       "      <td>41</td>\n",
       "      <td>NaN</td>\n",
       "      <td>Москва</td>\n",
       "      <td>Иван</td>\n",
       "      <td>Ежов</td>\n",
       "      <td>2018-11-01</td>\n",
       "      <td>smart</td>\n",
       "    </tr>\n",
       "    <tr>\n",
       "      <th>2</th>\n",
       "      <td>1002</td>\n",
       "      <td>59</td>\n",
       "      <td>NaN</td>\n",
       "      <td>Стерлитамак</td>\n",
       "      <td>Евгений</td>\n",
       "      <td>Абрамович</td>\n",
       "      <td>2018-06-17</td>\n",
       "      <td>smart</td>\n",
       "    </tr>\n",
       "    <tr>\n",
       "      <th>3</th>\n",
       "      <td>1003</td>\n",
       "      <td>23</td>\n",
       "      <td>NaN</td>\n",
       "      <td>Москва</td>\n",
       "      <td>Белла</td>\n",
       "      <td>Белякова</td>\n",
       "      <td>2018-08-17</td>\n",
       "      <td>ultra</td>\n",
       "    </tr>\n",
       "    <tr>\n",
       "      <th>4</th>\n",
       "      <td>1004</td>\n",
       "      <td>68</td>\n",
       "      <td>NaN</td>\n",
       "      <td>Новокузнецк</td>\n",
       "      <td>Татьяна</td>\n",
       "      <td>Авдеенко</td>\n",
       "      <td>2018-05-14</td>\n",
       "      <td>ultra</td>\n",
       "    </tr>\n",
       "    <tr>\n",
       "      <th>...</th>\n",
       "      <td>...</td>\n",
       "      <td>...</td>\n",
       "      <td>...</td>\n",
       "      <td>...</td>\n",
       "      <td>...</td>\n",
       "      <td>...</td>\n",
       "      <td>...</td>\n",
       "      <td>...</td>\n",
       "    </tr>\n",
       "    <tr>\n",
       "      <th>495</th>\n",
       "      <td>1495</td>\n",
       "      <td>65</td>\n",
       "      <td>NaN</td>\n",
       "      <td>Иркутск</td>\n",
       "      <td>Авксентий</td>\n",
       "      <td>Фокин</td>\n",
       "      <td>2018-08-28</td>\n",
       "      <td>ultra</td>\n",
       "    </tr>\n",
       "    <tr>\n",
       "      <th>496</th>\n",
       "      <td>1496</td>\n",
       "      <td>36</td>\n",
       "      <td>NaN</td>\n",
       "      <td>Вологда</td>\n",
       "      <td>Трифон</td>\n",
       "      <td>Блохин</td>\n",
       "      <td>2018-01-27</td>\n",
       "      <td>smart</td>\n",
       "    </tr>\n",
       "    <tr>\n",
       "      <th>497</th>\n",
       "      <td>1497</td>\n",
       "      <td>32</td>\n",
       "      <td>NaN</td>\n",
       "      <td>Челябинск</td>\n",
       "      <td>Каролина</td>\n",
       "      <td>Агеева</td>\n",
       "      <td>2018-10-09</td>\n",
       "      <td>smart</td>\n",
       "    </tr>\n",
       "    <tr>\n",
       "      <th>498</th>\n",
       "      <td>1498</td>\n",
       "      <td>68</td>\n",
       "      <td>2018-10-25</td>\n",
       "      <td>Владикавказ</td>\n",
       "      <td>Всеволод</td>\n",
       "      <td>Акимчин</td>\n",
       "      <td>2018-07-19</td>\n",
       "      <td>smart</td>\n",
       "    </tr>\n",
       "    <tr>\n",
       "      <th>499</th>\n",
       "      <td>1499</td>\n",
       "      <td>35</td>\n",
       "      <td>NaN</td>\n",
       "      <td>Пермь</td>\n",
       "      <td>Гектор</td>\n",
       "      <td>Корнилов</td>\n",
       "      <td>2018-09-27</td>\n",
       "      <td>smart</td>\n",
       "    </tr>\n",
       "  </tbody>\n",
       "</table>\n",
       "<p>500 rows × 8 columns</p>\n",
       "</div>"
      ],
      "text/plain": [
       "     user_id  age  churn_date         city first_name  last_name    reg_date  \\\n",
       "0       1000   52         NaN    Краснодар     Рафаил  Верещагин  2018-05-25   \n",
       "1       1001   41         NaN       Москва       Иван       Ежов  2018-11-01   \n",
       "2       1002   59         NaN  Стерлитамак    Евгений  Абрамович  2018-06-17   \n",
       "3       1003   23         NaN       Москва      Белла   Белякова  2018-08-17   \n",
       "4       1004   68         NaN  Новокузнецк    Татьяна   Авдеенко  2018-05-14   \n",
       "..       ...  ...         ...          ...        ...        ...         ...   \n",
       "495     1495   65         NaN      Иркутск  Авксентий      Фокин  2018-08-28   \n",
       "496     1496   36         NaN      Вологда     Трифон     Блохин  2018-01-27   \n",
       "497     1497   32         NaN    Челябинск   Каролина     Агеева  2018-10-09   \n",
       "498     1498   68  2018-10-25  Владикавказ   Всеволод    Акимчин  2018-07-19   \n",
       "499     1499   35         NaN        Пермь     Гектор   Корнилов  2018-09-27   \n",
       "\n",
       "    tariff  \n",
       "0    ultra  \n",
       "1    smart  \n",
       "2    smart  \n",
       "3    ultra  \n",
       "4    ultra  \n",
       "..     ...  \n",
       "495  ultra  \n",
       "496  smart  \n",
       "497  smart  \n",
       "498  smart  \n",
       "499  smart  \n",
       "\n",
       "[500 rows x 8 columns]"
      ]
     },
     "metadata": {},
     "output_type": "display_data"
    },
    {
     "data": {
      "text/html": [
       "<div>\n",
       "<style scoped>\n",
       "    .dataframe tbody tr th:only-of-type {\n",
       "        vertical-align: middle;\n",
       "    }\n",
       "\n",
       "    .dataframe tbody tr th {\n",
       "        vertical-align: top;\n",
       "    }\n",
       "\n",
       "    .dataframe thead th {\n",
       "        text-align: right;\n",
       "    }\n",
       "</style>\n",
       "<table border=\"1\" class=\"dataframe\">\n",
       "  <thead>\n",
       "    <tr style=\"text-align: right;\">\n",
       "      <th></th>\n",
       "      <th>id</th>\n",
       "      <th>call_date</th>\n",
       "      <th>duration</th>\n",
       "      <th>user_id</th>\n",
       "    </tr>\n",
       "  </thead>\n",
       "  <tbody>\n",
       "    <tr>\n",
       "      <th>0</th>\n",
       "      <td>1000_0</td>\n",
       "      <td>2018-07-25</td>\n",
       "      <td>0.00</td>\n",
       "      <td>1000</td>\n",
       "    </tr>\n",
       "    <tr>\n",
       "      <th>1</th>\n",
       "      <td>1000_1</td>\n",
       "      <td>2018-08-17</td>\n",
       "      <td>0.00</td>\n",
       "      <td>1000</td>\n",
       "    </tr>\n",
       "    <tr>\n",
       "      <th>2</th>\n",
       "      <td>1000_2</td>\n",
       "      <td>2018-06-11</td>\n",
       "      <td>2.85</td>\n",
       "      <td>1000</td>\n",
       "    </tr>\n",
       "    <tr>\n",
       "      <th>3</th>\n",
       "      <td>1000_3</td>\n",
       "      <td>2018-09-21</td>\n",
       "      <td>13.80</td>\n",
       "      <td>1000</td>\n",
       "    </tr>\n",
       "    <tr>\n",
       "      <th>4</th>\n",
       "      <td>1000_4</td>\n",
       "      <td>2018-12-15</td>\n",
       "      <td>5.18</td>\n",
       "      <td>1000</td>\n",
       "    </tr>\n",
       "    <tr>\n",
       "      <th>...</th>\n",
       "      <td>...</td>\n",
       "      <td>...</td>\n",
       "      <td>...</td>\n",
       "      <td>...</td>\n",
       "    </tr>\n",
       "    <tr>\n",
       "      <th>202602</th>\n",
       "      <td>1499_215</td>\n",
       "      <td>2018-12-26</td>\n",
       "      <td>0.76</td>\n",
       "      <td>1499</td>\n",
       "    </tr>\n",
       "    <tr>\n",
       "      <th>202603</th>\n",
       "      <td>1499_216</td>\n",
       "      <td>2018-10-18</td>\n",
       "      <td>18.83</td>\n",
       "      <td>1499</td>\n",
       "    </tr>\n",
       "    <tr>\n",
       "      <th>202604</th>\n",
       "      <td>1499_217</td>\n",
       "      <td>2018-11-10</td>\n",
       "      <td>10.81</td>\n",
       "      <td>1499</td>\n",
       "    </tr>\n",
       "    <tr>\n",
       "      <th>202605</th>\n",
       "      <td>1499_218</td>\n",
       "      <td>2018-10-06</td>\n",
       "      <td>4.27</td>\n",
       "      <td>1499</td>\n",
       "    </tr>\n",
       "    <tr>\n",
       "      <th>202606</th>\n",
       "      <td>1499_219</td>\n",
       "      <td>2018-12-14</td>\n",
       "      <td>19.62</td>\n",
       "      <td>1499</td>\n",
       "    </tr>\n",
       "  </tbody>\n",
       "</table>\n",
       "<p>202607 rows × 4 columns</p>\n",
       "</div>"
      ],
      "text/plain": [
       "              id   call_date  duration  user_id\n",
       "0         1000_0  2018-07-25      0.00     1000\n",
       "1         1000_1  2018-08-17      0.00     1000\n",
       "2         1000_2  2018-06-11      2.85     1000\n",
       "3         1000_3  2018-09-21     13.80     1000\n",
       "4         1000_4  2018-12-15      5.18     1000\n",
       "...          ...         ...       ...      ...\n",
       "202602  1499_215  2018-12-26      0.76     1499\n",
       "202603  1499_216  2018-10-18     18.83     1499\n",
       "202604  1499_217  2018-11-10     10.81     1499\n",
       "202605  1499_218  2018-10-06      4.27     1499\n",
       "202606  1499_219  2018-12-14     19.62     1499\n",
       "\n",
       "[202607 rows x 4 columns]"
      ]
     },
     "metadata": {},
     "output_type": "display_data"
    },
    {
     "data": {
      "text/html": [
       "<div>\n",
       "<style scoped>\n",
       "    .dataframe tbody tr th:only-of-type {\n",
       "        vertical-align: middle;\n",
       "    }\n",
       "\n",
       "    .dataframe tbody tr th {\n",
       "        vertical-align: top;\n",
       "    }\n",
       "\n",
       "    .dataframe thead th {\n",
       "        text-align: right;\n",
       "    }\n",
       "</style>\n",
       "<table border=\"1\" class=\"dataframe\">\n",
       "  <thead>\n",
       "    <tr style=\"text-align: right;\">\n",
       "      <th></th>\n",
       "      <th>Unnamed: 0</th>\n",
       "      <th>id</th>\n",
       "      <th>mb_used</th>\n",
       "      <th>session_date</th>\n",
       "      <th>user_id</th>\n",
       "    </tr>\n",
       "  </thead>\n",
       "  <tbody>\n",
       "    <tr>\n",
       "      <th>0</th>\n",
       "      <td>0</td>\n",
       "      <td>1000_0</td>\n",
       "      <td>112.95</td>\n",
       "      <td>2018-11-25</td>\n",
       "      <td>1000</td>\n",
       "    </tr>\n",
       "    <tr>\n",
       "      <th>1</th>\n",
       "      <td>1</td>\n",
       "      <td>1000_1</td>\n",
       "      <td>1052.81</td>\n",
       "      <td>2018-09-07</td>\n",
       "      <td>1000</td>\n",
       "    </tr>\n",
       "    <tr>\n",
       "      <th>2</th>\n",
       "      <td>2</td>\n",
       "      <td>1000_2</td>\n",
       "      <td>1197.26</td>\n",
       "      <td>2018-06-25</td>\n",
       "      <td>1000</td>\n",
       "    </tr>\n",
       "    <tr>\n",
       "      <th>3</th>\n",
       "      <td>3</td>\n",
       "      <td>1000_3</td>\n",
       "      <td>550.27</td>\n",
       "      <td>2018-08-22</td>\n",
       "      <td>1000</td>\n",
       "    </tr>\n",
       "    <tr>\n",
       "      <th>4</th>\n",
       "      <td>4</td>\n",
       "      <td>1000_4</td>\n",
       "      <td>302.56</td>\n",
       "      <td>2018-09-24</td>\n",
       "      <td>1000</td>\n",
       "    </tr>\n",
       "    <tr>\n",
       "      <th>...</th>\n",
       "      <td>...</td>\n",
       "      <td>...</td>\n",
       "      <td>...</td>\n",
       "      <td>...</td>\n",
       "      <td>...</td>\n",
       "    </tr>\n",
       "    <tr>\n",
       "      <th>149391</th>\n",
       "      <td>149391</td>\n",
       "      <td>1499_152</td>\n",
       "      <td>318.90</td>\n",
       "      <td>2018-10-03</td>\n",
       "      <td>1499</td>\n",
       "    </tr>\n",
       "    <tr>\n",
       "      <th>149392</th>\n",
       "      <td>149392</td>\n",
       "      <td>1499_153</td>\n",
       "      <td>490.13</td>\n",
       "      <td>2018-12-14</td>\n",
       "      <td>1499</td>\n",
       "    </tr>\n",
       "    <tr>\n",
       "      <th>149393</th>\n",
       "      <td>149393</td>\n",
       "      <td>1499_154</td>\n",
       "      <td>0.00</td>\n",
       "      <td>2018-10-27</td>\n",
       "      <td>1499</td>\n",
       "    </tr>\n",
       "    <tr>\n",
       "      <th>149394</th>\n",
       "      <td>149394</td>\n",
       "      <td>1499_155</td>\n",
       "      <td>1246.32</td>\n",
       "      <td>2018-11-26</td>\n",
       "      <td>1499</td>\n",
       "    </tr>\n",
       "    <tr>\n",
       "      <th>149395</th>\n",
       "      <td>149395</td>\n",
       "      <td>1499_156</td>\n",
       "      <td>544.37</td>\n",
       "      <td>2018-10-26</td>\n",
       "      <td>1499</td>\n",
       "    </tr>\n",
       "  </tbody>\n",
       "</table>\n",
       "<p>149396 rows × 5 columns</p>\n",
       "</div>"
      ],
      "text/plain": [
       "        Unnamed: 0        id  mb_used session_date  user_id\n",
       "0                0    1000_0   112.95   2018-11-25     1000\n",
       "1                1    1000_1  1052.81   2018-09-07     1000\n",
       "2                2    1000_2  1197.26   2018-06-25     1000\n",
       "3                3    1000_3   550.27   2018-08-22     1000\n",
       "4                4    1000_4   302.56   2018-09-24     1000\n",
       "...            ...       ...      ...          ...      ...\n",
       "149391      149391  1499_152   318.90   2018-10-03     1499\n",
       "149392      149392  1499_153   490.13   2018-12-14     1499\n",
       "149393      149393  1499_154     0.00   2018-10-27     1499\n",
       "149394      149394  1499_155  1246.32   2018-11-26     1499\n",
       "149395      149395  1499_156   544.37   2018-10-26     1499\n",
       "\n",
       "[149396 rows x 5 columns]"
      ]
     },
     "metadata": {},
     "output_type": "display_data"
    },
    {
     "data": {
      "text/html": [
       "<div>\n",
       "<style scoped>\n",
       "    .dataframe tbody tr th:only-of-type {\n",
       "        vertical-align: middle;\n",
       "    }\n",
       "\n",
       "    .dataframe tbody tr th {\n",
       "        vertical-align: top;\n",
       "    }\n",
       "\n",
       "    .dataframe thead th {\n",
       "        text-align: right;\n",
       "    }\n",
       "</style>\n",
       "<table border=\"1\" class=\"dataframe\">\n",
       "  <thead>\n",
       "    <tr style=\"text-align: right;\">\n",
       "      <th></th>\n",
       "      <th>id</th>\n",
       "      <th>message_date</th>\n",
       "      <th>user_id</th>\n",
       "    </tr>\n",
       "  </thead>\n",
       "  <tbody>\n",
       "    <tr>\n",
       "      <th>0</th>\n",
       "      <td>1000_0</td>\n",
       "      <td>2018-06-27</td>\n",
       "      <td>1000</td>\n",
       "    </tr>\n",
       "    <tr>\n",
       "      <th>1</th>\n",
       "      <td>1000_1</td>\n",
       "      <td>2018-10-08</td>\n",
       "      <td>1000</td>\n",
       "    </tr>\n",
       "    <tr>\n",
       "      <th>2</th>\n",
       "      <td>1000_2</td>\n",
       "      <td>2018-08-04</td>\n",
       "      <td>1000</td>\n",
       "    </tr>\n",
       "    <tr>\n",
       "      <th>3</th>\n",
       "      <td>1000_3</td>\n",
       "      <td>2018-06-16</td>\n",
       "      <td>1000</td>\n",
       "    </tr>\n",
       "    <tr>\n",
       "      <th>4</th>\n",
       "      <td>1000_4</td>\n",
       "      <td>2018-12-05</td>\n",
       "      <td>1000</td>\n",
       "    </tr>\n",
       "    <tr>\n",
       "      <th>...</th>\n",
       "      <td>...</td>\n",
       "      <td>...</td>\n",
       "      <td>...</td>\n",
       "    </tr>\n",
       "    <tr>\n",
       "      <th>123031</th>\n",
       "      <td>1499_179</td>\n",
       "      <td>2018-12-12</td>\n",
       "      <td>1499</td>\n",
       "    </tr>\n",
       "    <tr>\n",
       "      <th>123032</th>\n",
       "      <td>1499_180</td>\n",
       "      <td>2018-09-28</td>\n",
       "      <td>1499</td>\n",
       "    </tr>\n",
       "    <tr>\n",
       "      <th>123033</th>\n",
       "      <td>1499_181</td>\n",
       "      <td>2018-09-27</td>\n",
       "      <td>1499</td>\n",
       "    </tr>\n",
       "    <tr>\n",
       "      <th>123034</th>\n",
       "      <td>1499_182</td>\n",
       "      <td>2018-11-15</td>\n",
       "      <td>1499</td>\n",
       "    </tr>\n",
       "    <tr>\n",
       "      <th>123035</th>\n",
       "      <td>1499_183</td>\n",
       "      <td>2018-11-16</td>\n",
       "      <td>1499</td>\n",
       "    </tr>\n",
       "  </tbody>\n",
       "</table>\n",
       "<p>123036 rows × 3 columns</p>\n",
       "</div>"
      ],
      "text/plain": [
       "              id message_date  user_id\n",
       "0         1000_0   2018-06-27     1000\n",
       "1         1000_1   2018-10-08     1000\n",
       "2         1000_2   2018-08-04     1000\n",
       "3         1000_3   2018-06-16     1000\n",
       "4         1000_4   2018-12-05     1000\n",
       "...          ...          ...      ...\n",
       "123031  1499_179   2018-12-12     1499\n",
       "123032  1499_180   2018-09-28     1499\n",
       "123033  1499_181   2018-09-27     1499\n",
       "123034  1499_182   2018-11-15     1499\n",
       "123035  1499_183   2018-11-16     1499\n",
       "\n",
       "[123036 rows x 3 columns]"
      ]
     },
     "metadata": {},
     "output_type": "display_data"
    },
    {
     "data": {
      "text/html": [
       "<div>\n",
       "<style scoped>\n",
       "    .dataframe tbody tr th:only-of-type {\n",
       "        vertical-align: middle;\n",
       "    }\n",
       "\n",
       "    .dataframe tbody tr th {\n",
       "        vertical-align: top;\n",
       "    }\n",
       "\n",
       "    .dataframe thead th {\n",
       "        text-align: right;\n",
       "    }\n",
       "</style>\n",
       "<table border=\"1\" class=\"dataframe\">\n",
       "  <thead>\n",
       "    <tr style=\"text-align: right;\">\n",
       "      <th></th>\n",
       "      <th>messages_included</th>\n",
       "      <th>mb_per_month_included</th>\n",
       "      <th>minutes_included</th>\n",
       "      <th>rub_monthly_fee</th>\n",
       "      <th>rub_per_gb</th>\n",
       "      <th>rub_per_message</th>\n",
       "      <th>rub_per_minute</th>\n",
       "      <th>tariff_name</th>\n",
       "    </tr>\n",
       "  </thead>\n",
       "  <tbody>\n",
       "    <tr>\n",
       "      <th>0</th>\n",
       "      <td>50</td>\n",
       "      <td>15360</td>\n",
       "      <td>500</td>\n",
       "      <td>550</td>\n",
       "      <td>200</td>\n",
       "      <td>3</td>\n",
       "      <td>3</td>\n",
       "      <td>smart</td>\n",
       "    </tr>\n",
       "    <tr>\n",
       "      <th>1</th>\n",
       "      <td>1000</td>\n",
       "      <td>30720</td>\n",
       "      <td>3000</td>\n",
       "      <td>1950</td>\n",
       "      <td>150</td>\n",
       "      <td>1</td>\n",
       "      <td>1</td>\n",
       "      <td>ultra</td>\n",
       "    </tr>\n",
       "  </tbody>\n",
       "</table>\n",
       "</div>"
      ],
      "text/plain": [
       "   messages_included  mb_per_month_included  minutes_included  \\\n",
       "0                 50                  15360               500   \n",
       "1               1000                  30720              3000   \n",
       "\n",
       "   rub_monthly_fee  rub_per_gb  rub_per_message  rub_per_minute tariff_name  \n",
       "0              550         200                3               3       smart  \n",
       "1             1950         150                1               1       ultra  "
      ]
     },
     "metadata": {},
     "output_type": "display_data"
    }
   ],
   "source": [
    "display(df_users)\n",
    "display(df_calls)\n",
    "display(df_internet)\n",
    "display(df_messages)\n",
    "display(df_tariffs)"
   ]
  },
  {
   "cell_type": "markdown",
   "id": "1ad0a655",
   "metadata": {},
   "source": [
    "Получим информацию о каждом датафрейме"
   ]
  },
  {
   "cell_type": "code",
   "execution_count": 3,
   "id": "46284f93",
   "metadata": {},
   "outputs": [
    {
     "name": "stdout",
     "output_type": "stream",
     "text": [
      "<class 'pandas.core.frame.DataFrame'>\n",
      "RangeIndex: 500 entries, 0 to 499\n",
      "Data columns (total 8 columns):\n",
      " #   Column      Non-Null Count  Dtype \n",
      "---  ------      --------------  ----- \n",
      " 0   user_id     500 non-null    int64 \n",
      " 1   age         500 non-null    int64 \n",
      " 2   churn_date  38 non-null     object\n",
      " 3   city        500 non-null    object\n",
      " 4   first_name  500 non-null    object\n",
      " 5   last_name   500 non-null    object\n",
      " 6   reg_date    500 non-null    object\n",
      " 7   tariff      500 non-null    object\n",
      "dtypes: int64(2), object(6)\n",
      "memory usage: 31.4+ KB\n"
     ]
    },
    {
     "data": {
      "text/plain": [
       "None"
      ]
     },
     "metadata": {},
     "output_type": "display_data"
    },
    {
     "name": "stdout",
     "output_type": "stream",
     "text": [
      "<class 'pandas.core.frame.DataFrame'>\n",
      "RangeIndex: 202607 entries, 0 to 202606\n",
      "Data columns (total 4 columns):\n",
      " #   Column     Non-Null Count   Dtype  \n",
      "---  ------     --------------   -----  \n",
      " 0   id         202607 non-null  object \n",
      " 1   call_date  202607 non-null  object \n",
      " 2   duration   202607 non-null  float64\n",
      " 3   user_id    202607 non-null  int64  \n",
      "dtypes: float64(1), int64(1), object(2)\n",
      "memory usage: 6.2+ MB\n"
     ]
    },
    {
     "data": {
      "text/plain": [
       "None"
      ]
     },
     "metadata": {},
     "output_type": "display_data"
    },
    {
     "name": "stdout",
     "output_type": "stream",
     "text": [
      "<class 'pandas.core.frame.DataFrame'>\n",
      "RangeIndex: 149396 entries, 0 to 149395\n",
      "Data columns (total 5 columns):\n",
      " #   Column        Non-Null Count   Dtype  \n",
      "---  ------        --------------   -----  \n",
      " 0   Unnamed: 0    149396 non-null  int64  \n",
      " 1   id            149396 non-null  object \n",
      " 2   mb_used       149396 non-null  float64\n",
      " 3   session_date  149396 non-null  object \n",
      " 4   user_id       149396 non-null  int64  \n",
      "dtypes: float64(1), int64(2), object(2)\n",
      "memory usage: 5.7+ MB\n"
     ]
    },
    {
     "data": {
      "text/plain": [
       "None"
      ]
     },
     "metadata": {},
     "output_type": "display_data"
    },
    {
     "name": "stdout",
     "output_type": "stream",
     "text": [
      "<class 'pandas.core.frame.DataFrame'>\n",
      "RangeIndex: 123036 entries, 0 to 123035\n",
      "Data columns (total 3 columns):\n",
      " #   Column        Non-Null Count   Dtype \n",
      "---  ------        --------------   ----- \n",
      " 0   id            123036 non-null  object\n",
      " 1   message_date  123036 non-null  object\n",
      " 2   user_id       123036 non-null  int64 \n",
      "dtypes: int64(1), object(2)\n",
      "memory usage: 2.8+ MB\n"
     ]
    },
    {
     "data": {
      "text/plain": [
       "None"
      ]
     },
     "metadata": {},
     "output_type": "display_data"
    },
    {
     "name": "stdout",
     "output_type": "stream",
     "text": [
      "<class 'pandas.core.frame.DataFrame'>\n",
      "RangeIndex: 2 entries, 0 to 1\n",
      "Data columns (total 8 columns):\n",
      " #   Column                 Non-Null Count  Dtype \n",
      "---  ------                 --------------  ----- \n",
      " 0   messages_included      2 non-null      int64 \n",
      " 1   mb_per_month_included  2 non-null      int64 \n",
      " 2   minutes_included       2 non-null      int64 \n",
      " 3   rub_monthly_fee        2 non-null      int64 \n",
      " 4   rub_per_gb             2 non-null      int64 \n",
      " 5   rub_per_message        2 non-null      int64 \n",
      " 6   rub_per_minute         2 non-null      int64 \n",
      " 7   tariff_name            2 non-null      object\n",
      "dtypes: int64(7), object(1)\n",
      "memory usage: 256.0+ bytes\n"
     ]
    },
    {
     "data": {
      "text/plain": [
       "None"
      ]
     },
     "metadata": {},
     "output_type": "display_data"
    }
   ],
   "source": [
    "display(df_users.info())\n",
    "display(df_calls.info())\n",
    "display(df_internet.info())\n",
    "display(df_messages.info())\n",
    "display(df_tariffs.info())"
   ]
  },
  {
   "cell_type": "markdown",
   "id": "dd8fd26a",
   "metadata": {},
   "source": [
    "### 1.1 Вывод\n",
    "При первичном обзоре файлов никаких проблем не обнаружено. Предварительно можно утверждать, что, данных достаточно для проверки гипотез."
   ]
  },
  {
   "cell_type": "markdown",
   "id": "6e4d6c95",
   "metadata": {},
   "source": [
    "<div class=\"alert alert-block alert-success\">\n",
    "<b>✅Комментарий ревьюера:</b> Отлично, с данными познакомились!  </div>"
   ]
  },
  {
   "cell_type": "markdown",
   "id": "07fa4e83",
   "metadata": {},
   "source": [
    "## 2 Подготовка данных"
   ]
  },
  {
   "cell_type": "markdown",
   "id": "9033c77f",
   "metadata": {},
   "source": [
    "### 2.1 Объединим датафреймы в один\n",
    "\n",
    "Для этого посчитаем для каждого пользователя:\n",
    "* количество сделанных звонков и израсходованных минут разговора по месяцам;\n",
    "* количество отправленных сообщений по месяцам;\n",
    "* объем израсходованного интернет-трафика по месяцам."
   ]
  },
  {
   "cell_type": "markdown",
   "id": "62861087",
   "metadata": {},
   "source": [
    "Для начала - округлим длительность звонков в большую сторону, в соответствии с правилами компании «Мегалайн»."
   ]
  },
  {
   "cell_type": "code",
   "execution_count": 4,
   "id": "4f8dcd92",
   "metadata": {},
   "outputs": [
    {
     "data": {
      "text/html": [
       "<div>\n",
       "<style scoped>\n",
       "    .dataframe tbody tr th:only-of-type {\n",
       "        vertical-align: middle;\n",
       "    }\n",
       "\n",
       "    .dataframe tbody tr th {\n",
       "        vertical-align: top;\n",
       "    }\n",
       "\n",
       "    .dataframe thead th {\n",
       "        text-align: right;\n",
       "    }\n",
       "</style>\n",
       "<table border=\"1\" class=\"dataframe\">\n",
       "  <thead>\n",
       "    <tr style=\"text-align: right;\">\n",
       "      <th></th>\n",
       "      <th>id</th>\n",
       "      <th>call_date</th>\n",
       "      <th>duration</th>\n",
       "      <th>user_id</th>\n",
       "    </tr>\n",
       "  </thead>\n",
       "  <tbody>\n",
       "    <tr>\n",
       "      <th>0</th>\n",
       "      <td>1000_0</td>\n",
       "      <td>2018-07-25</td>\n",
       "      <td>0.0</td>\n",
       "      <td>1000</td>\n",
       "    </tr>\n",
       "    <tr>\n",
       "      <th>1</th>\n",
       "      <td>1000_1</td>\n",
       "      <td>2018-08-17</td>\n",
       "      <td>0.0</td>\n",
       "      <td>1000</td>\n",
       "    </tr>\n",
       "    <tr>\n",
       "      <th>2</th>\n",
       "      <td>1000_2</td>\n",
       "      <td>2018-06-11</td>\n",
       "      <td>3.0</td>\n",
       "      <td>1000</td>\n",
       "    </tr>\n",
       "    <tr>\n",
       "      <th>3</th>\n",
       "      <td>1000_3</td>\n",
       "      <td>2018-09-21</td>\n",
       "      <td>14.0</td>\n",
       "      <td>1000</td>\n",
       "    </tr>\n",
       "    <tr>\n",
       "      <th>4</th>\n",
       "      <td>1000_4</td>\n",
       "      <td>2018-12-15</td>\n",
       "      <td>6.0</td>\n",
       "      <td>1000</td>\n",
       "    </tr>\n",
       "  </tbody>\n",
       "</table>\n",
       "</div>"
      ],
      "text/plain": [
       "       id   call_date  duration  user_id\n",
       "0  1000_0  2018-07-25       0.0     1000\n",
       "1  1000_1  2018-08-17       0.0     1000\n",
       "2  1000_2  2018-06-11       3.0     1000\n",
       "3  1000_3  2018-09-21      14.0     1000\n",
       "4  1000_4  2018-12-15       6.0     1000"
      ]
     },
     "metadata": {},
     "output_type": "display_data"
    }
   ],
   "source": [
    "df_calls['duration'] = df_calls['duration'].apply(np.ceil) \n",
    "display(df_calls.head(5))"
   ]
  },
  {
   "cell_type": "markdown",
   "id": "52b04762",
   "metadata": {},
   "source": [
    "<div class=\"alert alert-block alert-success\">\n",
    "<b>🔁Комментарий ревьюера:</b>\n",
    "\n",
    "<s>Необходимые для исследования библиотеки лучше импортировать в самом начале в отдельной ячейке</div>"
   ]
  },
  {
   "cell_type": "markdown",
   "id": "8c6b3f0d",
   "metadata": {},
   "source": [
    "<div class=\"alert alert-block alert-info\">\n",
    "<b>🔄Комментарий студента:</b> \n",
    "Исправил\n",
    "</div>"
   ]
  },
  {
   "cell_type": "markdown",
   "id": "0a1088a7",
   "metadata": {},
   "source": [
    "Добавим столбец для интернет-трафика в гигабайтах для каждого абонента."
   ]
  },
  {
   "cell_type": "code",
   "execution_count": 5,
   "id": "f8652a36",
   "metadata": {},
   "outputs": [
    {
     "data": {
      "text/html": [
       "<div>\n",
       "<style scoped>\n",
       "    .dataframe tbody tr th:only-of-type {\n",
       "        vertical-align: middle;\n",
       "    }\n",
       "\n",
       "    .dataframe tbody tr th {\n",
       "        vertical-align: top;\n",
       "    }\n",
       "\n",
       "    .dataframe thead th {\n",
       "        text-align: right;\n",
       "    }\n",
       "</style>\n",
       "<table border=\"1\" class=\"dataframe\">\n",
       "  <thead>\n",
       "    <tr style=\"text-align: right;\">\n",
       "      <th></th>\n",
       "      <th>Unnamed: 0</th>\n",
       "      <th>id</th>\n",
       "      <th>mb_used</th>\n",
       "      <th>session_date</th>\n",
       "      <th>user_id</th>\n",
       "      <th>gb_used</th>\n",
       "    </tr>\n",
       "  </thead>\n",
       "  <tbody>\n",
       "    <tr>\n",
       "      <th>0</th>\n",
       "      <td>0</td>\n",
       "      <td>1000_0</td>\n",
       "      <td>112.95</td>\n",
       "      <td>2018-11-25</td>\n",
       "      <td>1000</td>\n",
       "      <td>0.110303</td>\n",
       "    </tr>\n",
       "    <tr>\n",
       "      <th>1</th>\n",
       "      <td>1</td>\n",
       "      <td>1000_1</td>\n",
       "      <td>1052.81</td>\n",
       "      <td>2018-09-07</td>\n",
       "      <td>1000</td>\n",
       "      <td>1.028135</td>\n",
       "    </tr>\n",
       "    <tr>\n",
       "      <th>2</th>\n",
       "      <td>2</td>\n",
       "      <td>1000_2</td>\n",
       "      <td>1197.26</td>\n",
       "      <td>2018-06-25</td>\n",
       "      <td>1000</td>\n",
       "      <td>1.169199</td>\n",
       "    </tr>\n",
       "    <tr>\n",
       "      <th>3</th>\n",
       "      <td>3</td>\n",
       "      <td>1000_3</td>\n",
       "      <td>550.27</td>\n",
       "      <td>2018-08-22</td>\n",
       "      <td>1000</td>\n",
       "      <td>0.537373</td>\n",
       "    </tr>\n",
       "    <tr>\n",
       "      <th>4</th>\n",
       "      <td>4</td>\n",
       "      <td>1000_4</td>\n",
       "      <td>302.56</td>\n",
       "      <td>2018-09-24</td>\n",
       "      <td>1000</td>\n",
       "      <td>0.295469</td>\n",
       "    </tr>\n",
       "  </tbody>\n",
       "</table>\n",
       "</div>"
      ],
      "text/plain": [
       "   Unnamed: 0      id  mb_used session_date  user_id   gb_used\n",
       "0           0  1000_0   112.95   2018-11-25     1000  0.110303\n",
       "1           1  1000_1  1052.81   2018-09-07     1000  1.028135\n",
       "2           2  1000_2  1197.26   2018-06-25     1000  1.169199\n",
       "3           3  1000_3   550.27   2018-08-22     1000  0.537373\n",
       "4           4  1000_4   302.56   2018-09-24     1000  0.295469"
      ]
     },
     "execution_count": 5,
     "metadata": {},
     "output_type": "execute_result"
    }
   ],
   "source": [
    "df_internet['gb_used'] = (df_internet['mb_used']/1024)\n",
    "df_internet.head(5)"
   ]
  },
  {
   "cell_type": "markdown",
   "id": "d28efe4d",
   "metadata": {},
   "source": [
    "<div class=\"alert alert-block alert-success\">\n",
    "<b>❌Комментарий ревьюера:</b> \n",
    "    \n",
    "<s>Звонки ты округлил верно, а вот трафик округляется только после итогового суммирования за месяц\n",
    "\n",
    "  <s>  Для веб-трафика отдельные сессии не считаются. Вместо этого общая сумма за месяц округляется в бо́льшую сторону. Если абонент использует 1025 мегабайт в этом месяце, с него возьмут плату за 2 гигабайта.\n",
    "\n",
    "</div>"
   ]
  },
  {
   "cell_type": "markdown",
   "id": "9ce9eb8b",
   "metadata": {},
   "source": [
    "<div class=\"alert alert-block alert-info\">\n",
    "<b>🔄Комментарий студента:</b> \n",
    "Исправил\n",
    "</div>"
   ]
  },
  {
   "cell_type": "markdown",
   "id": "64735e5d",
   "metadata": {},
   "source": [
    "Добавим столбец с месяцем звонка для каждого абонента."
   ]
  },
  {
   "cell_type": "code",
   "execution_count": 6,
   "id": "a65a437f",
   "metadata": {},
   "outputs": [
    {
     "data": {
      "text/html": [
       "<div>\n",
       "<style scoped>\n",
       "    .dataframe tbody tr th:only-of-type {\n",
       "        vertical-align: middle;\n",
       "    }\n",
       "\n",
       "    .dataframe tbody tr th {\n",
       "        vertical-align: top;\n",
       "    }\n",
       "\n",
       "    .dataframe thead th {\n",
       "        text-align: right;\n",
       "    }\n",
       "</style>\n",
       "<table border=\"1\" class=\"dataframe\">\n",
       "  <thead>\n",
       "    <tr style=\"text-align: right;\">\n",
       "      <th></th>\n",
       "      <th>id</th>\n",
       "      <th>call_date</th>\n",
       "      <th>duration</th>\n",
       "      <th>user_id</th>\n",
       "      <th>month</th>\n",
       "    </tr>\n",
       "  </thead>\n",
       "  <tbody>\n",
       "    <tr>\n",
       "      <th>0</th>\n",
       "      <td>1000_0</td>\n",
       "      <td>2018-07-25</td>\n",
       "      <td>0.0</td>\n",
       "      <td>1000</td>\n",
       "      <td>7</td>\n",
       "    </tr>\n",
       "    <tr>\n",
       "      <th>1</th>\n",
       "      <td>1000_1</td>\n",
       "      <td>2018-08-17</td>\n",
       "      <td>0.0</td>\n",
       "      <td>1000</td>\n",
       "      <td>8</td>\n",
       "    </tr>\n",
       "    <tr>\n",
       "      <th>2</th>\n",
       "      <td>1000_2</td>\n",
       "      <td>2018-06-11</td>\n",
       "      <td>3.0</td>\n",
       "      <td>1000</td>\n",
       "      <td>6</td>\n",
       "    </tr>\n",
       "    <tr>\n",
       "      <th>3</th>\n",
       "      <td>1000_3</td>\n",
       "      <td>2018-09-21</td>\n",
       "      <td>14.0</td>\n",
       "      <td>1000</td>\n",
       "      <td>9</td>\n",
       "    </tr>\n",
       "    <tr>\n",
       "      <th>4</th>\n",
       "      <td>1000_4</td>\n",
       "      <td>2018-12-15</td>\n",
       "      <td>6.0</td>\n",
       "      <td>1000</td>\n",
       "      <td>12</td>\n",
       "    </tr>\n",
       "  </tbody>\n",
       "</table>\n",
       "</div>"
      ],
      "text/plain": [
       "       id   call_date  duration  user_id  month\n",
       "0  1000_0  2018-07-25       0.0     1000      7\n",
       "1  1000_1  2018-08-17       0.0     1000      8\n",
       "2  1000_2  2018-06-11       3.0     1000      6\n",
       "3  1000_3  2018-09-21      14.0     1000      9\n",
       "4  1000_4  2018-12-15       6.0     1000     12"
      ]
     },
     "metadata": {},
     "output_type": "display_data"
    }
   ],
   "source": [
    "df_calls['month'] = pd.DatetimeIndex(df_calls['call_date']).month\n",
    "display(df_calls.head(5))"
   ]
  },
  {
   "cell_type": "markdown",
   "id": "d8ff307a",
   "metadata": {},
   "source": [
    "Создадим две сводные таблицы:\n",
    "1. calls_count, в которой будет количество звонков. Сделаем группировку по абоненам и месяцам.\n",
    "2. calls_duration, в которой будет длительность звонков. Сделаем группировку по абоненам и месяцам."
   ]
  },
  {
   "cell_type": "code",
   "execution_count": 7,
   "id": "b47af6ec",
   "metadata": {},
   "outputs": [],
   "source": [
    "calls_count = df_calls.pivot_table(index = ['user_id', 'month'],  values = 'call_date', aggfunc = 'count')\n",
    "calls_count.columns = ['call_count']\n",
    "\n",
    "calls_duration = df_calls.pivot_table(index = ['user_id', 'month'],  values = 'duration', aggfunc = 'sum')\n",
    "calls_duration.columns = ['call_duration']"
   ]
  },
  {
   "cell_type": "code",
   "execution_count": 8,
   "id": "0247e07e",
   "metadata": {},
   "outputs": [],
   "source": [
    "calls_count = calls_count.reset_index()\n",
    "calls_duration = calls_duration.reset_index()"
   ]
  },
  {
   "cell_type": "code",
   "execution_count": 9,
   "id": "62ac3563",
   "metadata": {},
   "outputs": [
    {
     "data": {
      "text/html": [
       "<div>\n",
       "<style scoped>\n",
       "    .dataframe tbody tr th:only-of-type {\n",
       "        vertical-align: middle;\n",
       "    }\n",
       "\n",
       "    .dataframe tbody tr th {\n",
       "        vertical-align: top;\n",
       "    }\n",
       "\n",
       "    .dataframe thead th {\n",
       "        text-align: right;\n",
       "    }\n",
       "</style>\n",
       "<table border=\"1\" class=\"dataframe\">\n",
       "  <thead>\n",
       "    <tr style=\"text-align: right;\">\n",
       "      <th></th>\n",
       "      <th>user_id</th>\n",
       "      <th>month</th>\n",
       "      <th>call_count</th>\n",
       "    </tr>\n",
       "  </thead>\n",
       "  <tbody>\n",
       "    <tr>\n",
       "      <th>0</th>\n",
       "      <td>1000</td>\n",
       "      <td>5</td>\n",
       "      <td>22</td>\n",
       "    </tr>\n",
       "    <tr>\n",
       "      <th>1</th>\n",
       "      <td>1000</td>\n",
       "      <td>6</td>\n",
       "      <td>43</td>\n",
       "    </tr>\n",
       "    <tr>\n",
       "      <th>2</th>\n",
       "      <td>1000</td>\n",
       "      <td>7</td>\n",
       "      <td>47</td>\n",
       "    </tr>\n",
       "    <tr>\n",
       "      <th>3</th>\n",
       "      <td>1000</td>\n",
       "      <td>8</td>\n",
       "      <td>52</td>\n",
       "    </tr>\n",
       "    <tr>\n",
       "      <th>4</th>\n",
       "      <td>1000</td>\n",
       "      <td>9</td>\n",
       "      <td>58</td>\n",
       "    </tr>\n",
       "  </tbody>\n",
       "</table>\n",
       "</div>"
      ],
      "text/plain": [
       "   user_id  month  call_count\n",
       "0     1000      5          22\n",
       "1     1000      6          43\n",
       "2     1000      7          47\n",
       "3     1000      8          52\n",
       "4     1000      9          58"
      ]
     },
     "metadata": {},
     "output_type": "display_data"
    },
    {
     "data": {
      "text/html": [
       "<div>\n",
       "<style scoped>\n",
       "    .dataframe tbody tr th:only-of-type {\n",
       "        vertical-align: middle;\n",
       "    }\n",
       "\n",
       "    .dataframe tbody tr th {\n",
       "        vertical-align: top;\n",
       "    }\n",
       "\n",
       "    .dataframe thead th {\n",
       "        text-align: right;\n",
       "    }\n",
       "</style>\n",
       "<table border=\"1\" class=\"dataframe\">\n",
       "  <thead>\n",
       "    <tr style=\"text-align: right;\">\n",
       "      <th></th>\n",
       "      <th>user_id</th>\n",
       "      <th>month</th>\n",
       "      <th>call_duration</th>\n",
       "    </tr>\n",
       "  </thead>\n",
       "  <tbody>\n",
       "    <tr>\n",
       "      <th>0</th>\n",
       "      <td>1000</td>\n",
       "      <td>5</td>\n",
       "      <td>159.0</td>\n",
       "    </tr>\n",
       "    <tr>\n",
       "      <th>1</th>\n",
       "      <td>1000</td>\n",
       "      <td>6</td>\n",
       "      <td>172.0</td>\n",
       "    </tr>\n",
       "    <tr>\n",
       "      <th>2</th>\n",
       "      <td>1000</td>\n",
       "      <td>7</td>\n",
       "      <td>340.0</td>\n",
       "    </tr>\n",
       "    <tr>\n",
       "      <th>3</th>\n",
       "      <td>1000</td>\n",
       "      <td>8</td>\n",
       "      <td>408.0</td>\n",
       "    </tr>\n",
       "    <tr>\n",
       "      <th>4</th>\n",
       "      <td>1000</td>\n",
       "      <td>9</td>\n",
       "      <td>466.0</td>\n",
       "    </tr>\n",
       "  </tbody>\n",
       "</table>\n",
       "</div>"
      ],
      "text/plain": [
       "   user_id  month  call_duration\n",
       "0     1000      5          159.0\n",
       "1     1000      6          172.0\n",
       "2     1000      7          340.0\n",
       "3     1000      8          408.0\n",
       "4     1000      9          466.0"
      ]
     },
     "metadata": {},
     "output_type": "display_data"
    }
   ],
   "source": [
    "display(calls_count.head(5))\n",
    "display(calls_duration.head(5))"
   ]
  },
  {
   "cell_type": "markdown",
   "id": "a13f0b41",
   "metadata": {},
   "source": [
    "Добавим столбец с месяцем сообщения для каждого абонента."
   ]
  },
  {
   "cell_type": "code",
   "execution_count": 10,
   "id": "8952c352",
   "metadata": {},
   "outputs": [
    {
     "data": {
      "text/html": [
       "<div>\n",
       "<style scoped>\n",
       "    .dataframe tbody tr th:only-of-type {\n",
       "        vertical-align: middle;\n",
       "    }\n",
       "\n",
       "    .dataframe tbody tr th {\n",
       "        vertical-align: top;\n",
       "    }\n",
       "\n",
       "    .dataframe thead th {\n",
       "        text-align: right;\n",
       "    }\n",
       "</style>\n",
       "<table border=\"1\" class=\"dataframe\">\n",
       "  <thead>\n",
       "    <tr style=\"text-align: right;\">\n",
       "      <th></th>\n",
       "      <th>id</th>\n",
       "      <th>message_date</th>\n",
       "      <th>user_id</th>\n",
       "      <th>month</th>\n",
       "    </tr>\n",
       "  </thead>\n",
       "  <tbody>\n",
       "    <tr>\n",
       "      <th>0</th>\n",
       "      <td>1000_0</td>\n",
       "      <td>2018-06-27</td>\n",
       "      <td>1000</td>\n",
       "      <td>6</td>\n",
       "    </tr>\n",
       "    <tr>\n",
       "      <th>1</th>\n",
       "      <td>1000_1</td>\n",
       "      <td>2018-10-08</td>\n",
       "      <td>1000</td>\n",
       "      <td>10</td>\n",
       "    </tr>\n",
       "    <tr>\n",
       "      <th>2</th>\n",
       "      <td>1000_2</td>\n",
       "      <td>2018-08-04</td>\n",
       "      <td>1000</td>\n",
       "      <td>8</td>\n",
       "    </tr>\n",
       "    <tr>\n",
       "      <th>3</th>\n",
       "      <td>1000_3</td>\n",
       "      <td>2018-06-16</td>\n",
       "      <td>1000</td>\n",
       "      <td>6</td>\n",
       "    </tr>\n",
       "    <tr>\n",
       "      <th>4</th>\n",
       "      <td>1000_4</td>\n",
       "      <td>2018-12-05</td>\n",
       "      <td>1000</td>\n",
       "      <td>12</td>\n",
       "    </tr>\n",
       "  </tbody>\n",
       "</table>\n",
       "</div>"
      ],
      "text/plain": [
       "       id message_date  user_id  month\n",
       "0  1000_0   2018-06-27     1000      6\n",
       "1  1000_1   2018-10-08     1000     10\n",
       "2  1000_2   2018-08-04     1000      8\n",
       "3  1000_3   2018-06-16     1000      6\n",
       "4  1000_4   2018-12-05     1000     12"
      ]
     },
     "metadata": {},
     "output_type": "display_data"
    }
   ],
   "source": [
    "df_messages['month'] = pd.DatetimeIndex(df_messages['message_date']).month\n",
    "display(df_messages.head(5))"
   ]
  },
  {
   "cell_type": "markdown",
   "id": "40be8104",
   "metadata": {},
   "source": [
    "Создадим сводную таблицу messages_count, в которой будет количество сообщений. Сделаем группировку по абоненам и месяцам."
   ]
  },
  {
   "cell_type": "code",
   "execution_count": 11,
   "id": "ac602903",
   "metadata": {},
   "outputs": [
    {
     "data": {
      "text/html": [
       "<div>\n",
       "<style scoped>\n",
       "    .dataframe tbody tr th:only-of-type {\n",
       "        vertical-align: middle;\n",
       "    }\n",
       "\n",
       "    .dataframe tbody tr th {\n",
       "        vertical-align: top;\n",
       "    }\n",
       "\n",
       "    .dataframe thead th {\n",
       "        text-align: right;\n",
       "    }\n",
       "</style>\n",
       "<table border=\"1\" class=\"dataframe\">\n",
       "  <thead>\n",
       "    <tr style=\"text-align: right;\">\n",
       "      <th></th>\n",
       "      <th>user_id</th>\n",
       "      <th>month</th>\n",
       "      <th>message_count</th>\n",
       "    </tr>\n",
       "  </thead>\n",
       "  <tbody>\n",
       "    <tr>\n",
       "      <th>0</th>\n",
       "      <td>1000</td>\n",
       "      <td>5</td>\n",
       "      <td>22</td>\n",
       "    </tr>\n",
       "    <tr>\n",
       "      <th>1</th>\n",
       "      <td>1000</td>\n",
       "      <td>6</td>\n",
       "      <td>60</td>\n",
       "    </tr>\n",
       "    <tr>\n",
       "      <th>2</th>\n",
       "      <td>1000</td>\n",
       "      <td>7</td>\n",
       "      <td>75</td>\n",
       "    </tr>\n",
       "    <tr>\n",
       "      <th>3</th>\n",
       "      <td>1000</td>\n",
       "      <td>8</td>\n",
       "      <td>81</td>\n",
       "    </tr>\n",
       "    <tr>\n",
       "      <th>4</th>\n",
       "      <td>1000</td>\n",
       "      <td>9</td>\n",
       "      <td>57</td>\n",
       "    </tr>\n",
       "  </tbody>\n",
       "</table>\n",
       "</div>"
      ],
      "text/plain": [
       "   user_id  month  message_count\n",
       "0     1000      5             22\n",
       "1     1000      6             60\n",
       "2     1000      7             75\n",
       "3     1000      8             81\n",
       "4     1000      9             57"
      ]
     },
     "execution_count": 11,
     "metadata": {},
     "output_type": "execute_result"
    }
   ],
   "source": [
    "messages_count = df_messages.pivot_table(index = ['user_id', 'month'],  values = 'message_date', aggfunc = 'count')\n",
    "messages_count.columns = ['message_count']\n",
    "messages_count = messages_count.reset_index()\n",
    "messages_count.head(5)"
   ]
  },
  {
   "cell_type": "markdown",
   "id": "a62114a1",
   "metadata": {},
   "source": [
    "Добавим столбец с месяцем каждой сессии выхода в интернет для каждого абонента."
   ]
  },
  {
   "cell_type": "code",
   "execution_count": 12,
   "id": "026c04f0",
   "metadata": {},
   "outputs": [
    {
     "data": {
      "text/html": [
       "<div>\n",
       "<style scoped>\n",
       "    .dataframe tbody tr th:only-of-type {\n",
       "        vertical-align: middle;\n",
       "    }\n",
       "\n",
       "    .dataframe tbody tr th {\n",
       "        vertical-align: top;\n",
       "    }\n",
       "\n",
       "    .dataframe thead th {\n",
       "        text-align: right;\n",
       "    }\n",
       "</style>\n",
       "<table border=\"1\" class=\"dataframe\">\n",
       "  <thead>\n",
       "    <tr style=\"text-align: right;\">\n",
       "      <th></th>\n",
       "      <th>Unnamed: 0</th>\n",
       "      <th>id</th>\n",
       "      <th>mb_used</th>\n",
       "      <th>session_date</th>\n",
       "      <th>user_id</th>\n",
       "      <th>gb_used</th>\n",
       "      <th>month</th>\n",
       "    </tr>\n",
       "  </thead>\n",
       "  <tbody>\n",
       "    <tr>\n",
       "      <th>0</th>\n",
       "      <td>0</td>\n",
       "      <td>1000_0</td>\n",
       "      <td>112.95</td>\n",
       "      <td>2018-11-25</td>\n",
       "      <td>1000</td>\n",
       "      <td>0.110303</td>\n",
       "      <td>11</td>\n",
       "    </tr>\n",
       "    <tr>\n",
       "      <th>1</th>\n",
       "      <td>1</td>\n",
       "      <td>1000_1</td>\n",
       "      <td>1052.81</td>\n",
       "      <td>2018-09-07</td>\n",
       "      <td>1000</td>\n",
       "      <td>1.028135</td>\n",
       "      <td>9</td>\n",
       "    </tr>\n",
       "    <tr>\n",
       "      <th>2</th>\n",
       "      <td>2</td>\n",
       "      <td>1000_2</td>\n",
       "      <td>1197.26</td>\n",
       "      <td>2018-06-25</td>\n",
       "      <td>1000</td>\n",
       "      <td>1.169199</td>\n",
       "      <td>6</td>\n",
       "    </tr>\n",
       "    <tr>\n",
       "      <th>3</th>\n",
       "      <td>3</td>\n",
       "      <td>1000_3</td>\n",
       "      <td>550.27</td>\n",
       "      <td>2018-08-22</td>\n",
       "      <td>1000</td>\n",
       "      <td>0.537373</td>\n",
       "      <td>8</td>\n",
       "    </tr>\n",
       "    <tr>\n",
       "      <th>4</th>\n",
       "      <td>4</td>\n",
       "      <td>1000_4</td>\n",
       "      <td>302.56</td>\n",
       "      <td>2018-09-24</td>\n",
       "      <td>1000</td>\n",
       "      <td>0.295469</td>\n",
       "      <td>9</td>\n",
       "    </tr>\n",
       "  </tbody>\n",
       "</table>\n",
       "</div>"
      ],
      "text/plain": [
       "   Unnamed: 0      id  mb_used session_date  user_id   gb_used  month\n",
       "0           0  1000_0   112.95   2018-11-25     1000  0.110303     11\n",
       "1           1  1000_1  1052.81   2018-09-07     1000  1.028135      9\n",
       "2           2  1000_2  1197.26   2018-06-25     1000  1.169199      6\n",
       "3           3  1000_3   550.27   2018-08-22     1000  0.537373      8\n",
       "4           4  1000_4   302.56   2018-09-24     1000  0.295469      9"
      ]
     },
     "metadata": {},
     "output_type": "display_data"
    }
   ],
   "source": [
    "df_internet['month'] = pd.DatetimeIndex(df_internet['session_date']).month\n",
    "display(df_internet.head(5))"
   ]
  },
  {
   "cell_type": "markdown",
   "id": "f5e352d4",
   "metadata": {},
   "source": [
    "Создадим сводную таблицу internet_count, в которой будет количество использованных гигабайт интернета в месяц. Сделаем группировку по абоненам и месяцам."
   ]
  },
  {
   "cell_type": "code",
   "execution_count": 13,
   "id": "898236a3",
   "metadata": {},
   "outputs": [
    {
     "data": {
      "text/html": [
       "<div>\n",
       "<style scoped>\n",
       "    .dataframe tbody tr th:only-of-type {\n",
       "        vertical-align: middle;\n",
       "    }\n",
       "\n",
       "    .dataframe tbody tr th {\n",
       "        vertical-align: top;\n",
       "    }\n",
       "\n",
       "    .dataframe thead th {\n",
       "        text-align: right;\n",
       "    }\n",
       "</style>\n",
       "<table border=\"1\" class=\"dataframe\">\n",
       "  <thead>\n",
       "    <tr style=\"text-align: right;\">\n",
       "      <th></th>\n",
       "      <th>user_id</th>\n",
       "      <th>month</th>\n",
       "      <th>traffic_gb</th>\n",
       "    </tr>\n",
       "  </thead>\n",
       "  <tbody>\n",
       "    <tr>\n",
       "      <th>0</th>\n",
       "      <td>1000</td>\n",
       "      <td>5</td>\n",
       "      <td>2.200674</td>\n",
       "    </tr>\n",
       "    <tr>\n",
       "      <th>1</th>\n",
       "      <td>1000</td>\n",
       "      <td>6</td>\n",
       "      <td>22.689229</td>\n",
       "    </tr>\n",
       "    <tr>\n",
       "      <th>2</th>\n",
       "      <td>1000</td>\n",
       "      <td>7</td>\n",
       "      <td>13.675430</td>\n",
       "    </tr>\n",
       "    <tr>\n",
       "      <th>3</th>\n",
       "      <td>1000</td>\n",
       "      <td>8</td>\n",
       "      <td>13.726494</td>\n",
       "    </tr>\n",
       "    <tr>\n",
       "      <th>4</th>\n",
       "      <td>1000</td>\n",
       "      <td>9</td>\n",
       "      <td>14.227451</td>\n",
       "    </tr>\n",
       "  </tbody>\n",
       "</table>\n",
       "</div>"
      ],
      "text/plain": [
       "   user_id  month  traffic_gb\n",
       "0     1000      5    2.200674\n",
       "1     1000      6   22.689229\n",
       "2     1000      7   13.675430\n",
       "3     1000      8   13.726494\n",
       "4     1000      9   14.227451"
      ]
     },
     "execution_count": 13,
     "metadata": {},
     "output_type": "execute_result"
    }
   ],
   "source": [
    "internet_count = df_internet.pivot_table(index = ['user_id', 'month'],  values = 'gb_used', aggfunc = 'sum')\n",
    "internet_count.columns = ['traffic_gb']\n",
    "internet_count = internet_count.reset_index()\n",
    "internet_count.head(5)"
   ]
  },
  {
   "cell_type": "markdown",
   "id": "486427f8",
   "metadata": {},
   "source": [
    "При помощи метода merge объединим датафреймы с информацией о пользователях, продолжительностью звонков, количеством сообщений, использованных гигабайт интернета в одну большую таблицу."
   ]
  },
  {
   "cell_type": "code",
   "execution_count": 14,
   "id": "3cc6a335",
   "metadata": {},
   "outputs": [],
   "source": [
    "df_big1 = df_users.merge(calls_count, on=['user_id'], how='outer')\n",
    "df_big2 = df_big1.merge(calls_duration, on=['user_id', 'month'], how='outer')\n",
    "df_big3 = df_big2.merge(messages_count, on=['user_id', 'month'], how='outer')\n",
    "df = df_big3.merge(internet_count, on=['user_id', 'month'], how='outer')"
   ]
  },
  {
   "cell_type": "markdown",
   "id": "ec24643f",
   "metadata": {},
   "source": [
    "Приведем данные к нужным типам, округлим интернет-трафик в большую сторону и выведем полученный датафрейм на экран."
   ]
  },
  {
   "cell_type": "code",
   "execution_count": 15,
   "id": "1b96e7d7",
   "metadata": {},
   "outputs": [
    {
     "data": {
      "text/html": [
       "<div>\n",
       "<style scoped>\n",
       "    .dataframe tbody tr th:only-of-type {\n",
       "        vertical-align: middle;\n",
       "    }\n",
       "\n",
       "    .dataframe tbody tr th {\n",
       "        vertical-align: top;\n",
       "    }\n",
       "\n",
       "    .dataframe thead th {\n",
       "        text-align: right;\n",
       "    }\n",
       "</style>\n",
       "<table border=\"1\" class=\"dataframe\">\n",
       "  <thead>\n",
       "    <tr style=\"text-align: right;\">\n",
       "      <th></th>\n",
       "      <th>user_id</th>\n",
       "      <th>age</th>\n",
       "      <th>churn_date</th>\n",
       "      <th>city</th>\n",
       "      <th>first_name</th>\n",
       "      <th>last_name</th>\n",
       "      <th>reg_date</th>\n",
       "      <th>tariff</th>\n",
       "      <th>month</th>\n",
       "      <th>call_count</th>\n",
       "      <th>call_duration</th>\n",
       "      <th>message_count</th>\n",
       "      <th>traffic_gb</th>\n",
       "    </tr>\n",
       "  </thead>\n",
       "  <tbody>\n",
       "    <tr>\n",
       "      <th>0</th>\n",
       "      <td>1000</td>\n",
       "      <td>52.0</td>\n",
       "      <td>NaN</td>\n",
       "      <td>Краснодар</td>\n",
       "      <td>Рафаил</td>\n",
       "      <td>Верещагин</td>\n",
       "      <td>2018-05-25</td>\n",
       "      <td>ultra</td>\n",
       "      <td>5</td>\n",
       "      <td>22</td>\n",
       "      <td>159</td>\n",
       "      <td>22</td>\n",
       "      <td>3</td>\n",
       "    </tr>\n",
       "    <tr>\n",
       "      <th>1</th>\n",
       "      <td>1000</td>\n",
       "      <td>52.0</td>\n",
       "      <td>NaN</td>\n",
       "      <td>Краснодар</td>\n",
       "      <td>Рафаил</td>\n",
       "      <td>Верещагин</td>\n",
       "      <td>2018-05-25</td>\n",
       "      <td>ultra</td>\n",
       "      <td>6</td>\n",
       "      <td>43</td>\n",
       "      <td>172</td>\n",
       "      <td>60</td>\n",
       "      <td>23</td>\n",
       "    </tr>\n",
       "    <tr>\n",
       "      <th>2</th>\n",
       "      <td>1000</td>\n",
       "      <td>52.0</td>\n",
       "      <td>NaN</td>\n",
       "      <td>Краснодар</td>\n",
       "      <td>Рафаил</td>\n",
       "      <td>Верещагин</td>\n",
       "      <td>2018-05-25</td>\n",
       "      <td>ultra</td>\n",
       "      <td>7</td>\n",
       "      <td>47</td>\n",
       "      <td>340</td>\n",
       "      <td>75</td>\n",
       "      <td>14</td>\n",
       "    </tr>\n",
       "    <tr>\n",
       "      <th>3</th>\n",
       "      <td>1000</td>\n",
       "      <td>52.0</td>\n",
       "      <td>NaN</td>\n",
       "      <td>Краснодар</td>\n",
       "      <td>Рафаил</td>\n",
       "      <td>Верещагин</td>\n",
       "      <td>2018-05-25</td>\n",
       "      <td>ultra</td>\n",
       "      <td>8</td>\n",
       "      <td>52</td>\n",
       "      <td>408</td>\n",
       "      <td>81</td>\n",
       "      <td>14</td>\n",
       "    </tr>\n",
       "    <tr>\n",
       "      <th>4</th>\n",
       "      <td>1000</td>\n",
       "      <td>52.0</td>\n",
       "      <td>NaN</td>\n",
       "      <td>Краснодар</td>\n",
       "      <td>Рафаил</td>\n",
       "      <td>Верещагин</td>\n",
       "      <td>2018-05-25</td>\n",
       "      <td>ultra</td>\n",
       "      <td>9</td>\n",
       "      <td>58</td>\n",
       "      <td>466</td>\n",
       "      <td>57</td>\n",
       "      <td>15</td>\n",
       "    </tr>\n",
       "  </tbody>\n",
       "</table>\n",
       "</div>"
      ],
      "text/plain": [
       "   user_id   age churn_date       city first_name  last_name    reg_date  \\\n",
       "0     1000  52.0        NaN  Краснодар     Рафаил  Верещагин  2018-05-25   \n",
       "1     1000  52.0        NaN  Краснодар     Рафаил  Верещагин  2018-05-25   \n",
       "2     1000  52.0        NaN  Краснодар     Рафаил  Верещагин  2018-05-25   \n",
       "3     1000  52.0        NaN  Краснодар     Рафаил  Верещагин  2018-05-25   \n",
       "4     1000  52.0        NaN  Краснодар     Рафаил  Верещагин  2018-05-25   \n",
       "\n",
       "  tariff  month  call_count  call_duration  message_count  traffic_gb  \n",
       "0  ultra      5          22            159             22           3  \n",
       "1  ultra      6          43            172             60          23  \n",
       "2  ultra      7          47            340             75          14  \n",
       "3  ultra      8          52            408             81          14  \n",
       "4  ultra      9          58            466             57          15  "
      ]
     },
     "execution_count": 15,
     "metadata": {},
     "output_type": "execute_result"
    }
   ],
   "source": [
    "df['month'] = df['month'].astype(\"Int64\")\n",
    "df['call_count'] = df['call_count'].astype(\"Int64\")\n",
    "df['call_duration'] = df['call_duration'].astype(\"Int64\")\n",
    "df['message_count'] = df['message_count'].astype(\"Int64\")\n",
    "df['traffic_gb'] = df['traffic_gb'].apply(np.ceil).astype(\"Int64\")\n",
    "\n",
    "df.head(5)"
   ]
  },
  {
   "cell_type": "markdown",
   "id": "cfaa1d7f",
   "metadata": {},
   "source": [
    "Проверим типы данных в полученной таблице"
   ]
  },
  {
   "cell_type": "code",
   "execution_count": 16,
   "id": "89276b7f",
   "metadata": {},
   "outputs": [
    {
     "name": "stdout",
     "output_type": "stream",
     "text": [
      "<class 'pandas.core.frame.DataFrame'>\n",
      "Int64Index: 3222 entries, 0 to 3221\n",
      "Data columns (total 13 columns):\n",
      " #   Column         Non-Null Count  Dtype  \n",
      "---  ------         --------------  -----  \n",
      " 0   user_id        3222 non-null   int64  \n",
      " 1   age            3182 non-null   float64\n",
      " 2   churn_date     189 non-null    object \n",
      " 3   city           3182 non-null   object \n",
      " 4   first_name     3182 non-null   object \n",
      " 5   last_name      3182 non-null   object \n",
      " 6   reg_date       3182 non-null   object \n",
      " 7   tariff         3182 non-null   object \n",
      " 8   month          3214 non-null   Int64  \n",
      " 9   call_count     3174 non-null   Int64  \n",
      " 10  call_duration  3174 non-null   Int64  \n",
      " 11  message_count  2717 non-null   Int64  \n",
      " 12  traffic_gb     3203 non-null   Int64  \n",
      "dtypes: Int64(5), float64(1), int64(1), object(6)\n",
      "memory usage: 368.1+ KB\n"
     ]
    }
   ],
   "source": [
    "df.info()"
   ]
  },
  {
   "cell_type": "markdown",
   "id": "73973852",
   "metadata": {},
   "source": [
    "Проверим количество пропусков в полученной таблице"
   ]
  },
  {
   "cell_type": "code",
   "execution_count": 17,
   "id": "f74fe676",
   "metadata": {},
   "outputs": [
    {
     "data": {
      "text/plain": [
       "48"
      ]
     },
     "metadata": {},
     "output_type": "display_data"
    },
    {
     "data": {
      "text/plain": [
       "505"
      ]
     },
     "metadata": {},
     "output_type": "display_data"
    },
    {
     "data": {
      "text/plain": [
       "19"
      ]
     },
     "metadata": {},
     "output_type": "display_data"
    },
    {
     "data": {
      "text/plain": [
       "48"
      ]
     },
     "metadata": {},
     "output_type": "display_data"
    }
   ],
   "source": [
    "display(df['call_duration'].isna().sum())\n",
    "display(df['message_count'].isna().sum())\n",
    "display(df['traffic_gb'].isna().sum())\n",
    "display(df['call_count'].isna().sum())"
   ]
  },
  {
   "cell_type": "markdown",
   "id": "66b9f8a8",
   "metadata": {},
   "source": [
    "Заменим пропуски на нули"
   ]
  },
  {
   "cell_type": "code",
   "execution_count": 18,
   "id": "00f4ffd1",
   "metadata": {},
   "outputs": [],
   "source": [
    "df['call_duration'] = df['call_duration'].fillna(0)\n",
    "df['message_count'] = df['message_count'].fillna(0)\n",
    "df['traffic_gb'] = df['traffic_gb'].fillna(0)\n",
    "df['call_count'] = df['call_count'].fillna(0)"
   ]
  },
  {
   "cell_type": "markdown",
   "id": "4cc68ddb",
   "metadata": {},
   "source": [
    "Проверим пропуски снова"
   ]
  },
  {
   "cell_type": "code",
   "execution_count": 19,
   "id": "26336f43",
   "metadata": {},
   "outputs": [
    {
     "data": {
      "text/plain": [
       "0"
      ]
     },
     "metadata": {},
     "output_type": "display_data"
    },
    {
     "data": {
      "text/plain": [
       "0"
      ]
     },
     "metadata": {},
     "output_type": "display_data"
    },
    {
     "data": {
      "text/plain": [
       "0"
      ]
     },
     "metadata": {},
     "output_type": "display_data"
    },
    {
     "data": {
      "text/plain": [
       "0"
      ]
     },
     "metadata": {},
     "output_type": "display_data"
    }
   ],
   "source": [
    "display(df['call_duration'].isna().sum())\n",
    "display(df['message_count'].isna().sum())\n",
    "display(df['traffic_gb'].isna().sum())\n",
    "display(df['call_count'].isna().sum())"
   ]
  },
  {
   "cell_type": "markdown",
   "id": "29940e4e",
   "metadata": {},
   "source": [
    "Выведем обновлённый датафрейм."
   ]
  },
  {
   "cell_type": "markdown",
   "id": "bd613501",
   "metadata": {},
   "source": [
    "<div class=\"alert alert-block alert-success\">\n",
    "<b>✅Комментарий ревьюера:</b>\n",
    "\n",
    "Молодец, что обработал пропуски!</div>"
   ]
  },
  {
   "cell_type": "code",
   "execution_count": 20,
   "id": "38c06ea1",
   "metadata": {},
   "outputs": [
    {
     "data": {
      "text/html": [
       "<div>\n",
       "<style scoped>\n",
       "    .dataframe tbody tr th:only-of-type {\n",
       "        vertical-align: middle;\n",
       "    }\n",
       "\n",
       "    .dataframe tbody tr th {\n",
       "        vertical-align: top;\n",
       "    }\n",
       "\n",
       "    .dataframe thead th {\n",
       "        text-align: right;\n",
       "    }\n",
       "</style>\n",
       "<table border=\"1\" class=\"dataframe\">\n",
       "  <thead>\n",
       "    <tr style=\"text-align: right;\">\n",
       "      <th></th>\n",
       "      <th>user_id</th>\n",
       "      <th>age</th>\n",
       "      <th>churn_date</th>\n",
       "      <th>city</th>\n",
       "      <th>first_name</th>\n",
       "      <th>last_name</th>\n",
       "      <th>reg_date</th>\n",
       "      <th>tariff</th>\n",
       "      <th>month</th>\n",
       "      <th>call_count</th>\n",
       "      <th>call_duration</th>\n",
       "      <th>message_count</th>\n",
       "      <th>traffic_gb</th>\n",
       "    </tr>\n",
       "  </thead>\n",
       "  <tbody>\n",
       "    <tr>\n",
       "      <th>0</th>\n",
       "      <td>1000</td>\n",
       "      <td>52.0</td>\n",
       "      <td>NaN</td>\n",
       "      <td>Краснодар</td>\n",
       "      <td>Рафаил</td>\n",
       "      <td>Верещагин</td>\n",
       "      <td>2018-05-25</td>\n",
       "      <td>ultra</td>\n",
       "      <td>5</td>\n",
       "      <td>22</td>\n",
       "      <td>159</td>\n",
       "      <td>22</td>\n",
       "      <td>3</td>\n",
       "    </tr>\n",
       "    <tr>\n",
       "      <th>1</th>\n",
       "      <td>1000</td>\n",
       "      <td>52.0</td>\n",
       "      <td>NaN</td>\n",
       "      <td>Краснодар</td>\n",
       "      <td>Рафаил</td>\n",
       "      <td>Верещагин</td>\n",
       "      <td>2018-05-25</td>\n",
       "      <td>ultra</td>\n",
       "      <td>6</td>\n",
       "      <td>43</td>\n",
       "      <td>172</td>\n",
       "      <td>60</td>\n",
       "      <td>23</td>\n",
       "    </tr>\n",
       "    <tr>\n",
       "      <th>2</th>\n",
       "      <td>1000</td>\n",
       "      <td>52.0</td>\n",
       "      <td>NaN</td>\n",
       "      <td>Краснодар</td>\n",
       "      <td>Рафаил</td>\n",
       "      <td>Верещагин</td>\n",
       "      <td>2018-05-25</td>\n",
       "      <td>ultra</td>\n",
       "      <td>7</td>\n",
       "      <td>47</td>\n",
       "      <td>340</td>\n",
       "      <td>75</td>\n",
       "      <td>14</td>\n",
       "    </tr>\n",
       "    <tr>\n",
       "      <th>3</th>\n",
       "      <td>1000</td>\n",
       "      <td>52.0</td>\n",
       "      <td>NaN</td>\n",
       "      <td>Краснодар</td>\n",
       "      <td>Рафаил</td>\n",
       "      <td>Верещагин</td>\n",
       "      <td>2018-05-25</td>\n",
       "      <td>ultra</td>\n",
       "      <td>8</td>\n",
       "      <td>52</td>\n",
       "      <td>408</td>\n",
       "      <td>81</td>\n",
       "      <td>14</td>\n",
       "    </tr>\n",
       "    <tr>\n",
       "      <th>4</th>\n",
       "      <td>1000</td>\n",
       "      <td>52.0</td>\n",
       "      <td>NaN</td>\n",
       "      <td>Краснодар</td>\n",
       "      <td>Рафаил</td>\n",
       "      <td>Верещагин</td>\n",
       "      <td>2018-05-25</td>\n",
       "      <td>ultra</td>\n",
       "      <td>9</td>\n",
       "      <td>58</td>\n",
       "      <td>466</td>\n",
       "      <td>57</td>\n",
       "      <td>15</td>\n",
       "    </tr>\n",
       "  </tbody>\n",
       "</table>\n",
       "</div>"
      ],
      "text/plain": [
       "   user_id   age churn_date       city first_name  last_name    reg_date  \\\n",
       "0     1000  52.0        NaN  Краснодар     Рафаил  Верещагин  2018-05-25   \n",
       "1     1000  52.0        NaN  Краснодар     Рафаил  Верещагин  2018-05-25   \n",
       "2     1000  52.0        NaN  Краснодар     Рафаил  Верещагин  2018-05-25   \n",
       "3     1000  52.0        NaN  Краснодар     Рафаил  Верещагин  2018-05-25   \n",
       "4     1000  52.0        NaN  Краснодар     Рафаил  Верещагин  2018-05-25   \n",
       "\n",
       "  tariff  month  call_count  call_duration  message_count  traffic_gb  \n",
       "0  ultra      5          22            159             22           3  \n",
       "1  ultra      6          43            172             60          23  \n",
       "2  ultra      7          47            340             75          14  \n",
       "3  ultra      8          52            408             81          14  \n",
       "4  ultra      9          58            466             57          15  "
      ]
     },
     "execution_count": 20,
     "metadata": {},
     "output_type": "execute_result"
    }
   ],
   "source": [
    "df.head(5)"
   ]
  },
  {
   "cell_type": "markdown",
   "id": "fd5852d7",
   "metadata": {},
   "source": [
    "<div class=\"alert alert-block alert-success\">\n",
    "<b>✅Комментарий ревьюера:</b>\n",
    "\n",
    "Объединение данных произвел правильно!</div>"
   ]
  },
  {
   "cell_type": "markdown",
   "id": "dca9fb41",
   "metadata": {},
   "source": [
    "### 2.2 Посчитаем помесячную выручку с каждого пользователя\n",
    "\n",
    "Для этого:\n",
    "1. вычтем бесплатный лимит из суммарного количества звонков, сообщений и интернет-трафика; \n",
    "2. остаток умножим на значение из тарифного плана;\n",
    "3. прибавим абонентскую плату, соответствующую тарифному плану"
   ]
  },
  {
   "cell_type": "markdown",
   "id": "e55ef56e",
   "metadata": {},
   "source": [
    "Создадим новый столбец 'call_duration_over', в котором будет количество минут для каждого абонента сверх тарифа. Для этого вычтем бесплатный лимит из суммарного количества звонков для каждого тарифа. Отрицательные значения заменим на 0."
   ]
  },
  {
   "cell_type": "code",
   "execution_count": 21,
   "id": "72f57929",
   "metadata": {},
   "outputs": [],
   "source": [
    "df.loc[df['tariff'] == 'smart', 'call_duration_over'] = df['call_duration'] - 500\n",
    "df.loc[df['tariff'] == 'ultra', 'call_duration_over'] = df['call_duration'] - 3000\n",
    "\n",
    "# заменим отрицательные на 0\n",
    "df.loc[df['call_duration_over'] < 0, 'call_duration_over'] = 0"
   ]
  },
  {
   "cell_type": "markdown",
   "id": "85b1809a",
   "metadata": {},
   "source": [
    "Создадим новый столбец 'message_count_over', в котором будет количество сообщений для каждого абонента сверх тарифа. Для этого вычтем бесплатный лимит из суммарного количества сообщений для каждого тарифа. Отрицательные значения заменим на 0."
   ]
  },
  {
   "cell_type": "code",
   "execution_count": 22,
   "id": "0491b401",
   "metadata": {},
   "outputs": [],
   "source": [
    "df.loc[df['tariff'] == 'smart', 'message_count_over'] = df['message_count'] - 50\n",
    "df.loc[df['tariff'] == 'ultra', 'message_count_over'] = df['message_count'] - 1000\n",
    "\n",
    "# заменим отрицательные на 0\n",
    "df.loc[df['message_count_over'] < 0, 'message_count_over'] = 0"
   ]
  },
  {
   "cell_type": "markdown",
   "id": "8f4e91e9",
   "metadata": {},
   "source": [
    "Создадим новый столбец 'traffic_gb_over', в котором будет количество интернет-трафика в гигабайтах для каждого абонента сверх тарифа. Для этого вычтем бесплатный лимит из суммарного количества интернет-траффика для каждого тарифа. Отрицательные значения заменим на 0."
   ]
  },
  {
   "cell_type": "code",
   "execution_count": 23,
   "id": "0ecfc833",
   "metadata": {},
   "outputs": [],
   "source": [
    "df.loc[df['tariff'] == 'smart', 'traffic_gb_over'] = df['traffic_gb'] - 15\n",
    "df.loc[df['tariff'] == 'ultra', 'traffic_gb_over'] = df['traffic_gb'] - 30\n",
    "\n",
    "# заменим отрицательные на 0\n",
    "df.loc[df['traffic_gb_over'] < 0, 'traffic_gb_over'] = 0"
   ]
  },
  {
   "cell_type": "markdown",
   "id": "dd6bd4a0",
   "metadata": {},
   "source": [
    "Для каждого тарифа добавим столбец price (помесячную выручку с каждого пользователя)."
   ]
  },
  {
   "cell_type": "code",
   "execution_count": 24,
   "id": "8528f0c9",
   "metadata": {},
   "outputs": [],
   "source": [
    "df.loc[df['tariff'] == 'smart', 'price'] = (550 + df['call_duration_over']*3 + df['message_count_over']*3 + \n",
    "                                            df['traffic_gb_over']*200)\n",
    "\n",
    "df.loc[df['tariff'] == 'ultra', 'price'] = (1950 + df['call_duration_over'] + df['message_count_over'] + \n",
    "                                            df['traffic_gb_over']*150)"
   ]
  },
  {
   "cell_type": "markdown",
   "id": "c2372914",
   "metadata": {},
   "source": [
    "Выведем обновлённый датафрейм"
   ]
  },
  {
   "cell_type": "code",
   "execution_count": 25,
   "id": "ed920436",
   "metadata": {
    "scrolled": true
   },
   "outputs": [
    {
     "data": {
      "text/html": [
       "<div>\n",
       "<style scoped>\n",
       "    .dataframe tbody tr th:only-of-type {\n",
       "        vertical-align: middle;\n",
       "    }\n",
       "\n",
       "    .dataframe tbody tr th {\n",
       "        vertical-align: top;\n",
       "    }\n",
       "\n",
       "    .dataframe thead th {\n",
       "        text-align: right;\n",
       "    }\n",
       "</style>\n",
       "<table border=\"1\" class=\"dataframe\">\n",
       "  <thead>\n",
       "    <tr style=\"text-align: right;\">\n",
       "      <th></th>\n",
       "      <th>user_id</th>\n",
       "      <th>age</th>\n",
       "      <th>churn_date</th>\n",
       "      <th>city</th>\n",
       "      <th>first_name</th>\n",
       "      <th>last_name</th>\n",
       "      <th>reg_date</th>\n",
       "      <th>tariff</th>\n",
       "      <th>month</th>\n",
       "      <th>call_count</th>\n",
       "      <th>call_duration</th>\n",
       "      <th>message_count</th>\n",
       "      <th>traffic_gb</th>\n",
       "      <th>call_duration_over</th>\n",
       "      <th>message_count_over</th>\n",
       "      <th>traffic_gb_over</th>\n",
       "      <th>price</th>\n",
       "    </tr>\n",
       "  </thead>\n",
       "  <tbody>\n",
       "    <tr>\n",
       "      <th>0</th>\n",
       "      <td>1000</td>\n",
       "      <td>52.0</td>\n",
       "      <td>NaN</td>\n",
       "      <td>Краснодар</td>\n",
       "      <td>Рафаил</td>\n",
       "      <td>Верещагин</td>\n",
       "      <td>2018-05-25</td>\n",
       "      <td>ultra</td>\n",
       "      <td>5</td>\n",
       "      <td>22</td>\n",
       "      <td>159</td>\n",
       "      <td>22</td>\n",
       "      <td>3</td>\n",
       "      <td>0.0</td>\n",
       "      <td>0.0</td>\n",
       "      <td>0.0</td>\n",
       "      <td>1950.0</td>\n",
       "    </tr>\n",
       "    <tr>\n",
       "      <th>1</th>\n",
       "      <td>1000</td>\n",
       "      <td>52.0</td>\n",
       "      <td>NaN</td>\n",
       "      <td>Краснодар</td>\n",
       "      <td>Рафаил</td>\n",
       "      <td>Верещагин</td>\n",
       "      <td>2018-05-25</td>\n",
       "      <td>ultra</td>\n",
       "      <td>6</td>\n",
       "      <td>43</td>\n",
       "      <td>172</td>\n",
       "      <td>60</td>\n",
       "      <td>23</td>\n",
       "      <td>0.0</td>\n",
       "      <td>0.0</td>\n",
       "      <td>0.0</td>\n",
       "      <td>1950.0</td>\n",
       "    </tr>\n",
       "    <tr>\n",
       "      <th>2</th>\n",
       "      <td>1000</td>\n",
       "      <td>52.0</td>\n",
       "      <td>NaN</td>\n",
       "      <td>Краснодар</td>\n",
       "      <td>Рафаил</td>\n",
       "      <td>Верещагин</td>\n",
       "      <td>2018-05-25</td>\n",
       "      <td>ultra</td>\n",
       "      <td>7</td>\n",
       "      <td>47</td>\n",
       "      <td>340</td>\n",
       "      <td>75</td>\n",
       "      <td>14</td>\n",
       "      <td>0.0</td>\n",
       "      <td>0.0</td>\n",
       "      <td>0.0</td>\n",
       "      <td>1950.0</td>\n",
       "    </tr>\n",
       "    <tr>\n",
       "      <th>3</th>\n",
       "      <td>1000</td>\n",
       "      <td>52.0</td>\n",
       "      <td>NaN</td>\n",
       "      <td>Краснодар</td>\n",
       "      <td>Рафаил</td>\n",
       "      <td>Верещагин</td>\n",
       "      <td>2018-05-25</td>\n",
       "      <td>ultra</td>\n",
       "      <td>8</td>\n",
       "      <td>52</td>\n",
       "      <td>408</td>\n",
       "      <td>81</td>\n",
       "      <td>14</td>\n",
       "      <td>0.0</td>\n",
       "      <td>0.0</td>\n",
       "      <td>0.0</td>\n",
       "      <td>1950.0</td>\n",
       "    </tr>\n",
       "    <tr>\n",
       "      <th>4</th>\n",
       "      <td>1000</td>\n",
       "      <td>52.0</td>\n",
       "      <td>NaN</td>\n",
       "      <td>Краснодар</td>\n",
       "      <td>Рафаил</td>\n",
       "      <td>Верещагин</td>\n",
       "      <td>2018-05-25</td>\n",
       "      <td>ultra</td>\n",
       "      <td>9</td>\n",
       "      <td>58</td>\n",
       "      <td>466</td>\n",
       "      <td>57</td>\n",
       "      <td>15</td>\n",
       "      <td>0.0</td>\n",
       "      <td>0.0</td>\n",
       "      <td>0.0</td>\n",
       "      <td>1950.0</td>\n",
       "    </tr>\n",
       "  </tbody>\n",
       "</table>\n",
       "</div>"
      ],
      "text/plain": [
       "   user_id   age churn_date       city first_name  last_name    reg_date  \\\n",
       "0     1000  52.0        NaN  Краснодар     Рафаил  Верещагин  2018-05-25   \n",
       "1     1000  52.0        NaN  Краснодар     Рафаил  Верещагин  2018-05-25   \n",
       "2     1000  52.0        NaN  Краснодар     Рафаил  Верещагин  2018-05-25   \n",
       "3     1000  52.0        NaN  Краснодар     Рафаил  Верещагин  2018-05-25   \n",
       "4     1000  52.0        NaN  Краснодар     Рафаил  Верещагин  2018-05-25   \n",
       "\n",
       "  tariff  month  call_count  call_duration  message_count  traffic_gb  \\\n",
       "0  ultra      5          22            159             22           3   \n",
       "1  ultra      6          43            172             60          23   \n",
       "2  ultra      7          47            340             75          14   \n",
       "3  ultra      8          52            408             81          14   \n",
       "4  ultra      9          58            466             57          15   \n",
       "\n",
       "   call_duration_over  message_count_over  traffic_gb_over   price  \n",
       "0                 0.0                 0.0              0.0  1950.0  \n",
       "1                 0.0                 0.0              0.0  1950.0  \n",
       "2                 0.0                 0.0              0.0  1950.0  \n",
       "3                 0.0                 0.0              0.0  1950.0  \n",
       "4                 0.0                 0.0              0.0  1950.0  "
      ]
     },
     "execution_count": 25,
     "metadata": {},
     "output_type": "execute_result"
    }
   ],
   "source": [
    "df.head(5)"
   ]
  },
  {
   "cell_type": "markdown",
   "id": "e59071b9",
   "metadata": {},
   "source": [
    "<div class=\"alert alert-block alert-success\">\n",
    "<b>❌Комментарий ревьюера:</b> \n",
    "    \n",
    "<S>Из-за некорректного округления интернет-трафика итоговая выручка получилась неверной\n",
    "</div>"
   ]
  },
  {
   "cell_type": "markdown",
   "id": "5ec4adcc",
   "metadata": {},
   "source": [
    "<div class=\"alert alert-block alert-info\">\n",
    "<b>🔄Комментарий студента:</b> \n",
    "Исправил\n",
    "</div>"
   ]
  },
  {
   "cell_type": "markdown",
   "id": "10287aa3",
   "metadata": {},
   "source": [
    "<div class=\"alert alert-block alert-success\">\n",
    "<b>✅Комментарий ревьюера 2:</b> Теперь все отлично!👍  </div>"
   ]
  },
  {
   "cell_type": "markdown",
   "id": "bce7f0f0",
   "metadata": {},
   "source": [
    " ## 3 Анализ данных"
   ]
  },
  {
   "cell_type": "markdown",
   "id": "74ec5d8f",
   "metadata": {},
   "source": [
    "Опишем поведение клиентов оператора, исходя из выборки. Сколько минут разговора, сколько сообщений и какой объём интернет-трафика требуется пользователям каждого тарифа в месяц? Посчитаем среднее количество, дисперсию и стандартное отклонение. Построим гистограммы. Опишем распределения."
   ]
  },
  {
   "cell_type": "markdown",
   "id": "d5c09890",
   "metadata": {},
   "source": [
    "Создадим срезы для абонентов с тарифом smart и ultra."
   ]
  },
  {
   "cell_type": "code",
   "execution_count": 26,
   "id": "a8cb9df6",
   "metadata": {},
   "outputs": [],
   "source": [
    "df_smart = df.query('tariff == \"smart\"')\n",
    "df_ultra = df.query('tariff == \"ultra\"')"
   ]
  },
  {
   "cell_type": "markdown",
   "id": "13c7cbca",
   "metadata": {},
   "source": [
    "Найдем дисперсию, стандартное отклонение и среднее для звонков тарифа smart"
   ]
  },
  {
   "cell_type": "code",
   "execution_count": 27,
   "id": "36087433",
   "metadata": {},
   "outputs": [
    {
     "name": "stdout",
     "output_type": "stream",
     "text": [
      "Для звонков тарифа smart:\n",
      "Дисперсия равна 35953.5734974877\n",
      "Стандартное отклонение  равно 189.61427556354425\n",
      "Среднее равно 418.68629213483143\n"
     ]
    }
   ],
   "source": [
    "variance = np.var(df_smart['call_duration'])\n",
    "standard_deviation = np.sqrt(variance)\n",
    "\n",
    "print('Для звонков тарифа smart:')\n",
    "print('Дисперсия равна', variance) \n",
    "print('Стандартное отклонение  равно', standard_deviation)\n",
    "print('Среднее равно', df_smart['call_duration'].mean())"
   ]
  },
  {
   "cell_type": "markdown",
   "id": "55739442",
   "metadata": {},
   "source": [
    "Построим гистограмму для звонков тарифа smart"
   ]
  },
  {
   "cell_type": "code",
   "execution_count": 28,
   "id": "7d80b37c",
   "metadata": {},
   "outputs": [
    {
     "name": "stdout",
     "output_type": "stream",
     "text": [
      "AxesSubplot(0.125,0.125;0.775x0.755)\n"
     ]
    },
    {
     "data": {
      "image/png": "[encoded data removed]",
      "text/plain": [
       "<Figure size 432x288 with 1 Axes>"
      ]
     },
     "metadata": {
      "needs_background": "light"
     },
     "output_type": "display_data"
    }
   ],
   "source": [
    "print(df_smart['call_duration'].hist(bins=100))"
   ]
  },
  {
   "cell_type": "markdown",
   "id": "46927cac",
   "metadata": {},
   "source": [
    "Найдем дисперсию, стандартное отклонение и среднее для звонков тарифа ultra"
   ]
  },
  {
   "cell_type": "code",
   "execution_count": 29,
   "id": "ec577074",
   "metadata": {},
   "outputs": [
    {
     "name": "stdout",
     "output_type": "stream",
     "text": [
      "Для звонков тарифа ultra:\n",
      "Дисперсия равна 95367.98020852784\n",
      "Стандартное отклонение  равно 308.81706592824145\n",
      "Среднее равно 542.0313479623825\n"
     ]
    }
   ],
   "source": [
    "variance = np.var(df_ultra['call_duration'])\n",
    "standard_deviation = np.sqrt(variance)\n",
    "\n",
    "print('Для звонков тарифа ultra:')\n",
    "print('Дисперсия равна', variance) \n",
    "print('Стандартное отклонение  равно', standard_deviation)\n",
    "print('Среднее равно', df_ultra['call_duration'].mean())"
   ]
  },
  {
   "cell_type": "markdown",
   "id": "18a73419",
   "metadata": {},
   "source": [
    "Построим гистограмму для звонков тарифа ultra"
   ]
  },
  {
   "cell_type": "code",
   "execution_count": 30,
   "id": "42b89931",
   "metadata": {},
   "outputs": [
    {
     "name": "stdout",
     "output_type": "stream",
     "text": [
      "AxesSubplot(0.125,0.125;0.775x0.755)\n"
     ]
    },
    {
     "data": {
      "image/png": "[encoded data removed]",
      "text/plain": [
       "<Figure size 432x288 with 1 Axes>"
      ]
     },
     "metadata": {
      "needs_background": "light"
     },
     "output_type": "display_data"
    }
   ],
   "source": [
    "print(df_ultra['call_duration'].hist(bins=100))"
   ]
  },
  {
   "cell_type": "markdown",
   "id": "077a35aa",
   "metadata": {},
   "source": [
    "Найдем дисперсию, стандартное отклонение и среднее для сообщений тарифа smart"
   ]
  },
  {
   "cell_type": "code",
   "execution_count": 31,
   "id": "2968de83",
   "metadata": {},
   "outputs": [
    {
     "name": "stdout",
     "output_type": "stream",
     "text": [
      "Для сообщений тарифа smart:\n",
      "Дисперсия равна 798.5206615326348\n",
      "Стандартное отклонение  равно 28.258107890172596\n",
      "Среднее равно 33.36629213483146\n"
     ]
    }
   ],
   "source": [
    "variance = np.var(df_smart['message_count'])\n",
    "standard_deviation = np.sqrt(variance)\n",
    "\n",
    "print('Для сообщений тарифа smart:')\n",
    "print('Дисперсия равна', variance) \n",
    "print('Стандартное отклонение  равно', standard_deviation)\n",
    "print('Среднее равно', df_smart['message_count'].mean())"
   ]
  },
  {
   "cell_type": "markdown",
   "id": "3a6e6f61",
   "metadata": {},
   "source": [
    "<div class=\"alert alert-block alert-success\">\n",
    "<b>🔁Комментарий ревьюера:</b>\n",
    "\n",
    "<s>Импортировать бибиотеку достаточно один раз</div>"
   ]
  },
  {
   "cell_type": "markdown",
   "id": "6848a5c6",
   "metadata": {},
   "source": [
    "Построим гистограмму для сообщений тарифа smart"
   ]
  },
  {
   "cell_type": "code",
   "execution_count": 32,
   "id": "8e355cbb",
   "metadata": {},
   "outputs": [
    {
     "name": "stdout",
     "output_type": "stream",
     "text": [
      "AxesSubplot(0.125,0.125;0.775x0.755)\n"
     ]
    },
    {
     "data": {
      "image/png": "[encoded data removed]",
      "text/plain": [
       "<Figure size 432x288 with 1 Axes>"
      ]
     },
     "metadata": {
      "needs_background": "light"
     },
     "output_type": "display_data"
    }
   ],
   "source": [
    "print(df_smart['message_count'].hist(bins=50))"
   ]
  },
  {
   "cell_type": "markdown",
   "id": "f404e326",
   "metadata": {},
   "source": [
    "Найдем дисперсию, стандартное отклонение и среднее для сообщений тарифа ultra"
   ]
  },
  {
   "cell_type": "code",
   "execution_count": 33,
   "id": "9fb6361d",
   "metadata": {},
   "outputs": [
    {
     "name": "stdout",
     "output_type": "stream",
     "text": [
      "Для сообщений тарифа ultra:\n",
      "Дисперсия равна 2197.6303779334803\n",
      "Стандартное отклонение  равно 46.87889053650353\n",
      "Среднее равно 48.72622779519331\n"
     ]
    }
   ],
   "source": [
    "variance = np.var(df_ultra['message_count'])\n",
    "standard_deviation = np.sqrt(variance)\n",
    "\n",
    "print('Для сообщений тарифа ultra:')\n",
    "print('Дисперсия равна', variance) \n",
    "print('Стандартное отклонение  равно', standard_deviation)\n",
    "print('Среднее равно', df_ultra['message_count'].mean())"
   ]
  },
  {
   "cell_type": "markdown",
   "id": "41cb1ab6",
   "metadata": {},
   "source": [
    "Построим гистограмму для сообщений тарифа ultra"
   ]
  },
  {
   "cell_type": "code",
   "execution_count": 34,
   "id": "4b612e78",
   "metadata": {},
   "outputs": [
    {
     "name": "stdout",
     "output_type": "stream",
     "text": [
      "AxesSubplot(0.125,0.125;0.775x0.755)\n"
     ]
    },
    {
     "data": {
      "image/png": "[encoded data removed]",
      "text/plain": [
       "<Figure size 432x288 with 1 Axes>"
      ]
     },
     "metadata": {
      "needs_background": "light"
     },
     "output_type": "display_data"
    }
   ],
   "source": [
    "print(df_ultra['message_count'].hist(bins = 50))"
   ]
  },
  {
   "cell_type": "markdown",
   "id": "70742b81",
   "metadata": {},
   "source": [
    "Найдем дисперсию, стандартное отклонение и среднее для интернет трафика тарифа smart"
   ]
  },
  {
   "cell_type": "code",
   "execution_count": 35,
   "id": "d1f9d01b",
   "metadata": {},
   "outputs": [
    {
     "name": "stdout",
     "output_type": "stream",
     "text": [
      "Для интернет-трафика тарифа smart:\n",
      "Дисперсия равна 33.28725645751799\n",
      "Стандартное отклонение  равно 5.769510937464109\n",
      "Среднее равно 16.31505617977528\n"
     ]
    }
   ],
   "source": [
    "variance = np.var(df_smart['traffic_gb'])\n",
    "standard_deviation = np.sqrt(variance)\n",
    "\n",
    "print('Для интернет-трафика тарифа smart:')\n",
    "print('Дисперсия равна', variance) \n",
    "print('Стандартное отклонение  равно', standard_deviation)\n",
    "print('Среднее равно', df_smart['traffic_gb'].mean())"
   ]
  },
  {
   "cell_type": "markdown",
   "id": "6f1554e7",
   "metadata": {},
   "source": [
    "Построим гистограмму для интернет-трафика тарифа smart"
   ]
  },
  {
   "cell_type": "code",
   "execution_count": 36,
   "id": "6be20a4e",
   "metadata": {},
   "outputs": [
    {
     "name": "stdout",
     "output_type": "stream",
     "text": [
      "AxesSubplot(0.125,0.125;0.775x0.755)\n"
     ]
    },
    {
     "data": {
      "image/png": "[encoded data removed]",
      "text/plain": [
       "<Figure size 432x288 with 1 Axes>"
      ]
     },
     "metadata": {
      "needs_background": "light"
     },
     "output_type": "display_data"
    }
   ],
   "source": [
    "print(df_smart['traffic_gb'].hist(bins=35))"
   ]
  },
  {
   "cell_type": "markdown",
   "id": "f75627d7",
   "metadata": {},
   "source": [
    "Найдем дисперсию, стандартное отклонение и среднее для интернет трафика тарифа ultra"
   ]
  },
  {
   "cell_type": "code",
   "execution_count": 37,
   "id": "4979e7fb",
   "metadata": {},
   "outputs": [
    {
     "name": "stdout",
     "output_type": "stream",
     "text": [
      "Для интернет-трафика тарифа ultra:\n",
      "Дисперсия равна 99.47126000028389\n",
      "Стандартное отклонение  равно 9.973527961573271\n",
      "Среднее равно 19.365726227795193\n"
     ]
    }
   ],
   "source": [
    "variance = np.var(df_ultra['traffic_gb'])\n",
    "standard_deviation = np.sqrt(variance)\n",
    "\n",
    "print('Для интернет-трафика тарифа ultra:')\n",
    "print('Дисперсия равна', variance) \n",
    "print('Стандартное отклонение  равно', standard_deviation)\n",
    "print('Среднее равно', df_ultra['traffic_gb'].mean())"
   ]
  },
  {
   "cell_type": "markdown",
   "id": "f7ee6cd7",
   "metadata": {},
   "source": [
    "Посмтроим гистограмму для интернет-трафика тарифа ultra"
   ]
  },
  {
   "cell_type": "code",
   "execution_count": 38,
   "id": "e3321891",
   "metadata": {},
   "outputs": [
    {
     "name": "stdout",
     "output_type": "stream",
     "text": [
      "AxesSubplot(0.125,0.125;0.775x0.755)\n"
     ]
    },
    {
     "data": {
      "image/png": "[encoded data removed]",
      "text/plain": [
       "<Figure size 432x288 with 1 Axes>"
      ]
     },
     "metadata": {
      "needs_background": "light"
     },
     "output_type": "display_data"
    }
   ],
   "source": [
    "print(df_ultra['traffic_gb'].hist(bins=50))"
   ]
  },
  {
   "cell_type": "markdown",
   "id": "22ff1f1f",
   "metadata": {},
   "source": [
    "Посчитаем среднюю выручку от каждого тарифа"
   ]
  },
  {
   "cell_type": "code",
   "execution_count": 39,
   "id": "fde4a855",
   "metadata": {},
   "outputs": [
    {
     "name": "stdout",
     "output_type": "stream",
     "text": [
      "1290.2251685393258\n",
      "2070.219435736677\n"
     ]
    }
   ],
   "source": [
    "print(df_smart['price'].mean())\n",
    "print(df_ultra['price'].mean())"
   ]
  },
  {
   "cell_type": "markdown",
   "id": "28b8b1f0",
   "metadata": {},
   "source": [
    "### 3.1 Вывод\n",
    "\n",
    "1. Пользователи тарифа smart в среднем разговаривают 419 минут, а пользователи тарифа ultra - 542.\n",
    "2. Пользователи тарифа smart в среднем отправляют 33 сообщения в месяц, а пользователи тарифа ultra - 48.\n",
    "3. Пользователи тарифа smart в среднем используют 16 Гб интернет-трафика в месяц, а пользователи тарифa ultra - 19.\n",
    "4. Распределение звонков и интернет-трафика для обоих тарифов напоминают нормальные распределения. Распределения сообщений же для обоих тарифов - геометрическое.\n",
    "5. Многие пользователи не отправляют сообщений вообще.\n",
    "6. Тариф ultra в среднем приносит больше денег, чем тариф smart (2070 руб против 1290)."
   ]
  },
  {
   "cell_type": "markdown",
   "id": "9c0f9cf2",
   "metadata": {},
   "source": [
    "# 4 Проверка гипотез"
   ]
  },
  {
   "cell_type": "markdown",
   "id": "bdfb75ca",
   "metadata": {},
   "source": [
    "Для проверки гипотез был выбран t-тест. Мы используем метод для проверки гипотезы о равенстве среднего двух генеральных совокупностей по взятым из них выборкам. Наши выборки независимы он не требует нормального распределения выборок, если количество наблюдений достаточно велико. "
   ]
  },
  {
   "cell_type": "markdown",
   "id": "651af47a",
   "metadata": {},
   "source": [
    "## 4.1 Средняя выручка пользователей тарифов «Ультра» и «Смарт» различаются\n"
   ]
  },
  {
   "cell_type": "markdown",
   "id": "a737990f",
   "metadata": {},
   "source": [
    "* Нулевая гипотеза 1: средняя выручка пользователей тарифов «Ультра» и «Смарт» равны.\n",
    "* Альтернативная гипотеза 1: средняя выручка пользователей тарифов «Ультра» и «Смарт» не равны."
   ]
  },
  {
   "cell_type": "markdown",
   "id": "069eb8c6",
   "metadata": {},
   "source": [
    "<div class=\"alert alert-block alert-success\">\n",
    "<b>✅Комментарий ревьюера:</b> Здорово, что формулируешь гипотезы вначале шага </div>"
   ]
  },
  {
   "cell_type": "markdown",
   "id": "ce8609a2",
   "metadata": {},
   "source": [
    "Проверим нулевую гипотезу при помощи t-теста"
   ]
  },
  {
   "cell_type": "code",
   "execution_count": 46,
   "id": "611dde1f",
   "metadata": {},
   "outputs": [
    {
     "data": {
      "text/html": [
       "<div>\n",
       "<style scoped>\n",
       "    .dataframe tbody tr th:only-of-type {\n",
       "        vertical-align: middle;\n",
       "    }\n",
       "\n",
       "    .dataframe tbody tr th {\n",
       "        vertical-align: top;\n",
       "    }\n",
       "\n",
       "    .dataframe thead th {\n",
       "        text-align: right;\n",
       "    }\n",
       "</style>\n",
       "<table border=\"1\" class=\"dataframe\">\n",
       "  <thead>\n",
       "    <tr style=\"text-align: right;\">\n",
       "      <th></th>\n",
       "      <th>user_id</th>\n",
       "      <th>age</th>\n",
       "      <th>churn_date</th>\n",
       "      <th>city</th>\n",
       "      <th>first_name</th>\n",
       "      <th>last_name</th>\n",
       "      <th>reg_date</th>\n",
       "      <th>tariff</th>\n",
       "      <th>month</th>\n",
       "      <th>call_count</th>\n",
       "      <th>call_duration</th>\n",
       "      <th>message_count</th>\n",
       "      <th>traffic_gb</th>\n",
       "      <th>call_duration_over</th>\n",
       "      <th>message_count_over</th>\n",
       "      <th>traffic_gb_over</th>\n",
       "      <th>price</th>\n",
       "    </tr>\n",
       "  </thead>\n",
       "  <tbody>\n",
       "    <tr>\n",
       "      <th>8</th>\n",
       "      <td>1001</td>\n",
       "      <td>41.0</td>\n",
       "      <td>NaN</td>\n",
       "      <td>Москва</td>\n",
       "      <td>Иван</td>\n",
       "      <td>Ежов</td>\n",
       "      <td>2018-11-01</td>\n",
       "      <td>smart</td>\n",
       "      <td>11</td>\n",
       "      <td>59</td>\n",
       "      <td>430</td>\n",
       "      <td>0</td>\n",
       "      <td>18</td>\n",
       "      <td>0.0</td>\n",
       "      <td>0.0</td>\n",
       "      <td>3.0</td>\n",
       "      <td>1150.0</td>\n",
       "    </tr>\n",
       "    <tr>\n",
       "      <th>9</th>\n",
       "      <td>1001</td>\n",
       "      <td>41.0</td>\n",
       "      <td>NaN</td>\n",
       "      <td>Москва</td>\n",
       "      <td>Иван</td>\n",
       "      <td>Ежов</td>\n",
       "      <td>2018-11-01</td>\n",
       "      <td>smart</td>\n",
       "      <td>12</td>\n",
       "      <td>63</td>\n",
       "      <td>414</td>\n",
       "      <td>0</td>\n",
       "      <td>14</td>\n",
       "      <td>0.0</td>\n",
       "      <td>0.0</td>\n",
       "      <td>0.0</td>\n",
       "      <td>550.0</td>\n",
       "    </tr>\n",
       "    <tr>\n",
       "      <th>10</th>\n",
       "      <td>1002</td>\n",
       "      <td>59.0</td>\n",
       "      <td>NaN</td>\n",
       "      <td>Стерлитамак</td>\n",
       "      <td>Евгений</td>\n",
       "      <td>Абрамович</td>\n",
       "      <td>2018-06-17</td>\n",
       "      <td>smart</td>\n",
       "      <td>6</td>\n",
       "      <td>15</td>\n",
       "      <td>117</td>\n",
       "      <td>4</td>\n",
       "      <td>11</td>\n",
       "      <td>0.0</td>\n",
       "      <td>0.0</td>\n",
       "      <td>0.0</td>\n",
       "      <td>550.0</td>\n",
       "    </tr>\n",
       "    <tr>\n",
       "      <th>11</th>\n",
       "      <td>1002</td>\n",
       "      <td>59.0</td>\n",
       "      <td>NaN</td>\n",
       "      <td>Стерлитамак</td>\n",
       "      <td>Евгений</td>\n",
       "      <td>Абрамович</td>\n",
       "      <td>2018-06-17</td>\n",
       "      <td>smart</td>\n",
       "      <td>7</td>\n",
       "      <td>26</td>\n",
       "      <td>214</td>\n",
       "      <td>11</td>\n",
       "      <td>18</td>\n",
       "      <td>0.0</td>\n",
       "      <td>0.0</td>\n",
       "      <td>3.0</td>\n",
       "      <td>1150.0</td>\n",
       "    </tr>\n",
       "    <tr>\n",
       "      <th>12</th>\n",
       "      <td>1002</td>\n",
       "      <td>59.0</td>\n",
       "      <td>NaN</td>\n",
       "      <td>Стерлитамак</td>\n",
       "      <td>Евгений</td>\n",
       "      <td>Абрамович</td>\n",
       "      <td>2018-06-17</td>\n",
       "      <td>smart</td>\n",
       "      <td>8</td>\n",
       "      <td>42</td>\n",
       "      <td>289</td>\n",
       "      <td>13</td>\n",
       "      <td>20</td>\n",
       "      <td>0.0</td>\n",
       "      <td>0.0</td>\n",
       "      <td>5.0</td>\n",
       "      <td>1550.0</td>\n",
       "    </tr>\n",
       "    <tr>\n",
       "      <th>...</th>\n",
       "      <td>...</td>\n",
       "      <td>...</td>\n",
       "      <td>...</td>\n",
       "      <td>...</td>\n",
       "      <td>...</td>\n",
       "      <td>...</td>\n",
       "      <td>...</td>\n",
       "      <td>...</td>\n",
       "      <td>...</td>\n",
       "      <td>...</td>\n",
       "      <td>...</td>\n",
       "      <td>...</td>\n",
       "      <td>...</td>\n",
       "      <td>...</td>\n",
       "      <td>...</td>\n",
       "      <td>...</td>\n",
       "      <td>...</td>\n",
       "    </tr>\n",
       "    <tr>\n",
       "      <th>3177</th>\n",
       "      <td>1498</td>\n",
       "      <td>68.0</td>\n",
       "      <td>2018-10-25</td>\n",
       "      <td>Владикавказ</td>\n",
       "      <td>Всеволод</td>\n",
       "      <td>Акимчин</td>\n",
       "      <td>2018-07-19</td>\n",
       "      <td>smart</td>\n",
       "      <td>10</td>\n",
       "      <td>41</td>\n",
       "      <td>247</td>\n",
       "      <td>42</td>\n",
       "      <td>21</td>\n",
       "      <td>0.0</td>\n",
       "      <td>0.0</td>\n",
       "      <td>6.0</td>\n",
       "      <td>1750.0</td>\n",
       "    </tr>\n",
       "    <tr>\n",
       "      <th>3178</th>\n",
       "      <td>1499</td>\n",
       "      <td>35.0</td>\n",
       "      <td>NaN</td>\n",
       "      <td>Пермь</td>\n",
       "      <td>Гектор</td>\n",
       "      <td>Корнилов</td>\n",
       "      <td>2018-09-27</td>\n",
       "      <td>smart</td>\n",
       "      <td>9</td>\n",
       "      <td>9</td>\n",
       "      <td>70</td>\n",
       "      <td>11</td>\n",
       "      <td>2</td>\n",
       "      <td>0.0</td>\n",
       "      <td>0.0</td>\n",
       "      <td>0.0</td>\n",
       "      <td>550.0</td>\n",
       "    </tr>\n",
       "    <tr>\n",
       "      <th>3179</th>\n",
       "      <td>1499</td>\n",
       "      <td>35.0</td>\n",
       "      <td>NaN</td>\n",
       "      <td>Пермь</td>\n",
       "      <td>Гектор</td>\n",
       "      <td>Корнилов</td>\n",
       "      <td>2018-09-27</td>\n",
       "      <td>smart</td>\n",
       "      <td>10</td>\n",
       "      <td>68</td>\n",
       "      <td>449</td>\n",
       "      <td>48</td>\n",
       "      <td>18</td>\n",
       "      <td>0.0</td>\n",
       "      <td>0.0</td>\n",
       "      <td>3.0</td>\n",
       "      <td>1150.0</td>\n",
       "    </tr>\n",
       "    <tr>\n",
       "      <th>3180</th>\n",
       "      <td>1499</td>\n",
       "      <td>35.0</td>\n",
       "      <td>NaN</td>\n",
       "      <td>Пермь</td>\n",
       "      <td>Гектор</td>\n",
       "      <td>Корнилов</td>\n",
       "      <td>2018-09-27</td>\n",
       "      <td>smart</td>\n",
       "      <td>11</td>\n",
       "      <td>74</td>\n",
       "      <td>612</td>\n",
       "      <td>59</td>\n",
       "      <td>18</td>\n",
       "      <td>112.0</td>\n",
       "      <td>9.0</td>\n",
       "      <td>3.0</td>\n",
       "      <td>1513.0</td>\n",
       "    </tr>\n",
       "    <tr>\n",
       "      <th>3181</th>\n",
       "      <td>1499</td>\n",
       "      <td>35.0</td>\n",
       "      <td>NaN</td>\n",
       "      <td>Пермь</td>\n",
       "      <td>Гектор</td>\n",
       "      <td>Корнилов</td>\n",
       "      <td>2018-09-27</td>\n",
       "      <td>smart</td>\n",
       "      <td>12</td>\n",
       "      <td>69</td>\n",
       "      <td>492</td>\n",
       "      <td>66</td>\n",
       "      <td>13</td>\n",
       "      <td>0.0</td>\n",
       "      <td>16.0</td>\n",
       "      <td>0.0</td>\n",
       "      <td>598.0</td>\n",
       "    </tr>\n",
       "  </tbody>\n",
       "</table>\n",
       "<p>2225 rows × 17 columns</p>\n",
       "</div>"
      ],
      "text/plain": [
       "      user_id   age  churn_date         city first_name  last_name  \\\n",
       "8        1001  41.0         NaN       Москва       Иван       Ежов   \n",
       "9        1001  41.0         NaN       Москва       Иван       Ежов   \n",
       "10       1002  59.0         NaN  Стерлитамак    Евгений  Абрамович   \n",
       "11       1002  59.0         NaN  Стерлитамак    Евгений  Абрамович   \n",
       "12       1002  59.0         NaN  Стерлитамак    Евгений  Абрамович   \n",
       "...       ...   ...         ...          ...        ...        ...   \n",
       "3177     1498  68.0  2018-10-25  Владикавказ   Всеволод    Акимчин   \n",
       "3178     1499  35.0         NaN        Пермь     Гектор   Корнилов   \n",
       "3179     1499  35.0         NaN        Пермь     Гектор   Корнилов   \n",
       "3180     1499  35.0         NaN        Пермь     Гектор   Корнилов   \n",
       "3181     1499  35.0         NaN        Пермь     Гектор   Корнилов   \n",
       "\n",
       "        reg_date tariff  month  call_count  call_duration  message_count  \\\n",
       "8     2018-11-01  smart     11          59            430              0   \n",
       "9     2018-11-01  smart     12          63            414              0   \n",
       "10    2018-06-17  smart      6          15            117              4   \n",
       "11    2018-06-17  smart      7          26            214             11   \n",
       "12    2018-06-17  smart      8          42            289             13   \n",
       "...          ...    ...    ...         ...            ...            ...   \n",
       "3177  2018-07-19  smart     10          41            247             42   \n",
       "3178  2018-09-27  smart      9           9             70             11   \n",
       "3179  2018-09-27  smart     10          68            449             48   \n",
       "3180  2018-09-27  smart     11          74            612             59   \n",
       "3181  2018-09-27  smart     12          69            492             66   \n",
       "\n",
       "      traffic_gb  call_duration_over  message_count_over  traffic_gb_over  \\\n",
       "8             18                 0.0                 0.0              3.0   \n",
       "9             14                 0.0                 0.0              0.0   \n",
       "10            11                 0.0                 0.0              0.0   \n",
       "11            18                 0.0                 0.0              3.0   \n",
       "12            20                 0.0                 0.0              5.0   \n",
       "...          ...                 ...                 ...              ...   \n",
       "3177          21                 0.0                 0.0              6.0   \n",
       "3178           2                 0.0                 0.0              0.0   \n",
       "3179          18                 0.0                 0.0              3.0   \n",
       "3180          18               112.0                 9.0              3.0   \n",
       "3181          13                 0.0                16.0              0.0   \n",
       "\n",
       "       price  \n",
       "8     1150.0  \n",
       "9      550.0  \n",
       "10     550.0  \n",
       "11    1150.0  \n",
       "12    1550.0  \n",
       "...      ...  \n",
       "3177  1750.0  \n",
       "3178   550.0  \n",
       "3179  1150.0  \n",
       "3180  1513.0  \n",
       "3181   598.0  \n",
       "\n",
       "[2225 rows x 17 columns]"
      ]
     },
     "execution_count": 46,
     "metadata": {},
     "output_type": "execute_result"
    }
   ],
   "source": [
    "df_smart['price'].isna()"
   ]
  },
  {
   "cell_type": "code",
   "execution_count": 40,
   "id": "d1f0936d",
   "metadata": {},
   "outputs": [
    {
     "name": "stdout",
     "output_type": "stream",
     "text": [
      "p-значение: 2.7573403948209683e-156\n",
      "Отвергаем нулевую гипотезу\n"
     ]
    }
   ],
   "source": [
    "from scipy import stats as st\n",
    "\n",
    "sample_1 = df_smart['price']\n",
    "sample_2 = df_ultra['price']\n",
    "\n",
    "alpha = .05\n",
    "\n",
    "results = st.ttest_ind(\n",
    "    sample_1, \n",
    "    sample_2)\n",
    "\n",
    "print('p-значение:', results.pvalue)\n",
    "\n",
    "if results.pvalue < alpha:\n",
    "    print(\"Отвергаем нулевую гипотезу\")\n",
    "else:\n",
    "    print(\"Не получилось отвергнуть нулевую гипотезу\") "
   ]
  },
  {
   "cell_type": "markdown",
   "id": "80f8d80a",
   "metadata": {},
   "source": [
    "С уверенностью отвергаем нулевую гипотезу и делаем вывод, что средняя выручка пользователей тарифов «Ультра» и «Смарт» не равны."
   ]
  },
  {
   "cell_type": "markdown",
   "id": "d1eb5fdf",
   "metadata": {},
   "source": [
    "## 4.2 Cредняя выручка пользователей из Москвы отличается от выручки пользователей из других регионов."
   ]
  },
  {
   "cell_type": "markdown",
   "id": "30d285bf",
   "metadata": {},
   "source": [
    "* Нулевая гипотеза 2: средняя выручка пользователей из Москвы не отличается от выручки пользователей из других регионов.\n",
    "* Альтернативная гипотеза 2: средняя выручка пользователей из Москвы отличается от выручки пользователей из других регионов."
   ]
  },
  {
   "cell_type": "markdown",
   "id": "2147239c",
   "metadata": {},
   "source": [
    "Создадим два новых датафрейма:\n",
    "* df_moscow - для пользователей из Москвы\n",
    "* df_not_moscow - для пользователей не из Москвы"
   ]
  },
  {
   "cell_type": "code",
   "execution_count": 41,
   "id": "b84177b8",
   "metadata": {},
   "outputs": [],
   "source": [
    "df_moscow = df.query('city == \"Москва\"')\n",
    "df_not_moscow =  df.query('city != \"Москва\"').copy()"
   ]
  },
  {
   "cell_type": "markdown",
   "id": "75ea6123",
   "metadata": {},
   "source": [
    "Проверим сколько пропусков в датафреймах"
   ]
  },
  {
   "cell_type": "code",
   "execution_count": 42,
   "id": "624930e4",
   "metadata": {},
   "outputs": [
    {
     "data": {
      "text/plain": [
       "40"
      ]
     },
     "metadata": {},
     "output_type": "display_data"
    },
    {
     "data": {
      "text/plain": [
       "0"
      ]
     },
     "metadata": {},
     "output_type": "display_data"
    }
   ],
   "source": [
    "display(df_not_moscow['price'].isna().sum())\n",
    "display(df_moscow['price'].isna().sum())"
   ]
  },
  {
   "cell_type": "markdown",
   "id": "32559387",
   "metadata": {},
   "source": [
    "Заменим пропуски для пользователей не из Москвы мединным значением"
   ]
  },
  {
   "cell_type": "code",
   "execution_count": 43,
   "id": "81306cb5",
   "metadata": {},
   "outputs": [],
   "source": [
    "df_not_moscow['price'] = df_not_moscow['price'].fillna(df_not_moscow['price'].median())"
   ]
  },
  {
   "cell_type": "code",
   "execution_count": 44,
   "id": "a8fb5be2",
   "metadata": {},
   "outputs": [
    {
     "data": {
      "text/plain": [
       "0"
      ]
     },
     "execution_count": 44,
     "metadata": {},
     "output_type": "execute_result"
    }
   ],
   "source": [
    "df_not_moscow['price'].isna().sum()"
   ]
  },
  {
   "cell_type": "markdown",
   "id": "cc4021ad",
   "metadata": {},
   "source": [
    "Проверим нулевую гипотезу 2 при помощи t-теста"
   ]
  },
  {
   "cell_type": "code",
   "execution_count": 45,
   "id": "06332ab2",
   "metadata": {},
   "outputs": [
    {
     "name": "stdout",
     "output_type": "stream",
     "text": [
      "p-значение: 0.4732412711660239\n",
      "Не получилось отвергнуть нулевую гипотезу\n"
     ]
    }
   ],
   "source": [
    "sample_1 = df_moscow['price']\n",
    "sample_2 = df_not_moscow['price']\n",
    "\n",
    "alpha = .05\n",
    "\n",
    "results = st.ttest_ind(\n",
    "    sample_1, \n",
    "    sample_2)\n",
    "\n",
    "print('p-значение:', results.pvalue)\n",
    "\n",
    "if results.pvalue < alpha:\n",
    "    print(\"Отвергаем нулевую гипотезу\")\n",
    "else:\n",
    "    print(\"Не получилось отвергнуть нулевую гипотезу\") "
   ]
  },
  {
   "cell_type": "markdown",
   "id": "8bcf8e8f",
   "metadata": {},
   "source": [
    "Не отвергаем нулевую гипотзеу (вероятность 47 проценов, что средняя выручка пользователей из Москвы не отличается от выручки пользователей из других регионов)"
   ]
  },
  {
   "cell_type": "markdown",
   "id": "3fc204ef",
   "metadata": {},
   "source": [
    "<div class=\"alert alert-block alert-success\">\n",
    "<b>✅Комментарий ревьюера:</b> Алгоритм проверки гипотез правильно проработан. Нужно будет заново провести проверку для уточнения после перерасчета выручки. </div>"
   ]
  },
  {
   "cell_type": "markdown",
   "id": "5f3d82e3",
   "metadata": {},
   "source": [
    "# 5 Общий вывод"
   ]
  },
  {
   "cell_type": "markdown",
   "id": "639240ae",
   "metadata": {},
   "source": [
    "1. В ходе исследования мы взяли нужную нам информацию из исходных датафреймов и объединили всё в одну большую таблицу, с которой нам было удобно работать.\n",
    "2. Мы установили, что пользователи тарифа smart разговаривают меньше, чем пользователи тарифа ultra (419 против 542 минут), отправляют меньше сообщений (33 против 48), а также меньше интернет-трафика (16 Гб против 19).\n",
    "3. Гипотеза о том, что средняя выручка пользователей тарифов «Ультра» и «Смарт» различаются подтвердилась.\n",
    "4. Гипотеза о том, что средняя выручка пользователей из Москвы отличается от выручки пользователей из других регионов не подтвердилась.\n",
    "5. Тариф ultra лучше, так как в среднем приносит больше денег, чем тариф smart (2070 руб против 1290)."
   ]
  },
  {
   "cell_type": "markdown",
   "id": "0cec6687",
   "metadata": {},
   "source": [
    "<div class=\"alert alert-block alert-success\">\n",
    "<b>❌Комментарий ревьюера:</b> \n",
    "    \n",
    "<s>Какой тариф все-таки лучше?\n",
    "</div>"
   ]
  },
  {
   "cell_type": "markdown",
   "id": "a026999e",
   "metadata": {},
   "source": [
    "<div class=\"alert alert-block alert-info\">\n",
    "<b>🔄Комментарий студента:</b> \n",
    "Исправил\n",
    "</div>"
   ]
  }
 ],
 "metadata": {
  "ExecuteTimeLog": [
   {
    "duration": 1021,
    "start_time": "2022-05-20T15:21:10.081Z"
   },
   {
    "duration": 50,
    "start_time": "2022-05-20T15:21:11.104Z"
   },
   {
    "duration": 69,
    "start_time": "2022-05-20T15:21:11.155Z"
   },
   {
    "duration": 30,
    "start_time": "2022-05-20T15:21:11.227Z"
   },
   {
    "duration": 12,
    "start_time": "2022-05-20T15:21:11.259Z"
   },
   {
    "duration": 59,
    "start_time": "2022-05-20T15:21:11.273Z"
   },
   {
    "duration": 55,
    "start_time": "2022-05-20T15:21:11.351Z"
   },
   {
    "duration": 5,
    "start_time": "2022-05-20T15:21:11.408Z"
   },
   {
    "duration": 38,
    "start_time": "2022-05-20T15:21:11.415Z"
   },
   {
    "duration": 36,
    "start_time": "2022-05-20T15:21:11.455Z"
   },
   {
    "duration": 24,
    "start_time": "2022-05-20T15:21:11.492Z"
   },
   {
    "duration": 67,
    "start_time": "2022-05-20T15:21:11.517Z"
   },
   {
    "duration": 30,
    "start_time": "2022-05-20T15:21:11.586Z"
   },
   {
    "duration": 46,
    "start_time": "2022-05-20T15:21:11.617Z"
   },
   {
    "duration": 17,
    "start_time": "2022-05-20T15:21:11.665Z"
   },
   {
    "duration": 10,
    "start_time": "2022-05-20T15:21:11.684Z"
   },
   {
    "duration": 7,
    "start_time": "2022-05-20T15:21:11.696Z"
   },
   {
    "duration": 6,
    "start_time": "2022-05-20T15:21:11.705Z"
   },
   {
    "duration": 47,
    "start_time": "2022-05-20T15:21:11.712Z"
   },
   {
    "duration": 14,
    "start_time": "2022-05-20T15:21:11.761Z"
   },
   {
    "duration": 10,
    "start_time": "2022-05-20T15:21:11.777Z"
   },
   {
    "duration": 8,
    "start_time": "2022-05-20T15:21:11.788Z"
   },
   {
    "duration": 13,
    "start_time": "2022-05-20T15:21:11.798Z"
   },
   {
    "duration": 51,
    "start_time": "2022-05-20T15:21:11.813Z"
   },
   {
    "duration": 29,
    "start_time": "2022-05-20T15:21:11.866Z"
   },
   {
    "duration": 13,
    "start_time": "2022-05-20T15:21:11.897Z"
   },
   {
    "duration": 10,
    "start_time": "2022-05-20T15:21:11.912Z"
   },
   {
    "duration": 727,
    "start_time": "2022-05-20T15:21:11.925Z"
   },
   {
    "duration": 6,
    "start_time": "2022-05-20T15:21:12.655Z"
   },
   {
    "duration": 251,
    "start_time": "2022-05-20T15:21:12.663Z"
   },
   {
    "duration": 5,
    "start_time": "2022-05-20T15:21:12.916Z"
   },
   {
    "duration": 210,
    "start_time": "2022-05-20T15:21:12.923Z"
   },
   {
    "duration": 6,
    "start_time": "2022-05-20T15:21:13.135Z"
   },
   {
    "duration": 168,
    "start_time": "2022-05-20T15:21:13.152Z"
   },
   {
    "duration": 7,
    "start_time": "2022-05-20T15:21:13.322Z"
   },
   {
    "duration": 324,
    "start_time": "2022-05-20T15:21:13.331Z"
   },
   {
    "duration": 7,
    "start_time": "2022-05-20T15:21:13.656Z"
   },
   {
    "duration": 239,
    "start_time": "2022-05-20T15:21:13.665Z"
   },
   {
    "duration": 421,
    "start_time": "2022-05-20T15:21:13.906Z"
   },
   {
    "duration": 10,
    "start_time": "2022-05-20T15:21:14.328Z"
   },
   {
    "duration": 15,
    "start_time": "2022-05-20T15:21:14.339Z"
   },
   {
    "duration": 4,
    "start_time": "2022-05-20T15:21:14.355Z"
   },
   {
    "duration": 7,
    "start_time": "2022-05-20T15:21:14.360Z"
   },
   {
    "duration": 10,
    "start_time": "2022-05-20T15:21:14.368Z"
   },
   {
    "duration": 29,
    "start_time": "2022-05-20T15:27:13.943Z"
   },
   {
    "duration": 111,
    "start_time": "2022-05-20T15:28:06.947Z"
   },
   {
    "duration": 22,
    "start_time": "2022-05-20T15:28:10.729Z"
   },
   {
    "duration": 14,
    "start_time": "2022-05-20T15:30:44.264Z"
   },
   {
    "duration": 14,
    "start_time": "2022-05-20T15:30:51.907Z"
   },
   {
    "duration": 18,
    "start_time": "2022-05-20T15:31:02.323Z"
   },
   {
    "duration": 14,
    "start_time": "2022-05-20T15:31:03.047Z"
   },
   {
    "duration": 9,
    "start_time": "2022-05-20T15:31:03.636Z"
   },
   {
    "duration": 5,
    "start_time": "2022-05-20T15:31:04.264Z"
   },
   {
    "duration": 9,
    "start_time": "2022-05-20T15:31:04.803Z"
   },
   {
    "duration": 13,
    "start_time": "2022-05-20T15:31:05.720Z"
   },
   {
    "duration": 8,
    "start_time": "2022-05-20T15:31:07.633Z"
   },
   {
    "duration": 8,
    "start_time": "2022-05-20T15:31:09.328Z"
   },
   {
    "duration": 8,
    "start_time": "2022-05-20T15:31:10.513Z"
   },
   {
    "duration": 12,
    "start_time": "2022-05-20T15:31:11.656Z"
   },
   {
    "duration": 17,
    "start_time": "2022-05-20T15:31:12.874Z"
   },
   {
    "duration": 8,
    "start_time": "2022-05-20T15:31:14.212Z"
   },
   {
    "duration": 27,
    "start_time": "2022-05-20T15:31:29.881Z"
   },
   {
    "duration": 12,
    "start_time": "2022-05-20T15:33:45.312Z"
   },
   {
    "duration": 4,
    "start_time": "2022-05-20T15:33:51.033Z"
   },
   {
    "duration": 5,
    "start_time": "2022-05-20T15:34:53.081Z"
   },
   {
    "duration": 7,
    "start_time": "2022-05-20T15:35:01.364Z"
   },
   {
    "duration": 4,
    "start_time": "2022-05-20T15:35:58.599Z"
   },
   {
    "duration": 6,
    "start_time": "2022-05-20T15:35:59.222Z"
   },
   {
    "duration": 7,
    "start_time": "2022-05-20T15:35:59.888Z"
   },
   {
    "duration": 755,
    "start_time": "2022-05-20T15:36:30.316Z"
   },
   {
    "duration": 4,
    "start_time": "2022-05-20T15:36:44.028Z"
   },
   {
    "duration": 7,
    "start_time": "2022-05-20T15:36:44.764Z"
   },
   {
    "duration": 609,
    "start_time": "2022-05-20T15:36:45.103Z"
   },
   {
    "duration": 8,
    "start_time": "2022-05-20T15:36:52.229Z"
   },
   {
    "duration": 5,
    "start_time": "2022-05-20T15:37:05.083Z"
   },
   {
    "duration": 558,
    "start_time": "2022-05-20T15:37:16.603Z"
   },
   {
    "duration": 4,
    "start_time": "2022-05-20T15:37:30.965Z"
   },
   {
    "duration": 8,
    "start_time": "2022-05-20T15:37:31.413Z"
   },
   {
    "duration": 4,
    "start_time": "2022-05-20T15:37:42.360Z"
   },
   {
    "duration": 7,
    "start_time": "2022-05-20T15:37:47.510Z"
   },
   {
    "duration": 15,
    "start_time": "2022-05-20T16:07:35.728Z"
   },
   {
    "duration": 17,
    "start_time": "2022-05-20T16:07:46.648Z"
   },
   {
    "duration": 167,
    "start_time": "2022-05-20T16:10:17.943Z"
   },
   {
    "duration": 27,
    "start_time": "2022-05-20T16:10:38.417Z"
   },
   {
    "duration": 232,
    "start_time": "2022-05-20T16:13:24.675Z"
   },
   {
    "duration": 14,
    "start_time": "2022-05-20T16:15:35.565Z"
   },
   {
    "duration": 53,
    "start_time": "2022-05-20T16:15:37.465Z"
   },
   {
    "duration": 62,
    "start_time": "2022-05-20T16:15:37.916Z"
   },
   {
    "duration": 6,
    "start_time": "2022-05-20T16:15:38.116Z"
   },
   {
    "duration": 11,
    "start_time": "2022-05-20T16:15:38.319Z"
   },
   {
    "duration": 44,
    "start_time": "2022-05-20T16:15:38.750Z"
   },
   {
    "duration": 29,
    "start_time": "2022-05-20T16:15:39.171Z"
   },
   {
    "duration": 46,
    "start_time": "2022-05-20T16:15:39.578Z"
   },
   {
    "duration": 32,
    "start_time": "2022-05-20T16:15:40.064Z"
   },
   {
    "duration": 29,
    "start_time": "2022-05-20T16:15:40.414Z"
   },
   {
    "duration": 22,
    "start_time": "2022-05-20T16:15:40.888Z"
   },
   {
    "duration": 756,
    "start_time": "2022-05-20T16:15:55.716Z"
   },
   {
    "duration": 46,
    "start_time": "2022-05-20T16:15:56.474Z"
   },
   {
    "duration": 84,
    "start_time": "2022-05-20T16:15:56.521Z"
   },
   {
    "duration": 10,
    "start_time": "2022-05-20T16:15:56.606Z"
   },
   {
    "duration": 10,
    "start_time": "2022-05-20T16:15:56.618Z"
   },
   {
    "duration": 57,
    "start_time": "2022-05-20T16:15:56.652Z"
   },
   {
    "duration": 70,
    "start_time": "2022-05-20T16:15:56.710Z"
   },
   {
    "duration": 5,
    "start_time": "2022-05-20T16:15:56.782Z"
   },
   {
    "duration": 18,
    "start_time": "2022-05-20T16:15:56.788Z"
   },
   {
    "duration": 47,
    "start_time": "2022-05-20T16:15:56.807Z"
   },
   {
    "duration": 26,
    "start_time": "2022-05-20T16:15:56.856Z"
   },
   {
    "duration": 43,
    "start_time": "2022-05-20T16:15:56.884Z"
   },
   {
    "duration": 49,
    "start_time": "2022-05-20T16:15:56.929Z"
   },
   {
    "duration": 21,
    "start_time": "2022-05-20T16:15:56.981Z"
   },
   {
    "duration": 105,
    "start_time": "2022-05-20T16:15:57.004Z"
   },
   {
    "duration": 0,
    "start_time": "2022-05-20T16:15:57.111Z"
   },
   {
    "duration": 0,
    "start_time": "2022-05-20T16:15:57.112Z"
   },
   {
    "duration": 0,
    "start_time": "2022-05-20T16:15:57.113Z"
   },
   {
    "duration": 0,
    "start_time": "2022-05-20T16:15:57.114Z"
   },
   {
    "duration": 0,
    "start_time": "2022-05-20T16:15:57.115Z"
   },
   {
    "duration": 1,
    "start_time": "2022-05-20T16:15:57.116Z"
   },
   {
    "duration": 0,
    "start_time": "2022-05-20T16:15:57.118Z"
   },
   {
    "duration": 0,
    "start_time": "2022-05-20T16:15:57.119Z"
   },
   {
    "duration": 0,
    "start_time": "2022-05-20T16:15:57.120Z"
   },
   {
    "duration": 0,
    "start_time": "2022-05-20T16:15:57.121Z"
   },
   {
    "duration": 0,
    "start_time": "2022-05-20T16:15:57.121Z"
   },
   {
    "duration": 0,
    "start_time": "2022-05-20T16:15:57.122Z"
   },
   {
    "duration": 0,
    "start_time": "2022-05-20T16:15:57.123Z"
   },
   {
    "duration": 0,
    "start_time": "2022-05-20T16:15:57.124Z"
   },
   {
    "duration": 0,
    "start_time": "2022-05-20T16:15:57.125Z"
   },
   {
    "duration": 0,
    "start_time": "2022-05-20T16:15:57.152Z"
   },
   {
    "duration": 0,
    "start_time": "2022-05-20T16:15:57.153Z"
   },
   {
    "duration": 0,
    "start_time": "2022-05-20T16:15:57.154Z"
   },
   {
    "duration": 0,
    "start_time": "2022-05-20T16:15:57.155Z"
   },
   {
    "duration": 0,
    "start_time": "2022-05-20T16:15:57.156Z"
   },
   {
    "duration": 0,
    "start_time": "2022-05-20T16:15:57.157Z"
   },
   {
    "duration": 0,
    "start_time": "2022-05-20T16:15:57.158Z"
   },
   {
    "duration": 0,
    "start_time": "2022-05-20T16:15:57.159Z"
   },
   {
    "duration": 0,
    "start_time": "2022-05-20T16:15:57.160Z"
   },
   {
    "duration": 0,
    "start_time": "2022-05-20T16:15:57.161Z"
   },
   {
    "duration": 0,
    "start_time": "2022-05-20T16:15:57.163Z"
   },
   {
    "duration": 0,
    "start_time": "2022-05-20T16:15:57.163Z"
   },
   {
    "duration": 0,
    "start_time": "2022-05-20T16:15:57.164Z"
   },
   {
    "duration": 0,
    "start_time": "2022-05-20T16:15:57.165Z"
   },
   {
    "duration": 3,
    "start_time": "2022-05-20T16:16:26.717Z"
   },
   {
    "duration": 12,
    "start_time": "2022-05-20T16:16:30.423Z"
   },
   {
    "duration": 9,
    "start_time": "2022-05-20T16:16:31.611Z"
   },
   {
    "duration": 7,
    "start_time": "2022-05-20T16:16:32.778Z"
   },
   {
    "duration": 10,
    "start_time": "2022-05-20T16:16:33.900Z"
   },
   {
    "duration": 28,
    "start_time": "2022-05-20T16:16:35.725Z"
   },
   {
    "duration": 8,
    "start_time": "2022-05-20T16:16:38.298Z"
   },
   {
    "duration": 20,
    "start_time": "2022-05-20T16:16:39.232Z"
   },
   {
    "duration": 10,
    "start_time": "2022-05-20T16:16:40.077Z"
   },
   {
    "duration": 9,
    "start_time": "2022-05-20T16:16:41.102Z"
   },
   {
    "duration": 47,
    "start_time": "2022-05-20T16:16:42.607Z"
   },
   {
    "duration": 9,
    "start_time": "2022-05-20T16:17:40.335Z"
   },
   {
    "duration": 9,
    "start_time": "2022-05-20T16:17:41.478Z"
   },
   {
    "duration": 18,
    "start_time": "2022-05-20T16:17:42.413Z"
   },
   {
    "duration": 6,
    "start_time": "2022-05-20T16:18:04.398Z"
   },
   {
    "duration": 786,
    "start_time": "2022-05-20T16:19:02.588Z"
   },
   {
    "duration": 49,
    "start_time": "2022-05-20T16:19:03.377Z"
   },
   {
    "duration": 81,
    "start_time": "2022-05-20T16:19:03.428Z"
   },
   {
    "duration": 9,
    "start_time": "2022-05-20T16:19:03.511Z"
   },
   {
    "duration": 37,
    "start_time": "2022-05-20T16:19:03.522Z"
   },
   {
    "duration": 54,
    "start_time": "2022-05-20T16:19:03.561Z"
   },
   {
    "duration": 78,
    "start_time": "2022-05-20T16:19:03.617Z"
   },
   {
    "duration": 6,
    "start_time": "2022-05-20T16:19:03.696Z"
   },
   {
    "duration": 15,
    "start_time": "2022-05-20T16:19:03.703Z"
   },
   {
    "duration": 45,
    "start_time": "2022-05-20T16:19:03.720Z"
   },
   {
    "duration": 27,
    "start_time": "2022-05-20T16:19:03.766Z"
   },
   {
    "duration": 67,
    "start_time": "2022-05-20T16:19:03.795Z"
   },
   {
    "duration": 30,
    "start_time": "2022-05-20T16:19:03.864Z"
   },
   {
    "duration": 20,
    "start_time": "2022-05-20T16:19:03.896Z"
   },
   {
    "duration": 40,
    "start_time": "2022-05-20T16:19:03.918Z"
   },
   {
    "duration": 11,
    "start_time": "2022-05-20T16:19:03.960Z"
   },
   {
    "duration": 9,
    "start_time": "2022-05-20T16:19:03.972Z"
   },
   {
    "duration": 10,
    "start_time": "2022-05-20T16:19:03.982Z"
   },
   {
    "duration": 10,
    "start_time": "2022-05-20T16:19:03.994Z"
   },
   {
    "duration": 48,
    "start_time": "2022-05-20T16:19:04.005Z"
   },
   {
    "duration": 9,
    "start_time": "2022-05-20T16:19:04.055Z"
   },
   {
    "duration": 8,
    "start_time": "2022-05-20T16:19:04.065Z"
   },
   {
    "duration": 7,
    "start_time": "2022-05-20T16:19:04.075Z"
   },
   {
    "duration": 8,
    "start_time": "2022-05-20T16:19:04.084Z"
   },
   {
    "duration": 20,
    "start_time": "2022-05-20T16:19:04.093Z"
   },
   {
    "duration": 50,
    "start_time": "2022-05-20T16:19:04.114Z"
   },
   {
    "duration": 7,
    "start_time": "2022-05-20T16:19:04.165Z"
   },
   {
    "duration": 519,
    "start_time": "2022-05-20T16:19:04.174Z"
   },
   {
    "duration": 7,
    "start_time": "2022-05-20T16:19:04.694Z"
   },
   {
    "duration": 265,
    "start_time": "2022-05-20T16:19:04.702Z"
   },
   {
    "duration": 6,
    "start_time": "2022-05-20T16:19:04.968Z"
   },
   {
    "duration": 230,
    "start_time": "2022-05-20T16:19:04.976Z"
   },
   {
    "duration": 7,
    "start_time": "2022-05-20T16:19:05.208Z"
   },
   {
    "duration": 240,
    "start_time": "2022-05-20T16:19:05.217Z"
   },
   {
    "duration": 5,
    "start_time": "2022-05-20T16:19:05.459Z"
   },
   {
    "duration": 327,
    "start_time": "2022-05-20T16:19:05.466Z"
   },
   {
    "duration": 5,
    "start_time": "2022-05-20T16:19:05.796Z"
   },
   {
    "duration": 248,
    "start_time": "2022-05-20T16:19:05.804Z"
   },
   {
    "duration": 393,
    "start_time": "2022-05-20T16:19:06.054Z"
   },
   {
    "duration": 10,
    "start_time": "2022-05-20T16:19:06.448Z"
   },
   {
    "duration": 6,
    "start_time": "2022-05-20T16:19:06.460Z"
   },
   {
    "duration": 4,
    "start_time": "2022-05-20T16:19:06.467Z"
   },
   {
    "duration": 6,
    "start_time": "2022-05-20T16:19:06.472Z"
   },
   {
    "duration": 7,
    "start_time": "2022-05-20T16:19:06.479Z"
   },
   {
    "duration": 797,
    "start_time": "2022-05-20T16:27:35.407Z"
   },
   {
    "duration": 71,
    "start_time": "2022-05-20T16:27:36.205Z"
   },
   {
    "duration": 99,
    "start_time": "2022-05-20T16:27:36.278Z"
   },
   {
    "duration": 10,
    "start_time": "2022-05-20T16:27:36.378Z"
   },
   {
    "duration": 13,
    "start_time": "2022-05-20T16:27:36.390Z"
   },
   {
    "duration": 87,
    "start_time": "2022-05-20T16:27:36.405Z"
   },
   {
    "duration": 66,
    "start_time": "2022-05-20T16:27:36.493Z"
   },
   {
    "duration": 6,
    "start_time": "2022-05-20T16:27:36.560Z"
   },
   {
    "duration": 18,
    "start_time": "2022-05-20T16:27:36.568Z"
   },
   {
    "duration": 42,
    "start_time": "2022-05-20T16:27:36.587Z"
   },
   {
    "duration": 42,
    "start_time": "2022-05-20T16:27:36.630Z"
   },
   {
    "duration": 42,
    "start_time": "2022-05-20T16:27:36.673Z"
   },
   {
    "duration": 49,
    "start_time": "2022-05-20T16:27:36.717Z"
   },
   {
    "duration": 21,
    "start_time": "2022-05-20T16:27:36.769Z"
   },
   {
    "duration": 19,
    "start_time": "2022-05-20T16:27:36.792Z"
   },
   {
    "duration": 12,
    "start_time": "2022-05-20T16:27:36.812Z"
   },
   {
    "duration": 9,
    "start_time": "2022-05-20T16:27:36.852Z"
   },
   {
    "duration": 6,
    "start_time": "2022-05-20T16:27:36.863Z"
   },
   {
    "duration": 11,
    "start_time": "2022-05-20T16:27:36.870Z"
   },
   {
    "duration": 22,
    "start_time": "2022-05-20T16:27:36.882Z"
   },
   {
    "duration": 12,
    "start_time": "2022-05-20T16:27:36.906Z"
   },
   {
    "duration": 36,
    "start_time": "2022-05-20T16:27:36.920Z"
   },
   {
    "duration": 8,
    "start_time": "2022-05-20T16:27:36.958Z"
   },
   {
    "duration": 12,
    "start_time": "2022-05-20T16:27:36.967Z"
   },
   {
    "duration": 19,
    "start_time": "2022-05-20T16:27:36.981Z"
   },
   {
    "duration": 14,
    "start_time": "2022-05-20T16:27:37.002Z"
   },
   {
    "duration": 35,
    "start_time": "2022-05-20T16:27:37.018Z"
   },
   {
    "duration": 539,
    "start_time": "2022-05-20T16:27:37.055Z"
   },
   {
    "duration": 6,
    "start_time": "2022-05-20T16:27:37.596Z"
   },
   {
    "duration": 281,
    "start_time": "2022-05-20T16:27:37.604Z"
   },
   {
    "duration": 7,
    "start_time": "2022-05-20T16:27:37.888Z"
   },
   {
    "duration": 217,
    "start_time": "2022-05-20T16:27:37.897Z"
   },
   {
    "duration": 7,
    "start_time": "2022-05-20T16:27:38.116Z"
   },
   {
    "duration": 185,
    "start_time": "2022-05-20T16:27:38.124Z"
   },
   {
    "duration": 6,
    "start_time": "2022-05-20T16:27:38.311Z"
   },
   {
    "duration": 352,
    "start_time": "2022-05-20T16:27:38.319Z"
   },
   {
    "duration": 8,
    "start_time": "2022-05-20T16:27:38.672Z"
   },
   {
    "duration": 237,
    "start_time": "2022-05-20T16:27:38.681Z"
   },
   {
    "duration": 425,
    "start_time": "2022-05-20T16:27:38.920Z"
   },
   {
    "duration": 13,
    "start_time": "2022-05-20T16:27:39.347Z"
   },
   {
    "duration": 9,
    "start_time": "2022-05-20T16:27:39.366Z"
   },
   {
    "duration": 6,
    "start_time": "2022-05-20T16:27:39.377Z"
   },
   {
    "duration": 8,
    "start_time": "2022-05-20T16:27:39.386Z"
   },
   {
    "duration": 11,
    "start_time": "2022-05-20T16:27:39.396Z"
   },
   {
    "duration": 2050,
    "start_time": "2022-05-20T21:41:00.340Z"
   },
   {
    "duration": 51,
    "start_time": "2022-05-20T21:41:02.392Z"
   },
   {
    "duration": 104,
    "start_time": "2022-05-20T21:41:02.444Z"
   },
   {
    "duration": 11,
    "start_time": "2022-05-20T21:41:02.550Z"
   },
   {
    "duration": 13,
    "start_time": "2022-05-20T21:41:02.562Z"
   },
   {
    "duration": 83,
    "start_time": "2022-05-20T21:41:02.576Z"
   },
   {
    "duration": 81,
    "start_time": "2022-05-20T21:41:02.661Z"
   },
   {
    "duration": 6,
    "start_time": "2022-05-20T21:41:02.743Z"
   },
   {
    "duration": 22,
    "start_time": "2022-05-20T21:41:02.751Z"
   },
   {
    "duration": 37,
    "start_time": "2022-05-20T21:41:02.775Z"
   },
   {
    "duration": 55,
    "start_time": "2022-05-20T21:41:02.813Z"
   },
   {
    "duration": 43,
    "start_time": "2022-05-20T21:41:02.870Z"
   },
   {
    "duration": 70,
    "start_time": "2022-05-20T21:41:02.915Z"
   },
   {
    "duration": 28,
    "start_time": "2022-05-20T21:41:02.987Z"
   },
   {
    "duration": 115,
    "start_time": "2022-05-20T21:41:03.017Z"
   },
   {
    "duration": 1,
    "start_time": "2022-05-20T21:41:03.141Z"
   },
   {
    "duration": 0,
    "start_time": "2022-05-20T21:41:03.144Z"
   },
   {
    "duration": 0,
    "start_time": "2022-05-20T21:41:03.145Z"
   },
   {
    "duration": 0,
    "start_time": "2022-05-20T21:41:03.147Z"
   },
   {
    "duration": 0,
    "start_time": "2022-05-20T21:41:03.149Z"
   },
   {
    "duration": 0,
    "start_time": "2022-05-20T21:41:03.150Z"
   },
   {
    "duration": 0,
    "start_time": "2022-05-20T21:41:03.153Z"
   },
   {
    "duration": 0,
    "start_time": "2022-05-20T21:41:03.154Z"
   },
   {
    "duration": 0,
    "start_time": "2022-05-20T21:41:03.155Z"
   },
   {
    "duration": 0,
    "start_time": "2022-05-20T21:41:03.157Z"
   },
   {
    "duration": 0,
    "start_time": "2022-05-20T21:41:03.158Z"
   },
   {
    "duration": 0,
    "start_time": "2022-05-20T21:41:03.159Z"
   },
   {
    "duration": 0,
    "start_time": "2022-05-20T21:41:03.161Z"
   },
   {
    "duration": 0,
    "start_time": "2022-05-20T21:41:03.162Z"
   },
   {
    "duration": 0,
    "start_time": "2022-05-20T21:41:03.163Z"
   },
   {
    "duration": 0,
    "start_time": "2022-05-20T21:41:03.165Z"
   },
   {
    "duration": 0,
    "start_time": "2022-05-20T21:41:03.166Z"
   },
   {
    "duration": 0,
    "start_time": "2022-05-20T21:41:03.167Z"
   },
   {
    "duration": 0,
    "start_time": "2022-05-20T21:41:03.168Z"
   },
   {
    "duration": 1,
    "start_time": "2022-05-20T21:41:03.169Z"
   },
   {
    "duration": 0,
    "start_time": "2022-05-20T21:41:03.171Z"
   },
   {
    "duration": 0,
    "start_time": "2022-05-20T21:41:03.172Z"
   },
   {
    "duration": 0,
    "start_time": "2022-05-20T21:41:03.173Z"
   },
   {
    "duration": 0,
    "start_time": "2022-05-20T21:41:03.174Z"
   },
   {
    "duration": 0,
    "start_time": "2022-05-20T21:41:03.176Z"
   },
   {
    "duration": 0,
    "start_time": "2022-05-20T21:41:03.177Z"
   },
   {
    "duration": 0,
    "start_time": "2022-05-20T21:41:03.179Z"
   },
   {
    "duration": 0,
    "start_time": "2022-05-20T21:41:03.180Z"
   },
   {
    "duration": 0,
    "start_time": "2022-05-20T21:41:03.240Z"
   },
   {
    "duration": 22,
    "start_time": "2022-05-20T21:41:23.088Z"
   },
   {
    "duration": 23,
    "start_time": "2022-05-20T21:41:24.576Z"
   },
   {
    "duration": 26,
    "start_time": "2022-05-20T21:41:26.944Z"
   },
   {
    "duration": 18,
    "start_time": "2022-05-20T21:41:36.224Z"
   },
   {
    "duration": 19,
    "start_time": "2022-05-20T21:41:42.088Z"
   },
   {
    "duration": 19,
    "start_time": "2022-05-20T21:41:46.163Z"
   },
   {
    "duration": 13,
    "start_time": "2022-05-20T21:41:47.341Z"
   },
   {
    "duration": 892,
    "start_time": "2022-05-20T21:42:04.446Z"
   },
   {
    "duration": 51,
    "start_time": "2022-05-20T21:42:05.340Z"
   },
   {
    "duration": 113,
    "start_time": "2022-05-20T21:42:05.393Z"
   },
   {
    "duration": 35,
    "start_time": "2022-05-20T21:42:05.508Z"
   },
   {
    "duration": 12,
    "start_time": "2022-05-20T21:42:05.545Z"
   },
   {
    "duration": 56,
    "start_time": "2022-05-20T21:42:05.559Z"
   },
   {
    "duration": 65,
    "start_time": "2022-05-20T21:42:05.642Z"
   },
   {
    "duration": 6,
    "start_time": "2022-05-20T21:42:05.708Z"
   },
   {
    "duration": 32,
    "start_time": "2022-05-20T21:42:05.716Z"
   },
   {
    "duration": 35,
    "start_time": "2022-05-20T21:42:05.750Z"
   },
   {
    "duration": 55,
    "start_time": "2022-05-20T21:42:05.787Z"
   },
   {
    "duration": 44,
    "start_time": "2022-05-20T21:42:05.844Z"
   },
   {
    "duration": 53,
    "start_time": "2022-05-20T21:42:05.889Z"
   },
   {
    "duration": 22,
    "start_time": "2022-05-20T21:42:05.944Z"
   },
   {
    "duration": 17,
    "start_time": "2022-05-20T21:42:05.967Z"
   },
   {
    "duration": 11,
    "start_time": "2022-05-20T21:42:05.986Z"
   },
   {
    "duration": 43,
    "start_time": "2022-05-20T21:42:05.999Z"
   },
   {
    "duration": 6,
    "start_time": "2022-05-20T21:42:06.043Z"
   },
   {
    "duration": 12,
    "start_time": "2022-05-20T21:42:06.051Z"
   },
   {
    "duration": 22,
    "start_time": "2022-05-20T21:42:06.064Z"
   },
   {
    "duration": 11,
    "start_time": "2022-05-20T21:42:06.087Z"
   },
   {
    "duration": 15,
    "start_time": "2022-05-20T21:42:06.099Z"
   },
   {
    "duration": 8,
    "start_time": "2022-05-20T21:42:06.142Z"
   },
   {
    "duration": 11,
    "start_time": "2022-05-20T21:42:06.152Z"
   },
   {
    "duration": 24,
    "start_time": "2022-05-20T21:42:06.165Z"
   },
   {
    "duration": 11,
    "start_time": "2022-05-20T21:42:06.191Z"
   },
   {
    "duration": 6,
    "start_time": "2022-05-20T21:42:06.203Z"
   },
   {
    "duration": 811,
    "start_time": "2022-05-20T21:42:06.243Z"
   },
   {
    "duration": 7,
    "start_time": "2022-05-20T21:42:07.056Z"
   },
   {
    "duration": 289,
    "start_time": "2022-05-20T21:42:07.066Z"
   },
   {
    "duration": 7,
    "start_time": "2022-05-20T21:42:07.357Z"
   },
   {
    "duration": 200,
    "start_time": "2022-05-20T21:42:07.366Z"
   },
   {
    "duration": 6,
    "start_time": "2022-05-20T21:42:07.568Z"
   },
   {
    "duration": 188,
    "start_time": "2022-05-20T21:42:07.575Z"
   },
   {
    "duration": 6,
    "start_time": "2022-05-20T21:42:07.765Z"
   },
   {
    "duration": 341,
    "start_time": "2022-05-20T21:42:07.772Z"
   },
   {
    "duration": 6,
    "start_time": "2022-05-20T21:42:08.115Z"
   },
   {
    "duration": 262,
    "start_time": "2022-05-20T21:42:08.122Z"
   },
   {
    "duration": 367,
    "start_time": "2022-05-20T21:42:08.385Z"
   },
   {
    "duration": 10,
    "start_time": "2022-05-20T21:42:08.753Z"
   },
   {
    "duration": 7,
    "start_time": "2022-05-20T21:42:08.765Z"
   },
   {
    "duration": 5,
    "start_time": "2022-05-20T21:42:08.773Z"
   },
   {
    "duration": 6,
    "start_time": "2022-05-20T21:42:08.779Z"
   },
   {
    "duration": 6,
    "start_time": "2022-05-20T21:42:08.786Z"
   },
   {
    "duration": 846,
    "start_time": "2022-05-20T21:44:21.790Z"
   },
   {
    "duration": 55,
    "start_time": "2022-05-20T21:44:22.639Z"
   },
   {
    "duration": 103,
    "start_time": "2022-05-20T21:44:22.695Z"
   },
   {
    "duration": 11,
    "start_time": "2022-05-20T21:44:22.800Z"
   },
   {
    "duration": 35,
    "start_time": "2022-05-20T21:44:22.812Z"
   },
   {
    "duration": 55,
    "start_time": "2022-05-20T21:44:22.849Z"
   },
   {
    "duration": 86,
    "start_time": "2022-05-20T21:44:22.906Z"
   },
   {
    "duration": 5,
    "start_time": "2022-05-20T21:44:22.994Z"
   },
   {
    "duration": 14,
    "start_time": "2022-05-20T21:44:23.000Z"
   },
   {
    "duration": 45,
    "start_time": "2022-05-20T21:44:23.016Z"
   },
   {
    "duration": 30,
    "start_time": "2022-05-20T21:44:23.063Z"
   },
   {
    "duration": 65,
    "start_time": "2022-05-20T21:44:23.095Z"
   },
   {
    "duration": 36,
    "start_time": "2022-05-20T21:44:23.162Z"
   },
   {
    "duration": 45,
    "start_time": "2022-05-20T21:44:23.200Z"
   },
   {
    "duration": 18,
    "start_time": "2022-05-20T21:44:23.247Z"
   },
   {
    "duration": 13,
    "start_time": "2022-05-20T21:44:23.267Z"
   },
   {
    "duration": 11,
    "start_time": "2022-05-20T21:44:23.282Z"
   },
   {
    "duration": 9,
    "start_time": "2022-05-20T21:44:23.294Z"
   },
   {
    "duration": 43,
    "start_time": "2022-05-20T21:44:23.305Z"
   },
   {
    "duration": 14,
    "start_time": "2022-05-20T21:44:23.350Z"
   },
   {
    "duration": 12,
    "start_time": "2022-05-20T21:44:23.366Z"
   },
   {
    "duration": 10,
    "start_time": "2022-05-20T21:44:23.380Z"
   },
   {
    "duration": 13,
    "start_time": "2022-05-20T21:44:23.391Z"
   },
   {
    "duration": 45,
    "start_time": "2022-05-20T21:44:23.406Z"
   },
   {
    "duration": 19,
    "start_time": "2022-05-20T21:44:23.452Z"
   },
   {
    "duration": 12,
    "start_time": "2022-05-20T21:44:23.473Z"
   },
   {
    "duration": 6,
    "start_time": "2022-05-20T21:44:23.486Z"
   },
   {
    "duration": 540,
    "start_time": "2022-05-20T21:44:23.497Z"
   },
   {
    "duration": 6,
    "start_time": "2022-05-20T21:44:24.041Z"
   },
   {
    "duration": 242,
    "start_time": "2022-05-20T21:44:24.048Z"
   },
   {
    "duration": 5,
    "start_time": "2022-05-20T21:44:24.292Z"
   },
   {
    "duration": 195,
    "start_time": "2022-05-20T21:44:24.299Z"
   },
   {
    "duration": 6,
    "start_time": "2022-05-20T21:44:24.496Z"
   },
   {
    "duration": 177,
    "start_time": "2022-05-20T21:44:24.504Z"
   },
   {
    "duration": 5,
    "start_time": "2022-05-20T21:44:24.683Z"
   },
   {
    "duration": 334,
    "start_time": "2022-05-20T21:44:24.689Z"
   },
   {
    "duration": 5,
    "start_time": "2022-05-20T21:44:25.025Z"
   },
   {
    "duration": 262,
    "start_time": "2022-05-20T21:44:25.031Z"
   },
   {
    "duration": 434,
    "start_time": "2022-05-20T21:44:25.295Z"
   },
   {
    "duration": 12,
    "start_time": "2022-05-20T21:44:25.730Z"
   },
   {
    "duration": 6,
    "start_time": "2022-05-20T21:44:25.743Z"
   },
   {
    "duration": 4,
    "start_time": "2022-05-20T21:44:25.751Z"
   },
   {
    "duration": 5,
    "start_time": "2022-05-20T21:44:25.757Z"
   },
   {
    "duration": 6,
    "start_time": "2022-05-20T21:44:25.764Z"
   },
   {
    "duration": 18,
    "start_time": "2022-05-20T21:45:29.947Z"
   },
   {
    "duration": 205,
    "start_time": "2022-05-20T21:46:49.792Z"
   },
   {
    "duration": 162,
    "start_time": "2022-05-20T21:46:55.708Z"
   },
   {
    "duration": 285,
    "start_time": "2022-05-20T21:47:02.061Z"
   },
   {
    "duration": 186,
    "start_time": "2022-05-20T21:47:14.346Z"
   },
   {
    "duration": 164,
    "start_time": "2022-05-20T21:47:22.785Z"
   },
   {
    "duration": 149,
    "start_time": "2022-05-20T21:47:27.509Z"
   },
   {
    "duration": 32,
    "start_time": "2022-05-20T21:53:28.297Z"
   },
   {
    "duration": 4,
    "start_time": "2022-05-20T21:53:38.587Z"
   },
   {
    "duration": 4,
    "start_time": "2022-05-20T21:53:45.350Z"
   },
   {
    "duration": 4,
    "start_time": "2022-05-20T21:53:48.343Z"
   },
   {
    "duration": 79,
    "start_time": "2022-05-20T21:57:10.079Z"
   },
   {
    "duration": 18,
    "start_time": "2022-05-20T21:59:05.318Z"
   },
   {
    "duration": 1639,
    "start_time": "2022-05-21T12:55:33.023Z"
   },
   {
    "duration": 48,
    "start_time": "2022-05-21T12:55:34.663Z"
   },
   {
    "duration": 75,
    "start_time": "2022-05-21T12:55:34.713Z"
   },
   {
    "duration": 11,
    "start_time": "2022-05-21T12:55:34.812Z"
   },
   {
    "duration": 11,
    "start_time": "2022-05-21T12:55:34.825Z"
   },
   {
    "duration": 53,
    "start_time": "2022-05-21T12:55:34.838Z"
   },
   {
    "duration": 59,
    "start_time": "2022-05-21T12:55:34.912Z"
   },
   {
    "duration": 5,
    "start_time": "2022-05-21T12:55:34.973Z"
   },
   {
    "duration": 12,
    "start_time": "2022-05-21T12:55:34.979Z"
   },
   {
    "duration": 51,
    "start_time": "2022-05-21T12:55:34.993Z"
   },
   {
    "duration": 29,
    "start_time": "2022-05-21T12:55:35.046Z"
   },
   {
    "duration": 62,
    "start_time": "2022-05-21T12:55:35.078Z"
   },
   {
    "duration": 31,
    "start_time": "2022-05-21T12:55:35.142Z"
   },
   {
    "duration": 43,
    "start_time": "2022-05-21T12:55:35.176Z"
   },
   {
    "duration": 19,
    "start_time": "2022-05-21T12:55:35.221Z"
   },
   {
    "duration": 11,
    "start_time": "2022-05-21T12:55:35.241Z"
   },
   {
    "duration": 9,
    "start_time": "2022-05-21T12:55:35.254Z"
   },
   {
    "duration": 11,
    "start_time": "2022-05-21T12:55:35.264Z"
   },
   {
    "duration": 38,
    "start_time": "2022-05-21T12:55:35.276Z"
   },
   {
    "duration": 14,
    "start_time": "2022-05-21T12:55:35.316Z"
   },
   {
    "duration": 13,
    "start_time": "2022-05-21T12:55:35.331Z"
   },
   {
    "duration": 8,
    "start_time": "2022-05-21T12:55:35.346Z"
   },
   {
    "duration": 7,
    "start_time": "2022-05-21T12:55:35.355Z"
   },
   {
    "duration": 8,
    "start_time": "2022-05-21T12:55:35.364Z"
   },
   {
    "duration": 44,
    "start_time": "2022-05-21T12:55:35.374Z"
   },
   {
    "duration": 17,
    "start_time": "2022-05-21T12:55:35.420Z"
   },
   {
    "duration": 8,
    "start_time": "2022-05-21T12:55:35.439Z"
   },
   {
    "duration": 489,
    "start_time": "2022-05-21T12:55:35.449Z"
   },
   {
    "duration": 6,
    "start_time": "2022-05-21T12:55:35.940Z"
   },
   {
    "duration": 229,
    "start_time": "2022-05-21T12:55:35.947Z"
   },
   {
    "duration": 6,
    "start_time": "2022-05-21T12:55:36.178Z"
   },
   {
    "duration": 182,
    "start_time": "2022-05-21T12:55:36.185Z"
   },
   {
    "duration": 6,
    "start_time": "2022-05-21T12:55:36.369Z"
   },
   {
    "duration": 163,
    "start_time": "2022-05-21T12:55:36.376Z"
   },
   {
    "duration": 5,
    "start_time": "2022-05-21T12:55:36.541Z"
   },
   {
    "duration": 168,
    "start_time": "2022-05-21T12:55:36.547Z"
   },
   {
    "duration": 5,
    "start_time": "2022-05-21T12:55:36.717Z"
   },
   {
    "duration": 259,
    "start_time": "2022-05-21T12:55:36.723Z"
   },
   {
    "duration": 5,
    "start_time": "2022-05-21T12:55:36.984Z"
   },
   {
    "duration": 418,
    "start_time": "2022-05-21T12:55:36.990Z"
   },
   {
    "duration": 10,
    "start_time": "2022-05-21T12:55:37.411Z"
   },
   {
    "duration": 6,
    "start_time": "2022-05-21T12:55:37.422Z"
   },
   {
    "duration": 3,
    "start_time": "2022-05-21T12:55:37.430Z"
   },
   {
    "duration": 7,
    "start_time": "2022-05-21T12:55:37.435Z"
   },
   {
    "duration": 6,
    "start_time": "2022-05-21T12:55:37.443Z"
   },
   {
    "duration": 8,
    "start_time": "2022-05-21T12:57:08.325Z"
   },
   {
    "duration": 733,
    "start_time": "2022-05-22T19:14:13.547Z"
   },
   {
    "duration": 1786,
    "start_time": "2022-05-22T19:33:46.916Z"
   },
   {
    "duration": 52,
    "start_time": "2022-05-22T19:33:48.705Z"
   },
   {
    "duration": 71,
    "start_time": "2022-05-22T19:33:48.759Z"
   },
   {
    "duration": 29,
    "start_time": "2022-05-22T19:33:48.832Z"
   },
   {
    "duration": 11,
    "start_time": "2022-05-22T19:33:48.863Z"
   },
   {
    "duration": 50,
    "start_time": "2022-05-22T19:33:48.876Z"
   },
   {
    "duration": 82,
    "start_time": "2022-05-22T19:33:48.928Z"
   },
   {
    "duration": 5,
    "start_time": "2022-05-22T19:33:49.011Z"
   },
   {
    "duration": 14,
    "start_time": "2022-05-22T19:33:49.018Z"
   },
   {
    "duration": 74,
    "start_time": "2022-05-22T19:33:49.036Z"
   },
   {
    "duration": 28,
    "start_time": "2022-05-22T19:33:49.111Z"
   },
   {
    "duration": 52,
    "start_time": "2022-05-22T19:33:49.141Z"
   },
   {
    "duration": 29,
    "start_time": "2022-05-22T19:33:49.195Z"
   },
   {
    "duration": 34,
    "start_time": "2022-05-22T19:33:49.226Z"
   },
   {
    "duration": 17,
    "start_time": "2022-05-22T19:33:49.262Z"
   },
   {
    "duration": 12,
    "start_time": "2022-05-22T19:33:49.280Z"
   },
   {
    "duration": 14,
    "start_time": "2022-05-22T19:33:49.294Z"
   },
   {
    "duration": 8,
    "start_time": "2022-05-22T19:33:49.310Z"
   },
   {
    "duration": 43,
    "start_time": "2022-05-22T19:33:49.320Z"
   },
   {
    "duration": 16,
    "start_time": "2022-05-22T19:33:49.364Z"
   },
   {
    "duration": 15,
    "start_time": "2022-05-22T19:33:49.382Z"
   },
   {
    "duration": 13,
    "start_time": "2022-05-22T19:33:49.398Z"
   },
   {
    "duration": 10,
    "start_time": "2022-05-22T19:33:49.413Z"
   },
   {
    "duration": 10,
    "start_time": "2022-05-22T19:33:49.425Z"
   },
   {
    "duration": 47,
    "start_time": "2022-05-22T19:33:49.437Z"
   },
   {
    "duration": 26,
    "start_time": "2022-05-22T19:33:49.486Z"
   },
   {
    "duration": 8,
    "start_time": "2022-05-22T19:33:49.514Z"
   },
   {
    "duration": 729,
    "start_time": "2022-05-22T19:33:49.527Z"
   },
   {
    "duration": 7,
    "start_time": "2022-05-22T19:33:50.260Z"
   },
   {
    "duration": 256,
    "start_time": "2022-05-22T19:33:50.268Z"
   },
   {
    "duration": 6,
    "start_time": "2022-05-22T19:33:50.526Z"
   },
   {
    "duration": 205,
    "start_time": "2022-05-22T19:33:50.534Z"
   },
   {
    "duration": 6,
    "start_time": "2022-05-22T19:33:50.741Z"
   },
   {
    "duration": 162,
    "start_time": "2022-05-22T19:33:50.759Z"
   },
   {
    "duration": 6,
    "start_time": "2022-05-22T19:33:50.923Z"
   },
   {
    "duration": 158,
    "start_time": "2022-05-22T19:33:50.930Z"
   },
   {
    "duration": 6,
    "start_time": "2022-05-22T19:33:51.091Z"
   },
   {
    "duration": 249,
    "start_time": "2022-05-22T19:33:51.098Z"
   },
   {
    "duration": 10,
    "start_time": "2022-05-22T19:33:51.349Z"
   },
   {
    "duration": 410,
    "start_time": "2022-05-22T19:33:51.361Z"
   },
   {
    "duration": 12,
    "start_time": "2022-05-22T19:33:51.774Z"
   },
   {
    "duration": 23,
    "start_time": "2022-05-22T19:33:51.788Z"
   },
   {
    "duration": 7,
    "start_time": "2022-05-22T19:33:51.813Z"
   },
   {
    "duration": 5,
    "start_time": "2022-05-22T19:33:51.822Z"
   },
   {
    "duration": 6,
    "start_time": "2022-05-22T19:33:51.829Z"
   },
   {
    "duration": 30,
    "start_time": "2022-05-22T19:34:05.597Z"
   }
  ],
  "kernelspec": {
   "display_name": "Python 3 (ipykernel)",
   "language": "python",
   "name": "python3"
  },
  "language_info": {
   "codemirror_mode": {
    "name": "ipython",
    "version": 3
   },
   "file_extension": ".py",
   "mimetype": "text/x-python",
   "name": "python",
   "nbconvert_exporter": "python",
   "pygments_lexer": "ipython3",
   "version": "3.9.5"
  },
  "toc": {
   "base_numbering": 1,
   "nav_menu": {},
   "number_sections": true,
   "sideBar": true,
   "skip_h1_title": true,
   "title_cell": "Table of Contents",
   "title_sidebar": "Contents",
   "toc_cell": false,
   "toc_position": {},
   "toc_section_display": true,
   "toc_window_display": false
  }
 },
 "nbformat": 4,
 "nbformat_minor": 5
}
