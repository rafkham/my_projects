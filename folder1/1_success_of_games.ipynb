{
 "cells": [
  {
   "cell_type": "markdown",
   "id": "02387cab",
   "metadata": {},
   "source": [
    "# Изучение закономерностей, определяющих успешность игр"
   ]
  },
  {
   "cell_type": "markdown",
   "id": "75334577",
   "metadata": {},
   "source": [
    "## 1. Обзор данных"
   ]
  },
  {
   "cell_type": "markdown",
   "id": "48779171",
   "metadata": {},
   "source": [
    "Изучим исходный датафрейм. Посмотрим информацию и выведем на экран."
   ]
  },
  {
   "cell_type": "code",
   "execution_count": 1,
   "id": "69467945",
   "metadata": {},
   "outputs": [],
   "source": [
    "import pandas as pd\n",
    "import numpy as np\n",
    "import matplotlib.pyplot as plt\n",
    "\n",
    "try: \n",
    "    df = pd.read_csv('/datasets/games.csv')\n",
    "except:\n",
    "    df = pd.read_csv('Downloads/games.csv')\n",
    "    "
   ]
  },
  {
   "cell_type": "code",
   "execution_count": 2,
   "id": "c13a8667",
   "metadata": {},
   "outputs": [
    {
     "data": {
      "text/html": [
       "<div>\n",
       "<style scoped>\n",
       "    .dataframe tbody tr th:only-of-type {\n",
       "        vertical-align: middle;\n",
       "    }\n",
       "\n",
       "    .dataframe tbody tr th {\n",
       "        vertical-align: top;\n",
       "    }\n",
       "\n",
       "    .dataframe thead th {\n",
       "        text-align: right;\n",
       "    }\n",
       "</style>\n",
       "<table border=\"1\" class=\"dataframe\">\n",
       "  <thead>\n",
       "    <tr style=\"text-align: right;\">\n",
       "      <th></th>\n",
       "      <th>Name</th>\n",
       "      <th>Platform</th>\n",
       "      <th>Year_of_Release</th>\n",
       "      <th>Genre</th>\n",
       "      <th>NA_sales</th>\n",
       "      <th>EU_sales</th>\n",
       "      <th>JP_sales</th>\n",
       "      <th>Other_sales</th>\n",
       "      <th>Critic_Score</th>\n",
       "      <th>User_Score</th>\n",
       "      <th>Rating</th>\n",
       "    </tr>\n",
       "  </thead>\n",
       "  <tbody>\n",
       "    <tr>\n",
       "      <th>0</th>\n",
       "      <td>Wii Sports</td>\n",
       "      <td>Wii</td>\n",
       "      <td>2006.0</td>\n",
       "      <td>Sports</td>\n",
       "      <td>41.36</td>\n",
       "      <td>28.96</td>\n",
       "      <td>3.77</td>\n",
       "      <td>8.45</td>\n",
       "      <td>76.0</td>\n",
       "      <td>8</td>\n",
       "      <td>E</td>\n",
       "    </tr>\n",
       "    <tr>\n",
       "      <th>1</th>\n",
       "      <td>Super Mario Bros.</td>\n",
       "      <td>NES</td>\n",
       "      <td>1985.0</td>\n",
       "      <td>Platform</td>\n",
       "      <td>29.08</td>\n",
       "      <td>3.58</td>\n",
       "      <td>6.81</td>\n",
       "      <td>0.77</td>\n",
       "      <td>NaN</td>\n",
       "      <td>NaN</td>\n",
       "      <td>NaN</td>\n",
       "    </tr>\n",
       "    <tr>\n",
       "      <th>2</th>\n",
       "      <td>Mario Kart Wii</td>\n",
       "      <td>Wii</td>\n",
       "      <td>2008.0</td>\n",
       "      <td>Racing</td>\n",
       "      <td>15.68</td>\n",
       "      <td>12.76</td>\n",
       "      <td>3.79</td>\n",
       "      <td>3.29</td>\n",
       "      <td>82.0</td>\n",
       "      <td>8.3</td>\n",
       "      <td>E</td>\n",
       "    </tr>\n",
       "    <tr>\n",
       "      <th>3</th>\n",
       "      <td>Wii Sports Resort</td>\n",
       "      <td>Wii</td>\n",
       "      <td>2009.0</td>\n",
       "      <td>Sports</td>\n",
       "      <td>15.61</td>\n",
       "      <td>10.93</td>\n",
       "      <td>3.28</td>\n",
       "      <td>2.95</td>\n",
       "      <td>80.0</td>\n",
       "      <td>8</td>\n",
       "      <td>E</td>\n",
       "    </tr>\n",
       "    <tr>\n",
       "      <th>4</th>\n",
       "      <td>Pokemon Red/Pokemon Blue</td>\n",
       "      <td>GB</td>\n",
       "      <td>1996.0</td>\n",
       "      <td>Role-Playing</td>\n",
       "      <td>11.27</td>\n",
       "      <td>8.89</td>\n",
       "      <td>10.22</td>\n",
       "      <td>1.00</td>\n",
       "      <td>NaN</td>\n",
       "      <td>NaN</td>\n",
       "      <td>NaN</td>\n",
       "    </tr>\n",
       "    <tr>\n",
       "      <th>...</th>\n",
       "      <td>...</td>\n",
       "      <td>...</td>\n",
       "      <td>...</td>\n",
       "      <td>...</td>\n",
       "      <td>...</td>\n",
       "      <td>...</td>\n",
       "      <td>...</td>\n",
       "      <td>...</td>\n",
       "      <td>...</td>\n",
       "      <td>...</td>\n",
       "      <td>...</td>\n",
       "    </tr>\n",
       "    <tr>\n",
       "      <th>16710</th>\n",
       "      <td>Samurai Warriors: Sanada Maru</td>\n",
       "      <td>PS3</td>\n",
       "      <td>2016.0</td>\n",
       "      <td>Action</td>\n",
       "      <td>0.00</td>\n",
       "      <td>0.00</td>\n",
       "      <td>0.01</td>\n",
       "      <td>0.00</td>\n",
       "      <td>NaN</td>\n",
       "      <td>NaN</td>\n",
       "      <td>NaN</td>\n",
       "    </tr>\n",
       "    <tr>\n",
       "      <th>16711</th>\n",
       "      <td>LMA Manager 2007</td>\n",
       "      <td>X360</td>\n",
       "      <td>2006.0</td>\n",
       "      <td>Sports</td>\n",
       "      <td>0.00</td>\n",
       "      <td>0.01</td>\n",
       "      <td>0.00</td>\n",
       "      <td>0.00</td>\n",
       "      <td>NaN</td>\n",
       "      <td>NaN</td>\n",
       "      <td>NaN</td>\n",
       "    </tr>\n",
       "    <tr>\n",
       "      <th>16712</th>\n",
       "      <td>Haitaka no Psychedelica</td>\n",
       "      <td>PSV</td>\n",
       "      <td>2016.0</td>\n",
       "      <td>Adventure</td>\n",
       "      <td>0.00</td>\n",
       "      <td>0.00</td>\n",
       "      <td>0.01</td>\n",
       "      <td>0.00</td>\n",
       "      <td>NaN</td>\n",
       "      <td>NaN</td>\n",
       "      <td>NaN</td>\n",
       "    </tr>\n",
       "    <tr>\n",
       "      <th>16713</th>\n",
       "      <td>Spirits &amp; Spells</td>\n",
       "      <td>GBA</td>\n",
       "      <td>2003.0</td>\n",
       "      <td>Platform</td>\n",
       "      <td>0.01</td>\n",
       "      <td>0.00</td>\n",
       "      <td>0.00</td>\n",
       "      <td>0.00</td>\n",
       "      <td>NaN</td>\n",
       "      <td>NaN</td>\n",
       "      <td>NaN</td>\n",
       "    </tr>\n",
       "    <tr>\n",
       "      <th>16714</th>\n",
       "      <td>Winning Post 8 2016</td>\n",
       "      <td>PSV</td>\n",
       "      <td>2016.0</td>\n",
       "      <td>Simulation</td>\n",
       "      <td>0.00</td>\n",
       "      <td>0.00</td>\n",
       "      <td>0.01</td>\n",
       "      <td>0.00</td>\n",
       "      <td>NaN</td>\n",
       "      <td>NaN</td>\n",
       "      <td>NaN</td>\n",
       "    </tr>\n",
       "  </tbody>\n",
       "</table>\n",
       "<p>16715 rows × 11 columns</p>\n",
       "</div>"
      ],
      "text/plain": [
       "                                Name Platform  Year_of_Release         Genre  \\\n",
       "0                         Wii Sports      Wii           2006.0        Sports   \n",
       "1                  Super Mario Bros.      NES           1985.0      Platform   \n",
       "2                     Mario Kart Wii      Wii           2008.0        Racing   \n",
       "3                  Wii Sports Resort      Wii           2009.0        Sports   \n",
       "4           Pokemon Red/Pokemon Blue       GB           1996.0  Role-Playing   \n",
       "...                              ...      ...              ...           ...   \n",
       "16710  Samurai Warriors: Sanada Maru      PS3           2016.0        Action   \n",
       "16711               LMA Manager 2007     X360           2006.0        Sports   \n",
       "16712        Haitaka no Psychedelica      PSV           2016.0     Adventure   \n",
       "16713               Spirits & Spells      GBA           2003.0      Platform   \n",
       "16714            Winning Post 8 2016      PSV           2016.0    Simulation   \n",
       "\n",
       "       NA_sales  EU_sales  JP_sales  Other_sales  Critic_Score User_Score  \\\n",
       "0         41.36     28.96      3.77         8.45          76.0          8   \n",
       "1         29.08      3.58      6.81         0.77           NaN        NaN   \n",
       "2         15.68     12.76      3.79         3.29          82.0        8.3   \n",
       "3         15.61     10.93      3.28         2.95          80.0          8   \n",
       "4         11.27      8.89     10.22         1.00           NaN        NaN   \n",
       "...         ...       ...       ...          ...           ...        ...   \n",
       "16710      0.00      0.00      0.01         0.00           NaN        NaN   \n",
       "16711      0.00      0.01      0.00         0.00           NaN        NaN   \n",
       "16712      0.00      0.00      0.01         0.00           NaN        NaN   \n",
       "16713      0.01      0.00      0.00         0.00           NaN        NaN   \n",
       "16714      0.00      0.00      0.01         0.00           NaN        NaN   \n",
       "\n",
       "      Rating  \n",
       "0          E  \n",
       "1        NaN  \n",
       "2          E  \n",
       "3          E  \n",
       "4        NaN  \n",
       "...      ...  \n",
       "16710    NaN  \n",
       "16711    NaN  \n",
       "16712    NaN  \n",
       "16713    NaN  \n",
       "16714    NaN  \n",
       "\n",
       "[16715 rows x 11 columns]"
      ]
     },
     "execution_count": 2,
     "metadata": {},
     "output_type": "execute_result"
    }
   ],
   "source": [
    "df"
   ]
  },
  {
   "cell_type": "markdown",
   "id": "6994b14e",
   "metadata": {},
   "source": [
    "Получим информацию о датафрейме"
   ]
  },
  {
   "cell_type": "code",
   "execution_count": 3,
   "id": "dd1c04eb",
   "metadata": {},
   "outputs": [
    {
     "name": "stdout",
     "output_type": "stream",
     "text": [
      "<class 'pandas.core.frame.DataFrame'>\n",
      "RangeIndex: 16715 entries, 0 to 16714\n",
      "Data columns (total 11 columns):\n",
      " #   Column           Non-Null Count  Dtype  \n",
      "---  ------           --------------  -----  \n",
      " 0   Name             16713 non-null  object \n",
      " 1   Platform         16715 non-null  object \n",
      " 2   Year_of_Release  16446 non-null  float64\n",
      " 3   Genre            16713 non-null  object \n",
      " 4   NA_sales         16715 non-null  float64\n",
      " 5   EU_sales         16715 non-null  float64\n",
      " 6   JP_sales         16715 non-null  float64\n",
      " 7   Other_sales      16715 non-null  float64\n",
      " 8   Critic_Score     8137 non-null   float64\n",
      " 9   User_Score       10014 non-null  object \n",
      " 10  Rating           9949 non-null   object \n",
      "dtypes: float64(6), object(5)\n",
      "memory usage: 1.4+ MB\n"
     ]
    }
   ],
   "source": [
    "df.info()"
   ]
  },
  {
   "cell_type": "markdown",
   "id": "8b4de6f4",
   "metadata": {},
   "source": [
    "### 1.1 Вывод\n",
    "При первичном обзоре файлов были обнаружены проблемы:\n",
    "1. Названия столбцов не приведены к нижнему регистру;\n",
    "2. Тип данных в столбце User_Score - object;\n",
    "3. В столбцах Critic_Score, User_Score и Rating большое количество пропусков;\n",
    "4. Столбец Year_of_Release имеет тип данных float.\n",
    "\n",
    "Предварительно можно утверждать, что, данных достаточно для проверки гипотез."
   ]
  },
  {
   "cell_type": "markdown",
   "id": "642ba674",
   "metadata": {},
   "source": [
    "## 2. Подготовка данных"
   ]
  },
  {
   "cell_type": "markdown",
   "id": "9d1fa1a3",
   "metadata": {},
   "source": [
    "Приведем столбцы к нужному регистру"
   ]
  },
  {
   "cell_type": "code",
   "execution_count": 5,
   "id": "c852bb6d",
   "metadata": {},
   "outputs": [],
   "source": [
    "df.columns = df.columns.str.lower()"
   ]
  },
  {
   "cell_type": "code",
   "execution_count": 52,
   "id": "c5b9dc78",
   "metadata": {},
   "outputs": [
    {
     "data": {
      "text/html": [
       "<div>\n",
       "<style scoped>\n",
       "    .dataframe tbody tr th:only-of-type {\n",
       "        vertical-align: middle;\n",
       "    }\n",
       "\n",
       "    .dataframe tbody tr th {\n",
       "        vertical-align: top;\n",
       "    }\n",
       "\n",
       "    .dataframe thead th {\n",
       "        text-align: right;\n",
       "    }\n",
       "</style>\n",
       "<table border=\"1\" class=\"dataframe\">\n",
       "  <thead>\n",
       "    <tr style=\"text-align: right;\">\n",
       "      <th></th>\n",
       "      <th>name</th>\n",
       "      <th>platform</th>\n",
       "      <th>year_of_release</th>\n",
       "      <th>genre</th>\n",
       "      <th>na_sales</th>\n",
       "      <th>eu_sales</th>\n",
       "      <th>jp_sales</th>\n",
       "      <th>other_sales</th>\n",
       "      <th>critic_score</th>\n",
       "      <th>user_score</th>\n",
       "      <th>rating</th>\n",
       "      <th>total_sales</th>\n",
       "    </tr>\n",
       "  </thead>\n",
       "  <tbody>\n",
       "    <tr>\n",
       "      <th>0</th>\n",
       "      <td>Wii Sports</td>\n",
       "      <td>Wii</td>\n",
       "      <td>2006</td>\n",
       "      <td>Sports</td>\n",
       "      <td>41.36</td>\n",
       "      <td>28.96</td>\n",
       "      <td>3.77</td>\n",
       "      <td>8.45</td>\n",
       "      <td>76.0</td>\n",
       "      <td>8.0</td>\n",
       "      <td>E</td>\n",
       "      <td>82.54</td>\n",
       "    </tr>\n",
       "    <tr>\n",
       "      <th>1</th>\n",
       "      <td>Super Mario Bros.</td>\n",
       "      <td>NES</td>\n",
       "      <td>1985</td>\n",
       "      <td>Platform</td>\n",
       "      <td>29.08</td>\n",
       "      <td>3.58</td>\n",
       "      <td>6.81</td>\n",
       "      <td>0.77</td>\n",
       "      <td>NaN</td>\n",
       "      <td>NaN</td>\n",
       "      <td>NaN</td>\n",
       "      <td>40.24</td>\n",
       "    </tr>\n",
       "    <tr>\n",
       "      <th>2</th>\n",
       "      <td>Mario Kart Wii</td>\n",
       "      <td>Wii</td>\n",
       "      <td>2008</td>\n",
       "      <td>Racing</td>\n",
       "      <td>15.68</td>\n",
       "      <td>12.76</td>\n",
       "      <td>3.79</td>\n",
       "      <td>3.29</td>\n",
       "      <td>82.0</td>\n",
       "      <td>8.3</td>\n",
       "      <td>E</td>\n",
       "      <td>35.52</td>\n",
       "    </tr>\n",
       "    <tr>\n",
       "      <th>3</th>\n",
       "      <td>Wii Sports Resort</td>\n",
       "      <td>Wii</td>\n",
       "      <td>2009</td>\n",
       "      <td>Sports</td>\n",
       "      <td>15.61</td>\n",
       "      <td>10.93</td>\n",
       "      <td>3.28</td>\n",
       "      <td>2.95</td>\n",
       "      <td>80.0</td>\n",
       "      <td>8.0</td>\n",
       "      <td>E</td>\n",
       "      <td>32.77</td>\n",
       "    </tr>\n",
       "    <tr>\n",
       "      <th>4</th>\n",
       "      <td>Pokemon Red/Pokemon Blue</td>\n",
       "      <td>GB</td>\n",
       "      <td>1996</td>\n",
       "      <td>Role-Playing</td>\n",
       "      <td>11.27</td>\n",
       "      <td>8.89</td>\n",
       "      <td>10.22</td>\n",
       "      <td>1.00</td>\n",
       "      <td>NaN</td>\n",
       "      <td>NaN</td>\n",
       "      <td>NaN</td>\n",
       "      <td>31.38</td>\n",
       "    </tr>\n",
       "  </tbody>\n",
       "</table>\n",
       "</div>"
      ],
      "text/plain": [
       "                       name platform  year_of_release         genre  na_sales  \\\n",
       "0                Wii Sports      Wii             2006        Sports     41.36   \n",
       "1         Super Mario Bros.      NES             1985      Platform     29.08   \n",
       "2            Mario Kart Wii      Wii             2008        Racing     15.68   \n",
       "3         Wii Sports Resort      Wii             2009        Sports     15.61   \n",
       "4  Pokemon Red/Pokemon Blue       GB             1996  Role-Playing     11.27   \n",
       "\n",
       "   eu_sales  jp_sales  other_sales  critic_score  user_score rating  \\\n",
       "0     28.96      3.77         8.45          76.0         8.0      E   \n",
       "1      3.58      6.81         0.77           NaN         NaN    NaN   \n",
       "2     12.76      3.79         3.29          82.0         8.3      E   \n",
       "3     10.93      3.28         2.95          80.0         8.0      E   \n",
       "4      8.89     10.22         1.00           NaN         NaN    NaN   \n",
       "\n",
       "   total_sales  \n",
       "0        82.54  \n",
       "1        40.24  \n",
       "2        35.52  \n",
       "3        32.77  \n",
       "4        31.38  "
      ]
     },
     "execution_count": 52,
     "metadata": {},
     "output_type": "execute_result"
    }
   ],
   "source": [
    "df.head(5)"
   ]
  },
  {
   "cell_type": "markdown",
   "id": "32c92f36",
   "metadata": {},
   "source": [
    "Для того, чтобы не искажать данные, мы не будем заполнять пропуски в таблице."
   ]
  },
  {
   "cell_type": "markdown",
   "id": "a57306bb",
   "metadata": {},
   "source": [
    "Преобразуем данные в нужные типы"
   ]
  },
  {
   "cell_type": "markdown",
   "id": "6d552a79",
   "metadata": {},
   "source": [
    "tbd - аббревиатура от английского To Be Determined (будет определено) или To Be Decided (будет решено). Используется, если какая-то информация еще не определена или решение по вопросу не принято. Для нашего исследования tbd равносильно пропускам. Для того, чтобы в дальнешем со столбцом 'user_score' проводить различные операции, было решено заменить tbd на NaN."
   ]
  },
  {
   "cell_type": "code",
   "execution_count": 39,
   "id": "7d438e8b",
   "metadata": {},
   "outputs": [],
   "source": [
    "df['year_of_release'] = df['year_of_release'].astype('Int32')\n",
    "df['user_score'] = pd.to_numeric(df['user_score'], errors='coerce')"
   ]
  },
  {
   "cell_type": "code",
   "execution_count": 40,
   "id": "53853fec",
   "metadata": {},
   "outputs": [
    {
     "name": "stdout",
     "output_type": "stream",
     "text": [
      "<class 'pandas.core.frame.DataFrame'>\n",
      "RangeIndex: 16715 entries, 0 to 16714\n",
      "Data columns (total 12 columns):\n",
      " #   Column           Non-Null Count  Dtype  \n",
      "---  ------           --------------  -----  \n",
      " 0   name             16713 non-null  object \n",
      " 1   platform         16715 non-null  object \n",
      " 2   year_of_release  16446 non-null  Int32  \n",
      " 3   genre            16713 non-null  object \n",
      " 4   na_sales         16715 non-null  float64\n",
      " 5   eu_sales         16715 non-null  float64\n",
      " 6   jp_sales         16715 non-null  float64\n",
      " 7   other_sales      16715 non-null  float64\n",
      " 8   critic_score     8137 non-null   float64\n",
      " 9   user_score       7590 non-null   float64\n",
      " 10  rating           9949 non-null   object \n",
      " 11  total_sales      16715 non-null  float64\n",
      "dtypes: Int32(1), float64(7), object(4)\n",
      "memory usage: 1.5+ MB\n"
     ]
    }
   ],
   "source": [
    "df.info()"
   ]
  },
  {
   "cell_type": "markdown",
   "id": "4090c9a4",
   "metadata": {},
   "source": [
    "Посчитаем суммарные продажи во всех регионах и запишем их в отдельный столбец."
   ]
  },
  {
   "cell_type": "code",
   "execution_count": 12,
   "id": "158faeb9",
   "metadata": {},
   "outputs": [],
   "source": [
    "df['total_sales'] = df['na_sales'] + df['eu_sales'] + df['jp_sales'] + df['other_sales'] "
   ]
  },
  {
   "cell_type": "code",
   "execution_count": 53,
   "id": "c0a8b55a",
   "metadata": {},
   "outputs": [
    {
     "data": {
      "text/html": [
       "<div>\n",
       "<style scoped>\n",
       "    .dataframe tbody tr th:only-of-type {\n",
       "        vertical-align: middle;\n",
       "    }\n",
       "\n",
       "    .dataframe tbody tr th {\n",
       "        vertical-align: top;\n",
       "    }\n",
       "\n",
       "    .dataframe thead th {\n",
       "        text-align: right;\n",
       "    }\n",
       "</style>\n",
       "<table border=\"1\" class=\"dataframe\">\n",
       "  <thead>\n",
       "    <tr style=\"text-align: right;\">\n",
       "      <th></th>\n",
       "      <th>name</th>\n",
       "      <th>platform</th>\n",
       "      <th>year_of_release</th>\n",
       "      <th>genre</th>\n",
       "      <th>na_sales</th>\n",
       "      <th>eu_sales</th>\n",
       "      <th>jp_sales</th>\n",
       "      <th>other_sales</th>\n",
       "      <th>critic_score</th>\n",
       "      <th>user_score</th>\n",
       "      <th>rating</th>\n",
       "      <th>total_sales</th>\n",
       "    </tr>\n",
       "  </thead>\n",
       "  <tbody>\n",
       "    <tr>\n",
       "      <th>0</th>\n",
       "      <td>Wii Sports</td>\n",
       "      <td>Wii</td>\n",
       "      <td>2006</td>\n",
       "      <td>Sports</td>\n",
       "      <td>41.36</td>\n",
       "      <td>28.96</td>\n",
       "      <td>3.77</td>\n",
       "      <td>8.45</td>\n",
       "      <td>76.0</td>\n",
       "      <td>8.0</td>\n",
       "      <td>E</td>\n",
       "      <td>82.54</td>\n",
       "    </tr>\n",
       "    <tr>\n",
       "      <th>1</th>\n",
       "      <td>Super Mario Bros.</td>\n",
       "      <td>NES</td>\n",
       "      <td>1985</td>\n",
       "      <td>Platform</td>\n",
       "      <td>29.08</td>\n",
       "      <td>3.58</td>\n",
       "      <td>6.81</td>\n",
       "      <td>0.77</td>\n",
       "      <td>NaN</td>\n",
       "      <td>NaN</td>\n",
       "      <td>NaN</td>\n",
       "      <td>40.24</td>\n",
       "    </tr>\n",
       "    <tr>\n",
       "      <th>2</th>\n",
       "      <td>Mario Kart Wii</td>\n",
       "      <td>Wii</td>\n",
       "      <td>2008</td>\n",
       "      <td>Racing</td>\n",
       "      <td>15.68</td>\n",
       "      <td>12.76</td>\n",
       "      <td>3.79</td>\n",
       "      <td>3.29</td>\n",
       "      <td>82.0</td>\n",
       "      <td>8.3</td>\n",
       "      <td>E</td>\n",
       "      <td>35.52</td>\n",
       "    </tr>\n",
       "    <tr>\n",
       "      <th>3</th>\n",
       "      <td>Wii Sports Resort</td>\n",
       "      <td>Wii</td>\n",
       "      <td>2009</td>\n",
       "      <td>Sports</td>\n",
       "      <td>15.61</td>\n",
       "      <td>10.93</td>\n",
       "      <td>3.28</td>\n",
       "      <td>2.95</td>\n",
       "      <td>80.0</td>\n",
       "      <td>8.0</td>\n",
       "      <td>E</td>\n",
       "      <td>32.77</td>\n",
       "    </tr>\n",
       "    <tr>\n",
       "      <th>4</th>\n",
       "      <td>Pokemon Red/Pokemon Blue</td>\n",
       "      <td>GB</td>\n",
       "      <td>1996</td>\n",
       "      <td>Role-Playing</td>\n",
       "      <td>11.27</td>\n",
       "      <td>8.89</td>\n",
       "      <td>10.22</td>\n",
       "      <td>1.00</td>\n",
       "      <td>NaN</td>\n",
       "      <td>NaN</td>\n",
       "      <td>NaN</td>\n",
       "      <td>31.38</td>\n",
       "    </tr>\n",
       "  </tbody>\n",
       "</table>\n",
       "</div>"
      ],
      "text/plain": [
       "                       name platform  year_of_release         genre  na_sales  \\\n",
       "0                Wii Sports      Wii             2006        Sports     41.36   \n",
       "1         Super Mario Bros.      NES             1985      Platform     29.08   \n",
       "2            Mario Kart Wii      Wii             2008        Racing     15.68   \n",
       "3         Wii Sports Resort      Wii             2009        Sports     15.61   \n",
       "4  Pokemon Red/Pokemon Blue       GB             1996  Role-Playing     11.27   \n",
       "\n",
       "   eu_sales  jp_sales  other_sales  critic_score  user_score rating  \\\n",
       "0     28.96      3.77         8.45          76.0         8.0      E   \n",
       "1      3.58      6.81         0.77           NaN         NaN    NaN   \n",
       "2     12.76      3.79         3.29          82.0         8.3      E   \n",
       "3     10.93      3.28         2.95          80.0         8.0      E   \n",
       "4      8.89     10.22         1.00           NaN         NaN    NaN   \n",
       "\n",
       "   total_sales  \n",
       "0        82.54  \n",
       "1        40.24  \n",
       "2        35.52  \n",
       "3        32.77  \n",
       "4        31.38  "
      ]
     },
     "execution_count": 53,
     "metadata": {},
     "output_type": "execute_result"
    }
   ],
   "source": [
    "df.head(5)"
   ]
  },
  {
   "cell_type": "markdown",
   "id": "5a27dc8f",
   "metadata": {},
   "source": [
    "Пропуски в столбцах critic_score, user_score и rating мы заполнять не будем чтобы не искажать результаты."
   ]
  },
  {
   "cell_type": "markdown",
   "id": "82e8a673",
   "metadata": {},
   "source": [
    "## 3. Исследовательский анализ данных"
   ]
  },
  {
   "cell_type": "markdown",
   "id": "42a2cd27",
   "metadata": {},
   "source": [
    "Посмотрим, сколько игр выпускалось в разные годы, для этого создадим сводную таблицу."
   ]
  },
  {
   "cell_type": "code",
   "execution_count": 14,
   "id": "ad755369",
   "metadata": {},
   "outputs": [],
   "source": [
    "df_years = df.pivot_table(index = ['year_of_release'], values = 'platform', aggfunc = 'count')"
   ]
  },
  {
   "cell_type": "code",
   "execution_count": 15,
   "id": "2fe3dc7f",
   "metadata": {},
   "outputs": [
    {
     "data": {
      "text/html": [
       "<div>\n",
       "<style scoped>\n",
       "    .dataframe tbody tr th:only-of-type {\n",
       "        vertical-align: middle;\n",
       "    }\n",
       "\n",
       "    .dataframe tbody tr th {\n",
       "        vertical-align: top;\n",
       "    }\n",
       "\n",
       "    .dataframe thead th {\n",
       "        text-align: right;\n",
       "    }\n",
       "</style>\n",
       "<table border=\"1\" class=\"dataframe\">\n",
       "  <thead>\n",
       "    <tr style=\"text-align: right;\">\n",
       "      <th></th>\n",
       "      <th>platform</th>\n",
       "    </tr>\n",
       "    <tr>\n",
       "      <th>year_of_release</th>\n",
       "      <th></th>\n",
       "    </tr>\n",
       "  </thead>\n",
       "  <tbody>\n",
       "    <tr>\n",
       "      <th>1980</th>\n",
       "      <td>9</td>\n",
       "    </tr>\n",
       "    <tr>\n",
       "      <th>1981</th>\n",
       "      <td>46</td>\n",
       "    </tr>\n",
       "    <tr>\n",
       "      <th>1982</th>\n",
       "      <td>36</td>\n",
       "    </tr>\n",
       "    <tr>\n",
       "      <th>1983</th>\n",
       "      <td>17</td>\n",
       "    </tr>\n",
       "    <tr>\n",
       "      <th>1984</th>\n",
       "      <td>14</td>\n",
       "    </tr>\n",
       "    <tr>\n",
       "      <th>1985</th>\n",
       "      <td>14</td>\n",
       "    </tr>\n",
       "    <tr>\n",
       "      <th>1986</th>\n",
       "      <td>21</td>\n",
       "    </tr>\n",
       "    <tr>\n",
       "      <th>1987</th>\n",
       "      <td>16</td>\n",
       "    </tr>\n",
       "    <tr>\n",
       "      <th>1988</th>\n",
       "      <td>15</td>\n",
       "    </tr>\n",
       "    <tr>\n",
       "      <th>1989</th>\n",
       "      <td>17</td>\n",
       "    </tr>\n",
       "    <tr>\n",
       "      <th>1990</th>\n",
       "      <td>16</td>\n",
       "    </tr>\n",
       "    <tr>\n",
       "      <th>1991</th>\n",
       "      <td>41</td>\n",
       "    </tr>\n",
       "    <tr>\n",
       "      <th>1992</th>\n",
       "      <td>43</td>\n",
       "    </tr>\n",
       "    <tr>\n",
       "      <th>1993</th>\n",
       "      <td>62</td>\n",
       "    </tr>\n",
       "    <tr>\n",
       "      <th>1994</th>\n",
       "      <td>121</td>\n",
       "    </tr>\n",
       "    <tr>\n",
       "      <th>1995</th>\n",
       "      <td>219</td>\n",
       "    </tr>\n",
       "    <tr>\n",
       "      <th>1996</th>\n",
       "      <td>263</td>\n",
       "    </tr>\n",
       "    <tr>\n",
       "      <th>1997</th>\n",
       "      <td>289</td>\n",
       "    </tr>\n",
       "    <tr>\n",
       "      <th>1998</th>\n",
       "      <td>379</td>\n",
       "    </tr>\n",
       "    <tr>\n",
       "      <th>1999</th>\n",
       "      <td>338</td>\n",
       "    </tr>\n",
       "    <tr>\n",
       "      <th>2000</th>\n",
       "      <td>350</td>\n",
       "    </tr>\n",
       "    <tr>\n",
       "      <th>2001</th>\n",
       "      <td>482</td>\n",
       "    </tr>\n",
       "    <tr>\n",
       "      <th>2002</th>\n",
       "      <td>829</td>\n",
       "    </tr>\n",
       "    <tr>\n",
       "      <th>2003</th>\n",
       "      <td>775</td>\n",
       "    </tr>\n",
       "    <tr>\n",
       "      <th>2004</th>\n",
       "      <td>762</td>\n",
       "    </tr>\n",
       "    <tr>\n",
       "      <th>2005</th>\n",
       "      <td>939</td>\n",
       "    </tr>\n",
       "    <tr>\n",
       "      <th>2006</th>\n",
       "      <td>1006</td>\n",
       "    </tr>\n",
       "    <tr>\n",
       "      <th>2007</th>\n",
       "      <td>1197</td>\n",
       "    </tr>\n",
       "    <tr>\n",
       "      <th>2008</th>\n",
       "      <td>1427</td>\n",
       "    </tr>\n",
       "    <tr>\n",
       "      <th>2009</th>\n",
       "      <td>1426</td>\n",
       "    </tr>\n",
       "    <tr>\n",
       "      <th>2010</th>\n",
       "      <td>1255</td>\n",
       "    </tr>\n",
       "    <tr>\n",
       "      <th>2011</th>\n",
       "      <td>1136</td>\n",
       "    </tr>\n",
       "    <tr>\n",
       "      <th>2012</th>\n",
       "      <td>653</td>\n",
       "    </tr>\n",
       "    <tr>\n",
       "      <th>2013</th>\n",
       "      <td>544</td>\n",
       "    </tr>\n",
       "    <tr>\n",
       "      <th>2014</th>\n",
       "      <td>581</td>\n",
       "    </tr>\n",
       "    <tr>\n",
       "      <th>2015</th>\n",
       "      <td>606</td>\n",
       "    </tr>\n",
       "    <tr>\n",
       "      <th>2016</th>\n",
       "      <td>502</td>\n",
       "    </tr>\n",
       "  </tbody>\n",
       "</table>\n",
       "</div>"
      ],
      "text/plain": [
       "                 platform\n",
       "year_of_release          \n",
       "1980                    9\n",
       "1981                   46\n",
       "1982                   36\n",
       "1983                   17\n",
       "1984                   14\n",
       "1985                   14\n",
       "1986                   21\n",
       "1987                   16\n",
       "1988                   15\n",
       "1989                   17\n",
       "1990                   16\n",
       "1991                   41\n",
       "1992                   43\n",
       "1993                   62\n",
       "1994                  121\n",
       "1995                  219\n",
       "1996                  263\n",
       "1997                  289\n",
       "1998                  379\n",
       "1999                  338\n",
       "2000                  350\n",
       "2001                  482\n",
       "2002                  829\n",
       "2003                  775\n",
       "2004                  762\n",
       "2005                  939\n",
       "2006                 1006\n",
       "2007                 1197\n",
       "2008                 1427\n",
       "2009                 1426\n",
       "2010                 1255\n",
       "2011                 1136\n",
       "2012                  653\n",
       "2013                  544\n",
       "2014                  581\n",
       "2015                  606\n",
       "2016                  502"
      ]
     },
     "execution_count": 15,
     "metadata": {},
     "output_type": "execute_result"
    }
   ],
   "source": [
    "df_years"
   ]
  },
  {
   "cell_type": "markdown",
   "id": "fa7f217f",
   "metadata": {},
   "source": [
    "Для более удобного восприятия построим график по полученным значениям."
   ]
  },
  {
   "cell_type": "code",
   "execution_count": 41,
   "id": "f6c138ea",
   "metadata": {},
   "outputs": [
    {
     "data": {
      "text/plain": [
       "<AxesSubplot:xlabel='year_of_release'>"
      ]
     },
     "execution_count": 41,
     "metadata": {},
     "output_type": "execute_result"
    },
    {
     "data": {
      "image/png": "[encoded data removed]",
      "text/plain": [
       "<Figure size 432x288 with 1 Axes>"
      ]
     },
     "metadata": {
      "needs_background": "light"
     },
     "output_type": "display_data"
    }
   ],
   "source": [
    "df_years.plot()"
   ]
  },
  {
   "cell_type": "markdown",
   "id": "011184d1",
   "metadata": {},
   "source": [
    "Больше всего игр выпускалось в период с 2005 по 2011 год"
   ]
  },
  {
   "cell_type": "markdown",
   "id": "8dfe40f0",
   "metadata": {},
   "source": [
    "Определим платформы с наибольшими суммарными продажами."
   ]
  },
  {
   "cell_type": "code",
   "execution_count": 16,
   "id": "e2520214",
   "metadata": {},
   "outputs": [],
   "source": [
    "df_platforms = df.pivot_table(index = ['platform'], values = 'total_sales', aggfunc = 'sum').sort_values('total_sales')"
   ]
  },
  {
   "cell_type": "code",
   "execution_count": 17,
   "id": "41ce74df",
   "metadata": {},
   "outputs": [
    {
     "data": {
      "text/html": [
       "<div>\n",
       "<style scoped>\n",
       "    .dataframe tbody tr th:only-of-type {\n",
       "        vertical-align: middle;\n",
       "    }\n",
       "\n",
       "    .dataframe tbody tr th {\n",
       "        vertical-align: top;\n",
       "    }\n",
       "\n",
       "    .dataframe thead th {\n",
       "        text-align: right;\n",
       "    }\n",
       "</style>\n",
       "<table border=\"1\" class=\"dataframe\">\n",
       "  <thead>\n",
       "    <tr style=\"text-align: right;\">\n",
       "      <th></th>\n",
       "      <th>total_sales</th>\n",
       "    </tr>\n",
       "    <tr>\n",
       "      <th>platform</th>\n",
       "      <th></th>\n",
       "    </tr>\n",
       "  </thead>\n",
       "  <tbody>\n",
       "    <tr>\n",
       "      <th>PCFX</th>\n",
       "      <td>0.03</td>\n",
       "    </tr>\n",
       "    <tr>\n",
       "      <th>GG</th>\n",
       "      <td>0.04</td>\n",
       "    </tr>\n",
       "    <tr>\n",
       "      <th>3DO</th>\n",
       "      <td>0.10</td>\n",
       "    </tr>\n",
       "    <tr>\n",
       "      <th>TG16</th>\n",
       "      <td>0.16</td>\n",
       "    </tr>\n",
       "    <tr>\n",
       "      <th>WS</th>\n",
       "      <td>1.42</td>\n",
       "    </tr>\n",
       "    <tr>\n",
       "      <th>NG</th>\n",
       "      <td>1.44</td>\n",
       "    </tr>\n",
       "    <tr>\n",
       "      <th>SCD</th>\n",
       "      <td>1.86</td>\n",
       "    </tr>\n",
       "    <tr>\n",
       "      <th>DC</th>\n",
       "      <td>15.95</td>\n",
       "    </tr>\n",
       "    <tr>\n",
       "      <th>GEN</th>\n",
       "      <td>30.77</td>\n",
       "    </tr>\n",
       "    <tr>\n",
       "      <th>SAT</th>\n",
       "      <td>33.59</td>\n",
       "    </tr>\n",
       "    <tr>\n",
       "      <th>PSV</th>\n",
       "      <td>54.07</td>\n",
       "    </tr>\n",
       "    <tr>\n",
       "      <th>WiiU</th>\n",
       "      <td>82.19</td>\n",
       "    </tr>\n",
       "    <tr>\n",
       "      <th>2600</th>\n",
       "      <td>96.98</td>\n",
       "    </tr>\n",
       "    <tr>\n",
       "      <th>XOne</th>\n",
       "      <td>159.32</td>\n",
       "    </tr>\n",
       "    <tr>\n",
       "      <th>GC</th>\n",
       "      <td>198.93</td>\n",
       "    </tr>\n",
       "    <tr>\n",
       "      <th>SNES</th>\n",
       "      <td>200.04</td>\n",
       "    </tr>\n",
       "    <tr>\n",
       "      <th>N64</th>\n",
       "      <td>218.68</td>\n",
       "    </tr>\n",
       "    <tr>\n",
       "      <th>NES</th>\n",
       "      <td>251.05</td>\n",
       "    </tr>\n",
       "    <tr>\n",
       "      <th>GB</th>\n",
       "      <td>255.46</td>\n",
       "    </tr>\n",
       "    <tr>\n",
       "      <th>XB</th>\n",
       "      <td>257.74</td>\n",
       "    </tr>\n",
       "    <tr>\n",
       "      <th>3DS</th>\n",
       "      <td>259.00</td>\n",
       "    </tr>\n",
       "    <tr>\n",
       "      <th>PC</th>\n",
       "      <td>259.52</td>\n",
       "    </tr>\n",
       "    <tr>\n",
       "      <th>PSP</th>\n",
       "      <td>294.05</td>\n",
       "    </tr>\n",
       "    <tr>\n",
       "      <th>PS4</th>\n",
       "      <td>314.14</td>\n",
       "    </tr>\n",
       "    <tr>\n",
       "      <th>GBA</th>\n",
       "      <td>317.85</td>\n",
       "    </tr>\n",
       "    <tr>\n",
       "      <th>PS</th>\n",
       "      <td>730.86</td>\n",
       "    </tr>\n",
       "    <tr>\n",
       "      <th>DS</th>\n",
       "      <td>806.12</td>\n",
       "    </tr>\n",
       "    <tr>\n",
       "      <th>Wii</th>\n",
       "      <td>907.51</td>\n",
       "    </tr>\n",
       "    <tr>\n",
       "      <th>PS3</th>\n",
       "      <td>939.65</td>\n",
       "    </tr>\n",
       "    <tr>\n",
       "      <th>X360</th>\n",
       "      <td>971.42</td>\n",
       "    </tr>\n",
       "    <tr>\n",
       "      <th>PS2</th>\n",
       "      <td>1255.77</td>\n",
       "    </tr>\n",
       "  </tbody>\n",
       "</table>\n",
       "</div>"
      ],
      "text/plain": [
       "          total_sales\n",
       "platform             \n",
       "PCFX             0.03\n",
       "GG               0.04\n",
       "3DO              0.10\n",
       "TG16             0.16\n",
       "WS               1.42\n",
       "NG               1.44\n",
       "SCD              1.86\n",
       "DC              15.95\n",
       "GEN             30.77\n",
       "SAT             33.59\n",
       "PSV             54.07\n",
       "WiiU            82.19\n",
       "2600            96.98\n",
       "XOne           159.32\n",
       "GC             198.93\n",
       "SNES           200.04\n",
       "N64            218.68\n",
       "NES            251.05\n",
       "GB             255.46\n",
       "XB             257.74\n",
       "3DS            259.00\n",
       "PC             259.52\n",
       "PSP            294.05\n",
       "PS4            314.14\n",
       "GBA            317.85\n",
       "PS             730.86\n",
       "DS             806.12\n",
       "Wii            907.51\n",
       "PS3            939.65\n",
       "X360           971.42\n",
       "PS2           1255.77"
      ]
     },
     "execution_count": 17,
     "metadata": {},
     "output_type": "execute_result"
    }
   ],
   "source": [
    "df_platforms"
   ]
  },
  {
   "cell_type": "markdown",
   "id": "6374ceb9",
   "metadata": {},
   "source": [
    "Самыми популярными оказались платформы PS2, X360, PS3, Wii."
   ]
  },
  {
   "cell_type": "markdown",
   "id": "d96e9c8a",
   "metadata": {},
   "source": [
    "Построим распределение по годам и определим, за какой характерный срок появляются новые и исчезают старые платформы."
   ]
  },
  {
   "cell_type": "code",
   "execution_count": 18,
   "id": "c9cdbf1b",
   "metadata": {},
   "outputs": [
    {
     "data": {
      "image/png": "[encoded data removed]",
      "text/plain": [
       "<Figure size 432x288 with 1 Axes>"
      ]
     },
     "metadata": {
      "needs_background": "light"
     },
     "output_type": "display_data"
    },
    {
     "data": {
      "image/png": "[encoded data removed]",
      "text/plain": [
       "<Figure size 432x288 with 1 Axes>"
      ]
     },
     "metadata": {
      "needs_background": "light"
     },
     "output_type": "display_data"
    },
    {
     "data": {
      "image/png": "[encoded data removed]",
      "text/plain": [
       "<Figure size 432x288 with 1 Axes>"
      ]
     },
     "metadata": {
      "needs_background": "light"
     },
     "output_type": "display_data"
    },
    {
     "data": {
      "image/png": "[encoded data removed]",
      "text/plain": [
       "<Figure size 432x288 with 1 Axes>"
      ]
     },
     "metadata": {
      "needs_background": "light"
     },
     "output_type": "display_data"
    }
   ],
   "source": [
    "df_ps2 = df.query('platform == \"PS2\"').pivot_table(index = ['year_of_release'], values = 'total_sales', aggfunc = 'sum').plot()\n",
    "df_x360 = df.query('platform == \"X360\"').pivot_table(index = ['year_of_release'], values = 'total_sales', aggfunc = 'sum').plot()\n",
    "df_ps3 = df.query('platform == \"PS3\"').pivot_table(index = ['year_of_release'], values = 'total_sales', aggfunc = 'sum').plot()\n",
    "df_wii = df.query('platform == \"Wii\"').pivot_table(index = ['year_of_release'], values = 'total_sales', aggfunc = 'sum').plot()"
   ]
  },
  {
   "cell_type": "markdown",
   "id": "87059239",
   "metadata": {},
   "source": [
    "По приведенным графикам можно сделать вывод, что 'срок жизни' платформы - 10 лет."
   ]
  },
  {
   "cell_type": "markdown",
   "id": "49365d9f",
   "metadata": {},
   "source": [
    "Для нашего исследования мы возьмём за актуальный период 2013-2016 годы."
   ]
  },
  {
   "cell_type": "code",
   "execution_count": 20,
   "id": "8044c189",
   "metadata": {},
   "outputs": [],
   "source": [
    "df_four_years = df[df['year_of_release'] >= 2013] "
   ]
  },
  {
   "cell_type": "code",
   "execution_count": 56,
   "id": "477c55b8",
   "metadata": {},
   "outputs": [
    {
     "data": {
      "text/html": [
       "<div>\n",
       "<style scoped>\n",
       "    .dataframe tbody tr th:only-of-type {\n",
       "        vertical-align: middle;\n",
       "    }\n",
       "\n",
       "    .dataframe tbody tr th {\n",
       "        vertical-align: top;\n",
       "    }\n",
       "\n",
       "    .dataframe thead th {\n",
       "        text-align: right;\n",
       "    }\n",
       "</style>\n",
       "<table border=\"1\" class=\"dataframe\">\n",
       "  <thead>\n",
       "    <tr style=\"text-align: right;\">\n",
       "      <th></th>\n",
       "      <th>name</th>\n",
       "      <th>platform</th>\n",
       "      <th>year_of_release</th>\n",
       "      <th>genre</th>\n",
       "      <th>na_sales</th>\n",
       "      <th>eu_sales</th>\n",
       "      <th>jp_sales</th>\n",
       "      <th>other_sales</th>\n",
       "      <th>critic_score</th>\n",
       "      <th>user_score</th>\n",
       "      <th>rating</th>\n",
       "      <th>total_sales</th>\n",
       "    </tr>\n",
       "  </thead>\n",
       "  <tbody>\n",
       "    <tr>\n",
       "      <th>16</th>\n",
       "      <td>Grand Theft Auto V</td>\n",
       "      <td>PS3</td>\n",
       "      <td>2013</td>\n",
       "      <td>Action</td>\n",
       "      <td>7.02</td>\n",
       "      <td>9.09</td>\n",
       "      <td>0.98</td>\n",
       "      <td>3.96</td>\n",
       "      <td>97.0</td>\n",
       "      <td>8.2</td>\n",
       "      <td>M</td>\n",
       "      <td>21.05</td>\n",
       "    </tr>\n",
       "    <tr>\n",
       "      <th>23</th>\n",
       "      <td>Grand Theft Auto V</td>\n",
       "      <td>X360</td>\n",
       "      <td>2013</td>\n",
       "      <td>Action</td>\n",
       "      <td>9.66</td>\n",
       "      <td>5.14</td>\n",
       "      <td>0.06</td>\n",
       "      <td>1.41</td>\n",
       "      <td>97.0</td>\n",
       "      <td>8.1</td>\n",
       "      <td>M</td>\n",
       "      <td>16.27</td>\n",
       "    </tr>\n",
       "    <tr>\n",
       "      <th>31</th>\n",
       "      <td>Call of Duty: Black Ops 3</td>\n",
       "      <td>PS4</td>\n",
       "      <td>2015</td>\n",
       "      <td>Shooter</td>\n",
       "      <td>6.03</td>\n",
       "      <td>5.86</td>\n",
       "      <td>0.36</td>\n",
       "      <td>2.38</td>\n",
       "      <td>NaN</td>\n",
       "      <td>NaN</td>\n",
       "      <td>NaN</td>\n",
       "      <td>14.63</td>\n",
       "    </tr>\n",
       "    <tr>\n",
       "      <th>33</th>\n",
       "      <td>Pokemon X/Pokemon Y</td>\n",
       "      <td>3DS</td>\n",
       "      <td>2013</td>\n",
       "      <td>Role-Playing</td>\n",
       "      <td>5.28</td>\n",
       "      <td>4.19</td>\n",
       "      <td>4.35</td>\n",
       "      <td>0.78</td>\n",
       "      <td>NaN</td>\n",
       "      <td>NaN</td>\n",
       "      <td>NaN</td>\n",
       "      <td>14.60</td>\n",
       "    </tr>\n",
       "    <tr>\n",
       "      <th>42</th>\n",
       "      <td>Grand Theft Auto V</td>\n",
       "      <td>PS4</td>\n",
       "      <td>2014</td>\n",
       "      <td>Action</td>\n",
       "      <td>3.96</td>\n",
       "      <td>6.31</td>\n",
       "      <td>0.38</td>\n",
       "      <td>1.97</td>\n",
       "      <td>97.0</td>\n",
       "      <td>8.3</td>\n",
       "      <td>M</td>\n",
       "      <td>12.62</td>\n",
       "    </tr>\n",
       "  </tbody>\n",
       "</table>\n",
       "</div>"
      ],
      "text/plain": [
       "                         name platform  year_of_release         genre  \\\n",
       "16         Grand Theft Auto V      PS3             2013        Action   \n",
       "23         Grand Theft Auto V     X360             2013        Action   \n",
       "31  Call of Duty: Black Ops 3      PS4             2015       Shooter   \n",
       "33        Pokemon X/Pokemon Y      3DS             2013  Role-Playing   \n",
       "42         Grand Theft Auto V      PS4             2014        Action   \n",
       "\n",
       "    na_sales  eu_sales  jp_sales  other_sales  critic_score  user_score  \\\n",
       "16      7.02      9.09      0.98         3.96          97.0         8.2   \n",
       "23      9.66      5.14      0.06         1.41          97.0         8.1   \n",
       "31      6.03      5.86      0.36         2.38           NaN         NaN   \n",
       "33      5.28      4.19      4.35         0.78           NaN         NaN   \n",
       "42      3.96      6.31      0.38         1.97          97.0         8.3   \n",
       "\n",
       "   rating  total_sales  \n",
       "16      M        21.05  \n",
       "23      M        16.27  \n",
       "31    NaN        14.63  \n",
       "33    NaN        14.60  \n",
       "42      M        12.62  "
      ]
     },
     "execution_count": 56,
     "metadata": {},
     "output_type": "execute_result"
    }
   ],
   "source": [
    "df_four_years.head(5)"
   ]
  },
  {
   "cell_type": "markdown",
   "id": "2b0ce326",
   "metadata": {},
   "source": [
    "Выберем несколько потенциально прибыльных платформ за актуальный период."
   ]
  },
  {
   "cell_type": "code",
   "execution_count": 59,
   "id": "5e1f2cb5",
   "metadata": {},
   "outputs": [
    {
     "data": {
      "text/html": [
       "<div>\n",
       "<style scoped>\n",
       "    .dataframe tbody tr th:only-of-type {\n",
       "        vertical-align: middle;\n",
       "    }\n",
       "\n",
       "    .dataframe tbody tr th {\n",
       "        vertical-align: top;\n",
       "    }\n",
       "\n",
       "    .dataframe thead th {\n",
       "        text-align: right;\n",
       "    }\n",
       "</style>\n",
       "<table border=\"1\" class=\"dataframe\">\n",
       "  <thead>\n",
       "    <tr style=\"text-align: right;\">\n",
       "      <th></th>\n",
       "      <th>total_sales</th>\n",
       "    </tr>\n",
       "    <tr>\n",
       "      <th>platform</th>\n",
       "      <th></th>\n",
       "    </tr>\n",
       "  </thead>\n",
       "  <tbody>\n",
       "    <tr>\n",
       "      <th>DS</th>\n",
       "      <td>1.54</td>\n",
       "    </tr>\n",
       "    <tr>\n",
       "      <th>PSP</th>\n",
       "      <td>3.50</td>\n",
       "    </tr>\n",
       "    <tr>\n",
       "      <th>Wii</th>\n",
       "      <td>13.66</td>\n",
       "    </tr>\n",
       "    <tr>\n",
       "      <th>PSV</th>\n",
       "      <td>32.99</td>\n",
       "    </tr>\n",
       "    <tr>\n",
       "      <th>PC</th>\n",
       "      <td>39.43</td>\n",
       "    </tr>\n",
       "    <tr>\n",
       "      <th>WiiU</th>\n",
       "      <td>64.63</td>\n",
       "    </tr>\n",
       "    <tr>\n",
       "      <th>X360</th>\n",
       "      <td>136.80</td>\n",
       "    </tr>\n",
       "    <tr>\n",
       "      <th>3DS</th>\n",
       "      <td>143.25</td>\n",
       "    </tr>\n",
       "    <tr>\n",
       "      <th>XOne</th>\n",
       "      <td>159.32</td>\n",
       "    </tr>\n",
       "    <tr>\n",
       "      <th>PS3</th>\n",
       "      <td>181.43</td>\n",
       "    </tr>\n",
       "    <tr>\n",
       "      <th>PS4</th>\n",
       "      <td>314.14</td>\n",
       "    </tr>\n",
       "  </tbody>\n",
       "</table>\n",
       "</div>"
      ],
      "text/plain": [
       "          total_sales\n",
       "platform             \n",
       "DS               1.54\n",
       "PSP              3.50\n",
       "Wii             13.66\n",
       "PSV             32.99\n",
       "PC              39.43\n",
       "WiiU            64.63\n",
       "X360           136.80\n",
       "3DS            143.25\n",
       "XOne           159.32\n",
       "PS3            181.43\n",
       "PS4            314.14"
      ]
     },
     "execution_count": 59,
     "metadata": {},
     "output_type": "execute_result"
    }
   ],
   "source": [
    "df_four_years_pivot = df_four_years.pivot_table(index = ['platform'], values = 'total_sales', aggfunc = 'sum').sort_values('total_sales')\n",
    "df_four_years_pivot"
   ]
  },
  {
   "cell_type": "markdown",
   "id": "508da3e2",
   "metadata": {},
   "source": [
    "Возьмём 3 платформы, которые находятся на стадии развития за выбранный нами актуальный период: 3DS, XOne, PS4"
   ]
  },
  {
   "cell_type": "code",
   "execution_count": 60,
   "id": "c5e87b80",
   "metadata": {},
   "outputs": [],
   "source": [
    "df_ps4 = df_four_years.query('platform == \"PS4\"')\n",
    "df_xone = df_four_years.query('platform == \"XOne\"')\n",
    "df_3ds = df_four_years.query('platform == \"3DS\"')\n",
    "\n",
    "df_ps4_pivot = df_ps4.pivot_table(index = ['year_of_release'], values = 'total_sales', aggfunc = 'sum')\n",
    "df_xone_pivot = df_xone.pivot_table(index = ['year_of_release'], values = 'total_sales', aggfunc = 'sum')\n",
    "df_3ds_pivot = df_3ds.pivot_table(index = ['year_of_release'], values = 'total_sales', aggfunc = 'sum')"
   ]
  },
  {
   "cell_type": "markdown",
   "id": "b9731213",
   "metadata": {},
   "source": [
    "Построим график «ящик с усами» по глобальным продажам игр в разбивке по платформам."
   ]
  },
  {
   "cell_type": "code",
   "execution_count": 60,
   "id": "014a991e",
   "metadata": {},
   "outputs": [
    {
     "data": {
      "text/plain": [
       "Text(0.5, 1.0, 'Глобальные продажи на PS4')"
      ]
     },
     "execution_count": 60,
     "metadata": {},
     "output_type": "execute_result"
    },
    {
     "data": {
      "image/png": "[encoded data removed]",
      "text/plain": [
       "<Figure size 432x288 with 1 Axes>"
      ]
     },
     "metadata": {
      "needs_background": "light"
     },
     "output_type": "display_data"
    }
   ],
   "source": [
    "df_ps4_pivot.boxplot()\n",
    "plt.title('Глобальные продажи на PS4')"
   ]
  },
  {
   "cell_type": "code",
   "execution_count": 58,
   "id": "577db8d0",
   "metadata": {},
   "outputs": [
    {
     "data": {
      "text/plain": [
       "Text(0.5, 1.0, 'Глобальные продажи на XOne')"
      ]
     },
     "execution_count": 58,
     "metadata": {},
     "output_type": "execute_result"
    },
    {
     "data": {
      "image/png": "[encoded data removed]",
      "text/plain": [
       "<Figure size 432x288 with 1 Axes>"
      ]
     },
     "metadata": {
      "needs_background": "light"
     },
     "output_type": "display_data"
    }
   ],
   "source": [
    "df_xone_pivot.boxplot()\n",
    "plt.title('Глобальные продажи на XOne')"
   ]
  },
  {
   "cell_type": "code",
   "execution_count": 59,
   "id": "4d37001f",
   "metadata": {},
   "outputs": [
    {
     "data": {
      "text/plain": [
       "Text(0.5, 1.0, 'Глобальные продажи на 3ds')"
      ]
     },
     "execution_count": 59,
     "metadata": {},
     "output_type": "execute_result"
    },
    {
     "data": {
      "image/png": "[encoded data removed]",
      "text/plain": [
       "<Figure size 432x288 with 1 Axes>"
      ]
     },
     "metadata": {
      "needs_background": "light"
     },
     "output_type": "display_data"
    }
   ],
   "source": [
    "df_3ds_pivot.boxplot()\n",
    "plt.title('Глобальные продажи на 3ds')"
   ]
  },
  {
   "cell_type": "markdown",
   "id": "c350824b",
   "metadata": {},
   "source": [
    "По приведенным графикам можно сделать следующие выводы:\n",
    "\n",
    "* Медианное значение для PS4 = 85 млн. копий\n",
    "* Медианное значение для XOne = 40 млн. копий\n",
    "* Медианное значение для 3ds = 36 млн. копий\n",
    "\n",
    "Самая прибыльная платформа - PS4"
   ]
  },
  {
   "cell_type": "markdown",
   "id": "fa6ec166",
   "metadata": {},
   "source": [
    "Посмотрим, как влияют на продажи внутри платформы PS4 отзывы пользователей и критиков. Построим диаграмму рассеяния и посчитаем корреляцию между отзывами и продажами."
   ]
  },
  {
   "cell_type": "code",
   "execution_count": 61,
   "id": "6084d8b0",
   "metadata": {},
   "outputs": [
    {
     "data": {
      "text/plain": [
       "<AxesSubplot:xlabel='critic_score', ylabel='total_sales'>"
      ]
     },
     "execution_count": 61,
     "metadata": {},
     "output_type": "execute_result"
    },
    {
     "data": {
      "image/png": "[encoded data removed]",
      "text/plain": [
       "<Figure size 432x288 with 1 Axes>"
      ]
     },
     "metadata": {
      "needs_background": "light"
     },
     "output_type": "display_data"
    }
   ],
   "source": [
    "df_ps4.plot(x='critic_score', y='total_sales', kind='scatter')"
   ]
  },
  {
   "cell_type": "code",
   "execution_count": 66,
   "id": "50394ff5",
   "metadata": {},
   "outputs": [
    {
     "data": {
      "text/plain": [
       "<AxesSubplot:xlabel='user_score', ylabel='total_sales'>"
      ]
     },
     "execution_count": 66,
     "metadata": {},
     "output_type": "execute_result"
    },
    {
     "data": {
      "image/png": "[encoded data removed]",
      "text/plain": [
       "<Figure size 432x288 with 1 Axes>"
      ]
     },
     "metadata": {
      "needs_background": "light"
     },
     "output_type": "display_data"
    }
   ],
   "source": [
    "df_ps4.plot(x='user_score', y='total_sales', kind='scatter')"
   ]
  },
  {
   "cell_type": "code",
   "execution_count": 67,
   "id": "a181bcde",
   "metadata": {},
   "outputs": [
    {
     "data": {
      "text/plain": [
       "0.40656790206178123"
      ]
     },
     "metadata": {},
     "output_type": "display_data"
    },
    {
     "data": {
      "text/plain": [
       "-0.03195711020455643"
      ]
     },
     "metadata": {},
     "output_type": "display_data"
    }
   ],
   "source": [
    "display(df_ps4['total_sales'].corr(df_ps4['critic_score']))\n",
    "display(df_ps4['total_sales'].corr(df_ps4['user_score']))"
   ]
  },
  {
   "cell_type": "markdown",
   "id": "03e1288a",
   "metadata": {},
   "source": [
    "По приведенным данным, мы можем сделать вывод, что корреляция наблюдается только между общими продажами и оценкой критиков (40 процентов). Оценка пользователей не влияет на продажи. Рассмотрим другие платформы."
   ]
  },
  {
   "cell_type": "markdown",
   "id": "d391b40a",
   "metadata": {},
   "source": [
    "Посмотрим, как влияют на продажи внутри платформы XOne отзывы пользователей и критиков. Построим диаграмму рассеяния и посчитаем корреляцию между отзывами и продажами."
   ]
  },
  {
   "cell_type": "code",
   "execution_count": 62,
   "id": "fd992776",
   "metadata": {},
   "outputs": [
    {
     "data": {
      "text/plain": [
       "<AxesSubplot:xlabel='critic_score', ylabel='total_sales'>"
      ]
     },
     "execution_count": 62,
     "metadata": {},
     "output_type": "execute_result"
    },
    {
     "data": {
      "image/png": "[encoded data removed]",
      "text/plain": [
       "<Figure size 432x288 with 1 Axes>"
      ]
     },
     "metadata": {
      "needs_background": "light"
     },
     "output_type": "display_data"
    }
   ],
   "source": [
    "df_xone.plot(x='critic_score', y='total_sales', kind='scatter')"
   ]
  },
  {
   "cell_type": "code",
   "execution_count": 64,
   "id": "b588c7d9",
   "metadata": {},
   "outputs": [
    {
     "data": {
      "text/plain": [
       "<AxesSubplot:xlabel='user_score', ylabel='total_sales'>"
      ]
     },
     "execution_count": 64,
     "metadata": {},
     "output_type": "execute_result"
    },
    {
     "data": {
      "image/png": "[encoded data removed]",
      "text/plain": [
       "<Figure size 432x288 with 1 Axes>"
      ]
     },
     "metadata": {
      "needs_background": "light"
     },
     "output_type": "display_data"
    }
   ],
   "source": [
    "df_xone.plot(x='user_score', y='total_sales', kind='scatter')"
   ]
  },
  {
   "cell_type": "code",
   "execution_count": 66,
   "id": "fe01d7fa",
   "metadata": {},
   "outputs": [
    {
     "data": {
      "text/plain": [
       "0.41699832800840164"
      ]
     },
     "metadata": {},
     "output_type": "display_data"
    },
    {
     "data": {
      "text/plain": [
       "-0.06892505328279415"
      ]
     },
     "metadata": {},
     "output_type": "display_data"
    }
   ],
   "source": [
    "display(df_xone['total_sales'].corr(df_xone['critic_score']))\n",
    "display(df_xone['total_sales'].corr(df_xone['user_score']))"
   ]
  },
  {
   "cell_type": "markdown",
   "id": "c51b722d",
   "metadata": {},
   "source": [
    "Результаты получились аналогичными PS4."
   ]
  },
  {
   "cell_type": "markdown",
   "id": "c843afeb",
   "metadata": {},
   "source": [
    "Посмотрим, как влияют на продажи внутри платформы 3ds отзывы пользователей и критиков. Построим диаграмму рассеяния и посчитаем корреляцию между отзывами и продажами. "
   ]
  },
  {
   "cell_type": "code",
   "execution_count": 67,
   "id": "cf11c544",
   "metadata": {},
   "outputs": [
    {
     "data": {
      "text/plain": [
       "<AxesSubplot:xlabel='critic_score', ylabel='total_sales'>"
      ]
     },
     "execution_count": 67,
     "metadata": {},
     "output_type": "execute_result"
    },
    {
     "data": {
      "image/png": "[encoded data removed]",
      "text/plain": [
       "<Figure size 432x288 with 1 Axes>"
      ]
     },
     "metadata": {
      "needs_background": "light"
     },
     "output_type": "display_data"
    }
   ],
   "source": [
    "df_3ds.plot(x='critic_score', y='total_sales', kind='scatter')"
   ]
  },
  {
   "cell_type": "code",
   "execution_count": 72,
   "id": "21ccbf25",
   "metadata": {},
   "outputs": [
    {
     "data": {
      "text/plain": [
       "<AxesSubplot:xlabel='user_score', ylabel='total_sales'>"
      ]
     },
     "execution_count": 72,
     "metadata": {},
     "output_type": "execute_result"
    },
    {
     "data": {
      "image/png": "[encoded data removed]",
      "text/plain": [
       "<Figure size 432x288 with 1 Axes>"
      ]
     },
     "metadata": {
      "needs_background": "light"
     },
     "output_type": "display_data"
    }
   ],
   "source": [
    "df_3ds.plot(x='user_score', y='total_sales', kind='scatter')"
   ]
  },
  {
   "cell_type": "code",
   "execution_count": 70,
   "id": "88bfdfe6",
   "metadata": {},
   "outputs": [
    {
     "data": {
      "text/plain": [
       "0.35705661422881035"
      ]
     },
     "metadata": {},
     "output_type": "display_data"
    },
    {
     "data": {
      "text/plain": [
       "0.24150411773563016"
      ]
     },
     "metadata": {},
     "output_type": "display_data"
    }
   ],
   "source": [
    "display(df_3ds['total_sales'].corr(df_3ds['critic_score']))\n",
    "display(df_3ds['total_sales'].corr(df_3ds['user_score']))"
   ]
  },
  {
   "cell_type": "markdown",
   "id": "d2ee0931",
   "metadata": {},
   "source": [
    "Внутри платформы 3ds мы наблюдаем немного иную картину. Отзывы критиков всё также влияют на продажи (корреляция 36%), но внутри данной платформы имеют влияние и отзывы пользователей (корреляция 24 процента)."
   ]
  },
  {
   "cell_type": "markdown",
   "id": "ad4ac69d",
   "metadata": {},
   "source": [
    "Для уточнения результатов, найдем корреляцию еще у двух популярных платформ: PS3 и X360"
   ]
  },
  {
   "cell_type": "code",
   "execution_count": 86,
   "id": "8e3a7b7b",
   "metadata": {},
   "outputs": [],
   "source": [
    "df_ps3 = df_four_years.query('platform == \"PS3\"')\n",
    "df_x360 = df_four_years.query('platform == \"X360\"')"
   ]
  },
  {
   "cell_type": "code",
   "execution_count": 87,
   "id": "4eab658f",
   "metadata": {},
   "outputs": [
    {
     "data": {
      "text/plain": [
       "0.3342853393371919"
      ]
     },
     "metadata": {},
     "output_type": "display_data"
    },
    {
     "data": {
      "text/plain": [
       "0.0023944027357566907"
      ]
     },
     "metadata": {},
     "output_type": "display_data"
    }
   ],
   "source": [
    "display(df_ps3['total_sales'].corr(df_ps3['critic_score']))\n",
    "display(df_ps3['total_sales'].corr(df_ps3['user_score']))"
   ]
  },
  {
   "cell_type": "code",
   "execution_count": 88,
   "id": "aa473988",
   "metadata": {},
   "outputs": [
    {
     "data": {
      "text/plain": [
       "0.3503445460228664"
      ]
     },
     "metadata": {},
     "output_type": "display_data"
    },
    {
     "data": {
      "text/plain": [
       "-0.011742185147181342"
      ]
     },
     "metadata": {},
     "output_type": "display_data"
    }
   ],
   "source": [
    "display(df_x360['total_sales'].corr(df_x360['critic_score']))\n",
    "display(df_x360['total_sales'].corr(df_x360['user_score']))"
   ]
  },
  {
   "cell_type": "markdown",
   "id": "678a23b7",
   "metadata": {},
   "source": [
    "Таким образом, мы можем сделать вывод о том, что внутри большинства платформ только отзывы критиков влияют на продажи, отзывы же пользователей совсем не оказывают влияние на продажи игр. Внутри же платформы 3ds и отзывы критиков и отзывы пользователей влияют на продажи."
   ]
  },
  {
   "cell_type": "markdown",
   "id": "4b62703d",
   "metadata": {},
   "source": [
    "Определим самые прибыльные жанры"
   ]
  },
  {
   "cell_type": "code",
   "execution_count": 91,
   "id": "b932752c",
   "metadata": {},
   "outputs": [
    {
     "data": {
      "text/html": [
       "<div>\n",
       "<style scoped>\n",
       "    .dataframe tbody tr th:only-of-type {\n",
       "        vertical-align: middle;\n",
       "    }\n",
       "\n",
       "    .dataframe tbody tr th {\n",
       "        vertical-align: top;\n",
       "    }\n",
       "\n",
       "    .dataframe thead th {\n",
       "        text-align: right;\n",
       "    }\n",
       "</style>\n",
       "<table border=\"1\" class=\"dataframe\">\n",
       "  <thead>\n",
       "    <tr style=\"text-align: right;\">\n",
       "      <th></th>\n",
       "      <th>total_sales</th>\n",
       "    </tr>\n",
       "    <tr>\n",
       "      <th>genre</th>\n",
       "      <th></th>\n",
       "    </tr>\n",
       "  </thead>\n",
       "  <tbody>\n",
       "    <tr>\n",
       "      <th>Adventure</th>\n",
       "      <td>0.030</td>\n",
       "    </tr>\n",
       "    <tr>\n",
       "      <th>Puzzle</th>\n",
       "      <td>0.060</td>\n",
       "    </tr>\n",
       "    <tr>\n",
       "      <th>Strategy</th>\n",
       "      <td>0.080</td>\n",
       "    </tr>\n",
       "    <tr>\n",
       "      <th>Misc</th>\n",
       "      <td>0.100</td>\n",
       "    </tr>\n",
       "    <tr>\n",
       "      <th>Simulation</th>\n",
       "      <td>0.100</td>\n",
       "    </tr>\n",
       "    <tr>\n",
       "      <th>Action</th>\n",
       "      <td>0.110</td>\n",
       "    </tr>\n",
       "    <tr>\n",
       "      <th>Racing</th>\n",
       "      <td>0.120</td>\n",
       "    </tr>\n",
       "    <tr>\n",
       "      <th>Fighting</th>\n",
       "      <td>0.125</td>\n",
       "    </tr>\n",
       "    <tr>\n",
       "      <th>Role-Playing</th>\n",
       "      <td>0.125</td>\n",
       "    </tr>\n",
       "    <tr>\n",
       "      <th>Platform</th>\n",
       "      <td>0.225</td>\n",
       "    </tr>\n",
       "    <tr>\n",
       "      <th>Sports</th>\n",
       "      <td>0.240</td>\n",
       "    </tr>\n",
       "    <tr>\n",
       "      <th>Shooter</th>\n",
       "      <td>0.450</td>\n",
       "    </tr>\n",
       "  </tbody>\n",
       "</table>\n",
       "</div>"
      ],
      "text/plain": [
       "              total_sales\n",
       "genre                    \n",
       "Adventure           0.030\n",
       "Puzzle              0.060\n",
       "Strategy            0.080\n",
       "Misc                0.100\n",
       "Simulation          0.100\n",
       "Action              0.110\n",
       "Racing              0.120\n",
       "Fighting            0.125\n",
       "Role-Playing        0.125\n",
       "Platform            0.225\n",
       "Sports              0.240\n",
       "Shooter             0.450"
      ]
     },
     "execution_count": 91,
     "metadata": {},
     "output_type": "execute_result"
    }
   ],
   "source": [
    "df_four_years_pivot_genre = df_four_years.pivot_table(index = ['genre'], values = 'total_sales', aggfunc = 'median').sort_values('total_sales')\n",
    "df_four_years_pivot_genre"
   ]
  },
  {
   "cell_type": "markdown",
   "id": "f0b18ab3",
   "metadata": {},
   "source": [
    "* Самые прибыльные жанры - Shooter, Sports, Platform\n",
    "* Самые не прибыльные жанры - Adventure, Puzzle, Strategy"
   ]
  },
  {
   "cell_type": "markdown",
   "id": "3679c2a1",
   "metadata": {},
   "source": [
    "## 4. Определение портрета пользователя каждого региона"
   ]
  },
  {
   "cell_type": "markdown",
   "id": "6a9584f5",
   "metadata": {},
   "source": [
    "Определим для пользователя каждого региона (NA, EU, JP):\n",
    "* Самые популярные платформы (топ-5).\n",
    "* Самые популярные жанры (топ-5). \n",
    "* Влияет ли рейтинг ESRB на продажи в отдельном регионе?"
   ]
  },
  {
   "cell_type": "code",
   "execution_count": 70,
   "id": "f3402806",
   "metadata": {},
   "outputs": [
    {
     "data": {
      "text/html": [
       "<div>\n",
       "<style scoped>\n",
       "    .dataframe tbody tr th:only-of-type {\n",
       "        vertical-align: middle;\n",
       "    }\n",
       "\n",
       "    .dataframe tbody tr th {\n",
       "        vertical-align: top;\n",
       "    }\n",
       "\n",
       "    .dataframe thead th {\n",
       "        text-align: right;\n",
       "    }\n",
       "</style>\n",
       "<table border=\"1\" class=\"dataframe\">\n",
       "  <thead>\n",
       "    <tr style=\"text-align: right;\">\n",
       "      <th></th>\n",
       "      <th>name</th>\n",
       "      <th>platform</th>\n",
       "      <th>year_of_release</th>\n",
       "      <th>genre</th>\n",
       "      <th>na_sales</th>\n",
       "      <th>eu_sales</th>\n",
       "      <th>jp_sales</th>\n",
       "      <th>other_sales</th>\n",
       "      <th>critic_score</th>\n",
       "      <th>user_score</th>\n",
       "      <th>rating</th>\n",
       "      <th>total_sales</th>\n",
       "    </tr>\n",
       "  </thead>\n",
       "  <tbody>\n",
       "    <tr>\n",
       "      <th>16</th>\n",
       "      <td>Grand Theft Auto V</td>\n",
       "      <td>PS3</td>\n",
       "      <td>2013</td>\n",
       "      <td>Action</td>\n",
       "      <td>7.02</td>\n",
       "      <td>9.09</td>\n",
       "      <td>0.98</td>\n",
       "      <td>3.96</td>\n",
       "      <td>97.0</td>\n",
       "      <td>8.2</td>\n",
       "      <td>M</td>\n",
       "      <td>21.05</td>\n",
       "    </tr>\n",
       "    <tr>\n",
       "      <th>23</th>\n",
       "      <td>Grand Theft Auto V</td>\n",
       "      <td>X360</td>\n",
       "      <td>2013</td>\n",
       "      <td>Action</td>\n",
       "      <td>9.66</td>\n",
       "      <td>5.14</td>\n",
       "      <td>0.06</td>\n",
       "      <td>1.41</td>\n",
       "      <td>97.0</td>\n",
       "      <td>8.1</td>\n",
       "      <td>M</td>\n",
       "      <td>16.27</td>\n",
       "    </tr>\n",
       "    <tr>\n",
       "      <th>31</th>\n",
       "      <td>Call of Duty: Black Ops 3</td>\n",
       "      <td>PS4</td>\n",
       "      <td>2015</td>\n",
       "      <td>Shooter</td>\n",
       "      <td>6.03</td>\n",
       "      <td>5.86</td>\n",
       "      <td>0.36</td>\n",
       "      <td>2.38</td>\n",
       "      <td>NaN</td>\n",
       "      <td>NaN</td>\n",
       "      <td>NaN</td>\n",
       "      <td>14.63</td>\n",
       "    </tr>\n",
       "    <tr>\n",
       "      <th>33</th>\n",
       "      <td>Pokemon X/Pokemon Y</td>\n",
       "      <td>3DS</td>\n",
       "      <td>2013</td>\n",
       "      <td>Role-Playing</td>\n",
       "      <td>5.28</td>\n",
       "      <td>4.19</td>\n",
       "      <td>4.35</td>\n",
       "      <td>0.78</td>\n",
       "      <td>NaN</td>\n",
       "      <td>NaN</td>\n",
       "      <td>NaN</td>\n",
       "      <td>14.60</td>\n",
       "    </tr>\n",
       "    <tr>\n",
       "      <th>42</th>\n",
       "      <td>Grand Theft Auto V</td>\n",
       "      <td>PS4</td>\n",
       "      <td>2014</td>\n",
       "      <td>Action</td>\n",
       "      <td>3.96</td>\n",
       "      <td>6.31</td>\n",
       "      <td>0.38</td>\n",
       "      <td>1.97</td>\n",
       "      <td>97.0</td>\n",
       "      <td>8.3</td>\n",
       "      <td>M</td>\n",
       "      <td>12.62</td>\n",
       "    </tr>\n",
       "  </tbody>\n",
       "</table>\n",
       "</div>"
      ],
      "text/plain": [
       "                         name platform  year_of_release         genre  \\\n",
       "16         Grand Theft Auto V      PS3             2013        Action   \n",
       "23         Grand Theft Auto V     X360             2013        Action   \n",
       "31  Call of Duty: Black Ops 3      PS4             2015       Shooter   \n",
       "33        Pokemon X/Pokemon Y      3DS             2013  Role-Playing   \n",
       "42         Grand Theft Auto V      PS4             2014        Action   \n",
       "\n",
       "    na_sales  eu_sales  jp_sales  other_sales  critic_score  user_score  \\\n",
       "16      7.02      9.09      0.98         3.96          97.0         8.2   \n",
       "23      9.66      5.14      0.06         1.41          97.0         8.1   \n",
       "31      6.03      5.86      0.36         2.38           NaN         NaN   \n",
       "33      5.28      4.19      4.35         0.78           NaN         NaN   \n",
       "42      3.96      6.31      0.38         1.97          97.0         8.3   \n",
       "\n",
       "   rating  total_sales  \n",
       "16      M        21.05  \n",
       "23      M        16.27  \n",
       "31    NaN        14.63  \n",
       "33    NaN        14.60  \n",
       "42      M        12.62  "
      ]
     },
     "execution_count": 70,
     "metadata": {},
     "output_type": "execute_result"
    }
   ],
   "source": [
    "df_four_years.head(5)"
   ]
  },
  {
   "cell_type": "markdown",
   "id": "39d8987c",
   "metadata": {},
   "source": [
    "При помощи сводных таблиц определим самые популярные платформы в Северной Америке, Европе и Японии."
   ]
  },
  {
   "cell_type": "code",
   "execution_count": 94,
   "id": "9ab6ab65",
   "metadata": {},
   "outputs": [
    {
     "data": {
      "text/html": [
       "<div>\n",
       "<style scoped>\n",
       "    .dataframe tbody tr th:only-of-type {\n",
       "        vertical-align: middle;\n",
       "    }\n",
       "\n",
       "    .dataframe tbody tr th {\n",
       "        vertical-align: top;\n",
       "    }\n",
       "\n",
       "    .dataframe thead th {\n",
       "        text-align: right;\n",
       "    }\n",
       "</style>\n",
       "<table border=\"1\" class=\"dataframe\">\n",
       "  <thead>\n",
       "    <tr style=\"text-align: right;\">\n",
       "      <th></th>\n",
       "      <th>na_sales</th>\n",
       "    </tr>\n",
       "    <tr>\n",
       "      <th>platform</th>\n",
       "      <th></th>\n",
       "    </tr>\n",
       "  </thead>\n",
       "  <tbody>\n",
       "    <tr>\n",
       "      <th>PSP</th>\n",
       "      <td>0.00</td>\n",
       "    </tr>\n",
       "    <tr>\n",
       "      <th>DS</th>\n",
       "      <td>0.57</td>\n",
       "    </tr>\n",
       "    <tr>\n",
       "      <th>PSV</th>\n",
       "      <td>5.04</td>\n",
       "    </tr>\n",
       "    <tr>\n",
       "      <th>Wii</th>\n",
       "      <td>6.56</td>\n",
       "    </tr>\n",
       "    <tr>\n",
       "      <th>PC</th>\n",
       "      <td>11.11</td>\n",
       "    </tr>\n",
       "    <tr>\n",
       "      <th>WiiU</th>\n",
       "      <td>29.21</td>\n",
       "    </tr>\n",
       "    <tr>\n",
       "      <th>3DS</th>\n",
       "      <td>38.20</td>\n",
       "    </tr>\n",
       "    <tr>\n",
       "      <th>PS3</th>\n",
       "      <td>63.50</td>\n",
       "    </tr>\n",
       "    <tr>\n",
       "      <th>X360</th>\n",
       "      <td>81.66</td>\n",
       "    </tr>\n",
       "    <tr>\n",
       "      <th>XOne</th>\n",
       "      <td>93.12</td>\n",
       "    </tr>\n",
       "    <tr>\n",
       "      <th>PS4</th>\n",
       "      <td>108.74</td>\n",
       "    </tr>\n",
       "  </tbody>\n",
       "</table>\n",
       "</div>"
      ],
      "text/plain": [
       "          na_sales\n",
       "platform          \n",
       "PSP           0.00\n",
       "DS            0.57\n",
       "PSV           5.04\n",
       "Wii           6.56\n",
       "PC           11.11\n",
       "WiiU         29.21\n",
       "3DS          38.20\n",
       "PS3          63.50\n",
       "X360         81.66\n",
       "XOne         93.12\n",
       "PS4         108.74"
      ]
     },
     "metadata": {},
     "output_type": "display_data"
    },
    {
     "data": {
      "text/html": [
       "<div>\n",
       "<style scoped>\n",
       "    .dataframe tbody tr th:only-of-type {\n",
       "        vertical-align: middle;\n",
       "    }\n",
       "\n",
       "    .dataframe tbody tr th {\n",
       "        vertical-align: top;\n",
       "    }\n",
       "\n",
       "    .dataframe thead th {\n",
       "        text-align: right;\n",
       "    }\n",
       "</style>\n",
       "<table border=\"1\" class=\"dataframe\">\n",
       "  <thead>\n",
       "    <tr style=\"text-align: right;\">\n",
       "      <th></th>\n",
       "      <th>eu_sales</th>\n",
       "    </tr>\n",
       "    <tr>\n",
       "      <th>platform</th>\n",
       "      <th></th>\n",
       "    </tr>\n",
       "  </thead>\n",
       "  <tbody>\n",
       "    <tr>\n",
       "      <th>PSP</th>\n",
       "      <td>0.17</td>\n",
       "    </tr>\n",
       "    <tr>\n",
       "      <th>DS</th>\n",
       "      <td>0.85</td>\n",
       "    </tr>\n",
       "    <tr>\n",
       "      <th>Wii</th>\n",
       "      <td>5.93</td>\n",
       "    </tr>\n",
       "    <tr>\n",
       "      <th>PSV</th>\n",
       "      <td>6.10</td>\n",
       "    </tr>\n",
       "    <tr>\n",
       "      <th>WiiU</th>\n",
       "      <td>19.85</td>\n",
       "    </tr>\n",
       "    <tr>\n",
       "      <th>PC</th>\n",
       "      <td>25.36</td>\n",
       "    </tr>\n",
       "    <tr>\n",
       "      <th>3DS</th>\n",
       "      <td>30.96</td>\n",
       "    </tr>\n",
       "    <tr>\n",
       "      <th>X360</th>\n",
       "      <td>42.52</td>\n",
       "    </tr>\n",
       "    <tr>\n",
       "      <th>XOne</th>\n",
       "      <td>51.59</td>\n",
       "    </tr>\n",
       "    <tr>\n",
       "      <th>PS3</th>\n",
       "      <td>67.81</td>\n",
       "    </tr>\n",
       "    <tr>\n",
       "      <th>PS4</th>\n",
       "      <td>141.09</td>\n",
       "    </tr>\n",
       "  </tbody>\n",
       "</table>\n",
       "</div>"
      ],
      "text/plain": [
       "          eu_sales\n",
       "platform          \n",
       "PSP           0.17\n",
       "DS            0.85\n",
       "Wii           5.93\n",
       "PSV           6.10\n",
       "WiiU         19.85\n",
       "PC           25.36\n",
       "3DS          30.96\n",
       "X360         42.52\n",
       "XOne         51.59\n",
       "PS3          67.81\n",
       "PS4         141.09"
      ]
     },
     "metadata": {},
     "output_type": "display_data"
    },
    {
     "data": {
      "text/html": [
       "<div>\n",
       "<style scoped>\n",
       "    .dataframe tbody tr th:only-of-type {\n",
       "        vertical-align: middle;\n",
       "    }\n",
       "\n",
       "    .dataframe tbody tr th {\n",
       "        vertical-align: top;\n",
       "    }\n",
       "\n",
       "    .dataframe thead th {\n",
       "        text-align: right;\n",
       "    }\n",
       "</style>\n",
       "<table border=\"1\" class=\"dataframe\">\n",
       "  <thead>\n",
       "    <tr style=\"text-align: right;\">\n",
       "      <th></th>\n",
       "      <th>jp_sales</th>\n",
       "    </tr>\n",
       "    <tr>\n",
       "      <th>platform</th>\n",
       "      <th></th>\n",
       "    </tr>\n",
       "  </thead>\n",
       "  <tbody>\n",
       "    <tr>\n",
       "      <th>DS</th>\n",
       "      <td>0.00</td>\n",
       "    </tr>\n",
       "    <tr>\n",
       "      <th>PC</th>\n",
       "      <td>0.00</td>\n",
       "    </tr>\n",
       "    <tr>\n",
       "      <th>Wii</th>\n",
       "      <td>0.05</td>\n",
       "    </tr>\n",
       "    <tr>\n",
       "      <th>XOne</th>\n",
       "      <td>0.34</td>\n",
       "    </tr>\n",
       "    <tr>\n",
       "      <th>X360</th>\n",
       "      <td>0.51</td>\n",
       "    </tr>\n",
       "    <tr>\n",
       "      <th>PSP</th>\n",
       "      <td>3.29</td>\n",
       "    </tr>\n",
       "    <tr>\n",
       "      <th>WiiU</th>\n",
       "      <td>10.88</td>\n",
       "    </tr>\n",
       "    <tr>\n",
       "      <th>PS4</th>\n",
       "      <td>15.96</td>\n",
       "    </tr>\n",
       "    <tr>\n",
       "      <th>PSV</th>\n",
       "      <td>18.59</td>\n",
       "    </tr>\n",
       "    <tr>\n",
       "      <th>PS3</th>\n",
       "      <td>23.35</td>\n",
       "    </tr>\n",
       "    <tr>\n",
       "      <th>3DS</th>\n",
       "      <td>67.81</td>\n",
       "    </tr>\n",
       "  </tbody>\n",
       "</table>\n",
       "</div>"
      ],
      "text/plain": [
       "          jp_sales\n",
       "platform          \n",
       "DS            0.00\n",
       "PC            0.00\n",
       "Wii           0.05\n",
       "XOne          0.34\n",
       "X360          0.51\n",
       "PSP           3.29\n",
       "WiiU         10.88\n",
       "PS4          15.96\n",
       "PSV          18.59\n",
       "PS3          23.35\n",
       "3DS          67.81"
      ]
     },
     "metadata": {},
     "output_type": "display_data"
    }
   ],
   "source": [
    "df_four_years_pivot_na = df_four_years.pivot_table(index = ['platform'], values = 'na_sales', aggfunc = 'sum').sort_values('na_sales')\n",
    "df_four_years_pivot_eu = df_four_years.pivot_table(index = ['platform'], values = 'eu_sales', aggfunc = 'sum').sort_values('eu_sales')\n",
    "df_four_years_pivot_jp = df_four_years.pivot_table(index = ['platform'], values = 'jp_sales', aggfunc = 'sum').sort_values('jp_sales')\n",
    "\n",
    "display(df_four_years_pivot_na)\n",
    "display(df_four_years_pivot_eu)\n",
    "display(df_four_years_pivot_jp)"
   ]
  },
  {
   "cell_type": "markdown",
   "id": "f63d1411",
   "metadata": {},
   "source": [
    "Топ-5 самых популярных платформ в Северной Америке:\n",
    "1. PS4\n",
    "2. XOne\n",
    "3. X360\n",
    "4. PS3\n",
    "5. 3DS\n",
    "\n",
    "Топ-5 самых популярных платформ в Европе:\n",
    "1. PS4\n",
    "2. PS3\n",
    "3. XOne\n",
    "4. X360\n",
    "5. 3DS\n",
    "\n",
    "Топ-5 самых популярных платформ в Японии:\n",
    "1. 3DS\n",
    "2. PS3\n",
    "3. PSV\n",
    "4. PS4\n",
    "5. WiiU"
   ]
  },
  {
   "cell_type": "markdown",
   "id": "2fa61375",
   "metadata": {},
   "source": [
    "Построим круговые диаграммы для распределения продаж по каждому региону"
   ]
  },
  {
   "cell_type": "code",
   "execution_count": 116,
   "id": "ac0f9ac5",
   "metadata": {},
   "outputs": [
    {
     "data": {
      "image/png": "[encoded data removed]",
      "text/plain": [
       "<Figure size 432x288 with 1 Axes>"
      ]
     },
     "metadata": {},
     "output_type": "display_data"
    }
   ],
   "source": [
    "platforms_na = ['Другие', 'PC', 'WiiU', '3DS', 'PS3', 'X360', 'XOne', 'PS4']\n",
    "data_na = [12.7, 11.11, 29.21, 38.20, 63.50, 81.66, 93.12, 108.74]\n",
    "\n",
    "plt.pie(data_na, labels=platforms_na)\n",
    "plt.show()"
   ]
  },
  {
   "cell_type": "code",
   "execution_count": 117,
   "id": "933b51fe",
   "metadata": {},
   "outputs": [
    {
     "data": {
      "image/png": "[encoded data removed]",
      "text/plain": [
       "<Figure size 432x288 with 1 Axes>"
      ]
     },
     "metadata": {},
     "output_type": "display_data"
    }
   ],
   "source": [
    "platforms_eu = ['Другие', 'WiiU', 'PC', '3DS', 'X360', 'XOne', 'PS3', 'PS4']\n",
    "data_eu = [13.05, 19.85, 25.36, 30.96, 42.52, 51.59, 67.81, 141.09]\n",
    "\n",
    "plt.pie(data_eu, labels=platforms_eu)\n",
    "plt.show()"
   ]
  },
  {
   "cell_type": "code",
   "execution_count": 119,
   "id": "23e2d6f9",
   "metadata": {},
   "outputs": [
    {
     "data": {
      "image/png": "[encoded data removed]",
      "text/plain": [
       "<Figure size 432x288 with 1 Axes>"
      ]
     },
     "metadata": {},
     "output_type": "display_data"
    }
   ],
   "source": [
    "platforms_jp = ['Другие', 'PSP', 'WiiU', 'PS4', 'PSV', 'PS3', '3DS']\n",
    "data_jp = [0.9, 3.29, 10.88, 15.96, 18.59, 23.35, 67.81]\n",
    "\n",
    "plt.pie(data_jp, labels=platforms_jp)\n",
    "plt.show()"
   ]
  },
  {
   "cell_type": "markdown",
   "id": "e258dad8",
   "metadata": {},
   "source": [
    "Определим различия в долях продаж, для этого найдем суммарные продажи в каждом регионе за актуальный период."
   ]
  },
  {
   "cell_type": "code",
   "execution_count": 71,
   "id": "adca251c",
   "metadata": {},
   "outputs": [
    {
     "data": {
      "text/plain": [
       "437.71000000000004"
      ]
     },
     "metadata": {},
     "output_type": "display_data"
    },
    {
     "data": {
      "text/plain": [
       "392.23"
      ]
     },
     "metadata": {},
     "output_type": "display_data"
    },
    {
     "data": {
      "text/plain": [
       "140.78"
      ]
     },
     "metadata": {},
     "output_type": "display_data"
    }
   ],
   "source": [
    "display(df_four_years_pivot_na['na_sales'].sum())\n",
    "display(df_four_years_pivot_eu['eu_sales'].sum())\n",
    "display(df_four_years_pivot_jp['jp_sales'].sum())"
   ]
  },
  {
   "cell_type": "markdown",
   "id": "e5da4f00",
   "metadata": {},
   "source": [
    "Найдем доли продаж каждого региона относительно друг друга."
   ]
  },
  {
   "cell_type": "code",
   "execution_count": 81,
   "id": "338c3613",
   "metadata": {},
   "outputs": [
    {
     "name": "stdout",
     "output_type": "stream",
     "text": [
      "Доля продаж в Северной Америке: 45%\n",
      "Доля продаж в Европе: 40%\n",
      "Доля продаж в Японии: 15%\n"
     ]
    }
   ],
   "source": [
    "sum_sales = (df_four_years_pivot_na['na_sales'].sum() + df_four_years_pivot_eu['eu_sales'].sum() + df_four_years_pivot_jp['jp_sales'].sum()) \n",
    "na = df_four_years_pivot_na['na_sales'].sum()*100 / sum_sales\n",
    "eu = df_four_years_pivot_eu['eu_sales'].sum()*100  / sum_sales\n",
    "jp = df_four_years_pivot_jp['jp_sales'].sum()*100  / sum_sales\n",
    "\n",
    "print(f'Доля продаж в Северной Америке: {na:.0f}%')\n",
    "print(f'Доля продаж в Европе: {eu:.0f}%')\n",
    "print(f'Доля продаж в Японии: {jp:.0f}%')"
   ]
  },
  {
   "cell_type": "markdown",
   "id": "10f9daf0",
   "metadata": {},
   "source": [
    "Определим самые популярные жанры в каждом регионе за актуальный период"
   ]
  },
  {
   "cell_type": "code",
   "execution_count": 39,
   "id": "9acf84ec",
   "metadata": {},
   "outputs": [
    {
     "data": {
      "text/html": [
       "<div>\n",
       "<style scoped>\n",
       "    .dataframe tbody tr th:only-of-type {\n",
       "        vertical-align: middle;\n",
       "    }\n",
       "\n",
       "    .dataframe tbody tr th {\n",
       "        vertical-align: top;\n",
       "    }\n",
       "\n",
       "    .dataframe thead th {\n",
       "        text-align: right;\n",
       "    }\n",
       "</style>\n",
       "<table border=\"1\" class=\"dataframe\">\n",
       "  <thead>\n",
       "    <tr style=\"text-align: right;\">\n",
       "      <th></th>\n",
       "      <th>na_sales</th>\n",
       "    </tr>\n",
       "    <tr>\n",
       "      <th>genre</th>\n",
       "      <th></th>\n",
       "    </tr>\n",
       "  </thead>\n",
       "  <tbody>\n",
       "    <tr>\n",
       "      <th>Puzzle</th>\n",
       "      <td>0.83</td>\n",
       "    </tr>\n",
       "    <tr>\n",
       "      <th>Strategy</th>\n",
       "      <td>3.28</td>\n",
       "    </tr>\n",
       "    <tr>\n",
       "      <th>Simulation</th>\n",
       "      <td>4.86</td>\n",
       "    </tr>\n",
       "    <tr>\n",
       "      <th>Adventure</th>\n",
       "      <td>7.14</td>\n",
       "    </tr>\n",
       "    <tr>\n",
       "      <th>Racing</th>\n",
       "      <td>12.96</td>\n",
       "    </tr>\n",
       "    <tr>\n",
       "      <th>Fighting</th>\n",
       "      <td>15.55</td>\n",
       "    </tr>\n",
       "    <tr>\n",
       "      <th>Platform</th>\n",
       "      <td>18.14</td>\n",
       "    </tr>\n",
       "    <tr>\n",
       "      <th>Misc</th>\n",
       "      <td>27.49</td>\n",
       "    </tr>\n",
       "    <tr>\n",
       "      <th>Role-Playing</th>\n",
       "      <td>46.40</td>\n",
       "    </tr>\n",
       "    <tr>\n",
       "      <th>Sports</th>\n",
       "      <td>65.27</td>\n",
       "    </tr>\n",
       "    <tr>\n",
       "      <th>Shooter</th>\n",
       "      <td>109.74</td>\n",
       "    </tr>\n",
       "    <tr>\n",
       "      <th>Action</th>\n",
       "      <td>126.05</td>\n",
       "    </tr>\n",
       "  </tbody>\n",
       "</table>\n",
       "</div>"
      ],
      "text/plain": [
       "              na_sales\n",
       "genre                 \n",
       "Puzzle            0.83\n",
       "Strategy          3.28\n",
       "Simulation        4.86\n",
       "Adventure         7.14\n",
       "Racing           12.96\n",
       "Fighting         15.55\n",
       "Platform         18.14\n",
       "Misc             27.49\n",
       "Role-Playing     46.40\n",
       "Sports           65.27\n",
       "Shooter         109.74\n",
       "Action          126.05"
      ]
     },
     "metadata": {},
     "output_type": "display_data"
    },
    {
     "data": {
      "text/html": [
       "<div>\n",
       "<style scoped>\n",
       "    .dataframe tbody tr th:only-of-type {\n",
       "        vertical-align: middle;\n",
       "    }\n",
       "\n",
       "    .dataframe tbody tr th {\n",
       "        vertical-align: top;\n",
       "    }\n",
       "\n",
       "    .dataframe thead th {\n",
       "        text-align: right;\n",
       "    }\n",
       "</style>\n",
       "<table border=\"1\" class=\"dataframe\">\n",
       "  <thead>\n",
       "    <tr style=\"text-align: right;\">\n",
       "      <th></th>\n",
       "      <th>eu_sales</th>\n",
       "    </tr>\n",
       "    <tr>\n",
       "      <th>genre</th>\n",
       "      <th></th>\n",
       "    </tr>\n",
       "  </thead>\n",
       "  <tbody>\n",
       "    <tr>\n",
       "      <th>Puzzle</th>\n",
       "      <td>1.00</td>\n",
       "    </tr>\n",
       "    <tr>\n",
       "      <th>Strategy</th>\n",
       "      <td>4.22</td>\n",
       "    </tr>\n",
       "    <tr>\n",
       "      <th>Adventure</th>\n",
       "      <td>8.25</td>\n",
       "    </tr>\n",
       "    <tr>\n",
       "      <th>Fighting</th>\n",
       "      <td>8.55</td>\n",
       "    </tr>\n",
       "    <tr>\n",
       "      <th>Simulation</th>\n",
       "      <td>10.92</td>\n",
       "    </tr>\n",
       "    <tr>\n",
       "      <th>Platform</th>\n",
       "      <td>15.58</td>\n",
       "    </tr>\n",
       "    <tr>\n",
       "      <th>Misc</th>\n",
       "      <td>20.04</td>\n",
       "    </tr>\n",
       "    <tr>\n",
       "      <th>Racing</th>\n",
       "      <td>20.19</td>\n",
       "    </tr>\n",
       "    <tr>\n",
       "      <th>Role-Playing</th>\n",
       "      <td>36.97</td>\n",
       "    </tr>\n",
       "    <tr>\n",
       "      <th>Sports</th>\n",
       "      <td>60.52</td>\n",
       "    </tr>\n",
       "    <tr>\n",
       "      <th>Shooter</th>\n",
       "      <td>87.86</td>\n",
       "    </tr>\n",
       "    <tr>\n",
       "      <th>Action</th>\n",
       "      <td>118.13</td>\n",
       "    </tr>\n",
       "  </tbody>\n",
       "</table>\n",
       "</div>"
      ],
      "text/plain": [
       "              eu_sales\n",
       "genre                 \n",
       "Puzzle            1.00\n",
       "Strategy          4.22\n",
       "Adventure         8.25\n",
       "Fighting          8.55\n",
       "Simulation       10.92\n",
       "Platform         15.58\n",
       "Misc             20.04\n",
       "Racing           20.19\n",
       "Role-Playing     36.97\n",
       "Sports           60.52\n",
       "Shooter          87.86\n",
       "Action          118.13"
      ]
     },
     "metadata": {},
     "output_type": "display_data"
    },
    {
     "data": {
      "text/html": [
       "<div>\n",
       "<style scoped>\n",
       "    .dataframe tbody tr th:only-of-type {\n",
       "        vertical-align: middle;\n",
       "    }\n",
       "\n",
       "    .dataframe tbody tr th {\n",
       "        vertical-align: top;\n",
       "    }\n",
       "\n",
       "    .dataframe thead th {\n",
       "        text-align: right;\n",
       "    }\n",
       "</style>\n",
       "<table border=\"1\" class=\"dataframe\">\n",
       "  <thead>\n",
       "    <tr style=\"text-align: right;\">\n",
       "      <th></th>\n",
       "      <th>jp_sales</th>\n",
       "    </tr>\n",
       "    <tr>\n",
       "      <th>genre</th>\n",
       "      <th></th>\n",
       "    </tr>\n",
       "  </thead>\n",
       "  <tbody>\n",
       "    <tr>\n",
       "      <th>Puzzle</th>\n",
       "      <td>1.18</td>\n",
       "    </tr>\n",
       "    <tr>\n",
       "      <th>Strategy</th>\n",
       "      <td>1.77</td>\n",
       "    </tr>\n",
       "    <tr>\n",
       "      <th>Racing</th>\n",
       "      <td>2.30</td>\n",
       "    </tr>\n",
       "    <tr>\n",
       "      <th>Simulation</th>\n",
       "      <td>4.52</td>\n",
       "    </tr>\n",
       "    <tr>\n",
       "      <th>Platform</th>\n",
       "      <td>4.79</td>\n",
       "    </tr>\n",
       "    <tr>\n",
       "      <th>Sports</th>\n",
       "      <td>5.41</td>\n",
       "    </tr>\n",
       "    <tr>\n",
       "      <th>Adventure</th>\n",
       "      <td>5.82</td>\n",
       "    </tr>\n",
       "    <tr>\n",
       "      <th>Shooter</th>\n",
       "      <td>6.61</td>\n",
       "    </tr>\n",
       "    <tr>\n",
       "      <th>Fighting</th>\n",
       "      <td>7.65</td>\n",
       "    </tr>\n",
       "    <tr>\n",
       "      <th>Misc</th>\n",
       "      <td>9.20</td>\n",
       "    </tr>\n",
       "    <tr>\n",
       "      <th>Action</th>\n",
       "      <td>40.49</td>\n",
       "    </tr>\n",
       "    <tr>\n",
       "      <th>Role-Playing</th>\n",
       "      <td>51.04</td>\n",
       "    </tr>\n",
       "  </tbody>\n",
       "</table>\n",
       "</div>"
      ],
      "text/plain": [
       "              jp_sales\n",
       "genre                 \n",
       "Puzzle            1.18\n",
       "Strategy          1.77\n",
       "Racing            2.30\n",
       "Simulation        4.52\n",
       "Platform          4.79\n",
       "Sports            5.41\n",
       "Adventure         5.82\n",
       "Shooter           6.61\n",
       "Fighting          7.65\n",
       "Misc              9.20\n",
       "Action           40.49\n",
       "Role-Playing     51.04"
      ]
     },
     "metadata": {},
     "output_type": "display_data"
    }
   ],
   "source": [
    "df_four_years_pivot_genre_na = df_four_years.pivot_table(index = ['genre'], values = 'na_sales', aggfunc = 'sum').sort_values('na_sales')\n",
    "df_four_years_pivot_genre_eu = df_four_years.pivot_table(index = ['genre'], values = 'eu_sales', aggfunc = 'sum').sort_values('eu_sales')\n",
    "df_four_years_pivot_genre_jp = df_four_years.pivot_table(index = ['genre'], values = 'jp_sales', aggfunc = 'sum').sort_values('jp_sales')\n",
    "\n",
    "display(df_four_years_pivot_genre_na)\n",
    "display(df_four_years_pivot_genre_eu)\n",
    "display(df_four_years_pivot_genre_jp)"
   ]
  },
  {
   "cell_type": "markdown",
   "id": "6d1ad2e7",
   "metadata": {},
   "source": [
    "Топ-5 самых популярных жанров в Северной Америке:\n",
    "1. Action\n",
    "2. Shooter\n",
    "3. Sports\n",
    "4. Role-Playing\n",
    "5. Misc\n",
    "\n",
    "Топ-5 самых популярных жанров в Европе:\n",
    "1. Action\n",
    "2. Shooter\n",
    "3. Sports\n",
    "4. Role-Playing\n",
    "5. Racing\n",
    "\n",
    "Топ-5 самых популярных жанров в Японии:\n",
    "1. Role-Playing\n",
    "2. Action\n",
    "3. Misc\n",
    "4. Fighting\n",
    "5. Shooter"
   ]
  },
  {
   "cell_type": "markdown",
   "id": "69f9adab",
   "metadata": {},
   "source": [
    "Вывод: самые популярные жанры в Северной Америке и Европе практически идентичны. В четверку вошли Action, Shooter, Sports, Role-Playing. Пятое же место в Северной Америке занимает Misc, а в Европе - Racing.\n",
    "В Японии же самым популярным жанром оказался Role-Playing, следом идёт Action. Второй по популярности в Северной Амрике и Европе жанр - Shooter в Японии занял 5 место."
   ]
  },
  {
   "cell_type": "markdown",
   "id": "764b593c",
   "metadata": {},
   "source": [
    "Определим, влияет ли рейтинг ESRB на продажи в каждом отдельном регионе?"
   ]
  },
  {
   "cell_type": "code",
   "execution_count": 41,
   "id": "af305411",
   "metadata": {},
   "outputs": [
    {
     "data": {
      "text/html": [
       "<div>\n",
       "<style scoped>\n",
       "    .dataframe tbody tr th:only-of-type {\n",
       "        vertical-align: middle;\n",
       "    }\n",
       "\n",
       "    .dataframe tbody tr th {\n",
       "        vertical-align: top;\n",
       "    }\n",
       "\n",
       "    .dataframe thead th {\n",
       "        text-align: right;\n",
       "    }\n",
       "</style>\n",
       "<table border=\"1\" class=\"dataframe\">\n",
       "  <thead>\n",
       "    <tr style=\"text-align: right;\">\n",
       "      <th></th>\n",
       "      <th>na_sales</th>\n",
       "    </tr>\n",
       "    <tr>\n",
       "      <th>rating</th>\n",
       "      <th></th>\n",
       "    </tr>\n",
       "  </thead>\n",
       "  <tbody>\n",
       "    <tr>\n",
       "      <th>T</th>\n",
       "      <td>49.79</td>\n",
       "    </tr>\n",
       "    <tr>\n",
       "      <th>E10+</th>\n",
       "      <td>54.24</td>\n",
       "    </tr>\n",
       "    <tr>\n",
       "      <th>E</th>\n",
       "      <td>79.05</td>\n",
       "    </tr>\n",
       "    <tr>\n",
       "      <th>M</th>\n",
       "      <td>165.21</td>\n",
       "    </tr>\n",
       "  </tbody>\n",
       "</table>\n",
       "</div>"
      ],
      "text/plain": [
       "        na_sales\n",
       "rating          \n",
       "T          49.79\n",
       "E10+       54.24\n",
       "E          79.05\n",
       "M         165.21"
      ]
     },
     "metadata": {},
     "output_type": "display_data"
    },
    {
     "data": {
      "text/html": [
       "<div>\n",
       "<style scoped>\n",
       "    .dataframe tbody tr th:only-of-type {\n",
       "        vertical-align: middle;\n",
       "    }\n",
       "\n",
       "    .dataframe tbody tr th {\n",
       "        vertical-align: top;\n",
       "    }\n",
       "\n",
       "    .dataframe thead th {\n",
       "        text-align: right;\n",
       "    }\n",
       "</style>\n",
       "<table border=\"1\" class=\"dataframe\">\n",
       "  <thead>\n",
       "    <tr style=\"text-align: right;\">\n",
       "      <th></th>\n",
       "      <th>eu_sales</th>\n",
       "    </tr>\n",
       "    <tr>\n",
       "      <th>rating</th>\n",
       "      <th></th>\n",
       "    </tr>\n",
       "  </thead>\n",
       "  <tbody>\n",
       "    <tr>\n",
       "      <th>T</th>\n",
       "      <td>41.95</td>\n",
       "    </tr>\n",
       "    <tr>\n",
       "      <th>E10+</th>\n",
       "      <td>42.69</td>\n",
       "    </tr>\n",
       "    <tr>\n",
       "      <th>E</th>\n",
       "      <td>83.36</td>\n",
       "    </tr>\n",
       "    <tr>\n",
       "      <th>M</th>\n",
       "      <td>145.32</td>\n",
       "    </tr>\n",
       "  </tbody>\n",
       "</table>\n",
       "</div>"
      ],
      "text/plain": [
       "        eu_sales\n",
       "rating          \n",
       "T          41.95\n",
       "E10+       42.69\n",
       "E          83.36\n",
       "M         145.32"
      ]
     },
     "metadata": {},
     "output_type": "display_data"
    },
    {
     "data": {
      "text/html": [
       "<div>\n",
       "<style scoped>\n",
       "    .dataframe tbody tr th:only-of-type {\n",
       "        vertical-align: middle;\n",
       "    }\n",
       "\n",
       "    .dataframe tbody tr th {\n",
       "        vertical-align: top;\n",
       "    }\n",
       "\n",
       "    .dataframe thead th {\n",
       "        text-align: right;\n",
       "    }\n",
       "</style>\n",
       "<table border=\"1\" class=\"dataframe\">\n",
       "  <thead>\n",
       "    <tr style=\"text-align: right;\">\n",
       "      <th></th>\n",
       "      <th>jp_sales</th>\n",
       "    </tr>\n",
       "    <tr>\n",
       "      <th>rating</th>\n",
       "      <th></th>\n",
       "    </tr>\n",
       "  </thead>\n",
       "  <tbody>\n",
       "    <tr>\n",
       "      <th>E10+</th>\n",
       "      <td>5.89</td>\n",
       "    </tr>\n",
       "    <tr>\n",
       "      <th>M</th>\n",
       "      <td>14.11</td>\n",
       "    </tr>\n",
       "    <tr>\n",
       "      <th>E</th>\n",
       "      <td>15.14</td>\n",
       "    </tr>\n",
       "    <tr>\n",
       "      <th>T</th>\n",
       "      <td>20.59</td>\n",
       "    </tr>\n",
       "  </tbody>\n",
       "</table>\n",
       "</div>"
      ],
      "text/plain": [
       "        jp_sales\n",
       "rating          \n",
       "E10+        5.89\n",
       "M          14.11\n",
       "E          15.14\n",
       "T          20.59"
      ]
     },
     "metadata": {},
     "output_type": "display_data"
    }
   ],
   "source": [
    "df_four_years_pivot_rating_na = df_four_years.pivot_table(index = ['rating'], values = 'na_sales', aggfunc = 'sum').sort_values('na_sales')\n",
    "df_four_years_pivot_rating_eu = df_four_years.pivot_table(index = ['rating'], values = 'eu_sales', aggfunc = 'sum').sort_values('eu_sales')\n",
    "df_four_years_pivot_rating_jp = df_four_years.pivot_table(index = ['rating'], values = 'jp_sales', aggfunc = 'sum').sort_values('jp_sales')\n",
    "\n",
    "display(df_four_years_pivot_rating_na)\n",
    "display(df_four_years_pivot_rating_eu)\n",
    "display(df_four_years_pivot_rating_jp)"
   ]
  },
  {
   "cell_type": "markdown",
   "id": "b8bf8991",
   "metadata": {},
   "source": [
    "Вывод: рейтинг ESRB влияет на продажи в каждом регионе. В Северной Америке и в Европе чуть меньше половины от всех продаж приходится на игры с рейтингом M - для взрослых. В Японии же самые популярные игры с рейтингом T - для подростков."
   ]
  },
  {
   "cell_type": "markdown",
   "id": "14372f6f",
   "metadata": {},
   "source": [
    "## 5 Проверка гипотез"
   ]
  },
  {
   "cell_type": "markdown",
   "id": "5f320931",
   "metadata": {},
   "source": [
    "Для проверки гипотез был выбран t-тест. Мы используем метод для проверки гипотезы о равенстве среднего двух генеральных совокупностей по взятым из них выборкам. Наши выборки независимы и он не требует нормального распределения выборок, если количество наблюдений достаточно велико."
   ]
  },
  {
   "cell_type": "markdown",
   "id": "c1e8dbe9",
   "metadata": {},
   "source": [
    "**Проверим первую гипотезу: средние пользовательские рейтинги платформ Xbox One и PC одинаковые**"
   ]
  },
  {
   "cell_type": "markdown",
   "id": "21aaa6a5",
   "metadata": {},
   "source": [
    "* Нулевая гипотеза: Средние пользовательские рейтинги платформ Xbox One и PC одинаковые\n",
    "* Альтернативная гипотеза: Средние пользовательские рейтинги платформ Xbox One и PC не одинаковые"
   ]
  },
  {
   "cell_type": "markdown",
   "id": "25278a13",
   "metadata": {},
   "source": [
    "Создадим срезы с играми на платформах Xbox One и PC."
   ]
  },
  {
   "cell_type": "code",
   "execution_count": 88,
   "id": "6dd0b9ef",
   "metadata": {},
   "outputs": [],
   "source": [
    "df_four_years_xone = df_four_years.query('platform == \"XOne\"')\n",
    "df_four_years_pc = df_four_years.query('platform == \"PC\"')"
   ]
  },
  {
   "cell_type": "markdown",
   "id": "e754445e",
   "metadata": {},
   "source": [
    "Удалим пропуски в столбцах 'user_score'"
   ]
  },
  {
   "cell_type": "code",
   "execution_count": 43,
   "id": "16eab6b2",
   "metadata": {},
   "outputs": [],
   "source": [
    "df_four_years_xone = df_four_years_xone.dropna(axis='index', how='any', subset=['user_score'])\n",
    "df_four_years_pc = df_four_years_pc.dropna(axis='index', how='any', subset=['user_score'])"
   ]
  },
  {
   "cell_type": "markdown",
   "id": "3081770b",
   "metadata": {},
   "source": [
    "Проверим первую гипотезу при помощи t-теста"
   ]
  },
  {
   "cell_type": "code",
   "execution_count": 44,
   "id": "dadf6d8c",
   "metadata": {},
   "outputs": [
    {
     "name": "stdout",
     "output_type": "stream",
     "text": [
      "p-значение: 0.14012658403611647\n",
      "Не получилось отвергнуть нулевую гипотезу\n"
     ]
    }
   ],
   "source": [
    "from scipy import stats as st\n",
    "\n",
    "sample_1 = df_four_years_xone['user_score']\n",
    "sample_2 = df_four_years_pc['user_score']\n",
    "\n",
    "alpha = .05\n",
    "\n",
    "results = st.ttest_ind(\n",
    "    sample_1, \n",
    "    sample_2)\n",
    "\n",
    "print('p-значение:', results.pvalue)\n",
    "\n",
    "if results.pvalue < alpha:\n",
    "    print(\"Отвергаем нулевую гипотезу\")\n",
    "else:\n",
    "    print(\"Не получилось отвергнуть нулевую гипотезу\") "
   ]
  },
  {
   "cell_type": "markdown",
   "id": "b780e0a2",
   "metadata": {},
   "source": [
    "Не отвергаем нулевую гипотезу (вероятность 14 проценов, что средние пользовательские рейтинги платформ Xbox One и PC одинаковые)"
   ]
  },
  {
   "cell_type": "markdown",
   "id": "ab8df3cd",
   "metadata": {},
   "source": [
    "**Проверим вторую гипотезу: средние пользовательские рейтинги жанров Action и Sports разные**"
   ]
  },
  {
   "cell_type": "markdown",
   "id": "64096828",
   "metadata": {},
   "source": [
    "* Нулевая гипотеза: средние пользовательские рейтинги жанров Action и Sports разные\n",
    "* Альтернативная гипотеза: средние пользовательские рейтинги жанров Action и Sports разные"
   ]
  },
  {
   "cell_type": "markdown",
   "id": "3e156d4b",
   "metadata": {},
   "source": [
    "Создадим срезы с играми в жанрах Action и Sports"
   ]
  },
  {
   "cell_type": "code",
   "execution_count": 46,
   "id": "1ec02eda",
   "metadata": {},
   "outputs": [],
   "source": [
    "df_four_years_action = df_four_years.query('genre == \"Action\"')\n",
    "df_four_years_sports = df_four_years.query('genre == \"Sports\"')"
   ]
  },
  {
   "cell_type": "markdown",
   "id": "bd187f09",
   "metadata": {},
   "source": [
    "Удалим пропуски в столбцах 'user_score'"
   ]
  },
  {
   "cell_type": "code",
   "execution_count": 47,
   "id": "f7ce1745",
   "metadata": {},
   "outputs": [],
   "source": [
    "df_four_years_action = df_four_years_action.dropna(axis='index', how='any', subset=['user_score'])\n",
    "df_four_years_sports = df_four_years_sports.dropna(axis='index', how='any', subset=['user_score'])"
   ]
  },
  {
   "cell_type": "markdown",
   "id": "58b568d0",
   "metadata": {},
   "source": [
    "Проверим вторую гипотезу при помощи t-теста"
   ]
  },
  {
   "cell_type": "code",
   "execution_count": 89,
   "id": "fa70d3a3",
   "metadata": {},
   "outputs": [
    {
     "name": "stdout",
     "output_type": "stream",
     "text": [
      "p-значение: 1.0517832389140023e-27\n",
      "Отвергаем нулевую гипотезу\n"
     ]
    }
   ],
   "source": [
    "from scipy import stats as st\n",
    "\n",
    "sample_1 = df_four_years_action['user_score']\n",
    "sample_2 = df_four_years_sports['user_score']\n",
    "\n",
    "alpha = .05\n",
    "\n",
    "results = st.ttest_ind(\n",
    "    sample_1, \n",
    "    sample_2)\n",
    "\n",
    "print('p-значение:', results.pvalue)\n",
    "\n",
    "if results.pvalue < alpha:\n",
    "    print(\"Отвергаем нулевую гипотезу\")\n",
    "else:\n",
    "    print(\"Не получилось отвергнуть нулевую гипотезу\") "
   ]
  },
  {
   "cell_type": "markdown",
   "id": "10930d8f",
   "metadata": {},
   "source": [
    "С уверенностью отвергаем нулевую гипотезу и делаем вывод, что средние пользовательские рейтинги жанров Action и Sports разные."
   ]
  },
  {
   "cell_type": "markdown",
   "id": "a011ba54",
   "metadata": {},
   "source": [
    "## Общий вывод\n",
    "\n",
    "**1. Мы провели исследовательский анализ данных и сделали следующие выводы:**\n",
    "\n",
    "* Средний период \"жизни\" платформы - 10 лет;\n",
    "* Нами был выбран актуальный период 4 года (2013-2016)\n",
    "* За актуальный период самими актуальными платформами оказались 3DS, XOne, PS4;\n",
    "* В результате исследования оказалось, что на продажи игр внутри большинства платформ влияют только отзывы критиков, отзывы же пользователей не влияют совсем. Внутри платформы 3ds влияют как отзывы критиков, так и отзывы пользователей. Возможно, это связано с тем, что данная платформа является самой популярной в Японии.\n",
    "* Самыми прибыльными жанрами игр оказались Shooter, Sports, Platform.\n",
    "\n",
    "**2. Мы составили портрет пользователя каждого региона:**\n",
    "\n",
    "Топ-5 самых популярных платформ в Северной Америке:\n",
    "1. PS4\n",
    "2. XOne\n",
    "3. X360\n",
    "4. PS3\n",
    "5. 3DS\n",
    "\n",
    "Топ-5 самых популярных платформ в Европе:\n",
    "1. PS4\n",
    "2. PS3\n",
    "3. XOne\n",
    "4. X360\n",
    "5. 3DS\n",
    "\n",
    "Топ-5 самых популярных платформ в Японии:\n",
    "1. 3DS\n",
    "2. PS3\n",
    "3. PSV\n",
    "4. PS4\n",
    "5. WiiU\n",
    "\n",
    "Топ-5 самых популярных жанров в Северной Америке:\n",
    "1. Action\n",
    "2. Shooter\n",
    "3. Sports\n",
    "4. Role-Playing\n",
    "5. Misc\n",
    "\n",
    "Топ-5 самых популярных жанров в Европе:\n",
    "1. Action\n",
    "2. Shooter\n",
    "3. Sports\n",
    "4. Role-Playing\n",
    "5. Racing\n",
    "\n",
    "Топ-5 самых популярных жанров в Японии:\n",
    "1. Role-Playing\n",
    "2. Action\n",
    "3. Misc\n",
    "4. Fighting\n",
    "5. Shooter\n",
    "\n",
    "* Рейтинг ESRB влияет на продажи в каждом регионе. В Северной Америке и в Европе чуть меньше половины от всех продаж приходится на игры с рейтингом M - для взрослых. В Японии же самые популярные игры с рейтингом T - для подростков.\n",
    "\n",
    "**3. Мы проверили обе гипотезы при помощи t-теста:**\n",
    "* Гипотеза о том, что средние пользовательские рейтинги платформ Xbox One и PC одинаковые подтвердилась лишь отчасти (pvalue = 14 процентов);\n",
    "* Гипотеза о том, что средние пользовательские рейтинги жанров Action и Sports разные подвердилась полностью.\n",
    "\n",
    "**4. Общие рекомендации:**\n",
    "* Для Северной Америки и Европы акцент в рекламе делать на игры для взрослых и такие жанры, как Action, Shooter, Sports.\n",
    "* Для Японии акцент в рекламе делать на игры для подростков и такие жанры, как Role-Playing, Action, Misc.\n",
    "* В Северной Америке и Европе делать упор на игры на платформе PS4, а в Японии - 3DS.\n",
    "* В рекламе лучше опираться на отзывы критиков, нежели отзывы пользователей."
   ]
  }
 ],
 "metadata": {
  "ExecuteTimeLog": [
   {
    "duration": 7,
    "start_time": "2022-05-27T13:59:32.027Z"
   },
   {
    "duration": 14,
    "start_time": "2022-05-27T13:59:33.748Z"
   },
   {
    "duration": 217,
    "start_time": "2022-05-27T14:02:08.415Z"
   },
   {
    "duration": 140,
    "start_time": "2022-05-27T14:03:30.203Z"
   },
   {
    "duration": 232,
    "start_time": "2022-05-27T14:05:43.086Z"
   },
   {
    "duration": 126,
    "start_time": "2022-05-27T14:06:05.555Z"
   },
   {
    "duration": 9,
    "start_time": "2022-05-27T14:07:01.563Z"
   },
   {
    "duration": 186,
    "start_time": "2022-05-27T14:07:08.272Z"
   },
   {
    "duration": 279,
    "start_time": "2022-05-27T14:07:58.313Z"
   },
   {
    "duration": 218,
    "start_time": "2022-05-27T14:08:13.750Z"
   },
   {
    "duration": 164,
    "start_time": "2022-05-27T14:09:06.366Z"
   },
   {
    "duration": 600,
    "start_time": "2022-05-27T14:09:38.414Z"
   },
   {
    "duration": 3,
    "start_time": "2022-05-27T14:12:50.747Z"
   },
   {
    "duration": 139,
    "start_time": "2022-05-27T14:13:06.413Z"
   },
   {
    "duration": 100,
    "start_time": "2022-05-27T14:13:15.066Z"
   },
   {
    "duration": 95,
    "start_time": "2022-05-27T14:13:18.171Z"
   },
   {
    "duration": 118,
    "start_time": "2022-05-27T14:13:23.292Z"
   },
   {
    "duration": 124,
    "start_time": "2022-05-27T14:13:49.723Z"
   },
   {
    "duration": 60,
    "start_time": "2022-05-27T14:14:03.302Z"
   },
   {
    "duration": 104,
    "start_time": "2022-05-27T14:14:51.181Z"
   },
   {
    "duration": 99,
    "start_time": "2022-05-27T14:15:06.768Z"
   },
   {
    "duration": 153,
    "start_time": "2022-05-27T14:15:39.094Z"
   },
   {
    "duration": 177,
    "start_time": "2022-05-27T14:18:47.347Z"
   },
   {
    "duration": 157,
    "start_time": "2022-05-27T14:18:53.565Z"
   },
   {
    "duration": 157,
    "start_time": "2022-05-27T14:19:11.296Z"
   },
   {
    "duration": 165,
    "start_time": "2022-05-27T14:19:23.599Z"
   },
   {
    "duration": 19,
    "start_time": "2022-05-27T14:19:32.822Z"
   },
   {
    "duration": 8,
    "start_time": "2022-05-27T14:19:42.257Z"
   },
   {
    "duration": 258,
    "start_time": "2022-05-27T14:22:55.447Z"
   },
   {
    "duration": 146,
    "start_time": "2022-05-27T14:23:08.591Z"
   },
   {
    "duration": 10,
    "start_time": "2022-05-27T14:23:34.317Z"
   },
   {
    "duration": 8,
    "start_time": "2022-05-27T14:23:36.997Z"
   },
   {
    "duration": 34,
    "start_time": "2022-05-27T14:24:13.147Z"
   },
   {
    "duration": 147,
    "start_time": "2022-05-27T14:24:22.557Z"
   },
   {
    "duration": 5,
    "start_time": "2022-05-27T14:29:19.050Z"
   },
   {
    "duration": 7,
    "start_time": "2022-05-27T14:29:23.268Z"
   },
   {
    "duration": 8,
    "start_time": "2022-05-27T14:29:40.299Z"
   },
   {
    "duration": 8,
    "start_time": "2022-05-27T14:30:41.562Z"
   },
   {
    "duration": 10,
    "start_time": "2022-05-27T14:30:58.132Z"
   },
   {
    "duration": 8,
    "start_time": "2022-05-27T14:31:06.880Z"
   },
   {
    "duration": 11,
    "start_time": "2022-05-27T14:31:07.277Z"
   },
   {
    "duration": 8,
    "start_time": "2022-05-27T14:31:07.649Z"
   },
   {
    "duration": 7,
    "start_time": "2022-05-27T14:31:17.217Z"
   },
   {
    "duration": 14,
    "start_time": "2022-05-27T14:31:21.233Z"
   },
   {
    "duration": 7,
    "start_time": "2022-05-27T14:31:38.559Z"
   },
   {
    "duration": 9,
    "start_time": "2022-05-27T14:31:39.045Z"
   },
   {
    "duration": 8,
    "start_time": "2022-05-27T14:31:39.568Z"
   },
   {
    "duration": 9,
    "start_time": "2022-05-27T14:32:31.748Z"
   },
   {
    "duration": 11,
    "start_time": "2022-05-27T14:32:32.240Z"
   },
   {
    "duration": 9,
    "start_time": "2022-05-27T14:32:32.758Z"
   },
   {
    "duration": 22,
    "start_time": "2022-05-27T14:36:09.515Z"
   },
   {
    "duration": 16,
    "start_time": "2022-05-27T14:36:36.748Z"
   },
   {
    "duration": 18,
    "start_time": "2022-05-27T14:36:46.854Z"
   },
   {
    "duration": 10,
    "start_time": "2022-05-27T14:40:31.579Z"
   },
   {
    "duration": 531,
    "start_time": "2022-05-27T14:40:54.239Z"
   },
   {
    "duration": 36,
    "start_time": "2022-05-27T14:41:05.676Z"
   },
   {
    "duration": 365,
    "start_time": "2022-05-27T14:41:11.334Z"
   },
   {
    "duration": 36,
    "start_time": "2022-05-27T14:43:30.040Z"
   },
   {
    "duration": 101,
    "start_time": "2022-05-27T14:44:05.444Z"
   },
   {
    "duration": 103,
    "start_time": "2022-05-27T14:44:07.601Z"
   },
   {
    "duration": 122,
    "start_time": "2022-05-27T14:44:16.654Z"
   },
   {
    "duration": 98,
    "start_time": "2022-05-27T14:44:22.172Z"
   },
   {
    "duration": 10,
    "start_time": "2022-05-27T14:44:52.846Z"
   },
   {
    "duration": 153,
    "start_time": "2022-05-27T14:45:03.147Z"
   },
   {
    "duration": 100,
    "start_time": "2022-05-27T14:45:08.756Z"
   },
   {
    "duration": 126,
    "start_time": "2022-05-27T14:45:21.879Z"
   },
   {
    "duration": 127,
    "start_time": "2022-05-27T14:46:00.025Z"
   },
   {
    "duration": 163,
    "start_time": "2022-05-27T14:46:07.785Z"
   },
   {
    "duration": 121,
    "start_time": "2022-05-27T14:47:52.915Z"
   },
   {
    "duration": 195,
    "start_time": "2022-05-27T14:48:07.658Z"
   },
   {
    "duration": 134,
    "start_time": "2022-05-27T14:48:32.019Z"
   },
   {
    "duration": 114,
    "start_time": "2022-05-27T14:48:35.471Z"
   },
   {
    "duration": 131,
    "start_time": "2022-05-27T14:48:39.268Z"
   },
   {
    "duration": 21,
    "start_time": "2022-05-27T14:51:28.074Z"
   },
   {
    "duration": 158,
    "start_time": "2022-05-27T14:52:24.141Z"
   },
   {
    "duration": 104,
    "start_time": "2022-05-27T14:52:37.866Z"
   },
   {
    "duration": 270,
    "start_time": "2022-05-27T14:54:00.834Z"
   },
   {
    "duration": 106,
    "start_time": "2022-05-27T14:55:00.578Z"
   },
   {
    "duration": 126,
    "start_time": "2022-05-27T14:55:42.755Z"
   },
   {
    "duration": 170,
    "start_time": "2022-05-27T14:58:30.483Z"
   },
   {
    "duration": 85,
    "start_time": "2022-05-27T14:59:32.645Z"
   },
   {
    "duration": 9,
    "start_time": "2022-05-27T21:36:03.403Z"
   },
   {
    "duration": 1122,
    "start_time": "2022-06-21T12:40:09.108Z"
   }
  ],
  "kernelspec": {
   "display_name": "Python 3 (ipykernel)",
   "language": "python",
   "name": "python3"
  },
  "language_info": {
   "codemirror_mode": {
    "name": "ipython",
    "version": 3
   },
   "file_extension": ".py",
   "mimetype": "text/x-python",
   "name": "python",
   "nbconvert_exporter": "python",
   "pygments_lexer": "ipython3",
   "version": "3.9.7"
  },
  "toc": {
   "base_numbering": 1,
   "nav_menu": {},
   "number_sections": true,
   "sideBar": true,
   "skip_h1_title": true,
   "title_cell": "Table of Contents",
   "title_sidebar": "Contents",
   "toc_cell": false,
   "toc_position": {},
   "toc_section_display": true,
   "toc_window_display": false
  }
 },
 "nbformat": 4,
 "nbformat_minor": 5
}
